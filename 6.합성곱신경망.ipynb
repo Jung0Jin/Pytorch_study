{
  "nbformat": 4,
  "nbformat_minor": 0,
  "metadata": {
    "colab": {
      "name": "6.합성곱신경망.ipynb",
      "provenance": [],
      "collapsed_sections": [],
      "toc_visible": true,
      "authorship_tag": "ABX9TyPz1b7qyRP13skp/lFOUkJs",
      "include_colab_link": true
    },
    "kernelspec": {
      "name": "python3",
      "display_name": "Python 3"
    },
    "accelerator": "GPU",
    "widgets": {
      "application/vnd.jupyter.widget-state+json": {
        "1e4bf1de48224f82a1113c07fd7872cb": {
          "model_module": "@jupyter-widgets/controls",
          "model_name": "HBoxModel",
          "state": {
            "_view_name": "HBoxView",
            "_dom_classes": [],
            "_model_name": "HBoxModel",
            "_view_module": "@jupyter-widgets/controls",
            "_model_module_version": "1.5.0",
            "_view_count": null,
            "_view_module_version": "1.5.0",
            "box_style": "",
            "layout": "IPY_MODEL_47e33d2688bf4ef690af765216413329",
            "_model_module": "@jupyter-widgets/controls",
            "children": [
              "IPY_MODEL_8f8f44f34c90454cb765841492e1ac0c",
              "IPY_MODEL_02e763b5be194e7284fec0d137a68c55"
            ]
          }
        },
        "47e33d2688bf4ef690af765216413329": {
          "model_module": "@jupyter-widgets/base",
          "model_name": "LayoutModel",
          "state": {
            "_view_name": "LayoutView",
            "grid_template_rows": null,
            "right": null,
            "justify_content": null,
            "_view_module": "@jupyter-widgets/base",
            "overflow": null,
            "_model_module_version": "1.2.0",
            "_view_count": null,
            "flex_flow": null,
            "width": null,
            "min_width": null,
            "border": null,
            "align_items": null,
            "bottom": null,
            "_model_module": "@jupyter-widgets/base",
            "top": null,
            "grid_column": null,
            "overflow_y": null,
            "overflow_x": null,
            "grid_auto_flow": null,
            "grid_area": null,
            "grid_template_columns": null,
            "flex": null,
            "_model_name": "LayoutModel",
            "justify_items": null,
            "grid_row": null,
            "max_height": null,
            "align_content": null,
            "visibility": null,
            "align_self": null,
            "height": null,
            "min_height": null,
            "padding": null,
            "grid_auto_rows": null,
            "grid_gap": null,
            "max_width": null,
            "order": null,
            "_view_module_version": "1.2.0",
            "grid_template_areas": null,
            "object_position": null,
            "object_fit": null,
            "grid_auto_columns": null,
            "margin": null,
            "display": null,
            "left": null
          }
        },
        "8f8f44f34c90454cb765841492e1ac0c": {
          "model_module": "@jupyter-widgets/controls",
          "model_name": "FloatProgressModel",
          "state": {
            "_view_name": "ProgressView",
            "style": "IPY_MODEL_0d85811208204a8b9702d35cd52510cc",
            "_dom_classes": [],
            "description": "",
            "_model_name": "FloatProgressModel",
            "bar_style": "info",
            "max": 1,
            "_view_module": "@jupyter-widgets/controls",
            "_model_module_version": "1.5.0",
            "value": 1,
            "_view_count": null,
            "_view_module_version": "1.5.0",
            "orientation": "horizontal",
            "min": 0,
            "description_tooltip": null,
            "_model_module": "@jupyter-widgets/controls",
            "layout": "IPY_MODEL_42a2193076b44d0aa2a26711843e3553"
          }
        },
        "02e763b5be194e7284fec0d137a68c55": {
          "model_module": "@jupyter-widgets/controls",
          "model_name": "HTMLModel",
          "state": {
            "_view_name": "HTMLView",
            "style": "IPY_MODEL_a5c32bc6f6d94d828d01c6736935fc47",
            "_dom_classes": [],
            "description": "",
            "_model_name": "HTMLModel",
            "placeholder": "​",
            "_view_module": "@jupyter-widgets/controls",
            "_model_module_version": "1.5.0",
            "value": " 9920512/? [00:20&lt;00:00, 758345.11it/s]",
            "_view_count": null,
            "_view_module_version": "1.5.0",
            "description_tooltip": null,
            "_model_module": "@jupyter-widgets/controls",
            "layout": "IPY_MODEL_b6beb124b6b64fa5b7e34e495da0c96c"
          }
        },
        "0d85811208204a8b9702d35cd52510cc": {
          "model_module": "@jupyter-widgets/controls",
          "model_name": "ProgressStyleModel",
          "state": {
            "_view_name": "StyleView",
            "_model_name": "ProgressStyleModel",
            "description_width": "initial",
            "_view_module": "@jupyter-widgets/base",
            "_model_module_version": "1.5.0",
            "_view_count": null,
            "_view_module_version": "1.2.0",
            "bar_color": null,
            "_model_module": "@jupyter-widgets/controls"
          }
        },
        "42a2193076b44d0aa2a26711843e3553": {
          "model_module": "@jupyter-widgets/base",
          "model_name": "LayoutModel",
          "state": {
            "_view_name": "LayoutView",
            "grid_template_rows": null,
            "right": null,
            "justify_content": null,
            "_view_module": "@jupyter-widgets/base",
            "overflow": null,
            "_model_module_version": "1.2.0",
            "_view_count": null,
            "flex_flow": null,
            "width": null,
            "min_width": null,
            "border": null,
            "align_items": null,
            "bottom": null,
            "_model_module": "@jupyter-widgets/base",
            "top": null,
            "grid_column": null,
            "overflow_y": null,
            "overflow_x": null,
            "grid_auto_flow": null,
            "grid_area": null,
            "grid_template_columns": null,
            "flex": null,
            "_model_name": "LayoutModel",
            "justify_items": null,
            "grid_row": null,
            "max_height": null,
            "align_content": null,
            "visibility": null,
            "align_self": null,
            "height": null,
            "min_height": null,
            "padding": null,
            "grid_auto_rows": null,
            "grid_gap": null,
            "max_width": null,
            "order": null,
            "_view_module_version": "1.2.0",
            "grid_template_areas": null,
            "object_position": null,
            "object_fit": null,
            "grid_auto_columns": null,
            "margin": null,
            "display": null,
            "left": null
          }
        },
        "a5c32bc6f6d94d828d01c6736935fc47": {
          "model_module": "@jupyter-widgets/controls",
          "model_name": "DescriptionStyleModel",
          "state": {
            "_view_name": "StyleView",
            "_model_name": "DescriptionStyleModel",
            "description_width": "",
            "_view_module": "@jupyter-widgets/base",
            "_model_module_version": "1.5.0",
            "_view_count": null,
            "_view_module_version": "1.2.0",
            "_model_module": "@jupyter-widgets/controls"
          }
        },
        "b6beb124b6b64fa5b7e34e495da0c96c": {
          "model_module": "@jupyter-widgets/base",
          "model_name": "LayoutModel",
          "state": {
            "_view_name": "LayoutView",
            "grid_template_rows": null,
            "right": null,
            "justify_content": null,
            "_view_module": "@jupyter-widgets/base",
            "overflow": null,
            "_model_module_version": "1.2.0",
            "_view_count": null,
            "flex_flow": null,
            "width": null,
            "min_width": null,
            "border": null,
            "align_items": null,
            "bottom": null,
            "_model_module": "@jupyter-widgets/base",
            "top": null,
            "grid_column": null,
            "overflow_y": null,
            "overflow_x": null,
            "grid_auto_flow": null,
            "grid_area": null,
            "grid_template_columns": null,
            "flex": null,
            "_model_name": "LayoutModel",
            "justify_items": null,
            "grid_row": null,
            "max_height": null,
            "align_content": null,
            "visibility": null,
            "align_self": null,
            "height": null,
            "min_height": null,
            "padding": null,
            "grid_auto_rows": null,
            "grid_gap": null,
            "max_width": null,
            "order": null,
            "_view_module_version": "1.2.0",
            "grid_template_areas": null,
            "object_position": null,
            "object_fit": null,
            "grid_auto_columns": null,
            "margin": null,
            "display": null,
            "left": null
          }
        },
        "7c01eec7db4e47cb921c8a94d417df74": {
          "model_module": "@jupyter-widgets/controls",
          "model_name": "HBoxModel",
          "state": {
            "_view_name": "HBoxView",
            "_dom_classes": [],
            "_model_name": "HBoxModel",
            "_view_module": "@jupyter-widgets/controls",
            "_model_module_version": "1.5.0",
            "_view_count": null,
            "_view_module_version": "1.5.0",
            "box_style": "",
            "layout": "IPY_MODEL_aa9b3cafd7c744d39e6c935e326225a5",
            "_model_module": "@jupyter-widgets/controls",
            "children": [
              "IPY_MODEL_d2176287ecd54f2d870c94cf2982ebcf",
              "IPY_MODEL_4762e07ce5674eecaab4948009113bbe"
            ]
          }
        },
        "aa9b3cafd7c744d39e6c935e326225a5": {
          "model_module": "@jupyter-widgets/base",
          "model_name": "LayoutModel",
          "state": {
            "_view_name": "LayoutView",
            "grid_template_rows": null,
            "right": null,
            "justify_content": null,
            "_view_module": "@jupyter-widgets/base",
            "overflow": null,
            "_model_module_version": "1.2.0",
            "_view_count": null,
            "flex_flow": null,
            "width": null,
            "min_width": null,
            "border": null,
            "align_items": null,
            "bottom": null,
            "_model_module": "@jupyter-widgets/base",
            "top": null,
            "grid_column": null,
            "overflow_y": null,
            "overflow_x": null,
            "grid_auto_flow": null,
            "grid_area": null,
            "grid_template_columns": null,
            "flex": null,
            "_model_name": "LayoutModel",
            "justify_items": null,
            "grid_row": null,
            "max_height": null,
            "align_content": null,
            "visibility": null,
            "align_self": null,
            "height": null,
            "min_height": null,
            "padding": null,
            "grid_auto_rows": null,
            "grid_gap": null,
            "max_width": null,
            "order": null,
            "_view_module_version": "1.2.0",
            "grid_template_areas": null,
            "object_position": null,
            "object_fit": null,
            "grid_auto_columns": null,
            "margin": null,
            "display": null,
            "left": null
          }
        },
        "d2176287ecd54f2d870c94cf2982ebcf": {
          "model_module": "@jupyter-widgets/controls",
          "model_name": "FloatProgressModel",
          "state": {
            "_view_name": "ProgressView",
            "style": "IPY_MODEL_c14f5eb2caae4e9795ee04ffbe73ff33",
            "_dom_classes": [],
            "description": "",
            "_model_name": "FloatProgressModel",
            "bar_style": "success",
            "max": 1,
            "_view_module": "@jupyter-widgets/controls",
            "_model_module_version": "1.5.0",
            "value": 1,
            "_view_count": null,
            "_view_module_version": "1.5.0",
            "orientation": "horizontal",
            "min": 0,
            "description_tooltip": null,
            "_model_module": "@jupyter-widgets/controls",
            "layout": "IPY_MODEL_0630549feef34ecb99f22b27a1c52fa7"
          }
        },
        "4762e07ce5674eecaab4948009113bbe": {
          "model_module": "@jupyter-widgets/controls",
          "model_name": "HTMLModel",
          "state": {
            "_view_name": "HTMLView",
            "style": "IPY_MODEL_acf6f1055cdf4542ad4fc4e4880d5fec",
            "_dom_classes": [],
            "description": "",
            "_model_name": "HTMLModel",
            "placeholder": "​",
            "_view_module": "@jupyter-widgets/controls",
            "_model_module_version": "1.5.0",
            "value": " 32768/? [00:01&lt;00:00, 24995.84it/s]",
            "_view_count": null,
            "_view_module_version": "1.5.0",
            "description_tooltip": null,
            "_model_module": "@jupyter-widgets/controls",
            "layout": "IPY_MODEL_3b9a3f3a12e34edc8964ad7d5a838347"
          }
        },
        "c14f5eb2caae4e9795ee04ffbe73ff33": {
          "model_module": "@jupyter-widgets/controls",
          "model_name": "ProgressStyleModel",
          "state": {
            "_view_name": "StyleView",
            "_model_name": "ProgressStyleModel",
            "description_width": "initial",
            "_view_module": "@jupyter-widgets/base",
            "_model_module_version": "1.5.0",
            "_view_count": null,
            "_view_module_version": "1.2.0",
            "bar_color": null,
            "_model_module": "@jupyter-widgets/controls"
          }
        },
        "0630549feef34ecb99f22b27a1c52fa7": {
          "model_module": "@jupyter-widgets/base",
          "model_name": "LayoutModel",
          "state": {
            "_view_name": "LayoutView",
            "grid_template_rows": null,
            "right": null,
            "justify_content": null,
            "_view_module": "@jupyter-widgets/base",
            "overflow": null,
            "_model_module_version": "1.2.0",
            "_view_count": null,
            "flex_flow": null,
            "width": null,
            "min_width": null,
            "border": null,
            "align_items": null,
            "bottom": null,
            "_model_module": "@jupyter-widgets/base",
            "top": null,
            "grid_column": null,
            "overflow_y": null,
            "overflow_x": null,
            "grid_auto_flow": null,
            "grid_area": null,
            "grid_template_columns": null,
            "flex": null,
            "_model_name": "LayoutModel",
            "justify_items": null,
            "grid_row": null,
            "max_height": null,
            "align_content": null,
            "visibility": null,
            "align_self": null,
            "height": null,
            "min_height": null,
            "padding": null,
            "grid_auto_rows": null,
            "grid_gap": null,
            "max_width": null,
            "order": null,
            "_view_module_version": "1.2.0",
            "grid_template_areas": null,
            "object_position": null,
            "object_fit": null,
            "grid_auto_columns": null,
            "margin": null,
            "display": null,
            "left": null
          }
        },
        "acf6f1055cdf4542ad4fc4e4880d5fec": {
          "model_module": "@jupyter-widgets/controls",
          "model_name": "DescriptionStyleModel",
          "state": {
            "_view_name": "StyleView",
            "_model_name": "DescriptionStyleModel",
            "description_width": "",
            "_view_module": "@jupyter-widgets/base",
            "_model_module_version": "1.5.0",
            "_view_count": null,
            "_view_module_version": "1.2.0",
            "_model_module": "@jupyter-widgets/controls"
          }
        },
        "3b9a3f3a12e34edc8964ad7d5a838347": {
          "model_module": "@jupyter-widgets/base",
          "model_name": "LayoutModel",
          "state": {
            "_view_name": "LayoutView",
            "grid_template_rows": null,
            "right": null,
            "justify_content": null,
            "_view_module": "@jupyter-widgets/base",
            "overflow": null,
            "_model_module_version": "1.2.0",
            "_view_count": null,
            "flex_flow": null,
            "width": null,
            "min_width": null,
            "border": null,
            "align_items": null,
            "bottom": null,
            "_model_module": "@jupyter-widgets/base",
            "top": null,
            "grid_column": null,
            "overflow_y": null,
            "overflow_x": null,
            "grid_auto_flow": null,
            "grid_area": null,
            "grid_template_columns": null,
            "flex": null,
            "_model_name": "LayoutModel",
            "justify_items": null,
            "grid_row": null,
            "max_height": null,
            "align_content": null,
            "visibility": null,
            "align_self": null,
            "height": null,
            "min_height": null,
            "padding": null,
            "grid_auto_rows": null,
            "grid_gap": null,
            "max_width": null,
            "order": null,
            "_view_module_version": "1.2.0",
            "grid_template_areas": null,
            "object_position": null,
            "object_fit": null,
            "grid_auto_columns": null,
            "margin": null,
            "display": null,
            "left": null
          }
        },
        "19f963b1ddd14ce18765906316b0ad4a": {
          "model_module": "@jupyter-widgets/controls",
          "model_name": "HBoxModel",
          "state": {
            "_view_name": "HBoxView",
            "_dom_classes": [],
            "_model_name": "HBoxModel",
            "_view_module": "@jupyter-widgets/controls",
            "_model_module_version": "1.5.0",
            "_view_count": null,
            "_view_module_version": "1.5.0",
            "box_style": "",
            "layout": "IPY_MODEL_c1b1f74d4a6b49cda24688c97f1d71df",
            "_model_module": "@jupyter-widgets/controls",
            "children": [
              "IPY_MODEL_98986d56c4b74467996605edea3a41fc",
              "IPY_MODEL_37f2472f3ba243b99b13db695337092a"
            ]
          }
        },
        "c1b1f74d4a6b49cda24688c97f1d71df": {
          "model_module": "@jupyter-widgets/base",
          "model_name": "LayoutModel",
          "state": {
            "_view_name": "LayoutView",
            "grid_template_rows": null,
            "right": null,
            "justify_content": null,
            "_view_module": "@jupyter-widgets/base",
            "overflow": null,
            "_model_module_version": "1.2.0",
            "_view_count": null,
            "flex_flow": null,
            "width": null,
            "min_width": null,
            "border": null,
            "align_items": null,
            "bottom": null,
            "_model_module": "@jupyter-widgets/base",
            "top": null,
            "grid_column": null,
            "overflow_y": null,
            "overflow_x": null,
            "grid_auto_flow": null,
            "grid_area": null,
            "grid_template_columns": null,
            "flex": null,
            "_model_name": "LayoutModel",
            "justify_items": null,
            "grid_row": null,
            "max_height": null,
            "align_content": null,
            "visibility": null,
            "align_self": null,
            "height": null,
            "min_height": null,
            "padding": null,
            "grid_auto_rows": null,
            "grid_gap": null,
            "max_width": null,
            "order": null,
            "_view_module_version": "1.2.0",
            "grid_template_areas": null,
            "object_position": null,
            "object_fit": null,
            "grid_auto_columns": null,
            "margin": null,
            "display": null,
            "left": null
          }
        },
        "98986d56c4b74467996605edea3a41fc": {
          "model_module": "@jupyter-widgets/controls",
          "model_name": "FloatProgressModel",
          "state": {
            "_view_name": "ProgressView",
            "style": "IPY_MODEL_cc538abff9294a819459beba265133c3",
            "_dom_classes": [],
            "description": "",
            "_model_name": "FloatProgressModel",
            "bar_style": "success",
            "max": 1,
            "_view_module": "@jupyter-widgets/controls",
            "_model_module_version": "1.5.0",
            "value": 1,
            "_view_count": null,
            "_view_module_version": "1.5.0",
            "orientation": "horizontal",
            "min": 0,
            "description_tooltip": null,
            "_model_module": "@jupyter-widgets/controls",
            "layout": "IPY_MODEL_b4149a1f660f4753a0a2d622714dc720"
          }
        },
        "37f2472f3ba243b99b13db695337092a": {
          "model_module": "@jupyter-widgets/controls",
          "model_name": "HTMLModel",
          "state": {
            "_view_name": "HTMLView",
            "style": "IPY_MODEL_0f1dfc0398b84cef90fa60d039622676",
            "_dom_classes": [],
            "description": "",
            "_model_name": "HTMLModel",
            "placeholder": "​",
            "_view_module": "@jupyter-widgets/controls",
            "_model_module_version": "1.5.0",
            "value": " 1654784/? [00:01&lt;00:00, 1582893.61it/s]",
            "_view_count": null,
            "_view_module_version": "1.5.0",
            "description_tooltip": null,
            "_model_module": "@jupyter-widgets/controls",
            "layout": "IPY_MODEL_15f264e9c9664d6884d8e36b4db3baec"
          }
        },
        "cc538abff9294a819459beba265133c3": {
          "model_module": "@jupyter-widgets/controls",
          "model_name": "ProgressStyleModel",
          "state": {
            "_view_name": "StyleView",
            "_model_name": "ProgressStyleModel",
            "description_width": "initial",
            "_view_module": "@jupyter-widgets/base",
            "_model_module_version": "1.5.0",
            "_view_count": null,
            "_view_module_version": "1.2.0",
            "bar_color": null,
            "_model_module": "@jupyter-widgets/controls"
          }
        },
        "b4149a1f660f4753a0a2d622714dc720": {
          "model_module": "@jupyter-widgets/base",
          "model_name": "LayoutModel",
          "state": {
            "_view_name": "LayoutView",
            "grid_template_rows": null,
            "right": null,
            "justify_content": null,
            "_view_module": "@jupyter-widgets/base",
            "overflow": null,
            "_model_module_version": "1.2.0",
            "_view_count": null,
            "flex_flow": null,
            "width": null,
            "min_width": null,
            "border": null,
            "align_items": null,
            "bottom": null,
            "_model_module": "@jupyter-widgets/base",
            "top": null,
            "grid_column": null,
            "overflow_y": null,
            "overflow_x": null,
            "grid_auto_flow": null,
            "grid_area": null,
            "grid_template_columns": null,
            "flex": null,
            "_model_name": "LayoutModel",
            "justify_items": null,
            "grid_row": null,
            "max_height": null,
            "align_content": null,
            "visibility": null,
            "align_self": null,
            "height": null,
            "min_height": null,
            "padding": null,
            "grid_auto_rows": null,
            "grid_gap": null,
            "max_width": null,
            "order": null,
            "_view_module_version": "1.2.0",
            "grid_template_areas": null,
            "object_position": null,
            "object_fit": null,
            "grid_auto_columns": null,
            "margin": null,
            "display": null,
            "left": null
          }
        },
        "0f1dfc0398b84cef90fa60d039622676": {
          "model_module": "@jupyter-widgets/controls",
          "model_name": "DescriptionStyleModel",
          "state": {
            "_view_name": "StyleView",
            "_model_name": "DescriptionStyleModel",
            "description_width": "",
            "_view_module": "@jupyter-widgets/base",
            "_model_module_version": "1.5.0",
            "_view_count": null,
            "_view_module_version": "1.2.0",
            "_model_module": "@jupyter-widgets/controls"
          }
        },
        "15f264e9c9664d6884d8e36b4db3baec": {
          "model_module": "@jupyter-widgets/base",
          "model_name": "LayoutModel",
          "state": {
            "_view_name": "LayoutView",
            "grid_template_rows": null,
            "right": null,
            "justify_content": null,
            "_view_module": "@jupyter-widgets/base",
            "overflow": null,
            "_model_module_version": "1.2.0",
            "_view_count": null,
            "flex_flow": null,
            "width": null,
            "min_width": null,
            "border": null,
            "align_items": null,
            "bottom": null,
            "_model_module": "@jupyter-widgets/base",
            "top": null,
            "grid_column": null,
            "overflow_y": null,
            "overflow_x": null,
            "grid_auto_flow": null,
            "grid_area": null,
            "grid_template_columns": null,
            "flex": null,
            "_model_name": "LayoutModel",
            "justify_items": null,
            "grid_row": null,
            "max_height": null,
            "align_content": null,
            "visibility": null,
            "align_self": null,
            "height": null,
            "min_height": null,
            "padding": null,
            "grid_auto_rows": null,
            "grid_gap": null,
            "max_width": null,
            "order": null,
            "_view_module_version": "1.2.0",
            "grid_template_areas": null,
            "object_position": null,
            "object_fit": null,
            "grid_auto_columns": null,
            "margin": null,
            "display": null,
            "left": null
          }
        },
        "250ec286698e4a49ab75e9cef967f758": {
          "model_module": "@jupyter-widgets/controls",
          "model_name": "HBoxModel",
          "state": {
            "_view_name": "HBoxView",
            "_dom_classes": [],
            "_model_name": "HBoxModel",
            "_view_module": "@jupyter-widgets/controls",
            "_model_module_version": "1.5.0",
            "_view_count": null,
            "_view_module_version": "1.5.0",
            "box_style": "",
            "layout": "IPY_MODEL_f7b5c59353d645ac80c27c544c641bb3",
            "_model_module": "@jupyter-widgets/controls",
            "children": [
              "IPY_MODEL_8da4de0289ee402b88e7007023cad1d3",
              "IPY_MODEL_b857b77d834840448cb2a5935f708af4"
            ]
          }
        },
        "f7b5c59353d645ac80c27c544c641bb3": {
          "model_module": "@jupyter-widgets/base",
          "model_name": "LayoutModel",
          "state": {
            "_view_name": "LayoutView",
            "grid_template_rows": null,
            "right": null,
            "justify_content": null,
            "_view_module": "@jupyter-widgets/base",
            "overflow": null,
            "_model_module_version": "1.2.0",
            "_view_count": null,
            "flex_flow": null,
            "width": null,
            "min_width": null,
            "border": null,
            "align_items": null,
            "bottom": null,
            "_model_module": "@jupyter-widgets/base",
            "top": null,
            "grid_column": null,
            "overflow_y": null,
            "overflow_x": null,
            "grid_auto_flow": null,
            "grid_area": null,
            "grid_template_columns": null,
            "flex": null,
            "_model_name": "LayoutModel",
            "justify_items": null,
            "grid_row": null,
            "max_height": null,
            "align_content": null,
            "visibility": null,
            "align_self": null,
            "height": null,
            "min_height": null,
            "padding": null,
            "grid_auto_rows": null,
            "grid_gap": null,
            "max_width": null,
            "order": null,
            "_view_module_version": "1.2.0",
            "grid_template_areas": null,
            "object_position": null,
            "object_fit": null,
            "grid_auto_columns": null,
            "margin": null,
            "display": null,
            "left": null
          }
        },
        "8da4de0289ee402b88e7007023cad1d3": {
          "model_module": "@jupyter-widgets/controls",
          "model_name": "FloatProgressModel",
          "state": {
            "_view_name": "ProgressView",
            "style": "IPY_MODEL_244fc23b487e4cd7a5379dfe5de9f509",
            "_dom_classes": [],
            "description": "",
            "_model_name": "FloatProgressModel",
            "bar_style": "success",
            "max": 1,
            "_view_module": "@jupyter-widgets/controls",
            "_model_module_version": "1.5.0",
            "value": 1,
            "_view_count": null,
            "_view_module_version": "1.5.0",
            "orientation": "horizontal",
            "min": 0,
            "description_tooltip": null,
            "_model_module": "@jupyter-widgets/controls",
            "layout": "IPY_MODEL_2bea380504d041b3a4674ca50605fb1b"
          }
        },
        "b857b77d834840448cb2a5935f708af4": {
          "model_module": "@jupyter-widgets/controls",
          "model_name": "HTMLModel",
          "state": {
            "_view_name": "HTMLView",
            "style": "IPY_MODEL_2f4e633160a24ad5849f60aaf37d105d",
            "_dom_classes": [],
            "description": "",
            "_model_name": "HTMLModel",
            "placeholder": "​",
            "_view_module": "@jupyter-widgets/controls",
            "_model_module_version": "1.5.0",
            "value": " 8192/? [00:00&lt;00:00, 24084.95it/s]",
            "_view_count": null,
            "_view_module_version": "1.5.0",
            "description_tooltip": null,
            "_model_module": "@jupyter-widgets/controls",
            "layout": "IPY_MODEL_dd73e75d5f744b53ae8444b83958861a"
          }
        },
        "244fc23b487e4cd7a5379dfe5de9f509": {
          "model_module": "@jupyter-widgets/controls",
          "model_name": "ProgressStyleModel",
          "state": {
            "_view_name": "StyleView",
            "_model_name": "ProgressStyleModel",
            "description_width": "initial",
            "_view_module": "@jupyter-widgets/base",
            "_model_module_version": "1.5.0",
            "_view_count": null,
            "_view_module_version": "1.2.0",
            "bar_color": null,
            "_model_module": "@jupyter-widgets/controls"
          }
        },
        "2bea380504d041b3a4674ca50605fb1b": {
          "model_module": "@jupyter-widgets/base",
          "model_name": "LayoutModel",
          "state": {
            "_view_name": "LayoutView",
            "grid_template_rows": null,
            "right": null,
            "justify_content": null,
            "_view_module": "@jupyter-widgets/base",
            "overflow": null,
            "_model_module_version": "1.2.0",
            "_view_count": null,
            "flex_flow": null,
            "width": null,
            "min_width": null,
            "border": null,
            "align_items": null,
            "bottom": null,
            "_model_module": "@jupyter-widgets/base",
            "top": null,
            "grid_column": null,
            "overflow_y": null,
            "overflow_x": null,
            "grid_auto_flow": null,
            "grid_area": null,
            "grid_template_columns": null,
            "flex": null,
            "_model_name": "LayoutModel",
            "justify_items": null,
            "grid_row": null,
            "max_height": null,
            "align_content": null,
            "visibility": null,
            "align_self": null,
            "height": null,
            "min_height": null,
            "padding": null,
            "grid_auto_rows": null,
            "grid_gap": null,
            "max_width": null,
            "order": null,
            "_view_module_version": "1.2.0",
            "grid_template_areas": null,
            "object_position": null,
            "object_fit": null,
            "grid_auto_columns": null,
            "margin": null,
            "display": null,
            "left": null
          }
        },
        "2f4e633160a24ad5849f60aaf37d105d": {
          "model_module": "@jupyter-widgets/controls",
          "model_name": "DescriptionStyleModel",
          "state": {
            "_view_name": "StyleView",
            "_model_name": "DescriptionStyleModel",
            "description_width": "",
            "_view_module": "@jupyter-widgets/base",
            "_model_module_version": "1.5.0",
            "_view_count": null,
            "_view_module_version": "1.2.0",
            "_model_module": "@jupyter-widgets/controls"
          }
        },
        "dd73e75d5f744b53ae8444b83958861a": {
          "model_module": "@jupyter-widgets/base",
          "model_name": "LayoutModel",
          "state": {
            "_view_name": "LayoutView",
            "grid_template_rows": null,
            "right": null,
            "justify_content": null,
            "_view_module": "@jupyter-widgets/base",
            "overflow": null,
            "_model_module_version": "1.2.0",
            "_view_count": null,
            "flex_flow": null,
            "width": null,
            "min_width": null,
            "border": null,
            "align_items": null,
            "bottom": null,
            "_model_module": "@jupyter-widgets/base",
            "top": null,
            "grid_column": null,
            "overflow_y": null,
            "overflow_x": null,
            "grid_auto_flow": null,
            "grid_area": null,
            "grid_template_columns": null,
            "flex": null,
            "_model_name": "LayoutModel",
            "justify_items": null,
            "grid_row": null,
            "max_height": null,
            "align_content": null,
            "visibility": null,
            "align_self": null,
            "height": null,
            "min_height": null,
            "padding": null,
            "grid_auto_rows": null,
            "grid_gap": null,
            "max_width": null,
            "order": null,
            "_view_module_version": "1.2.0",
            "grid_template_areas": null,
            "object_position": null,
            "object_fit": null,
            "grid_auto_columns": null,
            "margin": null,
            "display": null,
            "left": null
          }
        },
        "74d9bb7ddd8140a991f87aa9c5d0b9c1": {
          "model_module": "@jupyter-widgets/controls",
          "model_name": "HBoxModel",
          "state": {
            "_view_name": "HBoxView",
            "_dom_classes": [],
            "_model_name": "HBoxModel",
            "_view_module": "@jupyter-widgets/controls",
            "_model_module_version": "1.5.0",
            "_view_count": null,
            "_view_module_version": "1.5.0",
            "box_style": "",
            "layout": "IPY_MODEL_c64cdd89f66840f89f26253bbfe7a4b9",
            "_model_module": "@jupyter-widgets/controls",
            "children": [
              "IPY_MODEL_ed947395b2994476bac69e6300bacbf4",
              "IPY_MODEL_f835553fa8d146298d3ed08455fd19d6"
            ]
          }
        },
        "c64cdd89f66840f89f26253bbfe7a4b9": {
          "model_module": "@jupyter-widgets/base",
          "model_name": "LayoutModel",
          "state": {
            "_view_name": "LayoutView",
            "grid_template_rows": null,
            "right": null,
            "justify_content": null,
            "_view_module": "@jupyter-widgets/base",
            "overflow": null,
            "_model_module_version": "1.2.0",
            "_view_count": null,
            "flex_flow": null,
            "width": null,
            "min_width": null,
            "border": null,
            "align_items": null,
            "bottom": null,
            "_model_module": "@jupyter-widgets/base",
            "top": null,
            "grid_column": null,
            "overflow_y": null,
            "overflow_x": null,
            "grid_auto_flow": null,
            "grid_area": null,
            "grid_template_columns": null,
            "flex": null,
            "_model_name": "LayoutModel",
            "justify_items": null,
            "grid_row": null,
            "max_height": null,
            "align_content": null,
            "visibility": null,
            "align_self": null,
            "height": null,
            "min_height": null,
            "padding": null,
            "grid_auto_rows": null,
            "grid_gap": null,
            "max_width": null,
            "order": null,
            "_view_module_version": "1.2.0",
            "grid_template_areas": null,
            "object_position": null,
            "object_fit": null,
            "grid_auto_columns": null,
            "margin": null,
            "display": null,
            "left": null
          }
        },
        "ed947395b2994476bac69e6300bacbf4": {
          "model_module": "@jupyter-widgets/controls",
          "model_name": "FloatProgressModel",
          "state": {
            "_view_name": "ProgressView",
            "style": "IPY_MODEL_63b700728f8e4b6e976f4de50fa9166f",
            "_dom_classes": [],
            "description": "",
            "_model_name": "FloatProgressModel",
            "bar_style": "info",
            "max": 1,
            "_view_module": "@jupyter-widgets/controls",
            "_model_module_version": "1.5.0",
            "value": 1,
            "_view_count": null,
            "_view_module_version": "1.5.0",
            "orientation": "horizontal",
            "min": 0,
            "description_tooltip": null,
            "_model_module": "@jupyter-widgets/controls",
            "layout": "IPY_MODEL_e0a13926af4e4e8289596c74d7666ce4"
          }
        },
        "f835553fa8d146298d3ed08455fd19d6": {
          "model_module": "@jupyter-widgets/controls",
          "model_name": "HTMLModel",
          "state": {
            "_view_name": "HTMLView",
            "style": "IPY_MODEL_34f94bf6eae4411cb0a57a7cbbc69575",
            "_dom_classes": [],
            "description": "",
            "_model_name": "HTMLModel",
            "placeholder": "​",
            "_view_module": "@jupyter-widgets/controls",
            "_model_module_version": "1.5.0",
            "value": " 170500096/? [00:22&lt;00:00, 31284255.64it/s]",
            "_view_count": null,
            "_view_module_version": "1.5.0",
            "description_tooltip": null,
            "_model_module": "@jupyter-widgets/controls",
            "layout": "IPY_MODEL_d2f80f34557041c8b6c5e01033eea605"
          }
        },
        "63b700728f8e4b6e976f4de50fa9166f": {
          "model_module": "@jupyter-widgets/controls",
          "model_name": "ProgressStyleModel",
          "state": {
            "_view_name": "StyleView",
            "_model_name": "ProgressStyleModel",
            "description_width": "initial",
            "_view_module": "@jupyter-widgets/base",
            "_model_module_version": "1.5.0",
            "_view_count": null,
            "_view_module_version": "1.2.0",
            "bar_color": null,
            "_model_module": "@jupyter-widgets/controls"
          }
        },
        "e0a13926af4e4e8289596c74d7666ce4": {
          "model_module": "@jupyter-widgets/base",
          "model_name": "LayoutModel",
          "state": {
            "_view_name": "LayoutView",
            "grid_template_rows": null,
            "right": null,
            "justify_content": null,
            "_view_module": "@jupyter-widgets/base",
            "overflow": null,
            "_model_module_version": "1.2.0",
            "_view_count": null,
            "flex_flow": null,
            "width": null,
            "min_width": null,
            "border": null,
            "align_items": null,
            "bottom": null,
            "_model_module": "@jupyter-widgets/base",
            "top": null,
            "grid_column": null,
            "overflow_y": null,
            "overflow_x": null,
            "grid_auto_flow": null,
            "grid_area": null,
            "grid_template_columns": null,
            "flex": null,
            "_model_name": "LayoutModel",
            "justify_items": null,
            "grid_row": null,
            "max_height": null,
            "align_content": null,
            "visibility": null,
            "align_self": null,
            "height": null,
            "min_height": null,
            "padding": null,
            "grid_auto_rows": null,
            "grid_gap": null,
            "max_width": null,
            "order": null,
            "_view_module_version": "1.2.0",
            "grid_template_areas": null,
            "object_position": null,
            "object_fit": null,
            "grid_auto_columns": null,
            "margin": null,
            "display": null,
            "left": null
          }
        },
        "34f94bf6eae4411cb0a57a7cbbc69575": {
          "model_module": "@jupyter-widgets/controls",
          "model_name": "DescriptionStyleModel",
          "state": {
            "_view_name": "StyleView",
            "_model_name": "DescriptionStyleModel",
            "description_width": "",
            "_view_module": "@jupyter-widgets/base",
            "_model_module_version": "1.5.0",
            "_view_count": null,
            "_view_module_version": "1.2.0",
            "_model_module": "@jupyter-widgets/controls"
          }
        },
        "d2f80f34557041c8b6c5e01033eea605": {
          "model_module": "@jupyter-widgets/base",
          "model_name": "LayoutModel",
          "state": {
            "_view_name": "LayoutView",
            "grid_template_rows": null,
            "right": null,
            "justify_content": null,
            "_view_module": "@jupyter-widgets/base",
            "overflow": null,
            "_model_module_version": "1.2.0",
            "_view_count": null,
            "flex_flow": null,
            "width": null,
            "min_width": null,
            "border": null,
            "align_items": null,
            "bottom": null,
            "_model_module": "@jupyter-widgets/base",
            "top": null,
            "grid_column": null,
            "overflow_y": null,
            "overflow_x": null,
            "grid_auto_flow": null,
            "grid_area": null,
            "grid_template_columns": null,
            "flex": null,
            "_model_name": "LayoutModel",
            "justify_items": null,
            "grid_row": null,
            "max_height": null,
            "align_content": null,
            "visibility": null,
            "align_self": null,
            "height": null,
            "min_height": null,
            "padding": null,
            "grid_auto_rows": null,
            "grid_gap": null,
            "max_width": null,
            "order": null,
            "_view_module_version": "1.2.0",
            "grid_template_areas": null,
            "object_position": null,
            "object_fit": null,
            "grid_auto_columns": null,
            "margin": null,
            "display": null,
            "left": null
          }
        },
        "5136bf12fdae4368b2bd35991a9ef7e1": {
          "model_module": "@jupyter-widgets/controls",
          "model_name": "HBoxModel",
          "state": {
            "_view_name": "HBoxView",
            "_dom_classes": [],
            "_model_name": "HBoxModel",
            "_view_module": "@jupyter-widgets/controls",
            "_model_module_version": "1.5.0",
            "_view_count": null,
            "_view_module_version": "1.5.0",
            "box_style": "",
            "layout": "IPY_MODEL_5f4da9f8023048aa97c5926b630703ff",
            "_model_module": "@jupyter-widgets/controls",
            "children": [
              "IPY_MODEL_bbfba32e0890449e9a71991b9a1e8ddc",
              "IPY_MODEL_6c41e73efafc43f8be251e9c8a1c0ecb"
            ]
          }
        },
        "5f4da9f8023048aa97c5926b630703ff": {
          "model_module": "@jupyter-widgets/base",
          "model_name": "LayoutModel",
          "state": {
            "_view_name": "LayoutView",
            "grid_template_rows": null,
            "right": null,
            "justify_content": null,
            "_view_module": "@jupyter-widgets/base",
            "overflow": null,
            "_model_module_version": "1.2.0",
            "_view_count": null,
            "flex_flow": null,
            "width": null,
            "min_width": null,
            "border": null,
            "align_items": null,
            "bottom": null,
            "_model_module": "@jupyter-widgets/base",
            "top": null,
            "grid_column": null,
            "overflow_y": null,
            "overflow_x": null,
            "grid_auto_flow": null,
            "grid_area": null,
            "grid_template_columns": null,
            "flex": null,
            "_model_name": "LayoutModel",
            "justify_items": null,
            "grid_row": null,
            "max_height": null,
            "align_content": null,
            "visibility": null,
            "align_self": null,
            "height": null,
            "min_height": null,
            "padding": null,
            "grid_auto_rows": null,
            "grid_gap": null,
            "max_width": null,
            "order": null,
            "_view_module_version": "1.2.0",
            "grid_template_areas": null,
            "object_position": null,
            "object_fit": null,
            "grid_auto_columns": null,
            "margin": null,
            "display": null,
            "left": null
          }
        },
        "bbfba32e0890449e9a71991b9a1e8ddc": {
          "model_module": "@jupyter-widgets/controls",
          "model_name": "FloatProgressModel",
          "state": {
            "_view_name": "ProgressView",
            "style": "IPY_MODEL_38514969a4c44fae929c8e67800a0bd7",
            "_dom_classes": [],
            "description": "",
            "_model_name": "FloatProgressModel",
            "bar_style": "info",
            "max": 1,
            "_view_module": "@jupyter-widgets/controls",
            "_model_module_version": "1.5.0",
            "value": 1,
            "_view_count": null,
            "_view_module_version": "1.5.0",
            "orientation": "horizontal",
            "min": 0,
            "description_tooltip": null,
            "_model_module": "@jupyter-widgets/controls",
            "layout": "IPY_MODEL_04cadc3b3abd42b794ba5b2175743ac0"
          }
        },
        "6c41e73efafc43f8be251e9c8a1c0ecb": {
          "model_module": "@jupyter-widgets/controls",
          "model_name": "HTMLModel",
          "state": {
            "_view_name": "HTMLView",
            "style": "IPY_MODEL_7e0933fa90404d6f97b5487f30b8bff0",
            "_dom_classes": [],
            "description": "",
            "_model_name": "HTMLModel",
            "placeholder": "​",
            "_view_module": "@jupyter-widgets/controls",
            "_model_module_version": "1.5.0",
            "value": " 170500096/? [00:20&lt;00:00, 26520158.15it/s]",
            "_view_count": null,
            "_view_module_version": "1.5.0",
            "description_tooltip": null,
            "_model_module": "@jupyter-widgets/controls",
            "layout": "IPY_MODEL_229c7da445314a3d9668f804734beafa"
          }
        },
        "38514969a4c44fae929c8e67800a0bd7": {
          "model_module": "@jupyter-widgets/controls",
          "model_name": "ProgressStyleModel",
          "state": {
            "_view_name": "StyleView",
            "_model_name": "ProgressStyleModel",
            "description_width": "initial",
            "_view_module": "@jupyter-widgets/base",
            "_model_module_version": "1.5.0",
            "_view_count": null,
            "_view_module_version": "1.2.0",
            "bar_color": null,
            "_model_module": "@jupyter-widgets/controls"
          }
        },
        "04cadc3b3abd42b794ba5b2175743ac0": {
          "model_module": "@jupyter-widgets/base",
          "model_name": "LayoutModel",
          "state": {
            "_view_name": "LayoutView",
            "grid_template_rows": null,
            "right": null,
            "justify_content": null,
            "_view_module": "@jupyter-widgets/base",
            "overflow": null,
            "_model_module_version": "1.2.0",
            "_view_count": null,
            "flex_flow": null,
            "width": null,
            "min_width": null,
            "border": null,
            "align_items": null,
            "bottom": null,
            "_model_module": "@jupyter-widgets/base",
            "top": null,
            "grid_column": null,
            "overflow_y": null,
            "overflow_x": null,
            "grid_auto_flow": null,
            "grid_area": null,
            "grid_template_columns": null,
            "flex": null,
            "_model_name": "LayoutModel",
            "justify_items": null,
            "grid_row": null,
            "max_height": null,
            "align_content": null,
            "visibility": null,
            "align_self": null,
            "height": null,
            "min_height": null,
            "padding": null,
            "grid_auto_rows": null,
            "grid_gap": null,
            "max_width": null,
            "order": null,
            "_view_module_version": "1.2.0",
            "grid_template_areas": null,
            "object_position": null,
            "object_fit": null,
            "grid_auto_columns": null,
            "margin": null,
            "display": null,
            "left": null
          }
        },
        "7e0933fa90404d6f97b5487f30b8bff0": {
          "model_module": "@jupyter-widgets/controls",
          "model_name": "DescriptionStyleModel",
          "state": {
            "_view_name": "StyleView",
            "_model_name": "DescriptionStyleModel",
            "description_width": "",
            "_view_module": "@jupyter-widgets/base",
            "_model_module_version": "1.5.0",
            "_view_count": null,
            "_view_module_version": "1.2.0",
            "_model_module": "@jupyter-widgets/controls"
          }
        },
        "229c7da445314a3d9668f804734beafa": {
          "model_module": "@jupyter-widgets/base",
          "model_name": "LayoutModel",
          "state": {
            "_view_name": "LayoutView",
            "grid_template_rows": null,
            "right": null,
            "justify_content": null,
            "_view_module": "@jupyter-widgets/base",
            "overflow": null,
            "_model_module_version": "1.2.0",
            "_view_count": null,
            "flex_flow": null,
            "width": null,
            "min_width": null,
            "border": null,
            "align_items": null,
            "bottom": null,
            "_model_module": "@jupyter-widgets/base",
            "top": null,
            "grid_column": null,
            "overflow_y": null,
            "overflow_x": null,
            "grid_auto_flow": null,
            "grid_area": null,
            "grid_template_columns": null,
            "flex": null,
            "_model_name": "LayoutModel",
            "justify_items": null,
            "grid_row": null,
            "max_height": null,
            "align_content": null,
            "visibility": null,
            "align_self": null,
            "height": null,
            "min_height": null,
            "padding": null,
            "grid_auto_rows": null,
            "grid_gap": null,
            "max_width": null,
            "order": null,
            "_view_module_version": "1.2.0",
            "grid_template_areas": null,
            "object_position": null,
            "object_fit": null,
            "grid_auto_columns": null,
            "margin": null,
            "display": null,
            "left": null
          }
        },
        "95b1a0e47cd44513a6699b1854321e32": {
          "model_module": "@jupyter-widgets/controls",
          "model_name": "HBoxModel",
          "state": {
            "_view_name": "HBoxView",
            "_dom_classes": [],
            "_model_name": "HBoxModel",
            "_view_module": "@jupyter-widgets/controls",
            "_model_module_version": "1.5.0",
            "_view_count": null,
            "_view_module_version": "1.5.0",
            "box_style": "",
            "layout": "IPY_MODEL_db87989286104473acc39d0fc5ab7272",
            "_model_module": "@jupyter-widgets/controls",
            "children": [
              "IPY_MODEL_4ce517c49d274513bec9afa4ff414721",
              "IPY_MODEL_c53244d6585f44048652c73802682857"
            ]
          }
        },
        "db87989286104473acc39d0fc5ab7272": {
          "model_module": "@jupyter-widgets/base",
          "model_name": "LayoutModel",
          "state": {
            "_view_name": "LayoutView",
            "grid_template_rows": null,
            "right": null,
            "justify_content": null,
            "_view_module": "@jupyter-widgets/base",
            "overflow": null,
            "_model_module_version": "1.2.0",
            "_view_count": null,
            "flex_flow": null,
            "width": null,
            "min_width": null,
            "border": null,
            "align_items": null,
            "bottom": null,
            "_model_module": "@jupyter-widgets/base",
            "top": null,
            "grid_column": null,
            "overflow_y": null,
            "overflow_x": null,
            "grid_auto_flow": null,
            "grid_area": null,
            "grid_template_columns": null,
            "flex": null,
            "_model_name": "LayoutModel",
            "justify_items": null,
            "grid_row": null,
            "max_height": null,
            "align_content": null,
            "visibility": null,
            "align_self": null,
            "height": null,
            "min_height": null,
            "padding": null,
            "grid_auto_rows": null,
            "grid_gap": null,
            "max_width": null,
            "order": null,
            "_view_module_version": "1.2.0",
            "grid_template_areas": null,
            "object_position": null,
            "object_fit": null,
            "grid_auto_columns": null,
            "margin": null,
            "display": null,
            "left": null
          }
        },
        "4ce517c49d274513bec9afa4ff414721": {
          "model_module": "@jupyter-widgets/controls",
          "model_name": "FloatProgressModel",
          "state": {
            "_view_name": "ProgressView",
            "style": "IPY_MODEL_7974c71779fb4802a3e4d93694e0ce87",
            "_dom_classes": [],
            "description": "100%",
            "_model_name": "FloatProgressModel",
            "bar_style": "success",
            "max": 46827520,
            "_view_module": "@jupyter-widgets/controls",
            "_model_module_version": "1.5.0",
            "value": 46827520,
            "_view_count": null,
            "_view_module_version": "1.5.0",
            "orientation": "horizontal",
            "min": 0,
            "description_tooltip": null,
            "_model_module": "@jupyter-widgets/controls",
            "layout": "IPY_MODEL_f40f43aa64aa47c0a2d01bff09294ff2"
          }
        },
        "c53244d6585f44048652c73802682857": {
          "model_module": "@jupyter-widgets/controls",
          "model_name": "HTMLModel",
          "state": {
            "_view_name": "HTMLView",
            "style": "IPY_MODEL_c9e55f4c2b484c289571ce1b93c559e9",
            "_dom_classes": [],
            "description": "",
            "_model_name": "HTMLModel",
            "placeholder": "​",
            "_view_module": "@jupyter-widgets/controls",
            "_model_module_version": "1.5.0",
            "value": " 44.7M/44.7M [00:00&lt;00:00, 160MB/s]",
            "_view_count": null,
            "_view_module_version": "1.5.0",
            "description_tooltip": null,
            "_model_module": "@jupyter-widgets/controls",
            "layout": "IPY_MODEL_5ea7cd10cd524c30affefea69ac0ea4a"
          }
        },
        "7974c71779fb4802a3e4d93694e0ce87": {
          "model_module": "@jupyter-widgets/controls",
          "model_name": "ProgressStyleModel",
          "state": {
            "_view_name": "StyleView",
            "_model_name": "ProgressStyleModel",
            "description_width": "initial",
            "_view_module": "@jupyter-widgets/base",
            "_model_module_version": "1.5.0",
            "_view_count": null,
            "_view_module_version": "1.2.0",
            "bar_color": null,
            "_model_module": "@jupyter-widgets/controls"
          }
        },
        "f40f43aa64aa47c0a2d01bff09294ff2": {
          "model_module": "@jupyter-widgets/base",
          "model_name": "LayoutModel",
          "state": {
            "_view_name": "LayoutView",
            "grid_template_rows": null,
            "right": null,
            "justify_content": null,
            "_view_module": "@jupyter-widgets/base",
            "overflow": null,
            "_model_module_version": "1.2.0",
            "_view_count": null,
            "flex_flow": null,
            "width": null,
            "min_width": null,
            "border": null,
            "align_items": null,
            "bottom": null,
            "_model_module": "@jupyter-widgets/base",
            "top": null,
            "grid_column": null,
            "overflow_y": null,
            "overflow_x": null,
            "grid_auto_flow": null,
            "grid_area": null,
            "grid_template_columns": null,
            "flex": null,
            "_model_name": "LayoutModel",
            "justify_items": null,
            "grid_row": null,
            "max_height": null,
            "align_content": null,
            "visibility": null,
            "align_self": null,
            "height": null,
            "min_height": null,
            "padding": null,
            "grid_auto_rows": null,
            "grid_gap": null,
            "max_width": null,
            "order": null,
            "_view_module_version": "1.2.0",
            "grid_template_areas": null,
            "object_position": null,
            "object_fit": null,
            "grid_auto_columns": null,
            "margin": null,
            "display": null,
            "left": null
          }
        },
        "c9e55f4c2b484c289571ce1b93c559e9": {
          "model_module": "@jupyter-widgets/controls",
          "model_name": "DescriptionStyleModel",
          "state": {
            "_view_name": "StyleView",
            "_model_name": "DescriptionStyleModel",
            "description_width": "",
            "_view_module": "@jupyter-widgets/base",
            "_model_module_version": "1.5.0",
            "_view_count": null,
            "_view_module_version": "1.2.0",
            "_model_module": "@jupyter-widgets/controls"
          }
        },
        "5ea7cd10cd524c30affefea69ac0ea4a": {
          "model_module": "@jupyter-widgets/base",
          "model_name": "LayoutModel",
          "state": {
            "_view_name": "LayoutView",
            "grid_template_rows": null,
            "right": null,
            "justify_content": null,
            "_view_module": "@jupyter-widgets/base",
            "overflow": null,
            "_model_module_version": "1.2.0",
            "_view_count": null,
            "flex_flow": null,
            "width": null,
            "min_width": null,
            "border": null,
            "align_items": null,
            "bottom": null,
            "_model_module": "@jupyter-widgets/base",
            "top": null,
            "grid_column": null,
            "overflow_y": null,
            "overflow_x": null,
            "grid_auto_flow": null,
            "grid_area": null,
            "grid_template_columns": null,
            "flex": null,
            "_model_name": "LayoutModel",
            "justify_items": null,
            "grid_row": null,
            "max_height": null,
            "align_content": null,
            "visibility": null,
            "align_self": null,
            "height": null,
            "min_height": null,
            "padding": null,
            "grid_auto_rows": null,
            "grid_gap": null,
            "max_width": null,
            "order": null,
            "_view_module_version": "1.2.0",
            "grid_template_areas": null,
            "object_position": null,
            "object_fit": null,
            "grid_auto_columns": null,
            "margin": null,
            "display": null,
            "left": null
          }
        }
      }
    }
  },
  "cells": [
    {
      "cell_type": "markdown",
      "metadata": {
        "id": "view-in-github",
        "colab_type": "text"
      },
      "source": [
        "<a href=\"https://colab.research.google.com/github/Jung0Jin/Pytorch_study/blob/master/6.%ED%95%A9%EC%84%B1%EA%B3%B1%EC%8B%A0%EA%B2%BD%EB%A7%9D.ipynb\" target=\"_parent\"><img src=\"https://colab.research.google.com/assets/colab-badge.svg\" alt=\"Open In Colab\"/></a>"
      ]
    },
    {
      "cell_type": "markdown",
      "metadata": {
        "id": "0gf7ynBmRVMy",
        "colab_type": "text"
      },
      "source": [
        "#6. 합성곱 신경망(Convolutional Neural Network)"
      ]
    },
    {
      "cell_type": "markdown",
      "metadata": {
        "id": "iVlfA2cyRcRW",
        "colab_type": "text"
      },
      "source": [
        "출처 : https://github.com/Namsik-Yoon/pytorch_basic/blob/master/6.%20%ED%95%A9%EC%84%B1%EA%B3%B1%20%EC%8B%A0%EA%B2%BD%EB%A7%9D(Convolutional%20Neural%20Network).ipynb "
      ]
    },
    {
      "cell_type": "markdown",
      "metadata": {
        "id": "G2h2tffXwHNY",
        "colab_type": "text"
      },
      "source": [
        "이번 챕터에서는 주로 이미지, 비전 분야에서 사용되는 (하지만 자연어 처리에서도 일부 사용되는) 합성곱 신경망(Convolutional Neural Network)에 대해 배운다.\n",
        "\n",
        "네모 형식으로 처리할 수 있으면 적용할 수 있다."
      ]
    },
    {
      "cell_type": "markdown",
      "metadata": {
        "id": "uhlorskjRitQ",
        "colab_type": "text"
      },
      "source": [
        "##6.1 합성곱과 풀링(Convolution and Pooling)"
      ]
    },
    {
      "cell_type": "markdown",
      "metadata": {
        "id": "m_fH9LIURqTe",
        "colab_type": "text"
      },
      "source": [
        "합성곱 신경망은 합성곱층(Convolution layer)과 풀링층(Pooling layer)으로 구성된다. 아래의 그림은 합성곱 신경망의 일반적인 예를 보여준다."
      ]
    },
    {
      "cell_type": "markdown",
      "metadata": {
        "id": "ZlcFAtH4R2Mf",
        "colab_type": "text"
      },
      "source": [
        "![대체 텍스트](https://wikidocs.net/images/page/62306/convpooling.PNG)\n",
        "\n",
        "위의 그림에서 CONV는 합성곱 연산을 의미한다.\n",
        "\n",
        "RELU는 활성화 함수로 합성곱 연산의 결과가 활성화 함수 ReLU를 지난다.\n",
        "\n",
        "이 두 과정을 합성곱층이라고 한다.\n",
        "\n",
        "그 후에 POOL이라는 구간을 지난다. 이는 풀링 연산을 의미하여 풀링층이라고 한다."
      ]
    },
    {
      "cell_type": "markdown",
      "metadata": {
        "id": "Si2QDd_LSV6n",
        "colab_type": "text"
      },
      "source": [
        "###6.1.1 합성곱 신경망의 대두"
      ]
    },
    {
      "cell_type": "markdown",
      "metadata": {
        "id": "RexTZ39EScU-",
        "colab_type": "text"
      },
      "source": [
        "합성곱 신경망은 이미지 처리에 탁월한 성능을 보이는 신경망이다.\n",
        "\n",
        "이미지 처리를 하기 위해서 앞서 배운 다층 퍼셉트론을 사용할 수 있지만 한계가 있었다.\n",
        "\n",
        "아래의 그림은 알파벳 Y에 대한 손글씨 두 개를 2차원 텐서인 행렬로 표현한 것이다."
      ]
    },
    {
      "cell_type": "markdown",
      "metadata": {
        "id": "Eyh3enSxSuhX",
        "colab_type": "text"
      },
      "source": [
        "![대체 텍스트](https://wikidocs.net/images/page/64066/conv0.png)\n",
        "\n",
        "사람이 보기에는 두 그림 모두 알파벳 Y로 손쉽게 판단이 가능하다.\n",
        "\n",
        "기계가 보기에는 각 픽셀마다 가진 값이 상이하므로 완전히 다른 값으로 인식한다.\n",
        "\n",
        "이미지는 위와 같이 같은 대상이라도 휘어지거나, 이동되거나, 방향이 뒤틀리는 등 다양한 변형이 존재한다.\n",
        "\n",
        "다층 퍼셉트론은 몇 가지 픽셀만 값이 달라져도 민감하게 예측에 영향을 받는다는 단점이 있다.\n",
        "\n",
        "위 손글씨를 다층 퍼셉트론으로 분류한다고 하면, 이미지를 1차원 텐서인 벡터로 변환하고 다층 퍼셉트론의 입력으로 사용한다.\n",
        "\n",
        "두 번째 손글씨를 다층 퍼셉트론으로 분류하기 위해 벡터로 바꾸면 다음과 같다."
      ]
    },
    {
      "cell_type": "markdown",
      "metadata": {
        "id": "CRD6yawlTRzh",
        "colab_type": "text"
      },
      "source": [
        "![대체 텍스트](https://wikidocs.net/images/page/64066/conv1.png)\n",
        "\n",
        "1차원으로 변환된 결과는 사람이 보기에도 이게 원래 어떤 이미지였는지 알아보기가 어렵다.\n",
        "\n",
        "이는 기계도 마찬가지로 위와 같은 결과는 변환 전에 가지고 있던 공간적인 구조(spatial structure) 정보가 유실된 상태이다.\n",
        "\n",
        "여기서 공간적인 구조 정보라는 것은 거리가 가까운 어떤 픽셀들끼리는 연관이 있다거나, 어떤 픽셀들끼리는 값이 비슷하다거나 등의 정보를 말한다.\n",
        "\n",
        "결국 이미지의 공간적인 구조 정보를 보존하면서 학습할 수 있는 방법이 필요해졌고, 이를 위해 사용하는 것이 합성곱 신경망이다."
      ]
    },
    {
      "cell_type": "markdown",
      "metadata": {
        "id": "EMGH-BOlUw-v",
        "colab_type": "text"
      },
      "source": [
        "###6.1.2 채널(Channel)"
      ]
    },
    {
      "cell_type": "markdown",
      "metadata": {
        "id": "GWbqOf4gU3fW",
        "colab_type": "text"
      },
      "source": [
        "이미지는 (높이, 너비, 채널)이라는 3차원 텐서이다. \n",
        "\n",
        "높이는 이미지의 세로 방향 픽셀 수\n",
        "\n",
        "너비는 이미지의 가로 방향 픽셀 수\n",
        "\n",
        "채널은 색 성분으로 흑백이면 채널 수 1, RGB면 채널 수 3이다.\n",
        "\n",
        "각 픽셀은 0부터 255 사이의 값을 가진다.\n",
        "\n",
        "아래는 28 X 28 픽셀의 손글씨 데이터이다."
      ]
    },
    {
      "cell_type": "markdown",
      "metadata": {
        "id": "Q2VBvCPcgK5_",
        "colab_type": "text"
      },
      "source": [
        "![대체 텍스트](https://wikidocs.net/images/page/64066/conv2.png)\n",
        "\n",
        "위 손글씨 데이터는 흑백 이미지므로 채널 수가 1임을 고려하면 (28 X 28 X 1)의 크기를 가지는 3차원 텐서다.\n",
        "\n",
        "컬러 이미지 였으면 채널 수가 3으로 (28 X 28 X 3) 이었을 것이다. "
      ]
    },
    {
      "cell_type": "markdown",
      "metadata": {
        "id": "NgTN099ugjEm",
        "colab_type": "text"
      },
      "source": [
        "![대체 텍스트](https://wikidocs.net/images/page/64066/conv3.png)\n",
        "\n",
        "컬러 이미지는 적색(Red), 녹색(green), 청색(Blue) 채널로 수가 3개이다.\n",
        "\n",
        "채널은 때로는 깊이(depth)라고도 한다.\n",
        "\n",
        "이 경우 이미지는 (높이, 너비, 깊이)라는 3차원 텐서로 표현된다고 말할 수 있다."
      ]
    },
    {
      "cell_type": "markdown",
      "metadata": {
        "id": "JMHkDVtJwbdw",
        "colab_type": "text"
      },
      "source": [
        "채널에 대한 정의를 확실히 해야한다.\n",
        "\n",
        "[[[1], [0], [1]],\n",
        " \n",
        "   [0], [0], [1]]]\n",
        "\n",
        "이러면 흑백\n",
        "\n",
        "[[[0, 1, 0], [1, 0, 0], [1, 1, 0],\n",
        "\n",
        "   [1, 1, 0], [0, 0, 0], [1, 0, 0]]]\n",
        "\n",
        "이러면 RGB"
      ]
    },
    {
      "cell_type": "markdown",
      "metadata": {
        "id": "HMmwXioRgz_g",
        "colab_type": "text"
      },
      "source": [
        "###6.1.3 합성곱 연산(Convolution operation)"
      ]
    },
    {
      "cell_type": "markdown",
      "metadata": {
        "id": "FgbCqWFYg4hO",
        "colab_type": "text"
      },
      "source": [
        "합성곱층은 합성곱 연산을 통해서 이미지의 특징을 추출하는 역할을 한다.\n",
        "\n",
        "합성곱은 영어로 컨볼루션이라고도 불린다.\n",
        "\n",
        "합성곱은 커널(kernel) 또는 필터(filter)라고도 불린다.\n",
        "\n",
        "합성곱은 $n$  X  $m$ 크기의 행렬로 높이(height)X너비(width) 크기의 이미지를 처음부터 끝까지 겹치며 훑는다.\n",
        "\n",
        "합성곱은 $n$ X $m$ 크기의 겹쳐지는 부분의 각 이미지와 합성곱(커널, 필터)의 원소의 값을 각각 곱해서 모두 더한다. 이때, 이미지의 가장 왼쪽 위부터 가장 오른쪽 까지 순차적으로 훑는다.\n",
        "\n",
        "합성곱(커널, 필터)은 일반적으로 3 X 3 또는 5 X 5를 사용한다.\n",
        "\n",
        "아래는 5 X 5의 이미지 행렬에 3 X 3 크기의 커널로 합성곱 연상을 수행하는 과정이다.\n",
        "\n",
        "한 번의 연산을 1 스텝(step)이라고 하였을 때, 합성곱 연산의 네번째 스텝까지 이미지와 식으로 표현해봤다."
      ]
    },
    {
      "cell_type": "markdown",
      "metadata": {
        "id": "BBBzwK3xiPPm",
        "colab_type": "text"
      },
      "source": [
        "1) 첫번째 스텝\n",
        "\n",
        "![대체 텍스트](https://wikidocs.net/images/page/64066/conv4.png)\n",
        "\n",
        "(1×1) + (2×0) + (3×1) + (2×1) + (1×0) + (0×1) + (3×0) + (0×1) + (1×0) = 6"
      ]
    },
    {
      "cell_type": "markdown",
      "metadata": {
        "id": "o95-7cuhiQi_",
        "colab_type": "text"
      },
      "source": [
        "2) 두번째 스텝\n",
        "\n",
        "![대체 텍스트](https://wikidocs.net/images/page/64066/conv5.png)\n",
        "\n",
        "(2×1) + (3×0) + (4×1) + (1×1) + (0×0) + (1×1) + (0×0) + (1×1) + (1×0) = 9"
      ]
    },
    {
      "cell_type": "markdown",
      "metadata": {
        "id": "hD7W9hXOiTBQ",
        "colab_type": "text"
      },
      "source": [
        "3) 세번째 스텝\n",
        "\n",
        "![대체 텍스트](https://wikidocs.net/images/page/64066/conv6.png)\n",
        "\n",
        "(3×1) + (4×0) + (5×1) + (0×1) + (1×0) + (2×1) + (1×0) + (1×1) + (0×0) = 11"
      ]
    },
    {
      "cell_type": "markdown",
      "metadata": {
        "id": "CDDauMaFiVVO",
        "colab_type": "text"
      },
      "source": [
        "4) 네번째 스텝\n",
        "\n",
        "![대체 텍스트](https://wikidocs.net/images/page/64066/conv7.png)\n",
        "\n",
        "(2×1) + (1×0) + (0×1) + (3×1) + (0×0) + (1×1) + (1×0) + (4×1) + (1×0) = 10\n"
      ]
    },
    {
      "cell_type": "markdown",
      "metadata": {
        "id": "KRH8Qw1PiY_o",
        "colab_type": "text"
      },
      "source": [
        "위 연산을 총 9번의 스텝까지 마쳤다고 가정하였을 때, 최종 결과는 아래와 같다.\n",
        "\n",
        "![대체 텍스트](https://wikidocs.net/images/page/64066/conv8.png)"
      ]
    },
    {
      "cell_type": "markdown",
      "metadata": {
        "id": "9UKUWAnxicRV",
        "colab_type": "text"
      },
      "source": [
        "위와 같이 입력으로부터 커널을 사용하여 합성곱 연산을 통해 나온 결과를 특성 맵(feature map)이라고 한다.\n",
        "\n",
        "위의 예제에서는 커널의 크기가 3 × 3이었지만, 커널의 크기는 사용자가 정할 수 있다. \n",
        "\n",
        "또한 커널의 이동 범위가 위의 예제에서는 한 칸이었지만, 이 또한 사용자가 정할 수 있다. 이러한 이동 범위를 스트라이드(stride)라고 합니다.\n",
        "\n",
        "아래의 예제는 스트라이드가 2일 경우에 5 × 5 이미지에 합성곱 연산을 수행하는 3 × 3 커널의 움직임을 보여준다. 최종적으로 2 × 2의 크기의 특성 맵을 얻는다.\n",
        "\n",
        "![대체 텍스트](https://wikidocs.net/images/page/64066/conv9.png)"
      ]
    },
    {
      "cell_type": "markdown",
      "metadata": {
        "id": "0VVBKb_lxG0q",
        "colab_type": "text"
      },
      "source": [
        "이미지에서 인식하려는 부분이 언제나 중아에 있지는 않는다.\n",
        "\n",
        "가장자리에 있을 수도 있으니 잘 인식하려면 패딩을 입혀준다."
      ]
    },
    {
      "cell_type": "markdown",
      "metadata": {
        "id": "hUNDD_p0oNRm",
        "colab_type": "text"
      },
      "source": [
        "###6.1.4 패딩(Padding)"
      ]
    },
    {
      "cell_type": "markdown",
      "metadata": {
        "id": "kbTyE8YdoQtL",
        "colab_type": "text"
      },
      "source": [
        "위의 예에서 5 X 5 이미지에 3 X 3의 커널로 합성곱 연산을 하였을 때, 스트라이드가 1일 경우에는 3 X 3의 특성 맵을 얻었다.\n",
        "\n",
        "이와 같이 합성곱 연산의 결과로 얻은 특성 맵은 입력보다 크기가 작아진다는 특징이 있다.\n",
        "\n",
        "만약, 합성곱 층을 여러 개 쌓으면 최종적으로 얻은 특성 맵은 초기 입력보다 매우 작아진 상태가 될 것이다.\n",
        "\n",
        "합성곱 연산 이후에도 특성 맵의 크기가 입력의 크기과 동일하게 유지되도록 하고 싶다면 패딩(padding)을 사용하면 된다."
      ]
    },
    {
      "cell_type": "markdown",
      "metadata": {
        "id": "HZSy-9swoniP",
        "colab_type": "text"
      },
      "source": [
        "![대체 텍스트](https://wikidocs.net/images/page/64066/conv10.png)\n",
        "\n",
        "패딩은 (합성곱 연산을 하기 전에) 입력의 가장자리에 지정된 개수의 폭만큼 행과 열을 추가해주는 것을 말한다.\n",
        "\n",
        "좀 더 쉽게 설명하면 지정된 개수의 폭만큼 테두리를 추가한다.\n",
        "\n",
        "주로 값을 0으로 채우는 제로 패딩(zero padding)을 사용한다.\n",
        "\n",
        "위의 그림은 5 X 5 이미지에 1폭짜리 제로 패딩을 사용하여 위, 아래에 하나의 행을 좌, 우에 하나의 열을 추가한 모습을 보여준다.\n",
        "\n",
        "커널은 주로 3 X 3 또는 5 X 5를 사용하는데, 만약 스트라이드가 1이라고 하였을 때, 3 X 3크기의 커널을 사용한다면 1폭짜리 제로 패딩을 사용하고, 5 X 5크기의 커널을 사용한다면 2폭짜리 제로 패딩을 사용하면 입렵과 특성 맵의 크기를 보존할 수 있다.\n",
        "\n",
        "왜냐하면, 5 X 5 크기의 이미지에 1폭짜리 제로 패딩을 하면 7 X 7 이미지가 되는데, 여기에 3 X 3의 커널을 사용하여 1 스트라이드로 합성곱을 한 후의 특성 맵은 기존의 입력 이미지의 크기와 같은 5 X 5가 되기 때문이다.\n",
        "\n",
        "다시 생각해보자. 7 X 7 크기의 이미지에 2폭짜리 제로 패딩을 하면 11 X 11 이미지가 되는데, 여기에 5 X 5의 커널을 사용하여 1 스트라이드로 합성곱을 한 후의 특성 맵은 기존의 입력 이미지의 크기와 같은 7 X 7가 된다."
      ]
    },
    {
      "cell_type": "markdown",
      "metadata": {
        "id": "2WmFyxTEp6fE",
        "colab_type": "text"
      },
      "source": [
        "###6.1.5 가중치와 편향"
      ]
    },
    {
      "cell_type": "markdown",
      "metadata": {
        "id": "8ZKhozUWsYjB",
        "colab_type": "text"
      },
      "source": [
        "1) 합성곱 신경망의 가중치\n",
        "\n",
        "다층 퍼셉트론으로 3 × 3 이미지를 처리한다고 가정해보자.\n",
        "\n",
        "우선 이미지를 1차원 텐서인 벡터로 만들면, 3 × 3 = 9가 되므로 입력층은 9개의 뉴런을 가진다. \n",
        "\n",
        "그리고 4개의 뉴런을 가지는 은닉층을 추가한다고 해보면 이는 아래의 그림과 같다.\n",
        "\n",
        "![대체 텍스트](https://wikidocs.net/images/page/64066/conv11.png)"
      ]
    },
    {
      "cell_type": "markdown",
      "metadata": {
        "id": "806SAne5sldJ",
        "colab_type": "text"
      },
      "source": [
        "위에서 각 연결선은 가중치를 의미하므로, 위의 그림에서는 9 × 4 = 36개의 가중치를 갖는다. \n",
        "\n",
        "이제 비교를 위해 합성곱 신경망으로 3 × 3 이미지를 처리한다고 해보자. \n",
        "\n",
        "2 × 2 커널을 사용하고, 스트라이드는 1로 한다. (*는 합성곱 연산을 의미한다.)\n",
        "\n",
        "![대체 텍스트](https://wikidocs.net/images/page/64066/conv12.png)"
      ]
    },
    {
      "cell_type": "markdown",
      "metadata": {
        "id": "Mabs-lcps-ya",
        "colab_type": "text"
      },
      "source": [
        "사실 합성곱 신경망에서 가중치는 커널 행렬의 원소들이다. \n",
        "\n",
        "이를 인공 신경망의 형태로 표현한다면 다음과 같이 표현할 수 있다.\n",
        "\n",
        "![대체 텍스트](https://wikidocs.net/images/page/64066/conv13.png)"
      ]
    },
    {
      "cell_type": "markdown",
      "metadata": {
        "id": "Kz3L8PNktQ2J",
        "colab_type": "text"
      },
      "source": [
        "최종적으로 특성 맵을 얻기 위해서는 동일한 커널로 이미지 전체를 훑으며 합성곱 연산을 진행한다.\n",
        "\n",
        "결국 이미지 전체를 훑으면서 사용되는 가중치는 $w_0, w_1, w_2, w_3$ 4개 뿐이다.\n",
        "\n",
        "그리고 각 합성곱 연산마다 이미지의 모든 픽셀을 사용하는 것이 아니라, 커널과 맵핑되는 픽셀만을 입력으로 사용하는 것을 볼 수 있다. \n",
        "\n",
        "결국 합성곱 신경망은 다층 퍼셉트론을 사용할 때보다 훨씬 적은 수의 가중치를 사용하며 공간적 구조 정보를 보존한다는 특징이 있다.\n",
        "\n",
        "다층 퍼셉트론의 은닉층에서는 가중치 연산 후에 비선형성을 추가하기 위해서 활성화 함수를 통과시켰다. \n",
        "\n",
        "합성곱 신경망의 은닉층에서도 마찬가지다. \n",
        "\n",
        "합성곱 연산을 통해 얻은 특성 맵은 다층 퍼셉트론때와 마찬가지로 비선형성 추가를 위해서 활성화 함수를 지나게 된다. \n",
        "\n",
        "이때 렐루 함수나 렐루 함수의 변형들이 주로 사용된다. \n",
        "\n",
        "은닉층에서 렐루 함수가 주로 사용되는 이유는 앞서 활성화 함수 챕터에서 다뤘다.\n",
        "\n",
        "이와 같이 합성곱 연산을 통해서 특성 맵을 얻고, 활성화 함수를 지나는 연산을 하는 합성곱 신경망의 은닉층을 합성곱 신경망에서는 합성곱 층(convolution layer)이라고 한다.\n"
      ]
    },
    {
      "cell_type": "markdown",
      "metadata": {
        "id": "jwKZM4LouhKK",
        "colab_type": "text"
      },
      "source": [
        "2) 합성곱 신경망의 편향\n",
        "\n",
        "![대체 텍스트](https://wikidocs.net/images/page/64066/conv14.png)\n",
        "\n",
        "합성곱 신경망에도 편향(bias)를 당연히 추가할 수 있다. \n",
        "\n",
        "만약, 편향을 사용한다면 커널을 적용한 뒤에 더해잔다. \n",
        "\n",
        "편향은 하나의 값만 존재하며, 커널이 적용된 결과의 모든 원소에 더해진다."
      ]
    },
    {
      "cell_type": "markdown",
      "metadata": {
        "id": "kbihb9KxxYMf",
        "colab_type": "text"
      },
      "source": [
        "###6.1.6 특성 맵의 크기 계산 방법"
      ]
    },
    {
      "cell_type": "markdown",
      "metadata": {
        "id": "mqSZ_FYXxeG6",
        "colab_type": "text"
      },
      "source": [
        "입력의 크기\n",
        "\n",
        "커널의 크기\n",
        "\n",
        "스트라이드의 값만 알면 \n",
        "\n",
        "합성곱 연산의 결과인 특성 맵의 크기를 계산할 수 있다.\n",
        "\n",
        "\n",
        "\n",
        "*   $I_{h}$ : 입력의 높이\n",
        "\n",
        "*   $I_{w}$ : 입력의 너비\n",
        "\n",
        "*   $K_{h}$ : 커널의 높이\n",
        "\n",
        "*   $K_{w}$ : 커널의 높이\n",
        "\n",
        "*   $S$ : 스트라이드\n",
        "\n",
        "*   $O_{h}$ : 특성 맵의 높이\n",
        "\n",
        "*   $O_{w}$ : 특성 맵의 너비\n",
        "\n",
        "이에 따라 특성 맵의 높이와 너비는 다음과 같다.\n",
        "\n",
        "$O_{h} = floor(\\frac{I_{h} - K_{h}}{S}+1)$\n",
        "\n",
        "$O_{w} = floor(\\frac{I_{w} - K_{w}}{S}+1)$\n",
        "\n",
        "여기서 $floor$ 함수는 소수점 발생 시 소수점 이하를 버리는 역할을 한다. \n",
        "\n",
        "예를 들어 위의 첫번째 예제의 경우 5 × 5 크기의 이미지에 3 × 3 커널을 사용하고 스트라이드 1로 합성곱 연산을 했다.\n",
        "\n",
        "이 경우 특성 맵의 크기는 (5 - 3 + 1 ) × (5 - 3 + 1) = 3 × 3임을 알 수 있다. 이는 또한 총 9번의 스텝이 필요함을 의미하기도 한다.\n",
        "\n",
        "패딩의 폭을 P라고 하고, 패딩까지 고려한 식은 다음과 같다.\n",
        "\n",
        "$O_{h} = floor(\\frac{I_{h} - K_{h} + 2P}{S}+1)$\n",
        "\n",
        "$O_{w} = floor(\\frac{I_{w} - K_{w} + 2P}{S}+1)$"
      ]
    },
    {
      "cell_type": "markdown",
      "metadata": {
        "id": "0GkWEirXxufk",
        "colab_type": "text"
      },
      "source": [
        "[[[1,1,1], [1,1,1], [1,1,1]],\n",
        "\n",
        " [[1,1,1], [1,1,1], [1,1,1]],\n",
        "\n",
        " [[1,1,1], [1,1,1], [1,1,1]]]\n",
        "\n",
        "3 X 3 이미지가 있다.\n",
        "\n",
        "패딩 하나를 해주면\n",
        "\n",
        "[[[0,0,0], [0,0,0], [0,0,0], [0,0,0], [0,0,0]],\n",
        "\n",
        " [[0,0,0], [1,1,1], [1,1,1], [1,1,1], [0,0,0]],\n",
        "\n",
        " [[0,0,0], [1,1,1], [1,1,1], [1,1,1], [0,0,0]],\n",
        "\n",
        " [[0,0,0], [1,1,1], [1,1,1], [1,1,1], [0,0,0]],\n",
        "\n",
        " [[0,0,0], [0,0,0], [0,0,0], [0,0,0], [0,0,0]]]"
      ]
    },
    {
      "cell_type": "markdown",
      "metadata": {
        "id": "Ao5jJ1LNx4PO",
        "colab_type": "text"
      },
      "source": [
        "conv layer의 커널의 fliter 수는 input matrix의 filter의 수라고 할 수 있다."
      ]
    },
    {
      "cell_type": "markdown",
      "metadata": {
        "id": "Z5pGqrUDyJ7_",
        "colab_type": "text"
      },
      "source": [
        "###6.1.7 다수의 채널을 가질 경우의 합성곱 연산(3차원 텐서의 합성곱 연산)"
      ]
    },
    {
      "cell_type": "markdown",
      "metadata": {
        "id": "VQR7laQOyRbj",
        "colab_type": "text"
      },
      "source": [
        "지금까지는 채널(channel) 또는 깊이(depth)를 고려하지 않고, 2차원 텐서를 가정하고 설명했다. \n",
        "\n",
        "하지만 실제로 합성곱 연산의 입력은 '다수의 채널을 가진' 이미지 또는 이전 연산의 결과로 나온 특성 맵일 수 있다. \n",
        "\n",
        "만약, 다수의 채널을 가진 입력 데이터를 가지고 합성곱 연산을 한다고 하면 커널의 채널 수도 입력의 채널 수만큼 존재해야 한다. \n",
        "\n",
        "다시 말해 입력 데이터의 채널 수와 커널의 채널 수는 같아야 한다. \n",
        "\n",
        "채널 수가 같으므로 합성곱 연산을 채널마다 수행한다. \n",
        "\n",
        "그리고 그 결과를 모두 더하여 최종 특성 맵을 얻는다.\n",
        "\n",
        "![대체 텍스트](https://wikidocs.net/images/page/64066/conv15.png)"
      ]
    },
    {
      "cell_type": "markdown",
      "metadata": {
        "id": "DRyNUvG0yrbn",
        "colab_type": "text"
      },
      "source": [
        "위 그림은 3개의 채널을 가진 입력 데이터와 3개의 채널을 가진 커널의 합성곱 연산을 보여준다. \n",
        "\n",
        "커널의 각 채널끼리의 크기는 같아야 한다. \n",
        "\n",
        "각 채널 간 합성곱 연산을 마치고, 그 결과를 모두 더해서 하나의 채널을 가지는 특성 맵을 만든다. \n",
        "\n",
        "주의할 점은 위의 연산에서 사용되는 커널은 3개의 커널이 아니라 3개의 채널을 가진 1개의 커널이라는 점이다.\n",
        "\n",
        "위 그림은 높이 3, 너비 3, 채널 3의 입력이 높이 2, 너비 2, 채널 3의 커널과 합성곱 연산을 하여 높이 2, 너비 2, 채널 1의 특성 맵을 얻는다는 의미다. \n",
        "\n",
        "합성곱 연산의 결과로 얻은 특성 맵의 채널 차원은 RGB 채널 등과 같은 컬러의 의미를 담고 있지는 않는다.\n",
        "\n",
        "이제 이 연산에서 각 차원을 변수로 두고 좀 더 일반화 시켜보겠다."
      ]
    },
    {
      "cell_type": "markdown",
      "metadata": {
        "id": "FDm5jSZDzUOJ",
        "colab_type": "text"
      },
      "source": [
        "###6.1.8 3차원 텐서의 합성곱 연산"
      ]
    },
    {
      "cell_type": "markdown",
      "metadata": {
        "id": "wtOxQ-aFzXWD",
        "colab_type": "text"
      },
      "source": [
        "*   $I_{h}$ : 입력의 높이\n",
        "\n",
        "*   $I_{w}$ : 입력의 너비\n",
        "\n",
        "*   $K_{h}$ : 커널의 높이\n",
        "\n",
        "*   $K_{w}$ : 커널의 너비\n",
        "\n",
        "*   $O_{h}$ : 특성 맵의 높이\n",
        "\n",
        "*   $O_{w}$ : 특성 맵의 너비\n",
        "\n",
        "*   $C_{i}$ : 입력 데이터의 채널\n",
        "\n",
        "다음은 3차원 텐서의 합성곱 연산을 보여준다.\n",
        "\n",
        "![대체 텍스트](https://wikidocs.net/images/page/64066/conv16_final.png)"
      ]
    },
    {
      "cell_type": "markdown",
      "metadata": {
        "id": "rI6w9Ojwzb7f",
        "colab_type": "text"
      },
      "source": [
        "높이 $I_h$, 너비 $I_w$, 채널 $C_i$의 입력 데이터는 동일한 채널 수 $C_i$를 가지는 높이 $K_h$, 너비 $K_w$의 커널과 합성곱 연산을 하여 높이 $O_h$, 너비 $O_w$, 채널 1의 특성 맵을 얻는다. \n",
        "\n",
        "그런데 하나의 입력에 여러 개의 커널을 사용하는 합성곱 연산을 할 수도 있다.\n",
        "\n",
        "합성곱 연산에서 다수의 커널을 사용할 경우, 특성 맵의 크기가 어떻게 바뀌는지 보자. \n",
        "\n",
        "다음은 $C_o$를 합성곱 연산에 사용하는 커널의 수라고 하였을 때의 합성곱 연산 과정을 보여준다.\n",
        "\n",
        "![대체 텍스트](https://wikidocs.net/images/page/64066/conv17_final_final.PNG)"
      ]
    },
    {
      "cell_type": "markdown",
      "metadata": {
        "id": "KKtQRUIOzd5G",
        "colab_type": "text"
      },
      "source": [
        "합성곱 연산에서 다수의 커널을 사용할 경우, 사용한 커널 수는 합성곱 연산의 결과로 나오는 특성 맵의 채널 수가 된다.\n",
        "\n",
        "이를 이해했다면 커널의 크기와 입력 데이터의 채널 수 $C_i$와 특성 맵(출력 데이터)의 채널 수 $C_o$가 주어졌을 때, 가중치 매개변수의 총 개수를 구할 수 있다.\n",
        "\n",
        "가중치는 커널의 원소들이므로 하나의 커널의 하나의 채널은 $K_h$ × $K_w$개의 매개변수를 가지고 있다. \n",
        "\n",
        "그런데 합성곱 연산을 하려면 커널은 입력 데이터의 채널 수와 동일한 채널 수를 가져야 한다. \n",
        "\n",
        "이에 따라 하나의 커널이 가지는 매개변수의 수는 $K_h$ × $K_w$ × $C_i$다. \n",
        "\n",
        "그런데 이러한 커널이 총 $C_o$개가 있어야 하므로 가중치 매개변수의 총 수는 다음과 같다.\n",
        "\n",
        "가중치 매개변수의 총 수 : $K_h$ × $K_w$ × $C_i$ × $C_o$\n",
        "\n",
        "가중치 매개변수의 총 수 : 커널의 높이 × 커널의 너비 × 입력 데이터의 채널 × 합성곱 연산에 사용하는 커널의 수 "
      ]
    },
    {
      "cell_type": "markdown",
      "metadata": {
        "id": "KwLIBni2155g",
        "colab_type": "text"
      },
      "source": [
        "###6.1.9 풀링(Pooling)"
      ]
    },
    {
      "cell_type": "markdown",
      "metadata": {
        "id": "Mt_uhRMA19Dd",
        "colab_type": "text"
      },
      "source": [
        "일반적으로 합성곱 층(합성곱 연산 + 활성화 함수) 다음에는 풀링 층을 추가하는 것이 일반적이다. \n",
        "\n",
        "풀링 층에서는 특성 맵을 다운샘플링하여 특성 맵의 크기를 줄이는 풀링 연산이 이루어진다. \n",
        "\n",
        "풀링 연산에는 일반적으로 최대 풀링(max pooling)과 평균 풀링(average pooling)이 사용된다. \n",
        "\n",
        "우선 최대 풀링을 통해서 풀링 연산을 이해해보자.\n",
        "\n",
        "![대체 텍스트](https://wikidocs.net/images/page/62306/maxpooling.PNG)"
      ]
    },
    {
      "cell_type": "markdown",
      "metadata": {
        "id": "aESw8wjt2F67",
        "colab_type": "text"
      },
      "source": [
        "풀링 연산에서도 합성곱 연산과 마찬가지로 커널과 스트라이드의 개념을 가진다.\n",
        "\n",
        "위의 그림은 스트라이드가 2일 때, 2 x 2 크기 커널로 맥스 풀링 연산을 했을 때 특성맵이 절반의 크기로 다운샘플링되는 것을 보여준다. \n",
        "\n",
        "맥스 풀링은 커널과 겹치는 영역 안에서 최대값을 추출하는 방식으로 다운샘플링한다.\n",
        "\n",
        "다른 풀링 기법인 평균 풀링은 최대값을 추출하는 것이 아니라 평균값을 추출하는 연산이 된다. \n",
        "\n",
        "풀링 연산은 커널과 스트라이드 개념이 존재한다는 점에서 합성곱 연산과 유사하지만, 합성곱 연산과의 차이점은 학습해야 할 가중치가 없으며 연산 후에 채널 수가 변하지 않는다는 점이다.\n",
        "\n",
        "풀링을 사용하면, 특성 맵의 크기가 줄어드므로 특성 맵의 가중치의 개수를 줄여준다."
      ]
    },
    {
      "cell_type": "markdown",
      "metadata": {
        "id": "DnOFoKiJ2Tz-",
        "colab_type": "text"
      },
      "source": [
        "##6.2 CNN으로 MNIST 분류하기"
      ]
    },
    {
      "cell_type": "markdown",
      "metadata": {
        "id": "BG6-zX8r2XLf",
        "colab_type": "text"
      },
      "source": [
        "###6.2.1 모델 이해하기"
      ]
    },
    {
      "cell_type": "markdown",
      "metadata": {
        "id": "qoUZ71k12Yq8",
        "colab_type": "text"
      },
      "source": [
        "1) 첫번째 표기 방법\n",
        "\n",
        "합성곱(nn.Cov2d) + 활성화 함수(nn.ReLU)를 하나의 합성곱 층으로 보고, 맥스풀링(nn.MaxPoold2d)은 풀링 층으로 별도로 명명한다."
      ]
    },
    {
      "cell_type": "markdown",
      "metadata": {
        "id": "J7kZJ04c2mot",
        "colab_type": "text"
      },
      "source": [
        "2) 두번째 표기 방법\n",
        "\n",
        "합성곱(nn.Cov2d) + 활성화 함수(nn.ReLU) + 맥스풀링(nn.MaxPoold2d)을 하나의 합성곱 층으로 본다.\n",
        "\n",
        "우리는 맥스풀링까지도 포함해서 하나의 합성곱 층으로 판단하는 두번째 표기 방법을 사용하겠다."
      ]
    },
    {
      "cell_type": "markdown",
      "metadata": {
        "id": "H92anr0Q294S",
        "colab_type": "text"
      },
      "source": [
        "모델의 아키텍처는 총 3개의 층으로 구성된다.\n",
        "\n",
        "```\n",
        "# 1번 레이어 : 합성곱층(Convolutional layer)\n",
        "합성곱(in_channel = 1, out_channel = 32, kernel_size=3, stride=1, padding=1) + 활성화 함수 ReLU\n",
        "맥스풀링(kernel_size=2, stride=2))\n",
        "\n",
        "# 2번 레이어 : 합성곱층(Convolutional layer)\n",
        "합성곱(in_channel = 32, out_channel = 64, kernel_size=3, stride=1, padding=1) + 활성화 함수 ReLU\n",
        "맥스풀링(kernel_size=2, stride=2))\n",
        "\n",
        "# 3번 레이어 : 전결합층(Fully-Connected layer)\n",
        "특성맵을 펼친다. # batch_size × 7 × 7 × 64 → batch_size × 3136\n",
        "전결합층(뉴런 10개) + 활성화 함수 Softmax\n",
        "```\n",
        "\n",
        "이를 직접 구현해보며 이해해보자."
      ]
    },
    {
      "cell_type": "markdown",
      "metadata": {
        "id": "fjXNkhaz3Nrl",
        "colab_type": "text"
      },
      "source": [
        "###6.2.2 모델 구현하기"
      ]
    },
    {
      "cell_type": "code",
      "metadata": {
        "id": "A1L_tq5CROla",
        "colab_type": "code",
        "colab": {}
      },
      "source": [
        "import torch\n",
        "import torch.nn as nn"
      ],
      "execution_count": 0,
      "outputs": []
    },
    {
      "cell_type": "code",
      "metadata": {
        "id": "i93vnbpp3STL",
        "colab_type": "code",
        "colab": {
          "base_uri": "https://localhost:8080/",
          "height": 35
        },
        "outputId": "4a9857a8-8d83-464c-c8c1-d515c177518f"
      },
      "source": [
        "# 배치 크기 × 채널 × 높이(height) × 너비(widht)의 크기의 텐서를 선언\n",
        "inputs = torch.Tensor(1, 1, 28, 28)\n",
        "print(f'텐서의 크기 : {inputs.shape}')"
      ],
      "execution_count": 2,
      "outputs": [
        {
          "output_type": "stream",
          "text": [
            "텐서의 크기 : torch.Size([1, 1, 28, 28])\n"
          ],
          "name": "stdout"
        }
      ]
    },
    {
      "cell_type": "code",
      "metadata": {
        "id": "J_MJX4X93aDk",
        "colab_type": "code",
        "colab": {
          "base_uri": "https://localhost:8080/",
          "height": 35
        },
        "outputId": "a6d56a68-7322-4435-ad33-267a749d4f19"
      },
      "source": [
        "conv1 = nn.Conv2d(1, 32, 3, padding=1) # 1채널 짜리를 입력받아서 32채널을 뽑아낸다. 커널 사이즈는 3이고 패딩은 1이다.\n",
        "print(conv1)"
      ],
      "execution_count": 3,
      "outputs": [
        {
          "output_type": "stream",
          "text": [
            "Conv2d(1, 32, kernel_size=(3, 3), stride=(1, 1), padding=(1, 1))\n"
          ],
          "name": "stdout"
        }
      ]
    },
    {
      "cell_type": "code",
      "metadata": {
        "id": "0kSA5Tky3edE",
        "colab_type": "code",
        "colab": {
          "base_uri": "https://localhost:8080/",
          "height": 35
        },
        "outputId": "51dd0f33-6511-400f-90cc-4409c5101e26"
      },
      "source": [
        "conv2 = nn.Conv2d(32, 64, kernel_size=3, padding=1) # 32채널 짜리를 입력받아서 64채널을 뽑아낸다. 커널 사이즈는 3이고 패딩은 1이다.\n",
        "print(conv2)"
      ],
      "execution_count": 4,
      "outputs": [
        {
          "output_type": "stream",
          "text": [
            "Conv2d(32, 64, kernel_size=(3, 3), stride=(1, 1), padding=(1, 1))\n"
          ],
          "name": "stdout"
        }
      ]
    },
    {
      "cell_type": "code",
      "metadata": {
        "id": "aRf-gDS73f9E",
        "colab_type": "code",
        "colab": {
          "base_uri": "https://localhost:8080/",
          "height": 35
        },
        "outputId": "4e301ed4-62f3-4109-b342-030930bc454e"
      },
      "source": [
        "pool = nn.MaxPool2d(2) # 정수 하나를 인자로 넣으면 커널 사이즈와 스트라이드가 둘 다 해당값으로 지정된다.\n",
        "print(pool)"
      ],
      "execution_count": 5,
      "outputs": [
        {
          "output_type": "stream",
          "text": [
            "MaxPool2d(kernel_size=2, stride=2, padding=0, dilation=1, ceil_mode=False)\n"
          ],
          "name": "stdout"
        }
      ]
    },
    {
      "cell_type": "code",
      "metadata": {
        "id": "QhZsQzbl3hsM",
        "colab_type": "code",
        "colab": {
          "base_uri": "https://localhost:8080/",
          "height": 35
        },
        "outputId": "570f058c-ef16-41bc-f7a3-7879cc484738"
      },
      "source": [
        "out = conv1(inputs) # 입력을 첫번째 합성곱 층으로 통과시킨 후의 텐서의 크기\n",
        "print(out.shape)"
      ],
      "execution_count": 6,
      "outputs": [
        {
          "output_type": "stream",
          "text": [
            "torch.Size([1, 32, 28, 28])\n"
          ],
          "name": "stdout"
        }
      ]
    },
    {
      "cell_type": "markdown",
      "metadata": {
        "id": "lT2th5vR4JCU",
        "colab_type": "text"
      },
      "source": [
        "1 채널이 32채널이 되었다.\n",
        "\n",
        "너비 28, 높이 28의 행렬이 보존되었다.\n",
        "\n",
        "이유는 3 X 3 커널을 사용하는데 패딩을 1폭으로 했기 때문이다."
      ]
    },
    {
      "cell_type": "code",
      "metadata": {
        "id": "ylTjy80X4C95",
        "colab_type": "code",
        "colab": {
          "base_uri": "https://localhost:8080/",
          "height": 35
        },
        "outputId": "1b5791bc-e486-4803-baa3-e54bdb713421"
      },
      "source": [
        "out = pool(out) # 맥스풀링을 통과시킨 후 텐서의 크기\n",
        "print(out.shape)"
      ],
      "execution_count": 7,
      "outputs": [
        {
          "output_type": "stream",
          "text": [
            "torch.Size([1, 32, 14, 14])\n"
          ],
          "name": "stdout"
        }
      ]
    },
    {
      "cell_type": "markdown",
      "metadata": {
        "id": "KGM1CPVb4deb",
        "colab_type": "text"
      },
      "source": [
        "2 X 2 짜리 커널로 스트라이드 2씩 맥스풀링 했기 때문에 28 X 28행렬이 14 X 14가 되었다."
      ]
    },
    {
      "cell_type": "code",
      "metadata": {
        "id": "ng5z9ZwF4Zpf",
        "colab_type": "code",
        "colab": {
          "base_uri": "https://localhost:8080/",
          "height": 35
        },
        "outputId": "ad7e2527-bec3-468b-9728-05feb3521884"
      },
      "source": [
        "out = conv2(out) # 두번째 합성곱 층으로 통과시킨 후의 텐서의 크기\n",
        "print(out.shape)"
      ],
      "execution_count": 8,
      "outputs": [
        {
          "output_type": "stream",
          "text": [
            "torch.Size([1, 64, 14, 14])\n"
          ],
          "name": "stdout"
        }
      ]
    },
    {
      "cell_type": "markdown",
      "metadata": {
        "id": "wrcID8h86Wgb",
        "colab_type": "text"
      },
      "source": [
        "32 채널이 64채널이 되었다.\n",
        "\n",
        "너비 14, 높이 14의 행렬이 보존되었다.\n",
        "\n",
        "이유는 3 X 3 커널을 사용하는데 패딩을 1폭으로 했기 때문이다."
      ]
    },
    {
      "cell_type": "code",
      "metadata": {
        "id": "Dy1mrC6m6Sg2",
        "colab_type": "code",
        "colab": {
          "base_uri": "https://localhost:8080/",
          "height": 35
        },
        "outputId": "45de60f5-7f0d-4d93-cf85-0958e12b86d0"
      },
      "source": [
        "out = pool(out) # 맥스풀링을 통과시킨 후 텐서의 크기\n",
        "print(out.shape) "
      ],
      "execution_count": 9,
      "outputs": [
        {
          "output_type": "stream",
          "text": [
            "torch.Size([1, 64, 7, 7])\n"
          ],
          "name": "stdout"
        }
      ]
    },
    {
      "cell_type": "markdown",
      "metadata": {
        "id": "PbuHK4DR6_ID",
        "colab_type": "text"
      },
      "source": [
        "이제 이 텐서를 펼칠건데 그 전에 .size(n)에 대해 살펴보자."
      ]
    },
    {
      "cell_type": "code",
      "metadata": {
        "id": "D9GSXTlt6eLd",
        "colab_type": "code",
        "colab": {
          "base_uri": "https://localhost:8080/",
          "height": 89
        },
        "outputId": "5ae08e6f-686b-46e9-c8b3-f1d0443ce927"
      },
      "source": [
        "print(out.size(0))\n",
        "print(out.size(1))\n",
        "print(out.size(2))\n",
        "print(out.size(3))"
      ],
      "execution_count": 10,
      "outputs": [
        {
          "output_type": "stream",
          "text": [
            "1\n",
            "64\n",
            "7\n",
            "7\n"
          ],
          "name": "stdout"
        }
      ]
    },
    {
      "cell_type": "code",
      "metadata": {
        "id": "N7bNFCZE7DbT",
        "colab_type": "code",
        "colab": {
          "base_uri": "https://localhost:8080/",
          "height": 35
        },
        "outputId": "7b916977-3b2f-4677-e8dd-888e0f6360f3"
      },
      "source": [
        "# 첫번째 차원인 배치 차원은 그대로 두고 나머지는 펼쳐라\n",
        "out = out.view(out.size(0), -1)\n",
        "print(out.shape)"
      ],
      "execution_count": 11,
      "outputs": [
        {
          "output_type": "stream",
          "text": [
            "torch.Size([1, 3136])\n"
          ],
          "name": "stdout"
        }
      ]
    },
    {
      "cell_type": "markdown",
      "metadata": {
        "id": "Fcruz7vP7SYO",
        "colab_type": "text"
      },
      "source": [
        "배치 차원을 제외하고 모두 하나의 차원으로 통합된 것을 볼 수 있다.\n",
        "\n",
        "이제 이 텐서를 전결합층(Fully-connected layer)에 통과시켜보자.\n",
        "\n",
        "출력층으로 10개의 뉴런을 배치하여 10개의 차원의 텐서로 변환한다."
      ]
    },
    {
      "cell_type": "code",
      "metadata": {
        "id": "3xe3lLut7H4V",
        "colab_type": "code",
        "colab": {
          "base_uri": "https://localhost:8080/",
          "height": 35
        },
        "outputId": "494a6462-b8a7-4f81-ff1e-62e267840b54"
      },
      "source": [
        "fc = nn.Linear(3136, 10) # input_dim = 3,136, output_dim = 10\n",
        "out = fc(out)\n",
        "print(out.shape)"
      ],
      "execution_count": 12,
      "outputs": [
        {
          "output_type": "stream",
          "text": [
            "torch.Size([1, 10])\n"
          ],
          "name": "stdout"
        }
      ]
    },
    {
      "cell_type": "markdown",
      "metadata": {
        "id": "18I1dgqF7tPT",
        "colab_type": "text"
      },
      "source": [
        "###6.2.3 CNN으로 MNIST 분류하기"
      ]
    },
    {
      "cell_type": "code",
      "metadata": {
        "id": "59v_f4I37r6Y",
        "colab_type": "code",
        "colab": {}
      },
      "source": [
        "import torch\n",
        "import torch.nn as nn\n",
        "\n",
        "import torchvision.datasets as dsets\n",
        "import torchvision.transforms as transforms\n",
        "import torch.nn.init"
      ],
      "execution_count": 0,
      "outputs": []
    },
    {
      "cell_type": "code",
      "metadata": {
        "id": "jp3J0zau7zhK",
        "colab_type": "code",
        "colab": {
          "base_uri": "https://localhost:8080/",
          "height": 35
        },
        "outputId": "42905958-1f54-4dd8-87dc-4981d37994d7"
      },
      "source": [
        "device = 'cuda' if torch.cuda.is_available() else 'cpu'\n",
        "print(device)\n",
        "\n",
        "# 랜덤 시드 고정\n",
        "torch.manual_seed(777)\n",
        "\n",
        "# GPU 사용 가능일 경우 랜덤 시드 고정\n",
        "if device == 'cuda':\n",
        "    torch.cuda.manual_seed_all(777)"
      ],
      "execution_count": 14,
      "outputs": [
        {
          "output_type": "stream",
          "text": [
            "cuda\n"
          ],
          "name": "stdout"
        }
      ]
    },
    {
      "cell_type": "code",
      "metadata": {
        "id": "2KPWdTbG70rK",
        "colab_type": "code",
        "colab": {}
      },
      "source": [
        "learning_rate = 0.001\n",
        "training_epochs = 15\n",
        "batch_size = 100"
      ],
      "execution_count": 0,
      "outputs": []
    },
    {
      "cell_type": "code",
      "metadata": {
        "id": "XmMXAvn58Cc7",
        "colab_type": "code",
        "colab": {
          "base_uri": "https://localhost:8080/",
          "height": 363,
          "referenced_widgets": [
            "1e4bf1de48224f82a1113c07fd7872cb",
            "47e33d2688bf4ef690af765216413329",
            "8f8f44f34c90454cb765841492e1ac0c",
            "02e763b5be194e7284fec0d137a68c55",
            "0d85811208204a8b9702d35cd52510cc",
            "42a2193076b44d0aa2a26711843e3553",
            "a5c32bc6f6d94d828d01c6736935fc47",
            "b6beb124b6b64fa5b7e34e495da0c96c",
            "7c01eec7db4e47cb921c8a94d417df74",
            "aa9b3cafd7c744d39e6c935e326225a5",
            "d2176287ecd54f2d870c94cf2982ebcf",
            "4762e07ce5674eecaab4948009113bbe",
            "c14f5eb2caae4e9795ee04ffbe73ff33",
            "0630549feef34ecb99f22b27a1c52fa7",
            "acf6f1055cdf4542ad4fc4e4880d5fec",
            "3b9a3f3a12e34edc8964ad7d5a838347",
            "19f963b1ddd14ce18765906316b0ad4a",
            "c1b1f74d4a6b49cda24688c97f1d71df",
            "98986d56c4b74467996605edea3a41fc",
            "37f2472f3ba243b99b13db695337092a",
            "cc538abff9294a819459beba265133c3",
            "b4149a1f660f4753a0a2d622714dc720",
            "0f1dfc0398b84cef90fa60d039622676",
            "15f264e9c9664d6884d8e36b4db3baec",
            "250ec286698e4a49ab75e9cef967f758",
            "f7b5c59353d645ac80c27c544c641bb3",
            "8da4de0289ee402b88e7007023cad1d3",
            "b857b77d834840448cb2a5935f708af4",
            "244fc23b487e4cd7a5379dfe5de9f509",
            "2bea380504d041b3a4674ca50605fb1b",
            "2f4e633160a24ad5849f60aaf37d105d",
            "dd73e75d5f744b53ae8444b83958861a"
          ]
        },
        "outputId": "7ccfc397-fe27-4a9d-ba9f-2290d87f3ac3"
      },
      "source": [
        "mnist_train = dsets.MNIST(root='MNIST_data/', # 다운로드 경로 지정\n",
        "                          train=True, # True를 지정하면 훈련 데이터로 다운로드\n",
        "                          transform=transforms.ToTensor(), # 텐서로 변환\n",
        "                          download=True)\n",
        "\n",
        "mnist_test = dsets.MNIST(root='MNIST_data/', # 다운로드 경로 지정\n",
        "                         train=False, # False를 지정하면 테스트 데이터로 다운로드\n",
        "                         transform=transforms.ToTensor(), # 텐서로 변환\n",
        "                         download=True)"
      ],
      "execution_count": 16,
      "outputs": [
        {
          "output_type": "stream",
          "text": [
            "Downloading http://yann.lecun.com/exdb/mnist/train-images-idx3-ubyte.gz to MNIST_data/MNIST/raw/train-images-idx3-ubyte.gz\n"
          ],
          "name": "stdout"
        },
        {
          "output_type": "display_data",
          "data": {
            "application/vnd.jupyter.widget-view+json": {
              "model_id": "1e4bf1de48224f82a1113c07fd7872cb",
              "version_minor": 0,
              "version_major": 2
            },
            "text/plain": [
              "HBox(children=(FloatProgress(value=1.0, bar_style='info', max=1.0), HTML(value='')))"
            ]
          },
          "metadata": {
            "tags": []
          }
        },
        {
          "output_type": "stream",
          "text": [
            "Extracting MNIST_data/MNIST/raw/train-images-idx3-ubyte.gz to MNIST_data/MNIST/raw\n",
            "Downloading http://yann.lecun.com/exdb/mnist/train-labels-idx1-ubyte.gz to MNIST_data/MNIST/raw/train-labels-idx1-ubyte.gz\n"
          ],
          "name": "stdout"
        },
        {
          "output_type": "display_data",
          "data": {
            "application/vnd.jupyter.widget-view+json": {
              "model_id": "7c01eec7db4e47cb921c8a94d417df74",
              "version_minor": 0,
              "version_major": 2
            },
            "text/plain": [
              "HBox(children=(FloatProgress(value=1.0, bar_style='info', max=1.0), HTML(value='')))"
            ]
          },
          "metadata": {
            "tags": []
          }
        },
        {
          "output_type": "stream",
          "text": [
            "Extracting MNIST_data/MNIST/raw/train-labels-idx1-ubyte.gz to MNIST_data/MNIST/raw\n",
            "Downloading http://yann.lecun.com/exdb/mnist/t10k-images-idx3-ubyte.gz to MNIST_data/MNIST/raw/t10k-images-idx3-ubyte.gz\n"
          ],
          "name": "stdout"
        },
        {
          "output_type": "display_data",
          "data": {
            "application/vnd.jupyter.widget-view+json": {
              "model_id": "19f963b1ddd14ce18765906316b0ad4a",
              "version_minor": 0,
              "version_major": 2
            },
            "text/plain": [
              "HBox(children=(FloatProgress(value=1.0, bar_style='info', max=1.0), HTML(value='')))"
            ]
          },
          "metadata": {
            "tags": []
          }
        },
        {
          "output_type": "stream",
          "text": [
            "Extracting MNIST_data/MNIST/raw/t10k-images-idx3-ubyte.gz to MNIST_data/MNIST/raw\n",
            "Downloading http://yann.lecun.com/exdb/mnist/t10k-labels-idx1-ubyte.gz to MNIST_data/MNIST/raw/t10k-labels-idx1-ubyte.gz\n"
          ],
          "name": "stdout"
        },
        {
          "output_type": "display_data",
          "data": {
            "application/vnd.jupyter.widget-view+json": {
              "model_id": "250ec286698e4a49ab75e9cef967f758",
              "version_minor": 0,
              "version_major": 2
            },
            "text/plain": [
              "HBox(children=(FloatProgress(value=1.0, bar_style='info', max=1.0), HTML(value='')))"
            ]
          },
          "metadata": {
            "tags": []
          }
        },
        {
          "output_type": "stream",
          "text": [
            "Extracting MNIST_data/MNIST/raw/t10k-labels-idx1-ubyte.gz to MNIST_data/MNIST/raw\n",
            "Processing...\n",
            "Done!\n"
          ],
          "name": "stdout"
        },
        {
          "output_type": "stream",
          "text": [
            "/pytorch/torch/csrc/utils/tensor_numpy.cpp:141: UserWarning: The given NumPy array is not writeable, and PyTorch does not support non-writeable tensors. This means you can write to the underlying (supposedly non-writeable) NumPy array using the tensor. You may want to copy the array to protect its data or make it writeable before converting it to a tensor. This type of warning will be suppressed for the rest of this program.\n"
          ],
          "name": "stderr"
        }
      ]
    },
    {
      "cell_type": "code",
      "metadata": {
        "id": "fMV96DPZ8DjC",
        "colab_type": "code",
        "colab": {}
      },
      "source": [
        "data_loader = torch.utils.data.DataLoader(dataset=mnist_train,\n",
        "                                          batch_size=batch_size,\n",
        "                                          shuffle=True,\n",
        "                                          drop_last=True)"
      ],
      "execution_count": 0,
      "outputs": []
    },
    {
      "cell_type": "code",
      "metadata": {
        "id": "qMhi1Vnk8F6K",
        "colab_type": "code",
        "colab": {}
      },
      "source": [
        "class CNN(torch.nn.Module):\n",
        "  def __init__(self):\n",
        "    super(CNN, self).__init__()\n",
        "    # 첫번째층\n",
        "    # ImgIn shape=(?, 28, 28, 1)\n",
        "    #    Conv     -> (?, 28, 28, 32)\n",
        "    #    Pool     -> (?, 14, 14, 32)\n",
        "    self.layer1 = nn.Sequential(\n",
        "        nn.Conv2d(1, 32, kernel_size=3, stride=1, padding=1),\n",
        "        nn.ReLU(),\n",
        "        nn.MaxPool2d(kernel_size=2, stride=2))\n",
        "\n",
        "    # 두번째층\n",
        "    # ImgIn shape=(?, 14, 14, 32)\n",
        "    #    Conv      ->(?, 14, 14, 64)\n",
        "    #    Pool      ->(?, 7, 7, 64)\n",
        "    self.layer2 = nn.Sequential(\n",
        "        nn.Conv2d(32, 64, kernel_size=3, stride=1, padding=1),\n",
        "        nn.ReLU(),\n",
        "        nn.MaxPool2d(kernel_size=2, stride=2))\n",
        "\n",
        "    # 전결합층 7x7x64 inputs -> 10 outputs\n",
        "    self.fc = nn.Linear(7 * 7 * 64, 10, bias=True)\n",
        "\n",
        "    # 전결합층 한정으로 가중치 초기화\n",
        "    nn.init.xavier_uniform_(self.fc.weight)\n",
        "\n",
        "  def forward(self, x):\n",
        "    out = self.layer1(x)\n",
        "    out = self.layer2(out)\n",
        "    out = out.view(out.size(0), -1)   # 전결합층을 위해서 Flatten\n",
        "    out = self.fc(out)\n",
        "    return out"
      ],
      "execution_count": 0,
      "outputs": []
    },
    {
      "cell_type": "code",
      "metadata": {
        "id": "E8mZSoFb_RmB",
        "colab_type": "code",
        "colab": {}
      },
      "source": [
        "# CNN 모델 정의\n",
        "model = CNN().to(device)"
      ],
      "execution_count": 0,
      "outputs": []
    },
    {
      "cell_type": "code",
      "metadata": {
        "id": "2yNPMOBZ_OsT",
        "colab_type": "code",
        "colab": {
          "base_uri": "https://localhost:8080/",
          "height": 251
        },
        "outputId": "376bf60c-d2c2-4d43-a3c2-d53438040e28"
      },
      "source": [
        "# 모델의 state_dict 출력\n",
        "print(\"Model's state_dict:\")\n",
        "for param_tensor in model.state_dict():\n",
        "    print(param_tensor, \"\\n\", model.state_dict()[param_tensor].size())"
      ],
      "execution_count": 28,
      "outputs": [
        {
          "output_type": "stream",
          "text": [
            "Model's state_dict:\n",
            "layer1.0.weight \n",
            " torch.Size([32, 1, 3, 3])\n",
            "layer1.0.bias \n",
            " torch.Size([32])\n",
            "layer2.0.weight \n",
            " torch.Size([64, 32, 3, 3])\n",
            "layer2.0.bias \n",
            " torch.Size([64])\n",
            "fc.weight \n",
            " torch.Size([10, 3136])\n",
            "fc.bias \n",
            " torch.Size([10])\n"
          ],
          "name": "stdout"
        }
      ]
    },
    {
      "cell_type": "markdown",
      "metadata": {
        "id": "TKaJfOSe_pDp",
        "colab_type": "text"
      },
      "source": [
        "가중치 매개변수의 총 수 : $K_h$ × $K_w$ × $C_i$ × $C_o$\n",
        "\n",
        "가중치 매개변수의 총 수 : 커널의 높이 × 커널의 너비 × 입력 데이터의 채널 × 합성곱 연산에 사용하는 커널의 수 "
      ]
    },
    {
      "cell_type": "code",
      "metadata": {
        "id": "cb2O21a_8aYi",
        "colab_type": "code",
        "colab": {
          "base_uri": "https://localhost:8080/",
          "height": 35
        },
        "outputId": "9265c0d9-a52e-460a-b3e3-4fc2b004290f"
      },
      "source": [
        "# 이 모델에서 파라미터는 총 몇개일까?\n",
        "(3*3*1*32)+32+(3*3*32*64)+64+(7*7*64*10)+10 #(가중치)+편향, 편향은 행렬 형식으로 있다."
      ],
      "execution_count": 29,
      "outputs": [
        {
          "output_type": "execute_result",
          "data": {
            "text/plain": [
              "50186"
            ]
          },
          "metadata": {
            "tags": []
          },
          "execution_count": 29
        }
      ]
    },
    {
      "cell_type": "code",
      "metadata": {
        "id": "Og1SDXZU8sOC",
        "colab_type": "code",
        "colab": {}
      },
      "source": [
        "criterion = nn.CrossEntropyLoss().to(device)    # 비용 함수에 소프트맥스 함수 포함되어져 있음.\n",
        "optimizer = torch.optim.Adam(model.parameters(), lr=learning_rate)"
      ],
      "execution_count": 0,
      "outputs": []
    },
    {
      "cell_type": "code",
      "metadata": {
        "id": "Q5aw1fVn8vCy",
        "colab_type": "code",
        "colab": {
          "base_uri": "https://localhost:8080/",
          "height": 35
        },
        "outputId": "0370b898-2323-4a39-d070-70b23ee11864"
      },
      "source": [
        "total_batch = len(data_loader)\n",
        "print(f'총 배치의 수 : {total_batch}')"
      ],
      "execution_count": 33,
      "outputs": [
        {
          "output_type": "stream",
          "text": [
            "총 배치의 수 : 600\n"
          ],
          "name": "stdout"
        }
      ]
    },
    {
      "cell_type": "markdown",
      "metadata": {
        "id": "3Abbpufo83wz",
        "colab_type": "text"
      },
      "source": [
        "총 배치의 수는 600\n",
        "\n",
        "배치의 크기를 100으로 했으니\n",
        "\n",
        "훈련 데이터는 총 60,000개"
      ]
    },
    {
      "cell_type": "code",
      "metadata": {
        "id": "I6DKm9Rm8wXS",
        "colab_type": "code",
        "colab": {
          "base_uri": "https://localhost:8080/",
          "height": 287
        },
        "outputId": "fcf6b6d3-bf29-441a-9a9f-ad11a02393f2"
      },
      "source": [
        "for epoch in range(training_epochs):\n",
        "  avg_cost = 0\n",
        "\n",
        "  for X, Y in data_loader: # 미니 배치 단위로 꺼내온다. X는 미니 배치, Y는 레이블.\n",
        "    # image is already size of (28x28), no reshape\n",
        "    # label is not one-hot encoded\n",
        "    X = X.to(device)\n",
        "    Y = Y.to(device)\n",
        "\n",
        "    optimizer.zero_grad()\n",
        "    hypothesis = model(X)\n",
        "    \n",
        "    cost = criterion(hypothesis, Y)\n",
        "    cost.backward()\n",
        "    optimizer.step()\n",
        "\n",
        "    avg_cost += cost / total_batch\n",
        "\n",
        "  print(f'[Epoch: {epoch+1}] cost = {avg_cost}')"
      ],
      "execution_count": 34,
      "outputs": [
        {
          "output_type": "stream",
          "text": [
            "[Epoch: 1] cost = 0.22224251925945282\n",
            "[Epoch: 2] cost = 0.06365162134170532\n",
            "[Epoch: 3] cost = 0.04564014449715614\n",
            "[Epoch: 4] cost = 0.03715888038277626\n",
            "[Epoch: 5] cost = 0.031834352761507034\n",
            "[Epoch: 6] cost = 0.024941839277744293\n",
            "[Epoch: 7] cost = 0.02145300805568695\n",
            "[Epoch: 8] cost = 0.018802035599946976\n",
            "[Epoch: 9] cost = 0.016268661245703697\n",
            "[Epoch: 10] cost = 0.012760436162352562\n",
            "[Epoch: 11] cost = 0.012301141396164894\n",
            "[Epoch: 12] cost = 0.00979432463645935\n",
            "[Epoch: 13] cost = 0.008749576285481453\n",
            "[Epoch: 14] cost = 0.0066065373830497265\n",
            "[Epoch: 15] cost = 0.006964636035263538\n"
          ],
          "name": "stdout"
        }
      ]
    },
    {
      "cell_type": "code",
      "metadata": {
        "id": "DD1wtFnT9Ix5",
        "colab_type": "code",
        "colab": {
          "base_uri": "https://localhost:8080/",
          "height": 107
        },
        "outputId": "b87f7fe1-bf20-42a4-b7bd-638f8f972a24"
      },
      "source": [
        "# 학습을 진행하지 않을 것이므로 torch.no_grad()\n",
        "with torch.no_grad():\n",
        "  X_test = mnist_test.test_data.view(len(mnist_test), 1, 28, 28).float().to(device)\n",
        "  Y_test = mnist_test.test_labels.to(device)\n",
        "\n",
        "  prediction = model(X_test)\n",
        "  correct_prediction = torch.argmax(prediction, 1) == Y_test\n",
        "  accuracy = correct_prediction.float().mean()\n",
        "  print('Accuracy:', accuracy.item())"
      ],
      "execution_count": 35,
      "outputs": [
        {
          "output_type": "stream",
          "text": [
            "Accuracy: 0.9735999703407288\n"
          ],
          "name": "stdout"
        },
        {
          "output_type": "stream",
          "text": [
            "/usr/local/lib/python3.6/dist-packages/torchvision/datasets/mnist.py:60: UserWarning: test_data has been renamed data\n",
            "  warnings.warn(\"test_data has been renamed data\")\n",
            "/usr/local/lib/python3.6/dist-packages/torchvision/datasets/mnist.py:50: UserWarning: test_labels has been renamed targets\n",
            "  warnings.warn(\"test_labels has been renamed targets\")\n"
          ],
          "name": "stderr"
        }
      ]
    },
    {
      "cell_type": "markdown",
      "metadata": {
        "id": "3Vfv0m_JzLo4",
        "colab_type": "text"
      },
      "source": [
        "##6.3 깊은 CNN으로 MNIST 분류하기"
      ]
    },
    {
      "cell_type": "markdown",
      "metadata": {
        "id": "PhnKb3VLzOvf",
        "colab_type": "text"
      },
      "source": [
        "###6.3.1 모델 이해하기"
      ]
    },
    {
      "cell_type": "markdown",
      "metadata": {
        "id": "4JKicK4XzVYw",
        "colab_type": "text"
      },
      "source": [
        "모델의 아키텍처는 총 5개의 층으로 구성된다.\n",
        "\n",
        "앞서 배운 챕터에서 1번 레이어와 2번 레이어는 동일하되, 새로운 합성곱층과 전결합층을 추가했다."
      ]
    },
    {
      "cell_type": "markdown",
      "metadata": {
        "id": "XeR5uwXVzeoc",
        "colab_type": "text"
      },
      "source": [
        "```\n",
        "# 1번 레이어 : 합성곱층(Convolutional layer)\n",
        "합성곱(in_channel = 1, out_channel = 32, kernel_size=3, stride=1, padding=1) + 활성화 함수 ReLU\n",
        "맥스풀링(kernel_size=2, stride=2))\n",
        "\n",
        "# 2번 레이어 : 합성곱층(Convolutional layer)\n",
        "합성곱(in_channel = 32, out_channel = 64, kernel_size=3, stride=1, padding=1) + 활성화 함수 ReLU\n",
        "맥스풀링(kernel_size=2, stride=2))\n",
        "\n",
        "# 3번 레이어 : 합성곱층(Convolutional layer)\n",
        "합성곱(in_channel = 64, out_channel = 128, kernel_size=3, stride=1, padding=1) + 활성화 함수 ReLU\n",
        "맥스풀링(kernel_size=2, stride=2, padding=1))\n",
        "\n",
        "# 4번 레이어 : 전결합층(Fully-Connected layer)\n",
        "특성맵을 펼친다. # batch_size × 4 × 4 × 128 → batch_size × 2048\n",
        "전결합층(뉴런 625개) + 활성화 함수 ReLU\n",
        "\n",
        "# 5번 레이어 : 전결합층(Fully-Connected layer)\n",
        "전결합층(뉴런 10개) + 활성화 함수 Softmax\n",
        "```"
      ]
    },
    {
      "cell_type": "markdown",
      "metadata": {
        "id": "pXhqPB7bzgIg",
        "colab_type": "text"
      },
      "source": [
        "###6.3.2 깊은 CNN으로 MNIST 분류하기"
      ]
    },
    {
      "cell_type": "code",
      "metadata": {
        "id": "8E9Fuc1LzJ6_",
        "colab_type": "code",
        "colab": {}
      },
      "source": [
        "import torch\n",
        "import torch.nn as nn\n",
        "\n",
        "import torchvision.datasets as dsets\n",
        "import torchvision.transforms as transforms\n",
        "import torch.nn.init"
      ],
      "execution_count": 0,
      "outputs": []
    },
    {
      "cell_type": "code",
      "metadata": {
        "id": "ZyTy2-QAzneF",
        "colab_type": "code",
        "colab": {
          "base_uri": "https://localhost:8080/",
          "height": 35
        },
        "outputId": "1c731f4e-a4bb-4a26-fc52-29547da02c1b"
      },
      "source": [
        "device = 'cuda' if torch.cuda.is_available() else 'cpu'\n",
        "print(device)\n",
        "\n",
        "# 랜덤 시드 고정\n",
        "torch.manual_seed(777)\n",
        "\n",
        "# GPU 사용 가능일 경우 랜덤 시드 고정\n",
        "if device == 'cuda':\n",
        "    torch.cuda.manual_seed_all(777)"
      ],
      "execution_count": 38,
      "outputs": [
        {
          "output_type": "stream",
          "text": [
            "cuda\n"
          ],
          "name": "stdout"
        }
      ]
    },
    {
      "cell_type": "code",
      "metadata": {
        "id": "Tn8K3I_Bzpe-",
        "colab_type": "code",
        "colab": {}
      },
      "source": [
        "learning_rate = 0.001\n",
        "training_epochs = 15\n",
        "batch_size = 100"
      ],
      "execution_count": 0,
      "outputs": []
    },
    {
      "cell_type": "code",
      "metadata": {
        "id": "bs5gL010ztDu",
        "colab_type": "code",
        "colab": {}
      },
      "source": [
        "mnist_train = dsets.MNIST(root='MNIST_data/', # 다운로드 경로 지정\n",
        "                          train=True, # True를 지정하면 훈련 데이터로 다운로드\n",
        "                          transform=transforms.ToTensor(), # 텐서로 변환\n",
        "                          download=True)\n",
        "\n",
        "mnist_test = dsets.MNIST(root='MNIST_data/', # 다운로드 경로 지정\n",
        "                         train=False, # False를 지정하면 테스트 데이터로 다운로드\n",
        "                         transform=transforms.ToTensor(), # 텐서로 변환\n",
        "                         download=True)"
      ],
      "execution_count": 0,
      "outputs": []
    },
    {
      "cell_type": "code",
      "metadata": {
        "id": "oiirnKIjzuJm",
        "colab_type": "code",
        "colab": {}
      },
      "source": [
        "data_loader = torch.utils.data.DataLoader(dataset=mnist_train,\n",
        "                                          batch_size=batch_size,\n",
        "                                          shuffle=True,\n",
        "                                          drop_last=True)"
      ],
      "execution_count": 0,
      "outputs": []
    },
    {
      "cell_type": "code",
      "metadata": {
        "id": "HnHCKecczvi-",
        "colab_type": "code",
        "colab": {}
      },
      "source": [
        "class CNN(torch.nn.Module):\n",
        "\n",
        "    def __init__(self):\n",
        "        super(CNN, self).__init__()\n",
        "        self.keep_prob = 0.5\n",
        "        # L1 ImgIn shape=(?, 28, 28, 1)\n",
        "        #    Conv     -> (?, 28, 28, 32)\n",
        "        #    Pool     -> (?, 14, 14, 32)\n",
        "        self.layer1 = torch.nn.Sequential(\n",
        "            torch.nn.Conv2d(1, 32, kernel_size=3, stride=1, padding=1),\n",
        "            torch.nn.ReLU(),\n",
        "            torch.nn.MaxPool2d(kernel_size=2, stride=2))\n",
        "        # L2 ImgIn shape=(?, 14, 14, 32)\n",
        "        #    Conv      ->(?, 14, 14, 64)\n",
        "        #    Pool      ->(?, 7, 7, 64)\n",
        "        self.layer2 = torch.nn.Sequential(\n",
        "            torch.nn.Conv2d(32, 64, kernel_size=3, stride=1, padding=1),\n",
        "            torch.nn.ReLU(),\n",
        "            torch.nn.MaxPool2d(kernel_size=2, stride=2))\n",
        "        # L3 ImgIn shape=(?, 7, 7, 64)\n",
        "        #    Conv      ->(?, 7, 7, 128)\n",
        "        #    Pool      ->(?, 4, 4, 128)\n",
        "        self.layer3 = torch.nn.Sequential(\n",
        "            torch.nn.Conv2d(64, 128, kernel_size=3, stride=1, padding=1),\n",
        "            torch.nn.ReLU(),\n",
        "            torch.nn.MaxPool2d(kernel_size=2, stride=2, padding=1))\n",
        "\n",
        "        # L4 FC 4x4x128 inputs -> 625 outputs\n",
        "        self.fc1 = torch.nn.Linear(4 * 4 * 128, 625, bias=True)\n",
        "        torch.nn.init.xavier_uniform_(self.fc1.weight)\n",
        "        self.layer4 = torch.nn.Sequential(\n",
        "            self.fc1,\n",
        "            torch.nn.ReLU(),\n",
        "            torch.nn.Dropout(p=1 - self.keep_prob))\n",
        "        # L5 Final FC 625 inputs -> 10 outputs\n",
        "        self.fc2 = torch.nn.Linear(625, 10, bias=True)\n",
        "        torch.nn.init.xavier_uniform_(self.fc2.weight)\n",
        "\n",
        "    def forward(self, x):\n",
        "        out = self.layer1(x)\n",
        "        out = self.layer2(out)\n",
        "        out = self.layer3(out)\n",
        "        out = out.view(out.size(0), -1)   # Flatten them for FC\n",
        "        out = self.layer4(out)\n",
        "        out = self.fc2(out)\n",
        "        return out"
      ],
      "execution_count": 0,
      "outputs": []
    },
    {
      "cell_type": "code",
      "metadata": {
        "id": "RXGZpPZyzxzm",
        "colab_type": "code",
        "colab": {}
      },
      "source": [
        "# CNN 모델 정의\n",
        "model = CNN().to(device)"
      ],
      "execution_count": 0,
      "outputs": []
    },
    {
      "cell_type": "code",
      "metadata": {
        "id": "qvzx_6YCzy6m",
        "colab_type": "code",
        "colab": {}
      },
      "source": [
        "criterion = torch.nn.CrossEntropyLoss().to(device)    # 비용 함수에 소프트맥스 함수 포함되어져 있음.\n",
        "optimizer = torch.optim.Adam(model.parameters(), lr=learning_rate)"
      ],
      "execution_count": 0,
      "outputs": []
    },
    {
      "cell_type": "code",
      "metadata": {
        "id": "HWeBnsKLzz0X",
        "colab_type": "code",
        "colab": {
          "base_uri": "https://localhost:8080/",
          "height": 35
        },
        "outputId": "5b7f5311-d020-4d9c-bf0b-6bab397b148c"
      },
      "source": [
        "total_batch = len(data_loader)\n",
        "print('총 배치의 수 : {}'.format(total_batch))"
      ],
      "execution_count": 45,
      "outputs": [
        {
          "output_type": "stream",
          "text": [
            "총 배치의 수 : 600\n"
          ],
          "name": "stdout"
        }
      ]
    },
    {
      "cell_type": "code",
      "metadata": {
        "id": "0PT7NbUIz0vH",
        "colab_type": "code",
        "colab": {
          "base_uri": "https://localhost:8080/",
          "height": 287
        },
        "outputId": "b2a7fdd3-bf8f-4567-ceb3-e3f33ac9247a"
      },
      "source": [
        "for epoch in range(training_epochs):\n",
        "    avg_cost = 0\n",
        "\n",
        "    for X, Y in data_loader: # 미니 배치 단위로 꺼내온다. X는 미니 배치, Y느 ㄴ레이블.\n",
        "        # image is already size of (28x28), no reshape\n",
        "        # label is not one-hot encoded\n",
        "        X = X.to(device)\n",
        "        Y = Y.to(device)\n",
        "\n",
        "        optimizer.zero_grad()\n",
        "        hypothesis = model(X)\n",
        "        cost = criterion(hypothesis, Y)\n",
        "        cost.backward()\n",
        "        optimizer.step()\n",
        "\n",
        "        avg_cost += cost / total_batch\n",
        "\n",
        "    print('[Epoch: {:>4}] cost = {:>.9}'.format(epoch + 1, avg_cost))"
      ],
      "execution_count": 46,
      "outputs": [
        {
          "output_type": "stream",
          "text": [
            "[Epoch:    1] cost = 0.190955356\n",
            "[Epoch:    2] cost = 0.0526669659\n",
            "[Epoch:    3] cost = 0.0372218974\n",
            "[Epoch:    4] cost = 0.0300488677\n",
            "[Epoch:    5] cost = 0.0235267729\n",
            "[Epoch:    6] cost = 0.0204993337\n",
            "[Epoch:    7] cost = 0.0167588759\n",
            "[Epoch:    8] cost = 0.0155386524\n",
            "[Epoch:    9] cost = 0.0125369765\n",
            "[Epoch:   10] cost = 0.0116552906\n",
            "[Epoch:   11] cost = 0.0100756334\n",
            "[Epoch:   12] cost = 0.00897597242\n",
            "[Epoch:   13] cost = 0.00710952608\n",
            "[Epoch:   14] cost = 0.00875000469\n",
            "[Epoch:   15] cost = 0.0069702589\n"
          ],
          "name": "stdout"
        }
      ]
    },
    {
      "cell_type": "code",
      "metadata": {
        "id": "o6MmLE8jz1r_",
        "colab_type": "code",
        "colab": {
          "base_uri": "https://localhost:8080/",
          "height": 107
        },
        "outputId": "e9cf010a-f2d8-4dc6-fb85-e29155df237c"
      },
      "source": [
        "# 학습을 진행하지 않을 것이므로 torch.no_grad()\n",
        "with torch.no_grad():\n",
        "    X_test = mnist_test.test_data.view(len(mnist_test), 1, 28, 28).float().to(device)\n",
        "    Y_test = mnist_test.test_labels.to(device)\n",
        "\n",
        "    prediction = model(X_test)\n",
        "    correct_prediction = torch.argmax(prediction, 1) == Y_test\n",
        "    accuracy = correct_prediction.float().mean()\n",
        "    print('Accuracy:', accuracy.item())"
      ],
      "execution_count": 47,
      "outputs": [
        {
          "output_type": "stream",
          "text": [
            "Accuracy: 0.9717999696731567\n"
          ],
          "name": "stdout"
        },
        {
          "output_type": "stream",
          "text": [
            "/usr/local/lib/python3.6/dist-packages/torchvision/datasets/mnist.py:60: UserWarning: test_data has been renamed data\n",
            "  warnings.warn(\"test_data has been renamed data\")\n",
            "/usr/local/lib/python3.6/dist-packages/torchvision/datasets/mnist.py:50: UserWarning: test_labels has been renamed targets\n",
            "  warnings.warn(\"test_labels has been renamed targets\")\n"
          ],
          "name": "stderr"
        }
      ]
    },
    {
      "cell_type": "markdown",
      "metadata": {
        "id": "BYpSajq30PEG",
        "colab_type": "text"
      },
      "source": [
        "깊다고 다 좋은건 아닌 것 같다."
      ]
    },
    {
      "cell_type": "markdown",
      "metadata": {
        "id": "bly2HtKF0Avh",
        "colab_type": "text"
      },
      "source": [
        "##6.4 활용"
      ]
    },
    {
      "cell_type": "markdown",
      "metadata": {
        "id": "XZBTGTfx02eB",
        "colab_type": "text"
      },
      "source": [
        "###6.4.1 데이터 불러오기"
      ]
    },
    {
      "cell_type": "markdown",
      "metadata": {
        "id": "fL-0yDjE0R_e",
        "colab_type": "text"
      },
      "source": [
        "cifar10 데이터를 바탕으로 CNN 모델 학습\n",
        "\n",
        "출처 : https://github.com/Namsik-Yoon/pytorch_basic/blob/master/6_1_%ED%95%A9%EC%84%B1%EA%B3%B1_%EC%8B%A0%EA%B2%BD%EB%A7%9D_with_My_data.ipynb"
      ]
    },
    {
      "cell_type": "code",
      "metadata": {
        "id": "0-Dj4W9Fz4gD",
        "colab_type": "code",
        "colab": {}
      },
      "source": [
        "import matplotlib.pyplot as plt\n",
        "\n",
        "import torch\n",
        "\n",
        "import torchvision\n",
        "import torchvision.datasets \n",
        "import torchvision.transforms as transforms"
      ],
      "execution_count": 0,
      "outputs": []
    },
    {
      "cell_type": "code",
      "metadata": {
        "id": "r-WBBaj80ZLn",
        "colab_type": "code",
        "colab": {
          "base_uri": "https://localhost:8080/",
          "height": 85,
          "referenced_widgets": [
            "74d9bb7ddd8140a991f87aa9c5d0b9c1",
            "c64cdd89f66840f89f26253bbfe7a4b9",
            "ed947395b2994476bac69e6300bacbf4",
            "f835553fa8d146298d3ed08455fd19d6",
            "63b700728f8e4b6e976f4de50fa9166f",
            "e0a13926af4e4e8289596c74d7666ce4",
            "34f94bf6eae4411cb0a57a7cbbc69575",
            "d2f80f34557041c8b6c5e01033eea605"
          ]
        },
        "outputId": "f41a67a6-bd8c-4a28-9e05-3c47e52d78eb"
      },
      "source": [
        "cifar10_data = torchvision.datasets.CIFAR10('data/', download=True)"
      ],
      "execution_count": 49,
      "outputs": [
        {
          "output_type": "stream",
          "text": [
            "Downloading https://www.cs.toronto.edu/~kriz/cifar-10-python.tar.gz to data/cifar-10-python.tar.gz\n"
          ],
          "name": "stdout"
        },
        {
          "output_type": "display_data",
          "data": {
            "application/vnd.jupyter.widget-view+json": {
              "model_id": "74d9bb7ddd8140a991f87aa9c5d0b9c1",
              "version_minor": 0,
              "version_major": 2
            },
            "text/plain": [
              "HBox(children=(FloatProgress(value=1.0, bar_style='info', max=1.0), HTML(value='')))"
            ]
          },
          "metadata": {
            "tags": []
          }
        },
        {
          "output_type": "stream",
          "text": [
            "Extracting data/cifar-10-python.tar.gz to data/\n"
          ],
          "name": "stdout"
        }
      ]
    },
    {
      "cell_type": "code",
      "metadata": {
        "id": "12NB_H-E0Z_O",
        "colab_type": "code",
        "colab": {
          "base_uri": "https://localhost:8080/",
          "height": 35
        },
        "outputId": "d1bdf8fc-fb05-4d00-84da-6dbbd6273f2d"
      },
      "source": [
        "cifar10_data.data[0].shape"
      ],
      "execution_count": 50,
      "outputs": [
        {
          "output_type": "execute_result",
          "data": {
            "text/plain": [
              "(32, 32, 3)"
            ]
          },
          "metadata": {
            "tags": []
          },
          "execution_count": 50
        }
      ]
    },
    {
      "cell_type": "code",
      "metadata": {
        "id": "JzpTe9Bp0b9O",
        "colab_type": "code",
        "colab": {
          "base_uri": "https://localhost:8080/",
          "height": 223
        },
        "outputId": "6260e4ce-9851-493c-a237-31888249f8cc"
      },
      "source": [
        "images_and_labels = list(zip(cifar10_data.data, cifar10_data.targets))\n",
        "for index, (image, label) in enumerate(images_and_labels[:10]): # 10개의 샘플만 출력\n",
        "    plt.subplot(2, 5, index + 1)\n",
        "    plt.axis('off')\n",
        "    plt.imshow(image, cmap=plt.cm.gray_r, interpolation='nearest')\n",
        "    plt.title('sample: %i' % label)"
      ],
      "execution_count": 51,
      "outputs": [
        {
          "output_type": "display_data",
          "data": {
            "image/png": "[encoded data removed]",
            "text/plain": [
              "<Figure size 432x288 with 10 Axes>"
            ]
          },
          "metadata": {
            "tags": [],
            "needs_background": "light"
          }
        }
      ]
    },
    {
      "cell_type": "code",
      "metadata": {
        "id": "etpAn7FD0d2-",
        "colab_type": "code",
        "colab": {
          "base_uri": "https://localhost:8080/",
          "height": 197
        },
        "outputId": "8ec214eb-e62e-4b21-cad1-d974ca39f2a7"
      },
      "source": [
        "for i in range(10):\n",
        "  print(i,'번 인덱스 샘플의 레이블 : ',cifar10_data.targets[i])"
      ],
      "execution_count": 52,
      "outputs": [
        {
          "output_type": "stream",
          "text": [
            "0 번 인덱스 샘플의 레이블 :  6\n",
            "1 번 인덱스 샘플의 레이블 :  9\n",
            "2 번 인덱스 샘플의 레이블 :  9\n",
            "3 번 인덱스 샘플의 레이블 :  4\n",
            "4 번 인덱스 샘플의 레이블 :  1\n",
            "5 번 인덱스 샘플의 레이블 :  1\n",
            "6 번 인덱스 샘플의 레이블 :  2\n",
            "7 번 인덱스 샘플의 레이블 :  7\n",
            "8 번 인덱스 샘플의 레이블 :  8\n",
            "9 번 인덱스 샘플의 레이블 :  3\n"
          ],
          "name": "stdout"
        }
      ]
    },
    {
      "cell_type": "code",
      "metadata": {
        "id": "7i6hVX2L0fie",
        "colab_type": "code",
        "colab": {
          "base_uri": "https://localhost:8080/",
          "height": 103,
          "referenced_widgets": [
            "5136bf12fdae4368b2bd35991a9ef7e1",
            "5f4da9f8023048aa97c5926b630703ff",
            "bbfba32e0890449e9a71991b9a1e8ddc",
            "6c41e73efafc43f8be251e9c8a1c0ecb",
            "38514969a4c44fae929c8e67800a0bd7",
            "04cadc3b3abd42b794ba5b2175743ac0",
            "7e0933fa90404d6f97b5487f30b8bff0",
            "229c7da445314a3d9668f804734beafa"
          ]
        },
        "outputId": "b1bc0e7a-5aa4-4b7f-9fde-4facd26cab73"
      },
      "source": [
        "cifar10_train = torchvision.datasets.CIFAR10(root='cifar10_data/', # 다운로드 경로 지정\n",
        "                          train=True, # True를 지정하면 훈련 데이터로 다운로드\n",
        "                          transform=transforms.Compose([transforms.Resize(256),\n",
        "                                                             transforms.ColorJitter(),\n",
        "                                                             transforms.RandomCrop(224),\n",
        "                                                             transforms.RandomHorizontalFlip(),\n",
        "                                                             transforms.Resize(32),\n",
        "                                                             transforms.ToTensor(),\n",
        "                                                             transforms.Normalize([0.4914, 0.4822, 0.4465], [0.247, 0.243, 0.261])\n",
        "                               ]),\n",
        "                          download=True)\n",
        "\n",
        "cifar10_test = torchvision.datasets.CIFAR10(root='cifar10_data/', # 다운로드 경로 지정\n",
        "                         train=False, # False를 지정하면 테스트 데이터로 다운로드\n",
        "                         transform=transforms.Compose([transforms.Resize(256),\n",
        "                                                             transforms.ColorJitter(),\n",
        "                                                             transforms.RandomCrop(224),\n",
        "                                                             transforms.RandomHorizontalFlip(),\n",
        "                                                             transforms.Resize(32),\n",
        "                                                             transforms.ToTensor(),\n",
        "                                                             transforms.Normalize([0.4914, 0.4822, 0.4465], [0.247, 0.243, 0.261])\n",
        "                               ]),\n",
        "                         download=True)"
      ],
      "execution_count": 53,
      "outputs": [
        {
          "output_type": "stream",
          "text": [
            "Downloading https://www.cs.toronto.edu/~kriz/cifar-10-python.tar.gz to cifar10_data/cifar-10-python.tar.gz\n"
          ],
          "name": "stdout"
        },
        {
          "output_type": "display_data",
          "data": {
            "application/vnd.jupyter.widget-view+json": {
              "model_id": "5136bf12fdae4368b2bd35991a9ef7e1",
              "version_minor": 0,
              "version_major": 2
            },
            "text/plain": [
              "HBox(children=(FloatProgress(value=1.0, bar_style='info', max=1.0), HTML(value='')))"
            ]
          },
          "metadata": {
            "tags": []
          }
        },
        {
          "output_type": "stream",
          "text": [
            "Extracting cifar10_data/cifar-10-python.tar.gz to cifar10_data/\n",
            "Files already downloaded and verified\n"
          ],
          "name": "stdout"
        }
      ]
    },
    {
      "cell_type": "code",
      "metadata": {
        "id": "KOyB2Y2v0h4_",
        "colab_type": "code",
        "colab": {
          "base_uri": "https://localhost:8080/",
          "height": 35
        },
        "outputId": "32d04219-c2a1-45f6-e00e-f4bf672ac2fb"
      },
      "source": [
        "cifar10_train[0][0].size()"
      ],
      "execution_count": 54,
      "outputs": [
        {
          "output_type": "execute_result",
          "data": {
            "text/plain": [
              "torch.Size([3, 32, 32])"
            ]
          },
          "metadata": {
            "tags": []
          },
          "execution_count": 54
        }
      ]
    },
    {
      "cell_type": "code",
      "metadata": {
        "id": "OFd-xFGD0jIP",
        "colab_type": "code",
        "colab": {
          "base_uri": "https://localhost:8080/",
          "height": 35
        },
        "outputId": "d0d68385-f886-499c-f6fd-1e5488e634a5"
      },
      "source": [
        "device = 'cuda' if torch.cuda.is_available() else 'cpu'\n",
        "print(device)\n",
        "\n",
        "learning_rate = 0.001\n",
        "epochs = 10\n",
        "batch_size = 64"
      ],
      "execution_count": 55,
      "outputs": [
        {
          "output_type": "stream",
          "text": [
            "cuda\n"
          ],
          "name": "stdout"
        }
      ]
    },
    {
      "cell_type": "code",
      "metadata": {
        "id": "HseXBWEb0nmW",
        "colab_type": "code",
        "colab": {}
      },
      "source": [
        "train_loader = torch.utils.data.DataLoader(dataset=cifar10_train,\n",
        "                                          batch_size=batch_size,\n",
        "                                          shuffle=True,\n",
        "                                          drop_last=True)\n",
        "\n",
        "test_loader = torch.utils.data.DataLoader(dataset=cifar10_test,\n",
        "                                          batch_size=len(cifar10_test))"
      ],
      "execution_count": 0,
      "outputs": []
    },
    {
      "cell_type": "markdown",
      "metadata": {
        "id": "YQkU1m0y06j_",
        "colab_type": "text"
      },
      "source": [
        "###6.4.2 모델 1"
      ]
    },
    {
      "cell_type": "code",
      "metadata": {
        "id": "sjLVRNKy0oqn",
        "colab_type": "code",
        "colab": {}
      },
      "source": [
        "class CNN(torch.nn.Module):\n",
        "\n",
        "    def __init__(self):\n",
        "        super(CNN, self).__init__()\n",
        "        self.layer1 = torch.nn.Sequential(\n",
        "            torch.nn.Conv2d(3, 32, kernel_size=3, stride=1, padding=1),\n",
        "            torch.nn.ReLU(),\n",
        "            torch.nn.MaxPool2d(kernel_size=2, stride=2))\n",
        "\n",
        "        self.layer2 = torch.nn.Sequential(\n",
        "            torch.nn.Conv2d(32, 64, kernel_size=3, stride=1, padding=1),\n",
        "            torch.nn.ReLU(),\n",
        "            torch.nn.MaxPool2d(kernel_size=2, stride=2))\n",
        "\n",
        "        # 전결합층 7x7x64 inputs -> 10 outputs\n",
        "        self.fc = torch.nn.Linear(8 * 8 * 64, 100, bias=True)\n",
        "\n",
        "        # 전결합층 한정으로 가중치 초기화\n",
        "        torch.nn.init.xavier_uniform_(self.fc.weight)\n",
        "\n",
        "    def forward(self, x):\n",
        "        out = self.layer1(x) # [batch_size, 3, 32, 32] -> [batch_size, 32, 32, 32] -> [batch_size, 32, 16, 16]\n",
        "        out = self.layer2(out) # [batch_size, 32, 16, 16] -> [batch_size, 64, 16, 16] -> [batch_size, 64, 8, 8]\n",
        "        out = out.view(out.size(0), -1)   # 전결합층을 위해서 Flatten\n",
        "        out = self.fc(out)\n",
        "        return out"
      ],
      "execution_count": 0,
      "outputs": []
    },
    {
      "cell_type": "code",
      "metadata": {
        "id": "X0L7MRWx0qVP",
        "colab_type": "code",
        "colab": {}
      },
      "source": [
        "model = CNN().to(device)\n",
        "criterion = torch.nn.CrossEntropyLoss().to(device)    # 비용 함수에 소프트맥스 함수 포함되어져 있음.\n",
        "optimizer = torch.optim.Adam(model.parameters(), lr=learning_rate)"
      ],
      "execution_count": 0,
      "outputs": []
    },
    {
      "cell_type": "code",
      "metadata": {
        "id": "w3tZDWSN0sjH",
        "colab_type": "code",
        "colab": {
          "base_uri": "https://localhost:8080/",
          "height": 35
        },
        "outputId": "e46d5c2d-c9b1-448e-e86d-e4c1bc86f971"
      },
      "source": [
        "total_batch = len(train_loader)\n",
        "print('총 배치의 수 : {}'.format(total_batch))"
      ],
      "execution_count": 59,
      "outputs": [
        {
          "output_type": "stream",
          "text": [
            "총 배치의 수 : 781\n"
          ],
          "name": "stdout"
        }
      ]
    },
    {
      "cell_type": "code",
      "metadata": {
        "id": "YmmtevEp0t2n",
        "colab_type": "code",
        "colab": {
          "base_uri": "https://localhost:8080/",
          "height": 737
        },
        "outputId": "e6d02363-fe51-4f66-bbab-c39f2d8138a9"
      },
      "source": [
        "plot_list = {'train':[],'val':[],'accuracy':[]}\n",
        "\n",
        "for epoch in range(epochs):\n",
        "    model.train()\n",
        "    train_losses = []\n",
        "    for X, Y in train_loader: # 미니 배치 단위로 꺼내온다. X는 미니 배치, Y는 레이블.\n",
        "        # image is already size of (28x28), no reshape\n",
        "        # label is not one-hot encoded\n",
        "        X = X.to(device)\n",
        "        Y = Y.to(device)\n",
        "\n",
        "        optimizer.zero_grad()\n",
        "        hypothesis = model(X)\n",
        "        train_loss = criterion(hypothesis, Y)\n",
        "        train_loss.backward()\n",
        "        optimizer.step()\n",
        "\n",
        "        train_losses.append(train_loss.detach())\n",
        "    with torch.no_grad():\n",
        "        model.eval()\n",
        "        val_losses = []\n",
        "        for i,data in enumerate(test_loader):\n",
        "            inputs,targets = data[0].to(device), data[1].to(device)\n",
        "\n",
        "            outputs = model(inputs)\n",
        "            val_loss = criterion(outputs,targets)\n",
        "            val_losses.append(val_loss.detach())\n",
        "\n",
        "            prob,label = torch.exp(outputs).topk(1,dim=1)\n",
        "\n",
        "        correct = label.view(-1)==targets\n",
        "        val_accuracy = correct.float().mean()\n",
        "\n",
        "    print(f\"{epoch+1} epoch train loss = {sum(train_losses)/len(train_losses)}\")\n",
        "    print(f\"{epoch+1} epoch val loss = {sum(val_losses)/len(val_losses)}\")\n",
        "    print(f\"{epoch+1} epoch accuracy = {val_accuracy}\")\n",
        "    print('--------------------------------------------------')\n",
        "    plot_list['train'].append(sum(train_losses)/len(train_losses))\n",
        "    plot_list['val'].append(sum(val_losses)/len(val_losses))\n",
        "    plot_list['accuracy'].append(val_accuracy)"
      ],
      "execution_count": 60,
      "outputs": [
        {
          "output_type": "stream",
          "text": [
            "1 epoch train loss = 1.45745050907135\n",
            "1 epoch val loss = 1.207731008529663\n",
            "1 epoch accuracy = 0.5777999758720398\n",
            "--------------------------------------------------\n",
            "2 epoch train loss = 1.1388815641403198\n",
            "2 epoch val loss = 1.0927785634994507\n",
            "2 epoch accuracy = 0.6209999918937683\n",
            "--------------------------------------------------\n",
            "3 epoch train loss = 1.0314171314239502\n",
            "3 epoch val loss = 0.9909048676490784\n",
            "3 epoch accuracy = 0.6548999547958374\n",
            "--------------------------------------------------\n",
            "4 epoch train loss = 0.9726815223693848\n",
            "4 epoch val loss = 0.9772276282310486\n",
            "4 epoch accuracy = 0.6599000096321106\n",
            "--------------------------------------------------\n",
            "5 epoch train loss = 0.9303674101829529\n",
            "5 epoch val loss = 0.92942214012146\n",
            "5 epoch accuracy = 0.679099977016449\n",
            "--------------------------------------------------\n",
            "6 epoch train loss = 0.89520663022995\n",
            "6 epoch val loss = 0.9196981191635132\n",
            "6 epoch accuracy = 0.6818999648094177\n",
            "--------------------------------------------------\n",
            "7 epoch train loss = 0.8686659336090088\n",
            "7 epoch val loss = 0.89664626121521\n",
            "7 epoch accuracy = 0.6947999596595764\n",
            "--------------------------------------------------\n",
            "8 epoch train loss = 0.8485626578330994\n",
            "8 epoch val loss = 0.876029908657074\n",
            "8 epoch accuracy = 0.7010999917984009\n",
            "--------------------------------------------------\n",
            "9 epoch train loss = 0.8301592469215393\n",
            "9 epoch val loss = 0.8885902166366577\n",
            "9 epoch accuracy = 0.6926000118255615\n",
            "--------------------------------------------------\n",
            "10 epoch train loss = 0.8133926391601562\n",
            "10 epoch val loss = 0.8843494057655334\n",
            "10 epoch accuracy = 0.6965000033378601\n",
            "--------------------------------------------------\n"
          ],
          "name": "stdout"
        }
      ]
    },
    {
      "cell_type": "markdown",
      "metadata": {
        "id": "qgwyObWS09wQ",
        "colab_type": "text"
      },
      "source": [
        "###6.4.2 모델 2 (More Deeper)"
      ]
    },
    {
      "cell_type": "code",
      "metadata": {
        "id": "ZXM8twtD0zLf",
        "colab_type": "code",
        "colab": {}
      },
      "source": [
        "class My_CNN(torch.nn.Module):\n",
        "\n",
        "    def __init__(self):\n",
        "        super(My_CNN, self).__init__()\n",
        "        self.layer1 = torch.nn.Sequential(\n",
        "            torch.nn.Conv2d(3, 32, kernel_size=3, stride=1, padding=1),\n",
        "            torch.nn.ReLU(),\n",
        "            torch.nn.MaxPool2d(kernel_size=2, stride=2),\n",
        "            torch.nn.Conv2d(32, 32, kernel_size=3, stride=1, padding=1),\n",
        "            torch.nn.ReLU(),\n",
        "            torch.nn.Conv2d(32, 32, kernel_size=3, stride=1, padding=1),\n",
        "            torch.nn.ReLU(),\n",
        "            torch.nn.Conv2d(32, 32, kernel_size=3, stride=1, padding=1),\n",
        "            torch.nn.ReLU(),)\n",
        "\n",
        "        self.layer2 = torch.nn.Sequential(\n",
        "            torch.nn.Conv2d(32, 64, kernel_size=3, stride=1, padding=1),\n",
        "            torch.nn.ReLU(),\n",
        "            torch.nn.MaxPool2d(kernel_size=2, stride=2))\n",
        "\n",
        "        # 전결합층 7x7x64 inputs -> 10 outputs\n",
        "        self.fc = torch.nn.Linear(8 * 8 * 64, 100, bias=True)\n",
        "\n",
        "        # 전결합층 한정으로 가중치 초기화\n",
        "        torch.nn.init.xavier_uniform_(self.fc.weight)\n",
        "\n",
        "    def forward(self, x):\n",
        "        out = self.layer1(x) # [batch_size, 3, 32, 32] -> [batch_size, 32, 32, 32] -> [batch_size, 32, 16, 16]\n",
        "        out = self.layer2(out) # [batch_size, 32, 16, 16] -> [batch_size, 64, 16, 16] -> [batch_size, 64, 8, 8]\n",
        "        out = out.view(out.size(0), -1)   # 전결합층을 위해서 Flatten\n",
        "        out = self.fc(out)\n",
        "        return out"
      ],
      "execution_count": 0,
      "outputs": []
    },
    {
      "cell_type": "code",
      "metadata": {
        "id": "-RX9XxTU1AdP",
        "colab_type": "code",
        "colab": {}
      },
      "source": [
        "model = My_CNN().to(device)\n",
        "criterion = torch.nn.CrossEntropyLoss().to(device)    # 비용 함수에 소프트맥스 함수 포함되어져 있음.\n",
        "optimizer = torch.optim.Adam(model.parameters(), lr=learning_rate)"
      ],
      "execution_count": 0,
      "outputs": []
    },
    {
      "cell_type": "code",
      "metadata": {
        "id": "KbwriWCy1BpO",
        "colab_type": "code",
        "colab": {
          "base_uri": "https://localhost:8080/",
          "height": 737
        },
        "outputId": "de5e04de-9d92-4a59-c81a-00d493717f97"
      },
      "source": [
        "plot_list = {'train':[],'val':[],'accuracy':[]}\n",
        "\n",
        "for epoch in range(epochs):\n",
        "    model.train()\n",
        "    train_losses = []\n",
        "    for X, Y in train_loader: # 미니 배치 단위로 꺼내온다. X는 미니 배치, Y는 레이블.\n",
        "        # image is already size of (28x28), no reshape\n",
        "        # label is not one-hot encoded\n",
        "        X = X.to(device)\n",
        "        Y = Y.to(device)\n",
        "\n",
        "        optimizer.zero_grad()\n",
        "        hypothesis = model(X)\n",
        "        train_loss = criterion(hypothesis, Y)\n",
        "        train_loss.backward()\n",
        "        optimizer.step()\n",
        "\n",
        "        train_losses.append(train_loss.detach())\n",
        "        \n",
        "    \n",
        "    with torch.no_grad():\n",
        "        model.eval()\n",
        "        val_losses = []\n",
        "        for i,data in enumerate(test_loader):\n",
        "            inputs,targets = data[0].to(device), data[1].to(device)\n",
        "\n",
        "            outputs = model(inputs)\n",
        "            val_loss = criterion(outputs,targets)\n",
        "            val_losses.append(val_loss.detach())\n",
        "\n",
        "            prob,label = torch.exp(outputs).topk(1,dim=1)\n",
        "\n",
        "        correct = label.view(-1)==targets\n",
        "        val_accuracy = correct.float().mean()\n",
        "\n",
        "\n",
        "    print(f\"{epoch+1} epoch train loss = {sum(train_losses)/len(train_losses)}\")\n",
        "    print(f\"{epoch+1} epoch val loss = {sum(val_losses)/len(val_losses)}\")\n",
        "    print(f\"{epoch+1} epoch accuracy = {val_accuracy}\")\n",
        "    print('--------------------------------------------------')\n",
        "    plot_list['train'].append(sum(train_losses)/len(train_losses))\n",
        "    plot_list['val'].append(sum(val_losses)/len(val_losses))\n",
        "    plot_list['accuracy'].append(val_accuracy)"
      ],
      "execution_count": 63,
      "outputs": [
        {
          "output_type": "stream",
          "text": [
            "1 epoch train loss = 1.6144968271255493\n",
            "1 epoch val loss = 1.3046554327011108\n",
            "1 epoch accuracy = 0.5411999821662903\n",
            "--------------------------------------------------\n",
            "2 epoch train loss = 1.2158347368240356\n",
            "2 epoch val loss = 1.0932791233062744\n",
            "2 epoch accuracy = 0.6154999732971191\n",
            "--------------------------------------------------\n",
            "3 epoch train loss = 1.0502241849899292\n",
            "3 epoch val loss = 0.9866474866867065\n",
            "3 epoch accuracy = 0.6586999893188477\n",
            "--------------------------------------------------\n",
            "4 epoch train loss = 0.9553911089897156\n",
            "4 epoch val loss = 0.9291877746582031\n",
            "4 epoch accuracy = 0.6796000003814697\n",
            "--------------------------------------------------\n",
            "5 epoch train loss = 0.8892860412597656\n",
            "5 epoch val loss = 0.9199531078338623\n",
            "5 epoch accuracy = 0.6780999898910522\n",
            "--------------------------------------------------\n",
            "6 epoch train loss = 0.8352537751197815\n",
            "6 epoch val loss = 0.8774507641792297\n",
            "6 epoch accuracy = 0.6969000101089478\n",
            "--------------------------------------------------\n",
            "7 epoch train loss = 0.8028993606567383\n",
            "7 epoch val loss = 0.8129240274429321\n",
            "7 epoch accuracy = 0.7210999727249146\n",
            "--------------------------------------------------\n",
            "8 epoch train loss = 0.7692794799804688\n",
            "8 epoch val loss = 0.8484217524528503\n",
            "8 epoch accuracy = 0.7077999711036682\n",
            "--------------------------------------------------\n",
            "9 epoch train loss = 0.7513170838356018\n",
            "9 epoch val loss = 0.8117154836654663\n",
            "9 epoch accuracy = 0.722599983215332\n",
            "--------------------------------------------------\n",
            "10 epoch train loss = 0.7243109941482544\n",
            "10 epoch val loss = 0.8051944971084595\n",
            "10 epoch accuracy = 0.7231000065803528\n",
            "--------------------------------------------------\n"
          ],
          "name": "stdout"
        }
      ]
    },
    {
      "cell_type": "markdown",
      "metadata": {
        "id": "8HfyKF811E7I",
        "colab_type": "text"
      },
      "source": [
        "### 모델 3 (Resnet Fine Tuning)"
      ]
    },
    {
      "cell_type": "code",
      "metadata": {
        "id": "KMy6W0681EB3",
        "colab_type": "code",
        "colab": {
          "base_uri": "https://localhost:8080/",
          "height": 105,
          "referenced_widgets": [
            "95b1a0e47cd44513a6699b1854321e32",
            "db87989286104473acc39d0fc5ab7272",
            "4ce517c49d274513bec9afa4ff414721",
            "c53244d6585f44048652c73802682857",
            "7974c71779fb4802a3e4d93694e0ce87",
            "f40f43aa64aa47c0a2d01bff09294ff2",
            "c9e55f4c2b484c289571ce1b93c559e9",
            "5ea7cd10cd524c30affefea69ac0ea4a"
          ]
        },
        "outputId": "f54fc545-e088-4c95-e69a-48f33aded02b"
      },
      "source": [
        "from torchvision import models\n",
        "import torch.nn as nn\n",
        "resnet = models.resnet18(pretrained=True)"
      ],
      "execution_count": 64,
      "outputs": [
        {
          "output_type": "stream",
          "text": [
            "Downloading: \"https://download.pytorch.org/models/resnet18-5c106cde.pth\" to /root/.cache/torch/checkpoints/resnet18-5c106cde.pth\n"
          ],
          "name": "stderr"
        },
        {
          "output_type": "display_data",
          "data": {
            "application/vnd.jupyter.widget-view+json": {
              "model_id": "95b1a0e47cd44513a6699b1854321e32",
              "version_minor": 0,
              "version_major": 2
            },
            "text/plain": [
              "HBox(children=(FloatProgress(value=0.0, max=46827520.0), HTML(value='')))"
            ]
          },
          "metadata": {
            "tags": []
          }
        },
        {
          "output_type": "stream",
          "text": [
            "\n"
          ],
          "name": "stdout"
        }
      ]
    },
    {
      "cell_type": "code",
      "metadata": {
        "id": "Ubf0DXgi1Rme",
        "colab_type": "code",
        "colab": {
          "base_uri": "https://localhost:8080/",
          "height": 1000
        },
        "outputId": "1e15706b-4542-4f1e-d6f3-2f0a7994a41a"
      },
      "source": [
        "print(resnet)"
      ],
      "execution_count": 65,
      "outputs": [
        {
          "output_type": "stream",
          "text": [
            "ResNet(\n",
            "  (conv1): Conv2d(3, 64, kernel_size=(7, 7), stride=(2, 2), padding=(3, 3), bias=False)\n",
            "  (bn1): BatchNorm2d(64, eps=1e-05, momentum=0.1, affine=True, track_running_stats=True)\n",
            "  (relu): ReLU(inplace=True)\n",
            "  (maxpool): MaxPool2d(kernel_size=3, stride=2, padding=1, dilation=1, ceil_mode=False)\n",
            "  (layer1): Sequential(\n",
            "    (0): BasicBlock(\n",
            "      (conv1): Conv2d(64, 64, kernel_size=(3, 3), stride=(1, 1), padding=(1, 1), bias=False)\n",
            "      (bn1): BatchNorm2d(64, eps=1e-05, momentum=0.1, affine=True, track_running_stats=True)\n",
            "      (relu): ReLU(inplace=True)\n",
            "      (conv2): Conv2d(64, 64, kernel_size=(3, 3), stride=(1, 1), padding=(1, 1), bias=False)\n",
            "      (bn2): BatchNorm2d(64, eps=1e-05, momentum=0.1, affine=True, track_running_stats=True)\n",
            "    )\n",
            "    (1): BasicBlock(\n",
            "      (conv1): Conv2d(64, 64, kernel_size=(3, 3), stride=(1, 1), padding=(1, 1), bias=False)\n",
            "      (bn1): BatchNorm2d(64, eps=1e-05, momentum=0.1, affine=True, track_running_stats=True)\n",
            "      (relu): ReLU(inplace=True)\n",
            "      (conv2): Conv2d(64, 64, kernel_size=(3, 3), stride=(1, 1), padding=(1, 1), bias=False)\n",
            "      (bn2): BatchNorm2d(64, eps=1e-05, momentum=0.1, affine=True, track_running_stats=True)\n",
            "    )\n",
            "  )\n",
            "  (layer2): Sequential(\n",
            "    (0): BasicBlock(\n",
            "      (conv1): Conv2d(64, 128, kernel_size=(3, 3), stride=(2, 2), padding=(1, 1), bias=False)\n",
            "      (bn1): BatchNorm2d(128, eps=1e-05, momentum=0.1, affine=True, track_running_stats=True)\n",
            "      (relu): ReLU(inplace=True)\n",
            "      (conv2): Conv2d(128, 128, kernel_size=(3, 3), stride=(1, 1), padding=(1, 1), bias=False)\n",
            "      (bn2): BatchNorm2d(128, eps=1e-05, momentum=0.1, affine=True, track_running_stats=True)\n",
            "      (downsample): Sequential(\n",
            "        (0): Conv2d(64, 128, kernel_size=(1, 1), stride=(2, 2), bias=False)\n",
            "        (1): BatchNorm2d(128, eps=1e-05, momentum=0.1, affine=True, track_running_stats=True)\n",
            "      )\n",
            "    )\n",
            "    (1): BasicBlock(\n",
            "      (conv1): Conv2d(128, 128, kernel_size=(3, 3), stride=(1, 1), padding=(1, 1), bias=False)\n",
            "      (bn1): BatchNorm2d(128, eps=1e-05, momentum=0.1, affine=True, track_running_stats=True)\n",
            "      (relu): ReLU(inplace=True)\n",
            "      (conv2): Conv2d(128, 128, kernel_size=(3, 3), stride=(1, 1), padding=(1, 1), bias=False)\n",
            "      (bn2): BatchNorm2d(128, eps=1e-05, momentum=0.1, affine=True, track_running_stats=True)\n",
            "    )\n",
            "  )\n",
            "  (layer3): Sequential(\n",
            "    (0): BasicBlock(\n",
            "      (conv1): Conv2d(128, 256, kernel_size=(3, 3), stride=(2, 2), padding=(1, 1), bias=False)\n",
            "      (bn1): BatchNorm2d(256, eps=1e-05, momentum=0.1, affine=True, track_running_stats=True)\n",
            "      (relu): ReLU(inplace=True)\n",
            "      (conv2): Conv2d(256, 256, kernel_size=(3, 3), stride=(1, 1), padding=(1, 1), bias=False)\n",
            "      (bn2): BatchNorm2d(256, eps=1e-05, momentum=0.1, affine=True, track_running_stats=True)\n",
            "      (downsample): Sequential(\n",
            "        (0): Conv2d(128, 256, kernel_size=(1, 1), stride=(2, 2), bias=False)\n",
            "        (1): BatchNorm2d(256, eps=1e-05, momentum=0.1, affine=True, track_running_stats=True)\n",
            "      )\n",
            "    )\n",
            "    (1): BasicBlock(\n",
            "      (conv1): Conv2d(256, 256, kernel_size=(3, 3), stride=(1, 1), padding=(1, 1), bias=False)\n",
            "      (bn1): BatchNorm2d(256, eps=1e-05, momentum=0.1, affine=True, track_running_stats=True)\n",
            "      (relu): ReLU(inplace=True)\n",
            "      (conv2): Conv2d(256, 256, kernel_size=(3, 3), stride=(1, 1), padding=(1, 1), bias=False)\n",
            "      (bn2): BatchNorm2d(256, eps=1e-05, momentum=0.1, affine=True, track_running_stats=True)\n",
            "    )\n",
            "  )\n",
            "  (layer4): Sequential(\n",
            "    (0): BasicBlock(\n",
            "      (conv1): Conv2d(256, 512, kernel_size=(3, 3), stride=(2, 2), padding=(1, 1), bias=False)\n",
            "      (bn1): BatchNorm2d(512, eps=1e-05, momentum=0.1, affine=True, track_running_stats=True)\n",
            "      (relu): ReLU(inplace=True)\n",
            "      (conv2): Conv2d(512, 512, kernel_size=(3, 3), stride=(1, 1), padding=(1, 1), bias=False)\n",
            "      (bn2): BatchNorm2d(512, eps=1e-05, momentum=0.1, affine=True, track_running_stats=True)\n",
            "      (downsample): Sequential(\n",
            "        (0): Conv2d(256, 512, kernel_size=(1, 1), stride=(2, 2), bias=False)\n",
            "        (1): BatchNorm2d(512, eps=1e-05, momentum=0.1, affine=True, track_running_stats=True)\n",
            "      )\n",
            "    )\n",
            "    (1): BasicBlock(\n",
            "      (conv1): Conv2d(512, 512, kernel_size=(3, 3), stride=(1, 1), padding=(1, 1), bias=False)\n",
            "      (bn1): BatchNorm2d(512, eps=1e-05, momentum=0.1, affine=True, track_running_stats=True)\n",
            "      (relu): ReLU(inplace=True)\n",
            "      (conv2): Conv2d(512, 512, kernel_size=(3, 3), stride=(1, 1), padding=(1, 1), bias=False)\n",
            "      (bn2): BatchNorm2d(512, eps=1e-05, momentum=0.1, affine=True, track_running_stats=True)\n",
            "    )\n",
            "  )\n",
            "  (avgpool): AdaptiveAvgPool2d(output_size=(1, 1))\n",
            "  (fc): Linear(in_features=512, out_features=1000, bias=True)\n",
            ")\n"
          ],
          "name": "stdout"
        }
      ]
    },
    {
      "cell_type": "code",
      "metadata": {
        "id": "yqyg2Bgw1Sfm",
        "colab_type": "code",
        "colab": {}
      },
      "source": [
        "resnet.fc.out_features = 10"
      ],
      "execution_count": 0,
      "outputs": []
    },
    {
      "cell_type": "code",
      "metadata": {
        "id": "koPvL3iu1T8u",
        "colab_type": "code",
        "colab": {
          "base_uri": "https://localhost:8080/",
          "height": 1000
        },
        "outputId": "e77b5037-2ee8-4acc-94ab-302887c393d9"
      },
      "source": [
        "print(resnet)"
      ],
      "execution_count": 67,
      "outputs": [
        {
          "output_type": "stream",
          "text": [
            "ResNet(\n",
            "  (conv1): Conv2d(3, 64, kernel_size=(7, 7), stride=(2, 2), padding=(3, 3), bias=False)\n",
            "  (bn1): BatchNorm2d(64, eps=1e-05, momentum=0.1, affine=True, track_running_stats=True)\n",
            "  (relu): ReLU(inplace=True)\n",
            "  (maxpool): MaxPool2d(kernel_size=3, stride=2, padding=1, dilation=1, ceil_mode=False)\n",
            "  (layer1): Sequential(\n",
            "    (0): BasicBlock(\n",
            "      (conv1): Conv2d(64, 64, kernel_size=(3, 3), stride=(1, 1), padding=(1, 1), bias=False)\n",
            "      (bn1): BatchNorm2d(64, eps=1e-05, momentum=0.1, affine=True, track_running_stats=True)\n",
            "      (relu): ReLU(inplace=True)\n",
            "      (conv2): Conv2d(64, 64, kernel_size=(3, 3), stride=(1, 1), padding=(1, 1), bias=False)\n",
            "      (bn2): BatchNorm2d(64, eps=1e-05, momentum=0.1, affine=True, track_running_stats=True)\n",
            "    )\n",
            "    (1): BasicBlock(\n",
            "      (conv1): Conv2d(64, 64, kernel_size=(3, 3), stride=(1, 1), padding=(1, 1), bias=False)\n",
            "      (bn1): BatchNorm2d(64, eps=1e-05, momentum=0.1, affine=True, track_running_stats=True)\n",
            "      (relu): ReLU(inplace=True)\n",
            "      (conv2): Conv2d(64, 64, kernel_size=(3, 3), stride=(1, 1), padding=(1, 1), bias=False)\n",
            "      (bn2): BatchNorm2d(64, eps=1e-05, momentum=0.1, affine=True, track_running_stats=True)\n",
            "    )\n",
            "  )\n",
            "  (layer2): Sequential(\n",
            "    (0): BasicBlock(\n",
            "      (conv1): Conv2d(64, 128, kernel_size=(3, 3), stride=(2, 2), padding=(1, 1), bias=False)\n",
            "      (bn1): BatchNorm2d(128, eps=1e-05, momentum=0.1, affine=True, track_running_stats=True)\n",
            "      (relu): ReLU(inplace=True)\n",
            "      (conv2): Conv2d(128, 128, kernel_size=(3, 3), stride=(1, 1), padding=(1, 1), bias=False)\n",
            "      (bn2): BatchNorm2d(128, eps=1e-05, momentum=0.1, affine=True, track_running_stats=True)\n",
            "      (downsample): Sequential(\n",
            "        (0): Conv2d(64, 128, kernel_size=(1, 1), stride=(2, 2), bias=False)\n",
            "        (1): BatchNorm2d(128, eps=1e-05, momentum=0.1, affine=True, track_running_stats=True)\n",
            "      )\n",
            "    )\n",
            "    (1): BasicBlock(\n",
            "      (conv1): Conv2d(128, 128, kernel_size=(3, 3), stride=(1, 1), padding=(1, 1), bias=False)\n",
            "      (bn1): BatchNorm2d(128, eps=1e-05, momentum=0.1, affine=True, track_running_stats=True)\n",
            "      (relu): ReLU(inplace=True)\n",
            "      (conv2): Conv2d(128, 128, kernel_size=(3, 3), stride=(1, 1), padding=(1, 1), bias=False)\n",
            "      (bn2): BatchNorm2d(128, eps=1e-05, momentum=0.1, affine=True, track_running_stats=True)\n",
            "    )\n",
            "  )\n",
            "  (layer3): Sequential(\n",
            "    (0): BasicBlock(\n",
            "      (conv1): Conv2d(128, 256, kernel_size=(3, 3), stride=(2, 2), padding=(1, 1), bias=False)\n",
            "      (bn1): BatchNorm2d(256, eps=1e-05, momentum=0.1, affine=True, track_running_stats=True)\n",
            "      (relu): ReLU(inplace=True)\n",
            "      (conv2): Conv2d(256, 256, kernel_size=(3, 3), stride=(1, 1), padding=(1, 1), bias=False)\n",
            "      (bn2): BatchNorm2d(256, eps=1e-05, momentum=0.1, affine=True, track_running_stats=True)\n",
            "      (downsample): Sequential(\n",
            "        (0): Conv2d(128, 256, kernel_size=(1, 1), stride=(2, 2), bias=False)\n",
            "        (1): BatchNorm2d(256, eps=1e-05, momentum=0.1, affine=True, track_running_stats=True)\n",
            "      )\n",
            "    )\n",
            "    (1): BasicBlock(\n",
            "      (conv1): Conv2d(256, 256, kernel_size=(3, 3), stride=(1, 1), padding=(1, 1), bias=False)\n",
            "      (bn1): BatchNorm2d(256, eps=1e-05, momentum=0.1, affine=True, track_running_stats=True)\n",
            "      (relu): ReLU(inplace=True)\n",
            "      (conv2): Conv2d(256, 256, kernel_size=(3, 3), stride=(1, 1), padding=(1, 1), bias=False)\n",
            "      (bn2): BatchNorm2d(256, eps=1e-05, momentum=0.1, affine=True, track_running_stats=True)\n",
            "    )\n",
            "  )\n",
            "  (layer4): Sequential(\n",
            "    (0): BasicBlock(\n",
            "      (conv1): Conv2d(256, 512, kernel_size=(3, 3), stride=(2, 2), padding=(1, 1), bias=False)\n",
            "      (bn1): BatchNorm2d(512, eps=1e-05, momentum=0.1, affine=True, track_running_stats=True)\n",
            "      (relu): ReLU(inplace=True)\n",
            "      (conv2): Conv2d(512, 512, kernel_size=(3, 3), stride=(1, 1), padding=(1, 1), bias=False)\n",
            "      (bn2): BatchNorm2d(512, eps=1e-05, momentum=0.1, affine=True, track_running_stats=True)\n",
            "      (downsample): Sequential(\n",
            "        (0): Conv2d(256, 512, kernel_size=(1, 1), stride=(2, 2), bias=False)\n",
            "        (1): BatchNorm2d(512, eps=1e-05, momentum=0.1, affine=True, track_running_stats=True)\n",
            "      )\n",
            "    )\n",
            "    (1): BasicBlock(\n",
            "      (conv1): Conv2d(512, 512, kernel_size=(3, 3), stride=(1, 1), padding=(1, 1), bias=False)\n",
            "      (bn1): BatchNorm2d(512, eps=1e-05, momentum=0.1, affine=True, track_running_stats=True)\n",
            "      (relu): ReLU(inplace=True)\n",
            "      (conv2): Conv2d(512, 512, kernel_size=(3, 3), stride=(1, 1), padding=(1, 1), bias=False)\n",
            "      (bn2): BatchNorm2d(512, eps=1e-05, momentum=0.1, affine=True, track_running_stats=True)\n",
            "    )\n",
            "  )\n",
            "  (avgpool): AdaptiveAvgPool2d(output_size=(1, 1))\n",
            "  (fc): Linear(in_features=512, out_features=10, bias=True)\n",
            ")\n"
          ],
          "name": "stdout"
        }
      ]
    },
    {
      "cell_type": "code",
      "metadata": {
        "id": "XL0JQoGM1U4O",
        "colab_type": "code",
        "colab": {}
      },
      "source": [
        "model = resnet.to(device)\n",
        "criterion = torch.nn.CrossEntropyLoss().to(device)    # 비용 함수에 소프트맥스 함수 포함되어져 있음.\n",
        "optimizer = torch.optim.Adam(model.parameters(), lr=learning_rate)"
      ],
      "execution_count": 0,
      "outputs": []
    },
    {
      "cell_type": "code",
      "metadata": {
        "id": "i53hUtqg1Wmu",
        "colab_type": "code",
        "colab": {
          "base_uri": "https://localhost:8080/",
          "height": 737
        },
        "outputId": "397f4a10-65d5-442f-fa0c-cc27d946ccf5"
      },
      "source": [
        "plot_list = {'train':[],'val':[],'accuracy':[]}\n",
        "\n",
        "for epoch in range(epochs):\n",
        "    model.train()\n",
        "    train_losses = []\n",
        "    for X, Y in train_loader: # 미니 배치 단위로 꺼내온다. X는 미니 배치, Y는 레이블.\n",
        "        # image is already size of (28x28), no reshape\n",
        "        # label is not one-hot encoded\n",
        "        X = X.to(device)\n",
        "        Y = Y.to(device)\n",
        "\n",
        "        optimizer.zero_grad()\n",
        "        hypothesis = model(X)\n",
        "        train_loss = criterion(hypothesis, Y)\n",
        "        train_loss.backward()\n",
        "        optimizer.step()\n",
        "\n",
        "        train_losses.append(train_loss.detach())\n",
        "    \n",
        "    model.eval()\n",
        "    val_losses = []\n",
        "    for i,data in enumerate(test_loader):\n",
        "        inputs,targets = data[0].to(device), data[1].to(device)\n",
        "\n",
        "        outputs = model(inputs)\n",
        "        val_loss = criterion(outputs,targets)\n",
        "        val_losses.append(val_loss.detach())\n",
        "\n",
        "        prob,label = torch.exp(outputs).topk(1,dim=1)\n",
        "\n",
        "    correct = label.view(-1)==targets\n",
        "    val_accuracy = correct.float().mean()\n",
        "\n",
        "    print(f\"{epoch+1} epoch train loss = {sum(train_losses)/len(train_losses)}\")\n",
        "    print(f\"{epoch+1} epoch val loss = {sum(val_losses)/len(val_losses)}\")\n",
        "    print(f\"{epoch+1} epoch accuracy = {val_accuracy}\")\n",
        "    print('--------------------------------------------------')\n",
        "    plot_list['train'].append(sum(train_losses)/len(train_losses))\n",
        "    plot_list['val'].append(sum(val_losses)/len(val_losses))\n",
        "    plot_list['accuracy'].append(val_accuracy)"
      ],
      "execution_count": 69,
      "outputs": [
        {
          "output_type": "stream",
          "text": [
            "1 epoch train loss = 1.0992671251296997\n",
            "1 epoch val loss = 0.7934638857841492\n",
            "1 epoch accuracy = 0.7211999893188477\n",
            "--------------------------------------------------\n",
            "2 epoch train loss = 0.7454693913459778\n",
            "2 epoch val loss = 0.7219944000244141\n",
            "2 epoch accuracy = 0.7577999830245972\n",
            "--------------------------------------------------\n",
            "3 epoch train loss = 0.6565535664558411\n",
            "3 epoch val loss = 0.6550021767616272\n",
            "3 epoch accuracy = 0.7754999995231628\n",
            "--------------------------------------------------\n",
            "4 epoch train loss = 0.5919867157936096\n",
            "4 epoch val loss = 0.7017496228218079\n",
            "4 epoch accuracy = 0.7566999793052673\n",
            "--------------------------------------------------\n",
            "5 epoch train loss = 0.5444292426109314\n",
            "5 epoch val loss = 0.5733613967895508\n",
            "5 epoch accuracy = 0.8047999739646912\n",
            "--------------------------------------------------\n",
            "6 epoch train loss = 0.5366145372390747\n",
            "6 epoch val loss = 0.5827420353889465\n",
            "6 epoch accuracy = 0.8009999990463257\n",
            "--------------------------------------------------\n",
            "7 epoch train loss = 0.48091092705726624\n",
            "7 epoch val loss = 0.5862798094749451\n",
            "7 epoch accuracy = 0.8039000034332275\n",
            "--------------------------------------------------\n",
            "8 epoch train loss = 0.45243439078330994\n",
            "8 epoch val loss = 0.6060457229614258\n",
            "8 epoch accuracy = 0.7976999878883362\n",
            "--------------------------------------------------\n",
            "9 epoch train loss = 0.42357131838798523\n",
            "9 epoch val loss = 0.5353462100028992\n",
            "9 epoch accuracy = 0.8161999583244324\n",
            "--------------------------------------------------\n",
            "10 epoch train loss = 0.4357566833496094\n",
            "10 epoch val loss = 0.6088768839836121\n",
            "10 epoch accuracy = 0.7900999784469604\n",
            "--------------------------------------------------\n"
          ],
          "name": "stdout"
        }
      ]
    },
    {
      "cell_type": "code",
      "metadata": {
        "id": "E6hIxHsn1X4m",
        "colab_type": "code",
        "colab": {}
      },
      "source": [
        ""
      ],
      "execution_count": 0,
      "outputs": []
    }
  ]
}