{
  "nbformat": 4,
  "nbformat_minor": 0,
  "metadata": {
    "colab": {
      "name": "Untitled0.ipynb",
      "provenance": [],
      "authorship_tag": "ABX9TyM4sNT+JdBWXhZ1SJCXot1n",
      "include_colab_link": true
    },
    "kernelspec": {
      "name": "python3",
      "display_name": "Python 3"
    }
  },
  "cells": [
    {
      "cell_type": "markdown",
      "metadata": {
        "id": "view-in-github",
        "colab_type": "text"
      },
      "source": [
        "<a href=\"https://colab.research.google.com/github/Jung0Jin/Pytorch_study/blob/master/Untitled0.ipynb\" target=\"_parent\"><img src=\"https://colab.research.google.com/assets/colab-badge.svg\" alt=\"Open In Colab\"/></a>"
      ]
    },
    {
      "cell_type": "code",
      "metadata": {
        "id": "r9Wjn0aGShb5",
        "colab_type": "code",
        "colab": {
          "base_uri": "https://localhost:8080/",
          "height": 122
        },
        "outputId": "c0e0ef42-eaee-4b60-ae71-862aeb9b00c2"
      },
      "source": [
        "!git clone https://github.com/Jung0Jin/Pytorch_study.git"
      ],
      "execution_count": 1,
      "outputs": [
        {
          "output_type": "stream",
          "text": [
            "Cloning into 'Pytorch_study'...\n",
            "remote: Enumerating objects: 55, done.\u001b[K\n",
            "remote: Counting objects:   1% (1/55)\u001b[K\rremote: Counting objects:   3% (2/55)\u001b[K\rremote: Counting objects:   5% (3/55)\u001b[K\rremote: Counting objects:   7% (4/55)\u001b[K\rremote: Counting objects:   9% (5/55)\u001b[K\rremote: Counting objects:  10% (6/55)\u001b[K\rremote: Counting objects:  12% (7/55)\u001b[K\rremote: Counting objects:  14% (8/55)\u001b[K\rremote: Counting objects:  16% (9/55)\u001b[K\rremote: Counting objects:  18% (10/55)\u001b[K\rremote: Counting objects:  20% (11/55)\u001b[K\rremote: Counting objects:  21% (12/55)\u001b[K\rremote: Counting objects:  23% (13/55)\u001b[K\rremote: Counting objects:  25% (14/55)\u001b[K\rremote: Counting objects:  27% (15/55)\u001b[K\rremote: Counting objects:  29% (16/55)\u001b[K\rremote: Counting objects:  30% (17/55)\u001b[K\rremote: Counting objects:  32% (18/55)\u001b[K\rremote: Counting objects:  34% (19/55)\u001b[K\rremote: Counting objects:  36% (20/55)\u001b[K\rremote: Counting objects:  38% (21/55)\u001b[K\rremote: Counting objects:  40% (22/55)\u001b[K\rremote: Counting objects:  41% (23/55)\u001b[K\rremote: Counting objects:  43% (24/55)\u001b[K\rremote: Counting objects:  45% (25/55)\u001b[K\rremote: Counting objects:  47% (26/55)\u001b[K\rremote: Counting objects:  49% (27/55)\u001b[K\rremote: Counting objects:  50% (28/55)\u001b[K\rremote: Counting objects:  52% (29/55)\u001b[K\rremote: Counting objects:  54% (30/55)\u001b[K\rremote: Counting objects:  56% (31/55)\u001b[K\rremote: Counting objects:  58% (32/55)\u001b[K\rremote: Counting objects:  60% (33/55)\u001b[K\rremote: Counting objects:  61% (34/55)\u001b[K\rremote: Counting objects:  63% (35/55)\u001b[K\rremote: Counting objects:  65% (36/55)\u001b[K\rremote: Counting objects:  67% (37/55)\u001b[K\rremote: Counting objects:  69% (38/55)\u001b[K\rremote: Counting objects:  70% (39/55)\u001b[K\rremote: Counting objects:  72% (40/55)\u001b[K\rremote: Counting objects:  74% (41/55)\u001b[K\rremote: Counting objects:  76% (42/55)\u001b[K\rremote: Counting objects:  78% (43/55)\u001b[K\rremote: Counting objects:  80% (44/55)\u001b[K\rremote: Counting objects:  81% (45/55)\u001b[K\rremote: Counting objects:  83% (46/55)\u001b[K\rremote: Counting objects:  85% (47/55)\u001b[K\rremote: Counting objects:  87% (48/55)\u001b[K\rremote: Counting objects:  89% (49/55)\u001b[K\rremote: Counting objects:  90% (50/55)\u001b[K\rremote: Counting objects:  92% (51/55)\u001b[K\rremote: Counting objects:  94% (52/55)\u001b[K\rremote: Counting objects:  96% (53/55)\u001b[K\rremote: Counting objects:  98% (54/55)\u001b[K\rremote: Counting objects: 100% (55/55)\u001b[K\rremote: Counting objects: 100% (55/55), done.\u001b[K\n",
            "remote: Compressing objects:   2% (1/49)\u001b[K\rremote: Compressing objects:   4% (2/49)\u001b[K\rremote: Compressing objects:   6% (3/49)\u001b[K\rremote: Compressing objects:   8% (4/49)\u001b[K\rremote: Compressing objects:  10% (5/49)\u001b[K\rremote: Compressing objects:  12% (6/49)\u001b[K\rremote: Compressing objects:  14% (7/49)\u001b[K\rremote: Compressing objects:  16% (8/49)\u001b[K\rremote: Compressing objects:  18% (9/49)\u001b[K\rremote: Compressing objects:  20% (10/49)\u001b[K\rremote: Compressing objects:  22% (11/49)\u001b[K\rremote: Compressing objects:  24% (12/49)\u001b[K\rremote: Compressing objects:  26% (13/49)\u001b[K\rremote: Compressing objects:  28% (14/49)\u001b[K\rremote: Compressing objects:  30% (15/49)\u001b[K\rremote: Compressing objects:  32% (16/49)\u001b[K\rremote: Compressing objects:  34% (17/49)\u001b[K\rremote: Compressing objects:  36% (18/49)\u001b[K\rremote: Compressing objects:  38% (19/49)\u001b[K\rremote: Compressing objects:  40% (20/49)\u001b[K\rremote: Compressing objects:  42% (21/49)\u001b[K\rremote: Compressing objects:  44% (22/49)\u001b[K\rremote: Compressing objects:  46% (23/49)\u001b[K\rremote: Compressing objects:  48% (24/49)\u001b[K\rremote: Compressing objects:  51% (25/49)\u001b[K\rremote: Compressing objects:  53% (26/49)\u001b[K\rremote: Compressing objects:  55% (27/49)\u001b[K\rremote: Compressing objects:  57% (28/49)\u001b[K\rremote: Compressing objects:  59% (29/49)\u001b[K\rremote: Compressing objects:  61% (30/49)\u001b[K\rremote: Compressing objects:  63% (31/49)\u001b[K\rremote: Compressing objects:  65% (32/49)\u001b[K\rremote: Compressing objects:  67% (33/49)\u001b[K\rremote: Compressing objects:  69% (34/49)\u001b[K\rremote: Compressing objects:  71% (35/49)\u001b[K\rremote: Compressing objects:  73% (36/49)\u001b[K\rremote: Compressing objects:  75% (37/49)\u001b[K\rremote: Compressing objects:  77% (38/49)\u001b[K\rremote: Compressing objects:  79% (39/49)\u001b[K\rremote: Compressing objects:  81% (40/49)\u001b[K\rremote: Compressing objects:  83% (41/49)\u001b[K\rremote: Compressing objects:  85% (42/49)\u001b[K\rremote: Compressing objects:  87% (43/49)\u001b[K\rremote: Compressing objects:  89% (44/49)\u001b[K\rremote: Compressing objects:  91% (45/49)\u001b[K\rremote: Compressing objects:  93% (46/49)\u001b[K\rremote: Compressing objects:  95% (47/49)\u001b[K\rremote: Compressing objects:  97% (48/49)\u001b[K\rremote: Compressing objects: 100% (49/49)\u001b[K\rremote: Compressing objects: 100% (49/49), done.\u001b[K\n",
            "Unpacking objects:   1% (1/55)   \rUnpacking objects:   3% (2/55)   \rUnpacking objects:   5% (3/55)   \rUnpacking objects:   7% (4/55)   \rUnpacking objects:   9% (5/55)   \rUnpacking objects:  10% (6/55)   \rUnpacking objects:  12% (7/55)   \rUnpacking objects:  14% (8/55)   \rUnpacking objects:  16% (9/55)   \rUnpacking objects:  18% (10/55)   \rUnpacking objects:  20% (11/55)   \rUnpacking objects:  21% (12/55)   \rUnpacking objects:  23% (13/55)   \rUnpacking objects:  25% (14/55)   \rUnpacking objects:  27% (15/55)   \rUnpacking objects:  29% (16/55)   \rUnpacking objects:  30% (17/55)   \rUnpacking objects:  32% (18/55)   \rUnpacking objects:  34% (19/55)   \rUnpacking objects:  36% (20/55)   \rUnpacking objects:  38% (21/55)   \rUnpacking objects:  40% (22/55)   \rUnpacking objects:  41% (23/55)   \rUnpacking objects:  43% (24/55)   \rUnpacking objects:  45% (25/55)   \rUnpacking objects:  47% (26/55)   \rUnpacking objects:  49% (27/55)   \rUnpacking objects:  50% (28/55)   \rUnpacking objects:  52% (29/55)   \rUnpacking objects:  54% (30/55)   \rUnpacking objects:  56% (31/55)   \rUnpacking objects:  58% (32/55)   \rUnpacking objects:  60% (33/55)   \rUnpacking objects:  61% (34/55)   \rUnpacking objects:  63% (35/55)   \rUnpacking objects:  65% (36/55)   \rUnpacking objects:  67% (37/55)   \rUnpacking objects:  69% (38/55)   \rUnpacking objects:  70% (39/55)   \rUnpacking objects:  72% (40/55)   \rUnpacking objects:  74% (41/55)   \rUnpacking objects:  76% (42/55)   \rUnpacking objects:  78% (43/55)   \rUnpacking objects:  80% (44/55)   \rUnpacking objects:  81% (45/55)   \rUnpacking objects:  83% (46/55)   \rUnpacking objects:  85% (47/55)   \rUnpacking objects:  87% (48/55)   \rUnpacking objects:  89% (49/55)   \rremote: Total 55 (delta 11), reused 0 (delta 0), pack-reused 0\u001b[K\n",
            "Unpacking objects:  90% (50/55)   \rUnpacking objects:  92% (51/55)   \rUnpacking objects:  94% (52/55)   \rUnpacking objects:  96% (53/55)   \rUnpacking objects:  98% (54/55)   \rUnpacking objects: 100% (55/55)   \rUnpacking objects: 100% (55/55), done.\n"
          ],
          "name": "stdout"
        }
      ]
    },
    {
      "cell_type": "code",
      "metadata": {
        "id": "VZ4QD67wS5CY",
        "colab_type": "code",
        "colab": {
          "base_uri": "https://localhost:8080/",
          "height": 70
        },
        "outputId": "ff9e085c-ebf9-46b7-a916-f703f3efefb9"
      },
      "source": [
        "ls -ltr"
      ],
      "execution_count": 2,
      "outputs": [
        {
          "output_type": "stream",
          "text": [
            "total 8\n",
            "drwxr-xr-x 1 root root 4096 Apr  3 16:24 \u001b[0m\u001b[01;34msample_data\u001b[0m/\n",
            "drwxr-xr-x 3 root root 4096 Apr  8 10:17 \u001b[01;34mPytorch_study\u001b[0m/\n"
          ],
          "name": "stdout"
        }
      ]
    }
  ]
}