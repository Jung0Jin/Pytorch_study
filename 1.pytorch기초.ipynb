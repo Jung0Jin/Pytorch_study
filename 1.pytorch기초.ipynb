{
  "nbformat": 4,
  "nbformat_minor": 0,
  "metadata": {
    "hide_input": false,
    "kernelspec": {
      "display_name": "Python 3",
      "language": "python",
      "name": "python3"
    },
    "language_info": {
      "codemirror_mode": {
        "name": "ipython",
        "version": 3
      },
      "file_extension": ".py",
      "mimetype": "text/x-python",
      "name": "python",
      "nbconvert_exporter": "python",
      "pygments_lexer": "ipython3",
      "version": "3.7.6"
    },
    "toc": {
      "base_numbering": 1,
      "nav_menu": {},
      "number_sections": false,
      "sideBar": true,
      "skip_h1_title": false,
      "title_cell": "",
      "title_sidebar": "Contents",
      "toc_cell": true,
      "toc_position": {
        "height": "calc(100% - 180px)",
        "left": "10px",
        "top": "150px",
        "width": "304px"
      },
      "toc_section_display": true,
      "toc_window_display": true
    },
    "varInspector": {
      "cols": {
        "lenName": 16,
        "lenType": 16,
        "lenVar": 40
      },
      "kernels_config": {
        "python": {
          "delete_cmd_postfix": "",
          "delete_cmd_prefix": "del ",
          "library": "var_list.py",
          "varRefreshCmd": "print(var_dic_list())"
        },
        "r": {
          "delete_cmd_postfix": ") ",
          "delete_cmd_prefix": "rm(",
          "library": "var_list.r",
          "varRefreshCmd": "cat(var_dic_list()) "
        }
      },
      "types_to_exclude": [
        "module",
        "function",
        "builtin_function_or_method",
        "instance",
        "_Feature"
      ],
      "window_display": false
    },
    "colab": {
      "name": "1.pytorch기초.ipynb",
      "provenance": [],
      "collapsed_sections": [],
      "toc_visible": true,
      "include_colab_link": true
    }
  },
  "cells": [
    {
      "cell_type": "markdown",
      "metadata": {
        "id": "view-in-github",
        "colab_type": "text"
      },
      "source": [
        "<a href=\"https://colab.research.google.com/github/Jung0Jin/Pytorch_study/blob/master/1.pytorch%EA%B8%B0%EC%B4%88.ipynb\" target=\"_parent\"><img src=\"https://colab.research.google.com/assets/colab-badge.svg\" alt=\"Open In Colab\"/></a>"
      ]
    },
    {
      "cell_type": "markdown",
      "metadata": {
        "id": "5iVUs7EPMtT3",
        "colab_type": "text"
      },
      "source": [
        "# PyTorch로 시작하는 딥 러닝 입문"
      ]
    },
    {
      "cell_type": "markdown",
      "metadata": {
        "id": "5Keq2eP8Mw_b",
        "colab_type": "text"
      },
      "source": [
        "이 깃허브는 WikiDocs의 'PyTorch로 시작하는 딥 러닝 입문' 책을 참고했다.\n",
        "\n",
        "이 책은 딥 러닝 프레임워크 PyTorch를 사용하여 딥 러닝에 입문하는 것을 목표로 한다.\n",
        "\n",
        "파이토치 공식 문서 링크 : https://tutorials.pytorch.kr/beginner/blitz/tensor_tutorial.html\n",
        "\n",
        "파이토치는 공식 문서를 참고하는 것도 좋은 방법이다.\n"
      ]
    },
    {
      "cell_type": "markdown",
      "metadata": {
        "id": "WaswPM4oa8_1",
        "colab_type": "text"
      },
      "source": [
        "출처 : https://github.com/Namsik-Yoon/pytorch_basic/blob/master/1.%20pytorch%20%EA%B8%B0%EC%B4%88.ipynb \n",
        "\n",
        "옆자리 형 깃허브에서 몰래 가져왔다. \n",
        "\n",
        "두 번째로 복습하기 위해 보고 있다. \n",
        "\n",
        "이전보다 추가했다."
      ]
    },
    {
      "cell_type": "markdown",
      "metadata": {
        "id": "QF_N3OYvKer2",
        "colab_type": "text"
      },
      "source": [
        "# Pytorch Vs. Tensorflow"
      ]
    },
    {
      "cell_type": "markdown",
      "metadata": {
        "id": "74LpXqKeKpMc",
        "colab_type": "text"
      },
      "source": [
        "딥 러닝 또는 심층 전이 학습(deep transfer learning)이 정확한 모델을 학습시키는 데 도움이 되는 경우가 있다. 이런 경우, 필요한 모델과 비슷한 학습된 모델이 프레임워크의 모델 라이브러리에 이미 존재한다면 좋을 것이다. 이게 Pytorch와 Tensorflow다.\n",
        "\n",
        "참고 : http://www.itworld.co.kr/news/129659\n",
        "\n",
        "* 프레임워크는 뼈대나 기반구조를 뜻하고, 소프트웨어의 특정 문제를 해결하기 위해서 상호 협력하는 클래스와 인터페이스의 집합이라고 할 수 있다. \n",
        "\n",
        "* 라이브러리는 단순 활용 가능한 도구들의 집합을 말하며, 개발자가 만든 클래스에서 호출하여 사용하고 클래스들의 나열로 필요한 클래스를 불러서 사용하는 방식을 취한다.\n",
        "\n",
        "* 프레임워크는 전체적인 흐름을 스스로가 쥐고 있어 사용자가 그 안에서 필요한 코드를 짜 넣지만, 라이브러리는 사용자가 전체적인 흐름을 만들며 라이브러리를 가져다 쓴다. 프레임워크는 가져다가 사용한다기보다는 거기에 들어가서 사용한다는 느낌/관점이라면, 라이브러리는 가져다가 쓰는 느낌이다."
      ]
    },
    {
      "cell_type": "markdown",
      "metadata": {
        "id": "VReTsj2xa8_2",
        "colab_type": "text"
      },
      "source": [
        "# 1. Pytorch 기초"
      ]
    },
    {
      "cell_type": "markdown",
      "metadata": {
        "id": "5t3cbxrIa8_2",
        "colab_type": "text"
      },
      "source": [
        "기본적으로 pytorch(gpu) 및 기초 라이브러리가 깔려있고 기본적인 딥러닝 지식이 있다는 가정하에 진행한다.\n",
        "\n",
        "colab 에서 진행하는 것이 편할 것 같다."
      ]
    },
    {
      "cell_type": "markdown",
      "metadata": {
        "id": "EOKbv9Lia8_3",
        "colab_type": "text"
      },
      "source": [
        "## 1.1 Pytorch 패키지의 기본 구성"
      ]
    },
    {
      "cell_type": "markdown",
      "metadata": {
        "id": "tlXFMAcYO5Zc",
        "colab_type": "text"
      },
      "source": [
        "1. torch\n",
        "\n",
        "메인 네임스페이스다. 텐서 등의 다양한 수학 함수가 포함되어 있으며 Numpy와 유사한 구조(함수명들이 거의 똑같음)를 갖는다.\n",
        "\n",
        "* 네임스페이스는 개체를 구분할 수 있는 범위를 나타내는말로, 일반적으로 하나의 네임스페이스에서는 하나의 이름이 단"
      ]
    },
    {
      "cell_type": "code",
      "metadata": {
        "ExecuteTime": {
          "end_time": "2020-04-06T04:29:47.986807Z",
          "start_time": "2020-04-06T04:29:47.308623Z"
        },
        "id": "TQLm4c6Ia8_4",
        "colab_type": "code",
        "colab": {}
      },
      "source": [
        "import torch"
      ],
      "execution_count": 80,
      "outputs": []
    },
    {
      "cell_type": "markdown",
      "metadata": {
        "id": "4IJ1mBILa8_7",
        "colab_type": "text"
      },
      "source": [
        "colab 에서 진행하지 않다면 Pytorch를 설치해야 한다.\n",
        "\n",
        "https://pytorch.org/get-started/locally/\n",
        "\n",
        "여기서 설치할 수 있다."
      ]
    },
    {
      "cell_type": "markdown",
      "metadata": {
        "id": "6X_lLE07PV-L",
        "colab_type": "text"
      },
      "source": [
        "2. torch.autograd\n",
        "\n",
        "자동 미분을 위한 함수들이 포함되어져 있다. 자동 미분의 on/off를 제어하는 콘텍스트 매니저(enable_grad/no_grad)나 자체 미분 가능 함수를 정의할 때 사용하는 기반 클래스인 'Function' 등이 포함되어져 있다."
      ]
    },
    {
      "cell_type": "code",
      "metadata": {
        "ExecuteTime": {
          "end_time": "2020-04-06T04:29:54.761699Z",
          "start_time": "2020-04-06T04:29:54.757708Z"
        },
        "id": "vmsIssTMa8_8",
        "colab_type": "code",
        "colab": {}
      },
      "source": [
        "import torch.autograd"
      ],
      "execution_count": 81,
      "outputs": []
    },
    {
      "cell_type": "markdown",
      "metadata": {
        "id": "A-aP3hGMPqx6",
        "colab_type": "text"
      },
      "source": [
        "3. torch.nn\n",
        "\n",
        "신경망을 구축하기 위한 다양한 데이터 구조나 레이어 등이 정의되어져 있다. 예를 들어 RNN, LSTM과 같은 레이어, ReLU와 같은 활성화 함수, MSELoss와 같은 손실 함수들이 있다."
      ]
    },
    {
      "cell_type": "code",
      "metadata": {
        "ExecuteTime": {
          "end_time": "2020-04-06T04:29:54.955180Z",
          "start_time": "2020-04-06T04:29:54.951191Z"
        },
        "id": "iEW5SsXda8__",
        "colab_type": "code",
        "colab": {}
      },
      "source": [
        "import torch.nn"
      ],
      "execution_count": 82,
      "outputs": []
    },
    {
      "cell_type": "markdown",
      "metadata": {
        "id": "S9pVNxLqQQ6c",
        "colab_type": "text"
      },
      "source": [
        "4. torch.optim\n",
        "\n",
        "확률적 경사 하강법(Stochastic Gradient Descent, SGD)를 중심으로 한 파라미터 최적화 알고리즘이 구현되어져 있다."
      ]
    },
    {
      "cell_type": "code",
      "metadata": {
        "ExecuteTime": {
          "end_time": "2020-04-06T04:29:55.188556Z",
          "start_time": "2020-04-06T04:29:55.184578Z"
        },
        "id": "91jup_ana9AD",
        "colab_type": "code",
        "colab": {}
      },
      "source": [
        "import torch.optim"
      ],
      "execution_count": 83,
      "outputs": []
    },
    {
      "cell_type": "markdown",
      "metadata": {
        "id": "4XTN_LC5Qi1B",
        "colab_type": "text"
      },
      "source": [
        "5. torch.utils.data\n",
        "\n",
        "SGD의 반복 연산을 실행할 때 사용하는 미니 배치용 유틸리티 함수가 포함되어져 있다."
      ]
    },
    {
      "cell_type": "code",
      "metadata": {
        "ExecuteTime": {
          "end_time": "2020-04-06T04:29:55.379049Z",
          "start_time": "2020-04-06T04:29:55.375058Z"
        },
        "id": "ewFY5HrVa9AH",
        "colab_type": "code",
        "colab": {}
      },
      "source": [
        "import torch.utils.data"
      ],
      "execution_count": 84,
      "outputs": []
    },
    {
      "cell_type": "markdown",
      "metadata": {
        "id": "mRnjByAQQrbZ",
        "colab_type": "text"
      },
      "source": [
        "6. torch.onnx\n",
        "\n",
        "ONNX(Open Neural Network Exchange)의 포맷으로 모델을 익스포트(export)할 때 사용한다. ONNX는 서로 다른 딥 러닝 프레임워크 간에 모델을 공유할 때 사용하는 포맷이다."
      ]
    },
    {
      "cell_type": "code",
      "metadata": {
        "ExecuteTime": {
          "end_time": "2020-04-06T04:29:55.585516Z",
          "start_time": "2020-04-06T04:29:55.582510Z"
        },
        "id": "yJ_-NhEHa9AM",
        "colab_type": "code",
        "colab": {}
      },
      "source": [
        "import torch.onnx"
      ],
      "execution_count": 85,
      "outputs": []
    },
    {
      "cell_type": "markdown",
      "metadata": {
        "id": "lsZpyz_Sa9AP",
        "colab_type": "text"
      },
      "source": [
        "## 1.2 텐서 조작하기(Tensor Manipulation) 1"
      ]
    },
    {
      "cell_type": "markdown",
      "metadata": {
        "id": "6GVv9hiCa9AQ",
        "colab_type": "text"
      },
      "source": [
        "벡터, 행렬, 텐서의 개념에 대해서 이해하고, Numpy와 파이토치로 벡터, 행렬, 텐서를 다루는 방법을 이해하자.\n",
        "\n",
        "1. 벡터, 행렬 그리고 텐서(Vector, Matrix and Tensor)\n",
        "\n",
        "2. 넘파이 훑어보기(Numpy Review)\n",
        "\n",
        "3. 파이토치 텐서 선언하기(PyTorch Tensor Allocation)\n",
        "\n",
        "4. 행렬 곱셈(Matrix Multiplication)\n",
        "\n",
        "5. 다른 오퍼레이션들(Other Basic Ops)"
      ]
    },
    {
      "cell_type": "markdown",
      "metadata": {
        "id": "d5oDeJS3a9AR",
        "colab_type": "text"
      },
      "source": [
        "![대체 텍스트](https://wikidocs.net/images/page/52460/tensor1.PNG)"
      ]
    },
    {
      "cell_type": "markdown",
      "metadata": {
        "id": "y1SQOZtoa9AR",
        "colab_type": "text"
      },
      "source": [
        "차원이 없는 값을 스칼라 (위 그림에 없음)\n",
        "\n",
        "1차원으로 구성된 값을 벡터 (위 그림 중 1D)\n",
        "\n",
        "2차원으로 구성된 값을 행렬 (위 그림 중 2D)\n",
        "\n",
        "3차원으로 구성된 값을 텐서 (위 그림 중 3D)\n",
        "\n",
        "4차원 이상부터는 머리로 생각하기 어렵다. 3차원의 텐서를 위로 쌓아 올린 모습으로 상상해보자.\n",
        "\n",
        "5차원은 4차원을 다시 옆으로 확장한 모습으로 상상해보자.\n",
        "\n",
        "6차원은 5차원을 뒤로 확장한 모습으로 상상해보자.\n",
        "\n",
        "인터스텔라 주인공 아저씨가 생각난다.\n",
        "\n",
        "벡터나 행렬을 각각 1차원 텐서, 2차원 텐서로 표현하기도 한다.\n",
        "\n",
        "다 텐서라고 부르자."
      ]
    },
    {
      "cell_type": "markdown",
      "metadata": {
        "id": "XT5ic5Zda9AS",
        "colab_type": "text"
      },
      "source": [
        "### 1.2.1 2D Tensor"
      ]
    },
    {
      "cell_type": "markdown",
      "metadata": {
        "id": "5K2MvNYea9AS",
        "colab_type": "text"
      },
      "source": [
        "딥러닝을 할 때 다루고 있는 데이터의 형태가 중요하다. \n",
        "\n",
        "텐서의 크기를 고려해야 한다. \n",
        "\n",
        "다음은 봐도 봐도 잊어버리는 그림이다. \n",
        "\n",
        "이번엔 꼭 기억하자\n",
        "\n",
        "|t| = (Batch size, dim)\n",
        "\n",
        "\n",
        "![](https://wikidocs.net/images/page/52460/tensor2.PNG)\n",
        "\n",
        "위의 경우는 2차원 텐서의 크기 |t|를 (batch size X dimension)으로 표현했다.\n",
        "\n",
        "다시 말하면, 아래의 그림과 같이 행렬에서 행의 크기가 batch size, 열의 크기가 dim이라는 의미다.\n",
        "\n",
        "![대체 텍스트](https://wikidocs.net/images/page/52460/tensor3.PNG)\n",
        "\n",
        "훈련 데이터 하나의 크기를 256이라고 해보자. \n",
        "\n",
        "[3, 1, 2, 5, ...] 이런 숫자들의 나열이 256의 길이로 있다.\n",
        "\n",
        "훈련 데이터 하나는 벡터의 차원이 256개 있는 것이다. \n",
        "\n",
        "행렬 표현으로 1X256 이다.\n",
        "\n",
        "만약 이런 훈련 데이터의 개수가 3,000개라고 한다면, 전체 현재 데이터의 크기는 3,000 * 256 이다.\n",
        "\n",
        "컴퓨터는 훈련 데이터를 어떻게 처리할까? 3,000개를 1개씩 꺼내서 처리할 수도 있지만, 컴퓨터는 보통 덩어리로 처리한다.\n",
        "\n",
        "3,000개에서 64개씩 꺼내서 처리한다고 하면 컴퓨터가 한 번에 처리하는 2차원 텐서의 크기는 (batch size X dim) = 64 X 256 이다."
      ]
    },
    {
      "cell_type": "code",
      "metadata": {
        "ExecuteTime": {
          "end_time": "2020-04-06T04:29:59.149978Z",
          "start_time": "2020-04-06T04:29:58.485743Z"
        },
        "scrolled": true,
        "id": "1zVdKdk-a9AU",
        "colab_type": "code",
        "colab": {
          "base_uri": "https://localhost:8080/",
          "height": 35
        },
        "outputId": "48e71220-8d9e-414d-97fb-279d2325ed71"
      },
      "source": [
        "\"\"\"\n",
        "2D Tensor 예시\n",
        "iris dataset\n",
        "\"\"\"\n",
        "from sklearn.datasets import load_iris\n",
        "\n",
        "iris = load_iris()\n",
        "print(iris.data.shape)"
      ],
      "execution_count": 86,
      "outputs": [
        {
          "output_type": "stream",
          "text": [
            "(150, 4)\n"
          ],
          "name": "stdout"
        }
      ]
    },
    {
      "cell_type": "markdown",
      "metadata": {
        "id": "iKs0ZQ9Ra9AY",
        "colab_type": "text"
      },
      "source": [
        "iris dataset에는 150 X 4짜리 데이터가 있다.\n",
        "\n",
        "10개만 가져와서 눈으로 봐보자"
      ]
    },
    {
      "cell_type": "code",
      "metadata": {
        "ExecuteTime": {
          "end_time": "2020-04-06T04:29:59.298570Z",
          "start_time": "2020-04-06T04:29:59.287599Z"
        },
        "scrolled": true,
        "id": "iieazVD_a9AZ",
        "colab_type": "code",
        "colab": {
          "base_uri": "https://localhost:8080/",
          "height": 197
        },
        "outputId": "f6bce12e-7e49-47d3-a4f5-1f8b5cb20a26"
      },
      "source": [
        "iris['data'][:10]"
      ],
      "execution_count": 87,
      "outputs": [
        {
          "output_type": "execute_result",
          "data": {
            "text/plain": [
              "array([[5.1, 3.5, 1.4, 0.2],\n",
              "       [4.9, 3. , 1.4, 0.2],\n",
              "       [4.7, 3.2, 1.3, 0.2],\n",
              "       [4.6, 3.1, 1.5, 0.2],\n",
              "       [5. , 3.6, 1.4, 0.2],\n",
              "       [5.4, 3.9, 1.7, 0.4],\n",
              "       [4.6, 3.4, 1.4, 0.3],\n",
              "       [5. , 3.4, 1.5, 0.2],\n",
              "       [4.4, 2.9, 1.4, 0.2],\n",
              "       [4.9, 3.1, 1.5, 0.1]])"
            ]
          },
          "metadata": {
            "tags": []
          },
          "execution_count": 87
        }
      ]
    },
    {
      "cell_type": "markdown",
      "metadata": {
        "id": "FPd6Pn0Va9Ac",
        "colab_type": "text"
      },
      "source": [
        "iris dataset는 2차원 텐서이다.\n",
        "\n",
        "위에서 가져온 10개의 데이터는 텐서의 크기를 (batch size X dim) = 10 X 4 로 볼 수 있다."
      ]
    },
    {
      "cell_type": "markdown",
      "metadata": {
        "id": "Ziu4e9doa9Ae",
        "colab_type": "text"
      },
      "source": [
        "### 1.2.2 3D Tensor - 이미지"
      ]
    },
    {
      "cell_type": "markdown",
      "metadata": {
        "id": "el22UdIFa9Af",
        "colab_type": "text"
      },
      "source": [
        "![](https://wikidocs.net/images/page/52460/tensor4.PNG)\n",
        "\n",
        "데이터의 형태가 이미지면 어떨까. \n",
        "\n",
        "1. 이미지는 가로가 있다.\n",
        "\n",
        "2. 이미지는 세로가 있다.\n",
        "\n",
        "3. 이미지는 여러 장이 있을 수 있다.\n",
        "\n",
        "|t| = (batch size, width, height)\n",
        "\n",
        "1. 가로는 width\n",
        "\n",
        "2. 세로는 height\n",
        "\n",
        "3. 여러 장은 batch size\n",
        "\n",
        "![대체 텍스트](https://wikidocs.net/images/page/52460/tensor5.PNG)"
      ]
    },
    {
      "cell_type": "code",
      "metadata": {
        "ExecuteTime": {
          "end_time": "2020-04-06T04:30:03.160246Z",
          "start_time": "2020-04-06T04:30:02.750366Z"
        },
        "id": "BmrqgMBra9Af",
        "colab_type": "code",
        "colab": {
          "base_uri": "https://localhost:8080/",
          "height": 35
        },
        "outputId": "4afd0f6f-df8a-406d-dccf-66a48a4463e2"
      },
      "source": [
        "\"\"\"\n",
        "3D Tensor 이미지 예시\n",
        "digits(mnist와 비슷한 데이터) dataset\n",
        "\"\"\"\n",
        "from sklearn.datasets import load_digits\n",
        "import matplotlib.pyplot as plt\n",
        "\n",
        "mnist = load_digits()\n",
        "print(mnist['images'].shape)"
      ],
      "execution_count": 88,
      "outputs": [
        {
          "output_type": "stream",
          "text": [
            "(1797, 8, 8)\n"
          ],
          "name": "stdout"
        }
      ]
    },
    {
      "cell_type": "markdown",
      "metadata": {
        "id": "1YM8qPCBa9Ai",
        "colab_type": "text"
      },
      "source": [
        "disits dataset에는 1797 X 8 X 8 짜리 데이터가 있다.\n",
        "\n",
        "0을 나타내는 이미지를 가져와서 눈으로 봐보자"
      ]
    },
    {
      "cell_type": "code",
      "metadata": {
        "ExecuteTime": {
          "end_time": "2020-04-06T04:30:03.759644Z",
          "start_time": "2020-04-06T04:30:03.615031Z"
        },
        "id": "3PYqkiRMa9Aj",
        "colab_type": "code",
        "colab": {
          "base_uri": "https://localhost:8080/",
          "height": 265
        },
        "outputId": "fc81425c-81e1-40a9-ead8-92ce51ac1bf7"
      },
      "source": [
        "plt.imshow(mnist['images'][0])\n",
        "plt.show()"
      ],
      "execution_count": 89,
      "outputs": [
        {
          "output_type": "display_data",
          "data": {
            "image/png": "[encoded data removed]",
            "text/plain": [
              "<Figure size 432x288 with 1 Axes>"
            ]
          },
          "metadata": {
            "tags": [],
            "needs_background": "light"
          }
        }
      ]
    },
    {
      "cell_type": "markdown",
      "metadata": {
        "ExecuteTime": {
          "end_time": "2020-04-03T13:38:04.879180Z",
          "start_time": "2020-04-03T13:38:04.874194Z"
        },
        "id": "PwQfSDxTa9Al",
        "colab_type": "text"
      },
      "source": [
        "digits dataset는 3차원 텐서이다.\n",
        "\n",
        "텐서의 크기는 (batch size X width X height) = 1797 X 8 X 8 이다.\n",
        "\n",
        "위의 그림은 8 X 8 짜리 이미지고 이 이미지가 1797개 있는 dataset 이다."
      ]
    },
    {
      "cell_type": "markdown",
      "metadata": {
        "id": "nVzSLQMSa9Am",
        "colab_type": "text"
      },
      "source": [
        "### 1.2.3 3D Tensor - 텍스트"
      ]
    },
    {
      "cell_type": "markdown",
      "metadata": {
        "id": "EVPkVvCda9Am",
        "colab_type": "text"
      },
      "source": [
        "![](https://wikidocs.net/images/page/52460/tensor4.PNG)\n",
        "\n",
        "데이터의 형태가 텍스트면 어떨까. \n",
        "\n",
        "1. 텍스트는 단어의 길이가 있다.\n",
        "\n",
        "2. 텍스트는 단어 벡터의 차원이 있다.\n",
        "\n",
        "3. 텍스트는 여러 단어 벡터가 있을 수 있다.\n",
        "\n",
        "|t| = (batch size, length, dim)\n",
        "\n",
        "1. 단어의 길이는 length\n",
        "\n",
        "2. 단어 벡터의 차원은 dim\n",
        "\n",
        "3. 여러 단어 벡터는 batch size\n",
        "\n",
        "![image.png](https://wikidocs.net/images/page/52460/tensor6.PNG)"
      ]
    },
    {
      "cell_type": "code",
      "metadata": {
        "ExecuteTime": {
          "end_time": "2020-04-06T04:30:05.492015Z",
          "start_time": "2020-04-06T04:30:05.486064Z"
        },
        "scrolled": true,
        "id": "EE6nFNFKa9Am",
        "colab_type": "code",
        "colab": {
          "base_uri": "https://localhost:8080/",
          "height": 55
        },
        "outputId": "7988e9a4-60ba-4d7e-bc49-91a3e3ae2130"
      },
      "source": [
        "\"\"\"\n",
        "3D Tensor 텍스트 예시\n",
        "아래와 같이 4개의 문장으로 구성된 전체 훈련 데이터가 있다.\n",
        "\"\"\"\n",
        "\n",
        "sentences = ['나는 사과를 좋아해', '나는 바나나를 좋아해', '나는 사과를 싫어해', '나는 바나나를 싫어해']\n",
        "\n",
        "'''\n",
        "컴퓨터는 '나는 사과를 좋아해'라는 문장으로는 단어가 1개인지 3개인지 이해하지 못한다. \n",
        "우선 컴퓨터의 입력으로 사용하기 위해서 단어별로 나누어줘야 한다.\n",
        "'''\n",
        "word_sentences = [x.split(' ') for x in sentences]\n",
        "print(word_sentences)"
      ],
      "execution_count": 90,
      "outputs": [
        {
          "output_type": "stream",
          "text": [
            "[['나는', '사과를', '좋아해'], ['나는', '바나나를', '좋아해'], ['나는', '사과를', '싫어해'], ['나는', '바나나를', '싫어해']]\n"
          ],
          "name": "stdout"
        }
      ]
    },
    {
      "cell_type": "code",
      "metadata": {
        "ExecuteTime": {
          "end_time": "2020-04-06T05:21:47.177505Z",
          "start_time": "2020-04-06T05:21:47.169519Z"
        },
        "id": "aP5A7pJZa9Ar",
        "colab_type": "code",
        "colab": {
          "base_uri": "https://localhost:8080/",
          "height": 55
        },
        "outputId": "7ec78f17-5a3f-425e-8d43-066d8e2f4377"
      },
      "source": [
        "'''\n",
        "이제 훈련 데이터의 크기는 4 X 3의 크기를 가지는 2D 텐서이다.\n",
        "컴퓨터는 텍스트보다 숫자를 더 잘 처리할 수 있는데, 이제 각 단어를 벡터로 만들것이다.\n",
        "아래와 같이 단어를 3차원의 벡터로 변환했다고 하겠다.\n",
        "'''\n",
        "\n",
        "my_bow = {'나는':[0.1, 0.2, 0.9],\n",
        "          '사과를':[0.3, 0.5, 0.1],\n",
        "          '바나나를':[0.3, 0.5, 0.2],\n",
        "          '좋아해':[0.7, 0.6, 0.5],\n",
        "          '싫어해':[0.5, 0.6, 0.7]}\n",
        "word2vec = [[my_bow[word] for word in sentence] for sentence in word_sentences]\n",
        "print(word2vec)"
      ],
      "execution_count": 91,
      "outputs": [
        {
          "output_type": "stream",
          "text": [
            "[[[0.1, 0.2, 0.9], [0.3, 0.5, 0.1], [0.7, 0.6, 0.5]], [[0.1, 0.2, 0.9], [0.3, 0.5, 0.2], [0.7, 0.6, 0.5]], [[0.1, 0.2, 0.9], [0.3, 0.5, 0.1], [0.5, 0.6, 0.7]], [[0.1, 0.2, 0.9], [0.3, 0.5, 0.2], [0.5, 0.6, 0.7]]]\n"
          ],
          "name": "stdout"
        }
      ]
    },
    {
      "cell_type": "code",
      "metadata": {
        "id": "cCXdtQfZYTux",
        "colab_type": "code",
        "colab": {
          "base_uri": "https://localhost:8080/",
          "height": 305
        },
        "outputId": "fe8165cc-04df-4985-9ce0-7660b8845e3b"
      },
      "source": [
        "'''\n",
        "이제 훈련 데이터는 4 X 3 X 3의 크기를 가지는 3D 텐서이다.\n",
        "'''\n",
        "\n",
        "import numpy as np\n",
        "print(np.array(word2vec))\n",
        "print(np.array(word2vec).shape)"
      ],
      "execution_count": 92,
      "outputs": [
        {
          "output_type": "stream",
          "text": [
            "[[[0.1 0.2 0.9]\n",
            "  [0.3 0.5 0.1]\n",
            "  [0.7 0.6 0.5]]\n",
            "\n",
            " [[0.1 0.2 0.9]\n",
            "  [0.3 0.5 0.2]\n",
            "  [0.7 0.6 0.5]]\n",
            "\n",
            " [[0.1 0.2 0.9]\n",
            "  [0.3 0.5 0.1]\n",
            "  [0.5 0.6 0.7]]\n",
            "\n",
            " [[0.1 0.2 0.9]\n",
            "  [0.3 0.5 0.2]\n",
            "  [0.5 0.6 0.7]]]\n",
            "(4, 3, 3)\n"
          ],
          "name": "stdout"
        }
      ]
    },
    {
      "cell_type": "code",
      "metadata": {
        "id": "Wa4sakhJZVLf",
        "colab_type": "code",
        "colab": {
          "base_uri": "https://localhost:8080/",
          "height": 251
        },
        "outputId": "ec9d3d3d-95e9-4c65-b5d2-1fef8a1df0a0"
      },
      "source": [
        "'''\n",
        "batch size를 2로 하면 2 X 3 X 3의 크기를 가지는 3D 텐서가 2개가 된다.\n",
        "이 3D 텐서를 각각 첫번째 배치, 두번째 배치라고 표현할 수 있다.\n",
        "'''\n",
        "\n",
        "np.vsplit(np.array(word2vec), 2)"
      ],
      "execution_count": 93,
      "outputs": [
        {
          "output_type": "execute_result",
          "data": {
            "text/plain": [
              "[array([[[0.1, 0.2, 0.9],\n",
              "         [0.3, 0.5, 0.1],\n",
              "         [0.7, 0.6, 0.5]],\n",
              " \n",
              "        [[0.1, 0.2, 0.9],\n",
              "         [0.3, 0.5, 0.2],\n",
              "         [0.7, 0.6, 0.5]]]), array([[[0.1, 0.2, 0.9],\n",
              "         [0.3, 0.5, 0.1],\n",
              "         [0.5, 0.6, 0.7]],\n",
              " \n",
              "        [[0.1, 0.2, 0.9],\n",
              "         [0.3, 0.5, 0.2],\n",
              "         [0.5, 0.6, 0.7]]])]"
            ]
          },
          "metadata": {
            "tags": []
          },
          "execution_count": 93
        }
      ]
    },
    {
      "cell_type": "markdown",
      "metadata": {
        "id": "nxkjejjca9At",
        "colab_type": "text"
      },
      "source": [
        "### 1.2.4 넘파이로 텐서 만들기(벡터와 행렬 만들기)"
      ]
    },
    {
      "cell_type": "markdown",
      "metadata": {
        "id": "LtZKEmizaXUF",
        "colab_type": "text"
      },
      "source": [
        "Pytorch로 텐서를 만들기 전에 Numpy로 텐서를 만들어서 힘들어보자."
      ]
    },
    {
      "cell_type": "code",
      "metadata": {
        "ExecuteTime": {
          "end_time": "2020-04-06T04:37:42.850415Z",
          "start_time": "2020-04-06T04:37:42.847398Z"
        },
        "id": "BhAIVXDFa9Au",
        "colab_type": "code",
        "colab": {}
      },
      "source": [
        "import numpy as np"
      ],
      "execution_count": 94,
      "outputs": []
    },
    {
      "cell_type": "markdown",
      "metadata": {
        "id": "ccOMIe4Ia9Aw",
        "colab_type": "text"
      },
      "source": [
        "Numpy로 1차원 벡터를 만들어보자."
      ]
    },
    {
      "cell_type": "code",
      "metadata": {
        "ExecuteTime": {
          "end_time": "2020-04-06T04:38:46.901168Z",
          "start_time": "2020-04-06T04:38:46.896211Z"
        },
        "id": "Mc1t9blBa9Ax",
        "colab_type": "code",
        "colab": {
          "base_uri": "https://localhost:8080/",
          "height": 35
        },
        "outputId": "3381e544-1f1d-4789-ed0b-765b8a6aa159"
      },
      "source": [
        "t=np.array([0., 1., 2., 3., 4., 5., 6.])\n",
        "print(t)"
      ],
      "execution_count": 95,
      "outputs": [
        {
          "output_type": "stream",
          "text": [
            "[0. 1. 2. 3. 4. 5. 6.]\n"
          ],
          "name": "stdout"
        }
      ]
    },
    {
      "cell_type": "markdown",
      "metadata": {
        "id": "sQG4o-nJa9A1",
        "colab_type": "text"
      },
      "source": [
        "1차원 벡터의 차원과 크기를 출력해보자."
      ]
    },
    {
      "cell_type": "code",
      "metadata": {
        "ExecuteTime": {
          "end_time": "2020-04-06T04:39:43.500863Z",
          "start_time": "2020-04-06T04:39:43.495877Z"
        },
        "id": "Seoxl1i7a9A1",
        "colab_type": "code",
        "colab": {
          "base_uri": "https://localhost:8080/",
          "height": 53
        },
        "outputId": "cb0481d2-c501-4304-976f-bdf292e1d192"
      },
      "source": [
        "print('Rank of t: ', t.ndim) # 몇 차원인지 출력\n",
        "print('Shape of t: ', t.shape) # 크기를 출력"
      ],
      "execution_count": 96,
      "outputs": [
        {
          "output_type": "stream",
          "text": [
            "Rank of t:  1\n",
            "Shape of t:  (7,)\n"
          ],
          "name": "stdout"
        }
      ]
    },
    {
      "cell_type": "markdown",
      "metadata": {
        "id": "u9VqBWUfbYMX",
        "colab_type": "text"
      },
      "source": [
        "Numpy에서 각 벡터의 원소에 접근하는 방법"
      ]
    },
    {
      "cell_type": "code",
      "metadata": {
        "id": "AlSiRiiFbWyP",
        "colab_type": "code",
        "colab": {
          "base_uri": "https://localhost:8080/",
          "height": 35
        },
        "outputId": "f11eea3a-f488-4401-c997-d491892ac5e9"
      },
      "source": [
        "print('t[0] t[1] t[-1] = ', t[0], t[1], t[-1]) # 인덱스를 통한 원소 접근"
      ],
      "execution_count": 97,
      "outputs": [
        {
          "output_type": "stream",
          "text": [
            "t[0] t[1] t[-1] =  0.0 1.0 6.0\n"
          ],
          "name": "stdout"
        }
      ]
    },
    {
      "cell_type": "code",
      "metadata": {
        "id": "G4KODvnDbgke",
        "colab_type": "code",
        "colab": {
          "base_uri": "https://localhost:8080/",
          "height": 35
        },
        "outputId": "d80d74dd-f157-45bd-820a-8e9f3e583047"
      },
      "source": [
        "print('t[2:5] t[4:-1]  = ', t[2:5], t[4:-1]) # [시작 번호 : 끝 번호]로 범위 지정을 통해 가져온다."
      ],
      "execution_count": 98,
      "outputs": [
        {
          "output_type": "stream",
          "text": [
            "t[2:5] t[4:-1]  =  [2. 3. 4.] [4. 5.]\n"
          ],
          "name": "stdout"
        }
      ]
    },
    {
      "cell_type": "code",
      "metadata": {
        "id": "VGd9WgJDbjlE",
        "colab_type": "code",
        "colab": {
          "base_uri": "https://localhost:8080/",
          "height": 35
        },
        "outputId": "e251b353-aad4-44eb-f775-974611a1d98c"
      },
      "source": [
        "print('t[:2] t[3:]     = ', t[:2], t[3:]) # 시작 번호를 생략한 경우와 끝 번호를 생략한 경우"
      ],
      "execution_count": 99,
      "outputs": [
        {
          "output_type": "stream",
          "text": [
            "t[:2] t[3:]     =  [0. 1.] [3. 4. 5. 6.]\n"
          ],
          "name": "stdout"
        }
      ]
    },
    {
      "cell_type": "markdown",
      "metadata": {
        "id": "rOGno7nWa9A4",
        "colab_type": "text"
      },
      "source": [
        "Numpy로 2차원 행렬을 만들어보자."
      ]
    },
    {
      "cell_type": "code",
      "metadata": {
        "ExecuteTime": {
          "end_time": "2020-04-06T04:41:52.204816Z",
          "start_time": "2020-04-06T04:41:52.199860Z"
        },
        "id": "4LXtW7pla9A5",
        "colab_type": "code",
        "colab": {
          "base_uri": "https://localhost:8080/",
          "height": 89
        },
        "outputId": "30d3c05d-6516-4f8f-fbd7-c97467bfffc8"
      },
      "source": [
        "t=np.array([[1., 2., 3.],\n",
        "            [4., 5., 6.,],\n",
        "            [7., 8., 9.,],\n",
        "            [10., 11., 12.,]])\n",
        "print(t)"
      ],
      "execution_count": 100,
      "outputs": [
        {
          "output_type": "stream",
          "text": [
            "[[ 1.  2.  3.]\n",
            " [ 4.  5.  6.]\n",
            " [ 7.  8.  9.]\n",
            " [10. 11. 12.]]\n"
          ],
          "name": "stdout"
        }
      ]
    },
    {
      "cell_type": "code",
      "metadata": {
        "ExecuteTime": {
          "end_time": "2020-04-06T04:42:01.261598Z",
          "start_time": "2020-04-06T04:42:01.256611Z"
        },
        "id": "zibkojvZa9A8",
        "colab_type": "code",
        "colab": {
          "base_uri": "https://localhost:8080/",
          "height": 53
        },
        "outputId": "b39b89df-cb00-4b06-c204-3fba1cb85266"
      },
      "source": [
        "print('Rank of t: ', t.ndim) # 몇 차원인지 출력\n",
        "print('Shape of t: ', t.shape) # 크기를 출력"
      ],
      "execution_count": 101,
      "outputs": [
        {
          "output_type": "stream",
          "text": [
            "Rank of t:  2\n",
            "Shape of t:  (4, 3)\n"
          ],
          "name": "stdout"
        }
      ]
    },
    {
      "cell_type": "markdown",
      "metadata": {
        "id": "r55NlKKZa9A_",
        "colab_type": "text"
      },
      "source": [
        "### 1.2.5 파이토치로 텐서 만들기"
      ]
    },
    {
      "cell_type": "code",
      "metadata": {
        "id": "fGTaM3E7a7rP",
        "colab_type": "code",
        "colab": {}
      },
      "source": [
        "import torch"
      ],
      "execution_count": 102,
      "outputs": []
    },
    {
      "cell_type": "markdown",
      "metadata": {
        "id": "--P3MoDnbFBs",
        "colab_type": "text"
      },
      "source": [
        "Pytorch로 1차원 벡터를 만들어보자."
      ]
    },
    {
      "cell_type": "code",
      "metadata": {
        "ExecuteTime": {
          "end_time": "2020-04-06T04:43:34.837476Z",
          "start_time": "2020-04-06T04:43:34.823515Z"
        },
        "id": "IXgj9Ns6a9A_",
        "colab_type": "code",
        "colab": {
          "base_uri": "https://localhost:8080/",
          "height": 35
        },
        "outputId": "2573ec5b-818c-4974-9eeb-1c9f470848b9"
      },
      "source": [
        "t = torch.tensor([0., 1., 2., 3., 4., 5., 6.])\n",
        "print(t)"
      ],
      "execution_count": 103,
      "outputs": [
        {
          "output_type": "stream",
          "text": [
            "tensor([0., 1., 2., 3., 4., 5., 6.])\n"
          ],
          "name": "stdout"
        }
      ]
    },
    {
      "cell_type": "code",
      "metadata": {
        "ExecuteTime": {
          "end_time": "2020-04-06T04:44:04.323658Z",
          "start_time": "2020-04-06T04:44:04.318646Z"
        },
        "id": "dzHxiNLZa9BC",
        "colab_type": "code",
        "colab": {
          "base_uri": "https://localhost:8080/",
          "height": 71
        },
        "outputId": "b9d058b1-82b4-42a0-ddc8-2b1d695c214f"
      },
      "source": [
        "print(t.dim()) # 몇 차원인지 출력\n",
        "print(t.shape) # 크기를 출력\n",
        "print(t.size()) # 크기를 출력"
      ],
      "execution_count": 104,
      "outputs": [
        {
          "output_type": "stream",
          "text": [
            "1\n",
            "torch.Size([7])\n",
            "torch.Size([7])\n"
          ],
          "name": "stdout"
        }
      ]
    },
    {
      "cell_type": "markdown",
      "metadata": {
        "id": "xGuJSUvBbqRH",
        "colab_type": "text"
      },
      "source": [
        "Pytorch에서 각 벡터의 원소에 접근하는 방법"
      ]
    },
    {
      "cell_type": "code",
      "metadata": {
        "id": "VOT6gRJBbosu",
        "colab_type": "code",
        "colab": {
          "base_uri": "https://localhost:8080/",
          "height": 71
        },
        "outputId": "0f758bf8-b867-4585-a12c-e6ac8bdbd1bf"
      },
      "source": [
        "print(t[0], t[1], t[-1])  # 인덱스로 접근\n",
        "print(t[2:5], t[4:-1])    # 슬라이싱\n",
        "print(t[:2], t[3:])       # 슬라이싱"
      ],
      "execution_count": 105,
      "outputs": [
        {
          "output_type": "stream",
          "text": [
            "tensor(0.) tensor(1.) tensor(6.)\n",
            "tensor([2., 3., 4.]) tensor([4., 5.])\n",
            "tensor([0., 1.]) tensor([3., 4., 5., 6.])\n"
          ],
          "name": "stdout"
        }
      ]
    },
    {
      "cell_type": "markdown",
      "metadata": {
        "id": "jiSO4MRXbIUl",
        "colab_type": "text"
      },
      "source": [
        "Pytorch로 2차원 행렬을 만들어보자."
      ]
    },
    {
      "cell_type": "code",
      "metadata": {
        "ExecuteTime": {
          "end_time": "2020-04-06T04:44:57.625137Z",
          "start_time": "2020-04-06T04:44:57.618156Z"
        },
        "id": "lNwAg6SOa9BG",
        "colab_type": "code",
        "colab": {
          "base_uri": "https://localhost:8080/",
          "height": 89
        },
        "outputId": "055e6ece-ae44-4873-a591-9c0c4e56093a"
      },
      "source": [
        "t = torch.tensor([[1., 2., 3.],\n",
        "                 [4., 5., 6.],\n",
        "                 [7., 8., 9.,],\n",
        "                 [10., 11., 12.]\n",
        "                 ])\n",
        "print(t)"
      ],
      "execution_count": 106,
      "outputs": [
        {
          "output_type": "stream",
          "text": [
            "tensor([[ 1.,  2.,  3.],\n",
            "        [ 4.,  5.,  6.],\n",
            "        [ 7.,  8.,  9.],\n",
            "        [10., 11., 12.]])\n"
          ],
          "name": "stdout"
        }
      ]
    },
    {
      "cell_type": "code",
      "metadata": {
        "ExecuteTime": {
          "end_time": "2020-04-06T04:47:57.803492Z",
          "start_time": "2020-04-06T04:47:57.799519Z"
        },
        "id": "h8fj5CuIa9BI",
        "colab_type": "code",
        "colab": {
          "base_uri": "https://localhost:8080/",
          "height": 71
        },
        "outputId": "7c80ca1a-3f52-46a7-baa5-134ab9231f4d"
      },
      "source": [
        "print(t.dim()) # 몇 차원인지 출력\n",
        "print(t.shape) # 크기를 출력\n",
        "print(t.size()) # 크기를 출력"
      ],
      "execution_count": 107,
      "outputs": [
        {
          "output_type": "stream",
          "text": [
            "2\n",
            "torch.Size([4, 3])\n",
            "torch.Size([4, 3])\n"
          ],
          "name": "stdout"
        }
      ]
    },
    {
      "cell_type": "code",
      "metadata": {
        "ExecuteTime": {
          "end_time": "2020-04-06T04:48:00.060462Z",
          "start_time": "2020-04-06T04:48:00.055488Z"
        },
        "id": "8ZgPyNsSa9BL",
        "colab_type": "code",
        "colab": {
          "base_uri": "https://localhost:8080/",
          "height": 53
        },
        "outputId": "65da25ac-7299-4832-a568-aea42b0e09f6"
      },
      "source": [
        "print(t[:, 1]) # 첫번째 차원을 전체 선택한 상황에서 두번째 차원의 두번째 것만 가져온다.\n",
        "print(t[:, 1].size())"
      ],
      "execution_count": 108,
      "outputs": [
        {
          "output_type": "stream",
          "text": [
            "tensor([ 2.,  5.,  8., 11.])\n",
            "torch.Size([4])\n"
          ],
          "name": "stdout"
        }
      ]
    },
    {
      "cell_type": "code",
      "metadata": {
        "ExecuteTime": {
          "end_time": "2020-04-06T04:49:18.797986Z",
          "start_time": "2020-04-06T04:49:18.792009Z"
        },
        "id": "AFAJA7hpa9BO",
        "colab_type": "code",
        "colab": {
          "base_uri": "https://localhost:8080/",
          "height": 89
        },
        "outputId": "bfdc2ded-8d03-4935-ee8b-cc0375e91e9c"
      },
      "source": [
        "print(t[:, :-1]) # 첫번째 차원을 전체 선택한 상황에서 두번째 차원의 마지막 것만 제외하고 가져온다."
      ],
      "execution_count": null,
      "outputs": [
        {
          "output_type": "stream",
          "text": [
            "tensor([[ 1.,  2.],\n",
            "        [ 4.,  5.],\n",
            "        [ 7.,  8.],\n",
            "        [10., 11.]])\n"
          ],
          "name": "stdout"
        }
      ]
    },
    {
      "cell_type": "markdown",
      "metadata": {
        "id": "n6NAOYnca9BQ",
        "colab_type": "text"
      },
      "source": [
        "### 1.2.6 브로드캐스팅(Broadcasting)"
      ]
    },
    {
      "cell_type": "markdown",
      "metadata": {
        "id": "uwDpF4OHa9BQ",
        "colab_type": "text"
      },
      "source": [
        "두 행렬의 덧셈과 뺄셈을 하려면 두 행렬의 크기가 같아야 한다.\n",
        "\n",
        "두 행렬의 곱셉을 할 때는 앞 행렬의 마지막 차원과 뒤 행렬의 첫번째 차원이 일치해야 한다.\n",
        "\n",
        "딥 러닝을 하게 되면 불가피하게 크기가 다른 행렬 또는 텐서에 대해서 사칙 연산을 수행할 필요가 있다. 이 경우를 위해 파이토치에서는 자동으로 크기를 맞춰서 연산을 수행하게 만드는 브로드캐스팅이라는 기능을 제공한다."
      ]
    },
    {
      "cell_type": "code",
      "metadata": {
        "ExecuteTime": {
          "end_time": "2020-04-06T04:51:15.657586Z",
          "start_time": "2020-04-06T04:51:15.651587Z"
        },
        "id": "RuMkhvsla9BQ",
        "colab_type": "code",
        "colab": {
          "base_uri": "https://localhost:8080/",
          "height": 35
        },
        "outputId": "873e4054-4724-4d45-85cc-990ab7f9cf81"
      },
      "source": [
        "# 크기가 같은 텐서에 대한 연산\n",
        "\n",
        "m1 = torch.tensor([[3., 3.]])\n",
        "m2 = torch.tensor([[2., 2.]])\n",
        "print(m1+m2)"
      ],
      "execution_count": null,
      "outputs": [
        {
          "output_type": "stream",
          "text": [
            "tensor([[5., 5.]])\n"
          ],
          "name": "stdout"
        }
      ]
    },
    {
      "cell_type": "code",
      "metadata": {
        "ExecuteTime": {
          "end_time": "2020-04-06T04:52:23.304734Z",
          "start_time": "2020-04-06T04:52:23.298750Z"
        },
        "id": "_SNtBctfa9BT",
        "colab_type": "code",
        "colab": {
          "base_uri": "https://localhost:8080/",
          "height": 35
        },
        "outputId": "b6006aa3-b7cb-4612-cfff-03ddac44fb92"
      },
      "source": [
        "# 크기가 다른 텐서에 대한 연산\n",
        "\n",
        "m1 = torch.tensor([[1., 2.]])\n",
        "m2 = torch.tensor([3])\n",
        "print(m1+m2)\n",
        "# m2 가 [[3,3]] 이 되어 더해진다"
      ],
      "execution_count": null,
      "outputs": [
        {
          "output_type": "stream",
          "text": [
            "tensor([[4., 5.]])\n"
          ],
          "name": "stdout"
        }
      ]
    },
    {
      "cell_type": "code",
      "metadata": {
        "ExecuteTime": {
          "end_time": "2020-04-06T05:09:09.934805Z",
          "start_time": "2020-04-06T05:09:09.928822Z"
        },
        "id": "wzwULVVma9BV",
        "colab_type": "code",
        "colab": {
          "base_uri": "https://localhost:8080/",
          "height": 53
        },
        "outputId": "a9db9b3a-0f05-4835-a1f5-c65fc3b20cea"
      },
      "source": [
        "# 2 x 1 Vector + 1 X 2 Vector\n",
        "m1 = torch.tensor([[1., 2.]])\n",
        "m2 = torch.tensor([[3.],\n",
        "                   [4.]])\n",
        "print(m1 + m2)\n",
        "\n",
        "\n",
        "# [1,2]\n",
        "# ==> [[1, 2].\n",
        "#      [1, 2]]\n",
        "    \n",
        "# [3]\n",
        "# [4]\n",
        "# ==> [[3, 3],\n",
        "#      [4, 4]]\n"
      ],
      "execution_count": null,
      "outputs": [
        {
          "output_type": "stream",
          "text": [
            "tensor([[4., 5.],\n",
            "        [5., 6.]])\n"
          ],
          "name": "stdout"
        }
      ]
    },
    {
      "cell_type": "markdown",
      "metadata": {
        "id": "1gt-dgbKa9BY",
        "colab_type": "text"
      },
      "source": [
        "브로드캐스팅은 자동으로 실행되기 때문에 텐서를 다룰 때는 크기를 잘 파악해야한다!"
      ]
    },
    {
      "cell_type": "markdown",
      "metadata": {
        "id": "D5vxIULEa9BY",
        "colab_type": "text"
      },
      "source": [
        "### 1.2.7 곱셈, 평균, 덧셈, 최대, 아그맥스"
      ]
    },
    {
      "cell_type": "markdown",
      "metadata": {
        "id": "prtdTY24a9BZ",
        "colab_type": "text"
      },
      "source": [
        "행렬 곱셈 Vs. 원소별 곱셈\n",
        "\n",
        "(Matrix Mulitiplication Vs. Multiplitcation)\n",
        "\n",
        "행렬 곱셈(.matmul) Vs. 원소별 곱셈(.mul)\n",
        "\n",
        "외적과 내적 느낌이다."
      ]
    },
    {
      "cell_type": "code",
      "metadata": {
        "ExecuteTime": {
          "end_time": "2020-04-06T05:13:55.208211Z",
          "start_time": "2020-04-06T05:13:55.200201Z"
        },
        "id": "EQLidxDta9Ba",
        "colab_type": "code",
        "colab": {
          "base_uri": "https://localhost:8080/",
          "height": 89
        },
        "outputId": "af484d65-a96b-49d1-eed0-007d0a9ae5e1"
      },
      "source": [
        "# 행렬 곱셈(.matmul)\n",
        "m1 = torch.tensor([[1., 2.],\n",
        "                  [3., 4.]])\n",
        "m2 = torch.tensor([[1.],\n",
        "                   [2.]])\n",
        "print('Shape of Matrix 1: ', m1.size()) # 2 x 2\n",
        "print('Shape of Matrix 2: ', m2.size()) # 2 x 1\n",
        "print(m1.matmul(m2)) # 2 x 1"
      ],
      "execution_count": null,
      "outputs": [
        {
          "output_type": "stream",
          "text": [
            "Shape of Matrix 1:  torch.Size([2, 2])\n",
            "Shape of Matrix 2:  torch.Size([2, 1])\n",
            "tensor([[ 5.],\n",
            "        [11.]])\n"
          ],
          "name": "stdout"
        }
      ]
    },
    {
      "cell_type": "code",
      "metadata": {
        "ExecuteTime": {
          "end_time": "2020-04-06T05:16:30.499081Z",
          "start_time": "2020-04-06T05:16:30.490077Z"
        },
        "scrolled": true,
        "id": "6iyCvhuEa9Bc",
        "colab_type": "code",
        "colab": {
          "base_uri": "https://localhost:8080/",
          "height": 125
        },
        "outputId": "36f4f766-b650-4754-b92e-fd95bb3e4c85"
      },
      "source": [
        "# 원소별 곱셈(.mul)\n",
        "# 원소별 곱셈(element-wise)을 하면 브로드캐스팅이 된 후에 수행된다.\n",
        "m1 = torch.tensor([[1., 2.],\n",
        "                  [3., 4.]])\n",
        "m2 = torch.tensor([[1.],\n",
        "                   [2.]])\n",
        "print('Shape of Matrix 1: ', m1.size()) # 2 x 2\n",
        "print('Shape of Matrix 2: ', m2.size()) # 2 x 1\n",
        "print(m1 * m2) # 2 x 2\n",
        "print(m1.mul(m2)) # 2 x 2"
      ],
      "execution_count": null,
      "outputs": [
        {
          "output_type": "stream",
          "text": [
            "Shape of Matrix 1:  torch.Size([2, 2])\n",
            "Shape of Matrix 2:  torch.Size([2, 1])\n",
            "tensor([[1., 2.],\n",
            "        [6., 8.]])\n",
            "tensor([[1., 2.],\n",
            "        [6., 8.]])\n"
          ],
          "name": "stdout"
        }
      ]
    },
    {
      "cell_type": "markdown",
      "metadata": {
        "id": "xArKHBa2a9Be",
        "colab_type": "text"
      },
      "source": [
        "평균을 구할 수도 있다."
      ]
    },
    {
      "cell_type": "code",
      "metadata": {
        "ExecuteTime": {
          "end_time": "2020-04-06T05:17:37.070117Z",
          "start_time": "2020-04-06T05:17:37.064124Z"
        },
        "id": "vSg28lFca9Be",
        "colab_type": "code",
        "colab": {
          "base_uri": "https://localhost:8080/",
          "height": 35
        },
        "outputId": "36ce3a8a-1f85-4a5f-fb65-5b97025edc80"
      },
      "source": [
        "t = torch.tensor([1., 2.])\n",
        "print(t.mean())"
      ],
      "execution_count": null,
      "outputs": [
        {
          "output_type": "stream",
          "text": [
            "tensor(1.5000)\n"
          ],
          "name": "stdout"
        }
      ]
    },
    {
      "cell_type": "code",
      "metadata": {
        "ExecuteTime": {
          "end_time": "2020-04-06T05:18:27.989996Z",
          "start_time": "2020-04-06T05:18:27.984012Z"
        },
        "id": "lRHy_T8ia9Bi",
        "colab_type": "code",
        "colab": {
          "base_uri": "https://localhost:8080/",
          "height": 35
        },
        "outputId": "fbca7ff6-6f6a-4a8b-b5c3-7032a6ba0f79"
      },
      "source": [
        "t = torch.tensor([[1., 2.], \n",
        "                  [3., 4.]])\n",
        "print(t.mean())"
      ],
      "execution_count": null,
      "outputs": [
        {
          "output_type": "stream",
          "text": [
            "tensor(2.5000)\n"
          ],
          "name": "stdout"
        }
      ]
    },
    {
      "cell_type": "code",
      "metadata": {
        "ExecuteTime": {
          "end_time": "2020-04-06T05:25:43.791974Z",
          "start_time": "2020-04-06T05:25:43.784992Z"
        },
        "id": "6_QgoSlDa9Bm",
        "colab_type": "code",
        "colab": {
          "base_uri": "https://localhost:8080/",
          "height": 89
        },
        "outputId": "3c4b3a9d-9d52-4d8b-fed4-55689e3b5333"
      },
      "source": [
        "# 차원별로 보자\n",
        "print(t)\n",
        "print(t.mean(dim=0)) # 첫번째 차원을 없앤 후 평균이다. 여기서는 행을 없앤 후 열의 평균이다.\n",
        "print(t.mean(dim=1)) # 두번째 차원을 없앤 후 평균이다. 여기서는 열을 없앤 후 행의 평균이다."
      ],
      "execution_count": null,
      "outputs": [
        {
          "output_type": "stream",
          "text": [
            "tensor([[1., 2.],\n",
            "        [3., 4.]])\n",
            "tensor([2., 3.])\n",
            "tensor([1.5000, 3.5000])\n"
          ],
          "name": "stdout"
        }
      ]
    },
    {
      "cell_type": "markdown",
      "metadata": {
        "id": "llqJuud2a9Br",
        "colab_type": "text"
      },
      "source": [
        "덧셈도 있다."
      ]
    },
    {
      "cell_type": "code",
      "metadata": {
        "ExecuteTime": {
          "end_time": "2020-04-06T05:27:44.385611Z",
          "start_time": "2020-04-06T05:27:44.378619Z"
        },
        "id": "3MOZHhina9Br",
        "colab_type": "code",
        "colab": {
          "base_uri": "https://localhost:8080/",
          "height": 107
        },
        "outputId": "50ed8369-c1a2-409a-f24d-05de6ed0fafa"
      },
      "source": [
        "print(t)\n",
        "print(t.sum())\n",
        "print(t.sum(dim=0)) # 첫번째 차원을 없앤 후 덧셈이다. 여기서는 행을 없앤 후 열의 덧셈이다.\n",
        "print(t.sum(dim=1)) # 두번째 차원을 없앤 후 덧셈이다. 여기서는 열을 없앤 후 행의 덧셈이다."
      ],
      "execution_count": null,
      "outputs": [
        {
          "output_type": "stream",
          "text": [
            "tensor([[1., 2.],\n",
            "        [3., 4.]])\n",
            "tensor(10.)\n",
            "tensor([4., 6.])\n",
            "tensor([3., 7.])\n"
          ],
          "name": "stdout"
        }
      ]
    },
    {
      "cell_type": "code",
      "metadata": {
        "ExecuteTime": {
          "end_time": "2020-04-06T05:30:41.407379Z",
          "start_time": "2020-04-06T05:30:41.401396Z"
        },
        "scrolled": true,
        "id": "g7yoCGFwa9Bw",
        "colab_type": "code",
        "colab": {
          "base_uri": "https://localhost:8080/",
          "height": 89
        },
        "outputId": "fd76600e-bcc8-4d66-e7de-3dd14f9e773c"
      },
      "source": [
        "print(t)\n",
        "print(t.max()) # 원소 중 최대값을 리턴\n",
        "print(t.argmax()) # 원소 중 최대값의 인덱스를 리턴"
      ],
      "execution_count": null,
      "outputs": [
        {
          "output_type": "stream",
          "text": [
            "tensor([[1., 2.],\n",
            "        [3., 4.]])\n",
            "tensor(4.)\n",
            "tensor(3)\n"
          ],
          "name": "stdout"
        }
      ]
    },
    {
      "cell_type": "code",
      "metadata": {
        "ExecuteTime": {
          "end_time": "2020-04-06T05:31:24.886150Z",
          "start_time": "2020-04-06T05:31:24.880167Z"
        },
        "scrolled": true,
        "id": "KxnP9JHsa9B0",
        "colab_type": "code",
        "colab": {
          "base_uri": "https://localhost:8080/",
          "height": 71
        },
        "outputId": "736d5e1c-830a-4ca0-a326-239efdca5002"
      },
      "source": [
        "print(t.max(dim=0)) # 행을 없애고 max값을 받으면 값과 인덱스가 나온다."
      ],
      "execution_count": null,
      "outputs": [
        {
          "output_type": "stream",
          "text": [
            "torch.return_types.max(\n",
            "values=tensor([3., 4.]),\n",
            "indices=tensor([1, 1]))\n"
          ],
          "name": "stdout"
        }
      ]
    },
    {
      "cell_type": "code",
      "metadata": {
        "ExecuteTime": {
          "end_time": "2020-04-06T05:33:20.920963Z",
          "start_time": "2020-04-06T05:33:20.912998Z"
        },
        "id": "fHCxtX8ya9B2",
        "colab_type": "code",
        "colab": {
          "base_uri": "https://localhost:8080/",
          "height": 53
        },
        "outputId": "f7b19e31-bf63-4508-a26a-4bfd07946eb5"
      },
      "source": [
        "print('Max:', t.max(dim=0)[0])\n",
        "print('Argmax:', t.max(dim=0)[1])\n",
        "# 이렇게 하면 둘 다 받을 수 있다.\n",
        "# 근데 이게 의미가 있는가? 그건 잘 모르겠다."
      ],
      "execution_count": null,
      "outputs": [
        {
          "output_type": "stream",
          "text": [
            "Max: tensor([3., 4.])\n",
            "Argmax: tensor([1, 1])\n"
          ],
          "name": "stdout"
        }
      ]
    },
    {
      "cell_type": "markdown",
      "metadata": {
        "id": "dZHLYCewa9B5",
        "colab_type": "text"
      },
      "source": [
        "### 1.2.8 뷰, 스퀴즈, 언스퀴즈"
      ]
    },
    {
      "cell_type": "markdown",
      "metadata": {
        "id": "WPg-L1Hja9CG",
        "colab_type": "text"
      },
      "source": [
        "이쯤에서 까먹었을테니 가져왔다.\n",
        "\n",
        "|t| = (batch size, width, height)\n",
        "\n",
        "![대체 텍스트](https://wikidocs.net/images/page/52460/tensor5.PNG)\n"
      ]
    },
    {
      "cell_type": "markdown",
      "metadata": {
        "id": "PhZzbiTHa9B6",
        "colab_type": "text"
      },
      "source": [
        "뷰(View) - 원소의 수를 유지하면서 텐서의 크기를 변경한다. 매우 중요하다\n",
        "\n",
        "numpy의 Reshape와 같은 역할을 하는 것이 pytorch의 View이다.\n",
        "\n",
        "텐서의 크기(shape 또는 size())를 변경해준다."
      ]
    },
    {
      "cell_type": "code",
      "metadata": {
        "ExecuteTime": {
          "end_time": "2020-04-06T05:40:05.958206Z",
          "start_time": "2020-04-06T05:40:05.953219Z"
        },
        "id": "dfqlT5iZa9B9",
        "colab_type": "code",
        "colab": {
          "base_uri": "https://localhost:8080/",
          "height": 125
        },
        "outputId": "13951e8d-623c-4e43-82f6-586da16c69c3"
      },
      "source": [
        "t = np.array([[[0., 1., 2.],\n",
        "              [3., 4., 5.]],\n",
        "              [[6., 7., 8.],\n",
        "              [9., 10., 11.]]])\n",
        "tf = torch.FloatTensor(t)\n",
        "print(tf)\n",
        "print(tf.shape)"
      ],
      "execution_count": null,
      "outputs": [
        {
          "output_type": "stream",
          "text": [
            "tensor([[[ 0.,  1.,  2.],\n",
            "         [ 3.,  4.,  5.]],\n",
            "\n",
            "        [[ 6.,  7.,  8.],\n",
            "         [ 9., 10., 11.]]])\n",
            "torch.Size([2, 2, 3])\n"
          ],
          "name": "stdout"
        }
      ]
    },
    {
      "cell_type": "markdown",
      "metadata": {
        "id": "YIpAv16ra9B_",
        "colab_type": "text"
      },
      "source": [
        "![대체 텍스트](https://wikidocs.net/images/page/52846/tensor1.PNG)"
      ]
    },
    {
      "cell_type": "code",
      "metadata": {
        "ExecuteTime": {
          "end_time": "2020-04-06T05:41:37.447635Z",
          "start_time": "2020-04-06T05:41:37.440676Z"
        },
        "scrolled": true,
        "id": "nZEgmg_3a9B_",
        "colab_type": "code",
        "colab": {
          "base_uri": "https://localhost:8080/",
          "height": 197
        },
        "outputId": "4fa84806-ecdb-4ebb-ec17-97097aa9cb60"
      },
      "source": [
        "# 2차원 텐서로 변경\n",
        "t = np.array([[[0., 1., 2.],\n",
        "              [3., 4., 5.]],\n",
        "              [[6., 7., 8.],\n",
        "              [9., 10., 11.]]])\n",
        "tf = torch.FloatTensor(t)\n",
        "print(tf)\n",
        "print(tf.view([-1,3])) #ft라는 텐서를 (?, 3)의 크기로 변경\n",
        "print(tf.view([-1,3]).shape)"
      ],
      "execution_count": null,
      "outputs": [
        {
          "output_type": "stream",
          "text": [
            "tensor([[[ 0.,  1.,  2.],\n",
            "         [ 3.,  4.,  5.]],\n",
            "\n",
            "        [[ 6.,  7.,  8.],\n",
            "         [ 9., 10., 11.]]])\n",
            "tensor([[ 0.,  1.,  2.],\n",
            "        [ 3.,  4.,  5.],\n",
            "        [ 6.,  7.,  8.],\n",
            "        [ 9., 10., 11.]])\n",
            "torch.Size([4, 3])\n"
          ],
          "name": "stdout"
        }
      ]
    },
    {
      "cell_type": "markdown",
      "metadata": {
        "id": "3hyZ86J-a9CE",
        "colab_type": "text"
      },
      "source": [
        "![대체 텍스트](https://wikidocs.net/images/page/52846/tensor2.PNG)"
      ]
    },
    {
      "cell_type": "markdown",
      "metadata": {
        "id": "9FZEdMQleVAA",
        "colab_type": "text"
      },
      "source": [
        "1. view는 기본적으로 변경 전과 변경 후의 텐서 안의 원소의 개수가 유지되어야 한다.\n",
        "\n",
        "2. 파이토치의 view는 사이즈가 -1로 설정되면 다른 차원으로부터 해당 값을 유추한다."
      ]
    },
    {
      "cell_type": "code",
      "metadata": {
        "ExecuteTime": {
          "end_time": "2020-04-06T05:44:40.679820Z",
          "start_time": "2020-04-06T05:44:40.672845Z"
        },
        "scrolled": true,
        "id": "D7pehTvFa9CE",
        "colab_type": "code",
        "colab": {
          "base_uri": "https://localhost:8080/",
          "height": 251
        },
        "outputId": "fc48b7fd-96e0-4947-c87b-c8d24c21cd3d"
      },
      "source": [
        "# 3차원 텐서로 변경\n",
        "t = np.array([[[0., 1., 2.],\n",
        "              [3., 4., 5.]],\n",
        "              [[6., 7., 8.],\n",
        "              [9., 10., 11.]]])\n",
        "tf = torch.FloatTensor(t)\n",
        "print(tf)\n",
        "print(tf.view([-1, 1, 3]))\n",
        "print(tf.view([-1, 1, 3]).shape)"
      ],
      "execution_count": null,
      "outputs": [
        {
          "output_type": "stream",
          "text": [
            "tensor([[[ 0.,  1.,  2.],\n",
            "         [ 3.,  4.,  5.]],\n",
            "\n",
            "        [[ 6.,  7.,  8.],\n",
            "         [ 9., 10., 11.]]])\n",
            "tensor([[[ 0.,  1.,  2.]],\n",
            "\n",
            "        [[ 3.,  4.,  5.]],\n",
            "\n",
            "        [[ 6.,  7.,  8.]],\n",
            "\n",
            "        [[ 9., 10., 11.]]])\n",
            "torch.Size([4, 1, 3])\n"
          ],
          "name": "stdout"
        }
      ]
    },
    {
      "cell_type": "markdown",
      "metadata": {
        "id": "lPtyTgWOa9CG",
        "colab_type": "text"
      },
      "source": [
        "스퀴즈(Squeeze) - 1인 차원을 제거한다."
      ]
    },
    {
      "cell_type": "code",
      "metadata": {
        "ExecuteTime": {
          "end_time": "2020-04-06T05:56:25.202493Z",
          "start_time": "2020-04-06T05:56:25.194483Z"
        },
        "scrolled": true,
        "id": "HsWK83rZa9CH",
        "colab_type": "code",
        "colab": {
          "base_uri": "https://localhost:8080/",
          "height": 125
        },
        "outputId": "85f7a18e-e0a1-4bb2-9ee6-a48e2e2cea9a"
      },
      "source": [
        "ft = torch.FloatTensor([[0],\n",
        "                        [1],\n",
        "                        [2]])\n",
        "print(ft)\n",
        "print(ft.shape)\n",
        "print(ft.squeeze())\n",
        "print(ft.squeeze().shape)"
      ],
      "execution_count": null,
      "outputs": [
        {
          "output_type": "stream",
          "text": [
            "tensor([[0.],\n",
            "        [1.],\n",
            "        [2.]])\n",
            "torch.Size([3, 1])\n",
            "tensor([0., 1., 2.])\n",
            "torch.Size([3])\n"
          ],
          "name": "stdout"
        }
      ]
    },
    {
      "cell_type": "markdown",
      "metadata": {
        "id": "KxqjnLxoa9CL",
        "colab_type": "text"
      },
      "source": [
        "언스퀴즈(Unsqueeze) - 특정 위치에 1인 차원을 추가한다."
      ]
    },
    {
      "cell_type": "code",
      "metadata": {
        "ExecuteTime": {
          "end_time": "2020-04-06T05:59:25.564313Z",
          "start_time": "2020-04-06T05:59:25.554354Z"
        },
        "scrolled": true,
        "id": "4PwwwcZua9CL",
        "colab_type": "code",
        "colab": {
          "base_uri": "https://localhost:8080/",
          "height": 161
        },
        "outputId": "77949561-fca8-4b37-f402-9c22e6154435"
      },
      "source": [
        "ft = torch.FloatTensor([0, 1, 2])\n",
        "print(ft)\n",
        "print(ft.shape)\n",
        "print(ft.unsqueeze(0)) # ft.view(1,-1)와 같다.\n",
        "print(ft.unsqueeze(0).shape)\n",
        "print(ft.unsqueeze(1))\n",
        "print(ft.unsqueeze(1).shape)"
      ],
      "execution_count": null,
      "outputs": [
        {
          "output_type": "stream",
          "text": [
            "tensor([0., 1., 2.])\n",
            "torch.Size([3])\n",
            "tensor([[0., 1., 2.]])\n",
            "torch.Size([1, 3])\n",
            "tensor([[0.],\n",
            "        [1.],\n",
            "        [2.]])\n",
            "torch.Size([3, 1])\n"
          ],
          "name": "stdout"
        }
      ]
    },
    {
      "cell_type": "markdown",
      "metadata": {
        "id": "bLbUFuWFa9CN",
        "colab_type": "text"
      },
      "source": [
        "다시 정리하면 view(), squeeze(), unsqueeze()는 텐서의 원소 수는 그대로 유지하면서 모양과 차원을 조절한다."
      ]
    },
    {
      "cell_type": "markdown",
      "metadata": {
        "id": "ljqFObqOa9CO",
        "colab_type": "text"
      },
      "source": [
        "### 1.2.9 타입 캐스팅(Type Casting)"
      ]
    },
    {
      "cell_type": "markdown",
      "metadata": {
        "id": "X_xF3Nnafv5C",
        "colab_type": "text"
      },
      "source": [
        "![](https://wikidocs.net/images/page/52846/newimage.png)\n",
        "\n",
        "텐서에는 자료형이 있다.\n",
        "\n",
        "각 데이터형별로 정의되어져 있다.\n",
        "\n",
        "예를 들어 32비트의 유동 소수점은 torch.FloatTensor\n",
        "\n",
        "64비트의 부호가 있는 정수는 torch.LongTensor를 사용한다.\n",
        "\n",
        "GPU 연산을 위한 자료형도 있는데, torch.cuda.FloatTensor다.\n",
        "\n",
        "이렇게 자료형을 변환하는 것을 타입 캐스팅이라고 한다."
      ]
    },
    {
      "cell_type": "code",
      "metadata": {
        "id": "b_3i9A_mgNj7",
        "colab_type": "code",
        "colab": {
          "base_uri": "https://localhost:8080/",
          "height": 35
        },
        "outputId": "a4a236f4-e71c-473f-fc17-ffc4a8124db4"
      },
      "source": [
        "# Long 타입의 텐서\n",
        "lt = torch.LongTensor([1, 2, 3, 4])\n",
        "print(lt)"
      ],
      "execution_count": null,
      "outputs": [
        {
          "output_type": "stream",
          "text": [
            "tensor([1, 2, 3, 4])\n"
          ],
          "name": "stdout"
        }
      ]
    },
    {
      "cell_type": "code",
      "metadata": {
        "id": "DrwoHlkjgQgQ",
        "colab_type": "code",
        "colab": {
          "base_uri": "https://localhost:8080/",
          "height": 35
        },
        "outputId": "27ab0a4c-bb80-4944-82b4-bb8aba60bb84"
      },
      "source": [
        "# Float 타입의 텐서\n",
        "print(lt.float())"
      ],
      "execution_count": null,
      "outputs": [
        {
          "output_type": "stream",
          "text": [
            "tensor([1., 2., 3., 4.])\n"
          ],
          "name": "stdout"
        }
      ]
    },
    {
      "cell_type": "code",
      "metadata": {
        "id": "i_EKjMEmgrR7",
        "colab_type": "code",
        "colab": {
          "base_uri": "https://localhost:8080/",
          "height": 35
        },
        "outputId": "05f89840-5b1d-475b-ac7d-1c9de859cf88"
      },
      "source": [
        "# Byte 타입의 텐서\n",
        "bt = torch.ByteTensor([True, False, False, True])\n",
        "print(bt)"
      ],
      "execution_count": 109,
      "outputs": [
        {
          "output_type": "stream",
          "text": [
            "tensor([1, 0, 0, 1], dtype=torch.uint8)\n"
          ],
          "name": "stdout"
        }
      ]
    },
    {
      "cell_type": "code",
      "metadata": {
        "id": "7H9wy9RFgywm",
        "colab_type": "code",
        "colab": {
          "base_uri": "https://localhost:8080/",
          "height": 53
        },
        "outputId": "ac9b06e3-db0c-49b0-a989-9cad1018aba7"
      },
      "source": [
        "# 타입 바꾸기\n",
        "print(bt.long())\n",
        "print(bt.float())"
      ],
      "execution_count": 110,
      "outputs": [
        {
          "output_type": "stream",
          "text": [
            "tensor([1, 0, 0, 1])\n",
            "tensor([1., 0., 0., 1.])\n"
          ],
          "name": "stdout"
        }
      ]
    },
    {
      "cell_type": "markdown",
      "metadata": {
        "id": "yFR6k27Fa9CO",
        "colab_type": "text"
      },
      "source": [
        "### 1.2.10 연결하기(Concatenate Vs. Stacking)"
      ]
    },
    {
      "cell_type": "markdown",
      "metadata": {
        "id": "aBxf9ZAKa9CO",
        "colab_type": "text"
      },
      "source": [
        "두 텐서를 연결할 수도 있다.\n",
        "\n",
        "방법으로는 Concatenate와 Stacking 두가지가 있다.\n",
        "\n",
        "먼저 Concatenate 다."
      ]
    },
    {
      "cell_type": "code",
      "metadata": {
        "id": "Lu1IG4OFh9SO",
        "colab_type": "code",
        "colab": {
          "base_uri": "https://localhost:8080/",
          "height": 89
        },
        "outputId": "78ac2805-d94e-4d6b-bed9-49ae8822f047"
      },
      "source": [
        "x = torch.FloatTensor([[1, 2],\n",
        "                      [3, 4]])\n",
        "y = torch.FloatTensor([[5, 6],\n",
        "                      [7, 8]])\n",
        "print(x)\n",
        "print(y)"
      ],
      "execution_count": 111,
      "outputs": [
        {
          "output_type": "stream",
          "text": [
            "tensor([[1., 2.],\n",
            "        [3., 4.]])\n",
            "tensor([[5., 6.],\n",
            "        [7., 8.]])\n"
          ],
          "name": "stdout"
        }
      ]
    },
    {
      "cell_type": "code",
      "metadata": {
        "ExecuteTime": {
          "end_time": "2020-04-06T06:08:04.692592Z",
          "start_time": "2020-04-06T06:08:04.682592Z"
        },
        "id": "8IwtHKE5a9CP",
        "colab_type": "code",
        "colab": {
          "base_uri": "https://localhost:8080/",
          "height": 179
        },
        "outputId": "fc149a38-6de0-46a8-f2a9-102f10f2ea0e"
      },
      "source": [
        "x = torch.FloatTensor([[1, 2],\n",
        "                      [3, 4]])\n",
        "y = torch.FloatTensor([[5, 6],\n",
        "                      [7, 8]])\n",
        "print(x)\n",
        "print(y)\n",
        "print(torch.cat([x,y],dim=0)) # 첫번째 차원으로 연결한다. 여기서는 행으로 연결한다.\n",
        "print(torch.cat([x,y],dim=0).shape)"
      ],
      "execution_count": 113,
      "outputs": [
        {
          "output_type": "stream",
          "text": [
            "tensor([[1., 2.],\n",
            "        [3., 4.]])\n",
            "tensor([[5., 6.],\n",
            "        [7., 8.]])\n",
            "tensor([[1., 2.],\n",
            "        [3., 4.],\n",
            "        [5., 6.],\n",
            "        [7., 8.]])\n",
            "torch.Size([4, 2])\n"
          ],
          "name": "stdout"
        }
      ]
    },
    {
      "cell_type": "code",
      "metadata": {
        "id": "OciwLm0tiCkk",
        "colab_type": "code",
        "colab": {
          "base_uri": "https://localhost:8080/",
          "height": 143
        },
        "outputId": "2d5f0487-5a58-4a97-dcbd-59692a159cfc"
      },
      "source": [
        "x = torch.FloatTensor([[1, 2],\n",
        "                      [3, 4]])\n",
        "y = torch.FloatTensor([[5, 6],\n",
        "                      [7, 8]])\n",
        "print(x)\n",
        "print(y)\n",
        "print(torch.cat([x,y],dim=1)) # 두번째 차원으로 연결한다. 여기서는 열로 연결한다.\n",
        "print(torch.cat([x,y],dim=1).shape)"
      ],
      "execution_count": 115,
      "outputs": [
        {
          "output_type": "stream",
          "text": [
            "tensor([[1., 2.],\n",
            "        [3., 4.]])\n",
            "tensor([[5., 6.],\n",
            "        [7., 8.]])\n",
            "tensor([[1., 2., 5., 6.],\n",
            "        [3., 4., 7., 8.]])\n",
            "torch.Size([2, 4])\n"
          ],
          "name": "stdout"
        }
      ]
    },
    {
      "cell_type": "markdown",
      "metadata": {
        "id": "BUh3dEPna9CQ",
        "colab_type": "text"
      },
      "source": [
        "* 딥러닝에서는 모델의 입력 또는 중간 연산에서 두 개의 텐서를 연결하는 경우가 많다. 두 텐서를 연결해서 입력으로 사용하는 것은 두 가지의 정보를 모두 사용한다는 의미를 가지고 있다."
      ]
    },
    {
      "cell_type": "markdown",
      "metadata": {
        "id": "a4VJSVO1ijQf",
        "colab_type": "text"
      },
      "source": [
        "다음으로 Stacking 이다."
      ]
    },
    {
      "cell_type": "code",
      "metadata": {
        "ExecuteTime": {
          "end_time": "2020-04-06T06:12:30.472100Z",
          "start_time": "2020-04-06T06:12:30.466114Z"
        },
        "id": "41snjQkqa9CS",
        "colab_type": "code",
        "colab": {
          "base_uri": "https://localhost:8080/",
          "height": 71
        },
        "outputId": "7fd50b99-585a-4bc3-c495-30eb7666db95"
      },
      "source": [
        "x = torch.FloatTensor([1, 4])\n",
        "y = torch.FloatTensor([2, 5])\n",
        "z = torch.FloatTensor([3, 6])\n",
        "print(x)\n",
        "print(y)\n",
        "print(z)"
      ],
      "execution_count": 118,
      "outputs": [
        {
          "output_type": "stream",
          "text": [
            "tensor([1., 4.])\n",
            "tensor([2., 5.])\n",
            "tensor([3., 6.])\n"
          ],
          "name": "stdout"
        }
      ]
    },
    {
      "cell_type": "code",
      "metadata": {
        "id": "lztIvjMri74V",
        "colab_type": "code",
        "colab": {
          "base_uri": "https://localhost:8080/",
          "height": 125
        },
        "outputId": "68b49fb8-9d7b-4f3d-fbdf-b818e5b823ed"
      },
      "source": [
        "x = torch.FloatTensor([1, 4])\n",
        "y = torch.FloatTensor([2, 5])\n",
        "z = torch.FloatTensor([3, 6])\n",
        "print(x)\n",
        "print(y)\n",
        "print(z)\n",
        "print(torch.stack([x, y, z], dim=0))"
      ],
      "execution_count": 120,
      "outputs": [
        {
          "output_type": "stream",
          "text": [
            "tensor([1., 4.])\n",
            "tensor([2., 5.])\n",
            "tensor([3., 6.])\n",
            "tensor([[1., 4.],\n",
            "        [2., 5.],\n",
            "        [3., 6.]])\n"
          ],
          "name": "stdout"
        }
      ]
    },
    {
      "cell_type": "markdown",
      "metadata": {
        "id": "cz0Wob-Ea9CU",
        "colab_type": "text"
      },
      "source": [
        "![대체 텍스트](https://wikidocs.net/images/page/52846/tensor1_0xdY8pX.PNG)"
      ]
    },
    {
      "cell_type": "code",
      "metadata": {
        "id": "velEUD83jDMF",
        "colab_type": "code",
        "colab": {
          "base_uri": "https://localhost:8080/",
          "height": 71
        },
        "outputId": "ca0e65e1-ce52-4d0b-9ed0-bc1bce61626c"
      },
      "source": [
        "# Stacking은 많은 연산을 축약하고 있다. 아래의 코드는 torch.stack([x,y,z], dim=0)과 같다.\n",
        "print(torch.cat([x.unsqueeze(0), y.unsqueeze(0), z.unsqueeze(0)], dim=0))"
      ],
      "execution_count": 121,
      "outputs": [
        {
          "output_type": "stream",
          "text": [
            "tensor([[1., 4.],\n",
            "        [2., 5.],\n",
            "        [3., 6.]])\n"
          ],
          "name": "stdout"
        }
      ]
    },
    {
      "cell_type": "code",
      "metadata": {
        "id": "Q0p6yPIIjQ17",
        "colab_type": "code",
        "colab": {
          "base_uri": "https://localhost:8080/",
          "height": 71
        },
        "outputId": "9de24f68-3945-437a-a091-b70ee07bdb32"
      },
      "source": [
        "x = torch.FloatTensor([1, 4])\n",
        "y = torch.FloatTensor([2, 5])\n",
        "z = torch.FloatTensor([3, 6])\n",
        "print(x)\n",
        "print(y)\n",
        "print(z)"
      ],
      "execution_count": 122,
      "outputs": [
        {
          "output_type": "stream",
          "text": [
            "tensor([1., 4.])\n",
            "tensor([2., 5.])\n",
            "tensor([3., 6.])\n"
          ],
          "name": "stdout"
        }
      ]
    },
    {
      "cell_type": "code",
      "metadata": {
        "ExecuteTime": {
          "end_time": "2020-04-06T06:12:38.831729Z",
          "start_time": "2020-04-06T06:12:38.825744Z"
        },
        "scrolled": true,
        "id": "6w82yAica9CV",
        "colab_type": "code",
        "colab": {
          "base_uri": "https://localhost:8080/",
          "height": 107
        },
        "outputId": "7d5b3bb6-5a8d-4d9b-e81c-6339d82644a0"
      },
      "source": [
        "x = torch.FloatTensor([1, 4])\n",
        "y = torch.FloatTensor([2, 5])\n",
        "z = torch.FloatTensor([3, 6])\n",
        "print(x)\n",
        "print(y)\n",
        "print(z)\n",
        "print(torch.stack([x, y, z], dim=1))"
      ],
      "execution_count": 123,
      "outputs": [
        {
          "output_type": "stream",
          "text": [
            "tensor([1., 4.])\n",
            "tensor([2., 5.])\n",
            "tensor([3., 6.])\n",
            "tensor([[1., 2., 3.],\n",
            "        [4., 5., 6.]])\n"
          ],
          "name": "stdout"
        }
      ]
    },
    {
      "cell_type": "markdown",
      "metadata": {
        "id": "c2DCXp6Fa9Cd",
        "colab_type": "text"
      },
      "source": [
        "![대체 텍스트](https://wikidocs.net/images/page/52846/tensor2_POePbuM.PNG)"
      ]
    },
    {
      "cell_type": "code",
      "metadata": {
        "id": "EKhdFEgTjekA",
        "colab_type": "code",
        "colab": {
          "base_uri": "https://localhost:8080/",
          "height": 53
        },
        "outputId": "164f70c7-9d38-4e9c-e85e-d28e6e173598"
      },
      "source": [
        "# Stacking은 많은 연산을 축약하고 있다. 아래의 코드는 torch.stack([x,y,z], dim=1)과 같다.\n",
        "print(torch.cat([x.unsqueeze(1), y.unsqueeze(1), z.unsqueeze(1)], dim=1))"
      ],
      "execution_count": 124,
      "outputs": [
        {
          "output_type": "stream",
          "text": [
            "tensor([[1., 2., 3.],\n",
            "        [4., 5., 6.]])\n"
          ],
          "name": "stdout"
        }
      ]
    },
    {
      "cell_type": "markdown",
      "metadata": {
        "id": "BmG3Fl5qa9Cd",
        "colab_type": "text"
      },
      "source": [
        "### 1.2.11 ones_like와 zeros_like"
      ]
    },
    {
      "cell_type": "markdown",
      "metadata": {
        "id": "27VIbgvGj2KI",
        "colab_type": "text"
      },
      "source": [
        "ones_like : 1로 채워진 텐서\n",
        "\n",
        "zeros_like : 0으로 채워진 텐서"
      ]
    },
    {
      "cell_type": "code",
      "metadata": {
        "ExecuteTime": {
          "end_time": "2020-04-06T06:14:55.482452Z",
          "start_time": "2020-04-06T06:14:55.476446Z"
        },
        "id": "LwDhKUa0a9Ce",
        "colab_type": "code",
        "colab": {
          "base_uri": "https://localhost:8080/",
          "height": 53
        },
        "outputId": "aedd2169-8369-4152-ef1b-189380e39e17"
      },
      "source": [
        "# 임의로 2 X 3 텐서를 만들자.\n",
        "x = torch.FloatTensor([[0, 1, 2],\n",
        "                      [2, 1, 0]])\n",
        "print(x)"
      ],
      "execution_count": 128,
      "outputs": [
        {
          "output_type": "stream",
          "text": [
            "tensor([[0., 1., 2.],\n",
            "        [2., 1., 0.]])\n"
          ],
          "name": "stdout"
        }
      ]
    },
    {
      "cell_type": "code",
      "metadata": {
        "ExecuteTime": {
          "end_time": "2020-04-06T06:15:33.078928Z",
          "start_time": "2020-04-06T06:15:33.072942Z"
        },
        "scrolled": true,
        "id": "J017ShzVa9Cg",
        "colab_type": "code",
        "colab": {
          "base_uri": "https://localhost:8080/",
          "height": 53
        },
        "outputId": "50d0c93e-4128-4e42-bcfb-d86de84e44c8"
      },
      "source": [
        "print(torch.ones_like(x)) # x와 같은 형태의 1로 채워진 텐서"
      ],
      "execution_count": 129,
      "outputs": [
        {
          "output_type": "stream",
          "text": [
            "tensor([[1., 1., 1.],\n",
            "        [1., 1., 1.]])\n"
          ],
          "name": "stdout"
        }
      ]
    },
    {
      "cell_type": "code",
      "metadata": {
        "ExecuteTime": {
          "end_time": "2020-04-06T06:17:06.988888Z",
          "start_time": "2020-04-06T06:17:06.982899Z"
        },
        "id": "V9Ck1v8va9Cl",
        "colab_type": "code",
        "colab": {
          "base_uri": "https://localhost:8080/",
          "height": 53
        },
        "outputId": "de1963e9-496b-41de-bb75-30db38808ac3"
      },
      "source": [
        "print(torch.zeros_like(x)) # x와 같은 형태의 0으로 채워진 텐서"
      ],
      "execution_count": 130,
      "outputs": [
        {
          "output_type": "stream",
          "text": [
            "tensor([[0., 0., 0.],\n",
            "        [0., 0., 0.]])\n"
          ],
          "name": "stdout"
        }
      ]
    },
    {
      "cell_type": "markdown",
      "metadata": {
        "id": "_8ES5ozxa9Co",
        "colab_type": "text"
      },
      "source": [
        "### 1.2.12 In-place Operation(덮어쓰기 연산)"
      ]
    },
    {
      "cell_type": "code",
      "metadata": {
        "ExecuteTime": {
          "end_time": "2020-04-06T06:19:12.041611Z",
          "start_time": "2020-04-06T06:19:12.035627Z"
        },
        "scrolled": true,
        "id": "bhzdxHjta9Cp",
        "colab_type": "code",
        "colab": {
          "base_uri": "https://localhost:8080/",
          "height": 53
        },
        "outputId": "3efab3f4-a79e-41cd-ce91-eec40fd10a2f"
      },
      "source": [
        "# 임의로 2 X 3 텐서를 만들자.\n",
        "x = torch.FloatTensor([[0, 1, 2],\n",
        "                      [2, 1, 0]])\n",
        "print(x)"
      ],
      "execution_count": 142,
      "outputs": [
        {
          "output_type": "stream",
          "text": [
            "tensor([[0., 1., 2.],\n",
            "        [2., 1., 0.]])\n"
          ],
          "name": "stdout"
        }
      ]
    },
    {
      "cell_type": "code",
      "metadata": {
        "id": "8JTBIUXOkWnD",
        "colab_type": "code",
        "colab": {
          "base_uri": "https://localhost:8080/",
          "height": 89
        },
        "outputId": "9b68fb0e-ebab-4320-ba29-9255c802c8bd"
      },
      "source": [
        "print(x.mul(3.)) # 곱하기 3을 수행한 결과를 출력\n",
        "print(x) # 만들었던 x로 돌아온다."
      ],
      "execution_count": 143,
      "outputs": [
        {
          "output_type": "stream",
          "text": [
            "tensor([[0., 3., 6.],\n",
            "        [6., 3., 0.]])\n",
            "tensor([[0., 1., 2.],\n",
            "        [2., 1., 0.]])\n"
          ],
          "name": "stdout"
        }
      ]
    },
    {
      "cell_type": "code",
      "metadata": {
        "ExecuteTime": {
          "end_time": "2020-04-06T06:19:12.242053Z",
          "start_time": "2020-04-06T06:19:12.235084Z"
        },
        "scrolled": true,
        "id": "WrZ2nvDWa9Cs",
        "colab_type": "code",
        "colab": {
          "base_uri": "https://localhost:8080/",
          "height": 89
        },
        "outputId": "48a9c6d9-7aaf-4e6d-d058-94e4e7bc3884"
      },
      "source": [
        "print(x.mul_(3.)) # 연산 뒤에 _를 붙이면 기존의 값을 덮어쓰기 할 수 있다\n",
        "print(x) # 만들었던 x로 돌아오지 않는다."
      ],
      "execution_count": 144,
      "outputs": [
        {
          "output_type": "stream",
          "text": [
            "tensor([[0., 3., 6.],\n",
            "        [6., 3., 0.]])\n",
            "tensor([[0., 3., 6.],\n",
            "        [6., 3., 0.]])\n"
          ],
          "name": "stdout"
        }
      ]
    },
    {
      "cell_type": "markdown",
      "metadata": {
        "id": "6vidqKIEkw5h",
        "colab_type": "text"
      },
      "source": [
        "### 1.2.13 파이썬 클래스(class)"
      ]
    },
    {
      "cell_type": "markdown",
      "metadata": {
        "id": "dhi7xhj5lGTc",
        "colab_type": "text"
      },
      "source": [
        "대부분의 파이토치의 구현체들을 보면 기본적으로 클래스(class)라는 개념을 애용한다.\n",
        "\n",
        "참고 : https://wikidocs.net/28\n",
        "\n",
        "함수(function)와 클래스(class)의 차이를 이해하기 위해 덧셈을 지속적으로 수행할 수 있는 도구를 함수와 클래스로 각각 만들어보자."
      ]
    },
    {
      "cell_type": "code",
      "metadata": {
        "id": "7cCcMIuec-Qc",
        "colab_type": "code",
        "colab": {}
      },
      "source": [
        "# 함수로 덧셈기 구현하기\n",
        "\n",
        "result = 0 # 전역 변수 선언\n",
        "\n",
        "def add(num):\n",
        "  global result\n",
        "  result += num\n",
        "  return result"
      ],
      "execution_count": 145,
      "outputs": []
    },
    {
      "cell_type": "code",
      "metadata": {
        "id": "mD3-Ex1Ul4El",
        "colab_type": "code",
        "colab": {
          "base_uri": "https://localhost:8080/",
          "height": 53
        },
        "outputId": "1abe4d4e-1a6e-485b-947e-3cfb9a925e98"
      },
      "source": [
        "print(add(3))\n",
        "print(add(4))"
      ],
      "execution_count": 146,
      "outputs": [
        {
          "output_type": "stream",
          "text": [
            "3\n",
            "7\n"
          ],
          "name": "stdout"
        }
      ]
    },
    {
      "cell_type": "code",
      "metadata": {
        "id": "AxWXgk5Bl6aT",
        "colab_type": "code",
        "colab": {
          "base_uri": "https://localhost:8080/",
          "height": 89
        },
        "outputId": "c012b14a-5a38-4d34-85d2-acc4f162cae6"
      },
      "source": [
        "# 함수로 덧셈기 두 개 구현하기\n",
        "\n",
        "result1 = 0\n",
        "result2 = 0\n",
        "\n",
        "def add1(num):\n",
        "  global result1\n",
        "  result1 += num\n",
        "  return result1\n",
        "\n",
        "def add2(num):\n",
        "  global result2\n",
        "  result2 += num\n",
        "  return result2\n",
        "\n",
        "print(add1(3))\n",
        "print(add1(4))\n",
        "print(add2(3))\n",
        "print(add2(7))"
      ],
      "execution_count": 147,
      "outputs": [
        {
          "output_type": "stream",
          "text": [
            "3\n",
            "7\n",
            "3\n",
            "10\n"
          ],
          "name": "stdout"
        }
      ]
    },
    {
      "cell_type": "code",
      "metadata": {
        "id": "gssMmK4fmRh6",
        "colab_type": "code",
        "colab": {}
      },
      "source": [
        "# 클래스로 덧셈기 구현하기\n",
        "\n",
        "class Calculator:\n",
        "  def __init__(self): # 객체 생성 시 호출될 때 실행되는 초기화 함수. 이를 생성자라고 한다.\n",
        "    self.result = 0\n",
        "\n",
        "  def add(self, num): # 객체 생성 후 사용할 수 있는 함수.\n",
        "    self.result += num\n",
        "    return self.result"
      ],
      "execution_count": 148,
      "outputs": []
    },
    {
      "cell_type": "markdown",
      "metadata": {
        "id": "x5Dz2rR3mpWn",
        "colab_type": "text"
      },
      "source": [
        "클래스는 마치 붕어빵 틀과 같다.\n",
        "\n",
        "클래스를 생성한 후에는 이걸로 객체라는 것을 만들 수 있다.\n",
        "\n",
        "마치 붕어빵 틀에서 붕어빵을 만드는 것과 같다."
      ]
    },
    {
      "cell_type": "code",
      "metadata": {
        "id": "ZZy_bNKRmnYS",
        "colab_type": "code",
        "colab": {}
      },
      "source": [
        "cal1 = Calculator()"
      ],
      "execution_count": 149,
      "outputs": []
    },
    {
      "cell_type": "code",
      "metadata": {
        "id": "I88VFSdym17C",
        "colab_type": "code",
        "colab": {}
      },
      "source": [
        "cal2 = Calculator()"
      ],
      "execution_count": 150,
      "outputs": []
    },
    {
      "cell_type": "code",
      "metadata": {
        "id": "FkIo5yKfm32C",
        "colab_type": "code",
        "colab": {
          "base_uri": "https://localhost:8080/",
          "height": 89
        },
        "outputId": "e32ece54-d12f-4ab2-a855-7cd632ce79c9"
      },
      "source": [
        "print(cal1.add(3))\n",
        "print(cal1.add(4))\n",
        "print(cal2.add(3))\n",
        "print(cal2.add(7))"
      ],
      "execution_count": 151,
      "outputs": [
        {
          "output_type": "stream",
          "text": [
            "3\n",
            "7\n",
            "3\n",
            "10\n"
          ],
          "name": "stdout"
        }
      ]
    },
    {
      "cell_type": "markdown",
      "metadata": {
        "id": "E6MvB3IrnATZ",
        "colab_type": "text"
      },
      "source": [
        "클래스로 만들어낸 두 개의 객체는 독립적으로 연산되고 있다.\n",
        "\n",
        "함수로 만들려면 두 번 만들어야 하지만, 클래스라는 것을 선언하고 별도의 객체를 생성하면 코드가 훨씬 간결해진다."
      ]
    },
    {
      "cell_type": "code",
      "metadata": {
        "id": "jFGRIC91nOTZ",
        "colab_type": "code",
        "colab": {}
      },
      "source": [
        ""
      ],
      "execution_count": null,
      "outputs": []
    }
  ]
}