{
 "cells": [
  {
   "cell_type": "markdown",
   "metadata": {
    "toc": true
   },
   "source": [
    "<h1><span class=\"tocSkip\"></span></h1>\n",
    "<div class=\"toc\"><ul class=\"toc-item\"><li><span><a href=\"#1.-Pytorch-기초\" data-toc-modified-id=\"1.-Pytorch-기초-1\">1. Pytorch 기초</a></span></li><li><span><a href=\"#1.1-Pytorch-패키지의-기본-구성\" data-toc-modified-id=\"1.1-Pytorch-패키지의-기본-구성-2\">1.1 Pytorch 패키지의 기본 구성</a></span></li><li><span><a href=\"#1.2-텐서-조작하기(Tensor-Manipulation)\" data-toc-modified-id=\"1.2-텐서-조작하기(Tensor-Manipulation)-3\">1.2 텐서 조작하기(Tensor Manipulation)</a></span></li><li><span><a href=\"#1.2.1-2D-Tensor\" data-toc-modified-id=\"1.2.1-2D-Tensor-4\">1.2.1 2D Tensor</a></span></li><li><span><a href=\"#1.2.2-3D-Tensor---이미지\" data-toc-modified-id=\"1.2.2-3D-Tensor---이미지-5\">1.2.2 3D Tensor - 이미지</a></span></li><li><span><a href=\"#1.2.3-3D-Tensor---텍스트\" data-toc-modified-id=\"1.2.3-3D-Tensor---텍스트-6\">1.2.3 3D Tensor - 텍스트</a></span></li><li><span><a href=\"#1.2.4-넘파이로-텐서-만들기\" data-toc-modified-id=\"1.2.4-넘파이로-텐서-만들기-7\">1.2.4 넘파이로 텐서 만들기</a></span></li><li><span><a href=\"#1.2.5-파이토치로-텐서-만들기\" data-toc-modified-id=\"1.2.5-파이토치로-텐서-만들기-8\">1.2.5 파이토치로 텐서 만들기</a></span></li><li><span><a href=\"#1.2.6-브로드캐스팅\" data-toc-modified-id=\"1.2.6-브로드캐스팅-9\">1.2.6 브로드캐스팅</a></span></li><li><span><a href=\"#1.2.7-곱셈,-평균,-덧셈\" data-toc-modified-id=\"1.2.7-곱셈,-평균,-덧셈-10\">1.2.7 곱셈, 평균, 덧셈</a></span></li><li><span><a href=\"#1.2.8-뷰,-스퀴즈,-언스퀴즈\" data-toc-modified-id=\"1.2.8-뷰,-스퀴즈,-언스퀴즈-11\">1.2.8 뷰, 스퀴즈, 언스퀴즈</a></span></li><li><span><a href=\"#1.2.9-타입-캐스팅(Type-Casting)-중요하다는데-안한다.\" data-toc-modified-id=\"1.2.9-타입-캐스팅(Type-Casting)-중요하다는데-안한다.-12\">1.2.9 타입 캐스팅(Type Casting) 중요하다는데 안한다.</a></span></li><li><span><a href=\"#1.2.10-연결하기(Concatenate-Vs.-Stacking)\" data-toc-modified-id=\"1.2.10-연결하기(Concatenate-Vs.-Stacking)-13\">1.2.10 연결하기(Concatenate Vs. Stacking)</a></span></li><li><span><a href=\"#1.2.11-ones_like와-zeros_like\" data-toc-modified-id=\"1.2.11-ones_like와-zeros_like-14\">1.2.11 ones_like와 zeros_like</a></span></li><li><span><a href=\"#1.2.12-In-place-Operation(덮어쓰기-연산)\" data-toc-modified-id=\"1.2.12-In-place-Operation(덮어쓰기-연산)-15\">1.2.12 In-place Operation(덮어쓰기 연산)</a></span></li></ul></div>"
   ]
  },
  {
   "cell_type": "markdown",
   "metadata": {},
   "source": [
    "출처 : https://github.com/Namsik-Yoon/pytorch_basic/blob/master/1.%20pytorch%20%EA%B8%B0%EC%B4%88.ipynb 에서 몰래 가져왔다. 필사를 필사적으로 해보자."
   ]
  },
  {
   "cell_type": "markdown",
   "metadata": {},
   "source": [
    "# 1. Pytorch 기초"
   ]
  },
  {
   "cell_type": "markdown",
   "metadata": {},
   "source": [
    "기본적으로 pytorch(gpu) 및 기초 라이브러리가 깔려있고 기본적인 딥러닝 지식이 있다는 가정하에 진행한다는데 나는 그런게 없다."
   ]
  },
  {
   "cell_type": "markdown",
   "metadata": {},
   "source": [
    "# 1.1 Pytorch 패키지의 기본 구성"
   ]
  },
  {
   "cell_type": "code",
   "execution_count": 1,
   "metadata": {
    "ExecuteTime": {
     "end_time": "2020-04-06T04:29:47.986807Z",
     "start_time": "2020-04-06T04:29:47.308623Z"
    }
   },
   "outputs": [],
   "source": [
    "\"\"\"\n",
    "1. pytorch\n",
    "메인 네임스페이스입니다.\n",
    "텐서 등의 다양한 수학 함수가 포함되어 있으며 Numpy와 유사한 구조(함수명들이 거의 똑같음)를 가집니다.\n",
    "\n",
    "네임스페이스가 뭘까? 군대가기전에 C언어 배울 때 네임스페이스라고 들었던 거 같은데... 기억이 안난다.\n",
    "\"\"\"\n",
    "import torch"
   ]
  },
  {
   "cell_type": "markdown",
   "metadata": {},
   "source": [
    "pytorch가 안 깔려 있으면 https://pytorch.org/get-started/locally/ 여기서 깔아보자."
   ]
  },
  {
   "cell_type": "code",
   "execution_count": 2,
   "metadata": {
    "ExecuteTime": {
     "end_time": "2020-04-06T04:29:54.761699Z",
     "start_time": "2020-04-06T04:29:54.757708Z"
    }
   },
   "outputs": [],
   "source": [
    "\"\"\"\n",
    "2. torch.autograd\n",
    "자동 미분을 위한 함수들이 포함되어 있다.\n",
    "자동 미분의 on/off를 제어하는 콘텍스트 매니저(enable_grad/no_grad)나\n",
    "자체 미분 가능 함수를 정의할 때 사용하는 기반 클래스인 'Function' 등이 포함되어져 있다.\n",
    "\n",
    "자동 미분은 알겠는데 콘텍스트 매니저는 잘 모르겠다. no_grad는 어디서 본거 같다.\n",
    "\"\"\"\n",
    "import torch.autograd"
   ]
  },
  {
   "cell_type": "code",
   "execution_count": 3,
   "metadata": {
    "ExecuteTime": {
     "end_time": "2020-04-06T04:29:54.955180Z",
     "start_time": "2020-04-06T04:29:54.951191Z"
    }
   },
   "outputs": [],
   "source": [
    "\"\"\"\n",
    "3. torch.nn\n",
    "신경망을 구축하기 위한 다양한 데이터 구조와 레이어가 정의되어져 있다.\n",
    "예를 들어, CNN, RNN, LSTM과 같은 레이어, ReLU와 같은 활성화 함수, MSELoss와 같은 손실 함수가 있다.\n",
    "\n",
    "torch 안 사용하면 numpy로 구현해서 써야한다해서 바로 torch 설치 했다.\n",
    "\"\"\"\n",
    "import torch.nn"
   ]
  },
  {
   "cell_type": "code",
   "execution_count": 4,
   "metadata": {
    "ExecuteTime": {
     "end_time": "2020-04-06T04:29:55.188556Z",
     "start_time": "2020-04-06T04:29:55.184578Z"
    }
   },
   "outputs": [],
   "source": [
    "\"\"\"\n",
    "4. torch.optim\n",
    "확률적 경사 하강법(Stochastic Gradient Descent, SGD)를 중심으로 한\n",
    "파라미터 최적화 알고리즘이 구현되어 있다.\n",
    "\n",
    "SGD 약자 구글에 검색해봤다. 비밀이다.\n",
    "\"\"\"\n",
    "import torch.optim"
   ]
  },
  {
   "cell_type": "code",
   "execution_count": 5,
   "metadata": {
    "ExecuteTime": {
     "end_time": "2020-04-06T04:29:55.379049Z",
     "start_time": "2020-04-06T04:29:55.375058Z"
    }
   },
   "outputs": [],
   "source": [
    "\"\"\"\n",
    "5. torch.utils.data\n",
    "SGD의 반복 연산을 실행할 때 사용하는 미니 배치용 유틸리티 함수가 포함되어 있다.\n",
    "\n",
    "이게 이런 의미인지 처음 알았다.\n",
    "\"\"\"\n",
    "import torch.utils.data"
   ]
  },
  {
   "cell_type": "code",
   "execution_count": 6,
   "metadata": {
    "ExecuteTime": {
     "end_time": "2020-04-06T04:29:55.585516Z",
     "start_time": "2020-04-06T04:29:55.582510Z"
    }
   },
   "outputs": [],
   "source": [
    "\"\"\"\n",
    "6. torch.onnx\n",
    "ONNX(Open Neural Network Exchange)의 포맷으로 모델을 export할 때 사용한다.\n",
    "ONNX는 서로 다른 딥러닝 프레임워크 간 모델을 공유할 때 사용한다.(사용해본 적 없다.)\n",
    "\n",
    "나도 사용해본 적 없는데 사용해야 할 것 같다.\n",
    "\"\"\"\n",
    "import torch.onnx"
   ]
  },
  {
   "cell_type": "markdown",
   "metadata": {},
   "source": [
    "# 1.2 텐서 조작하기(Tensor Manipulation)"
   ]
  },
  {
   "cell_type": "markdown",
   "metadata": {},
   "source": [
    "벡터, 행렬, 텐서의 개념에 대해서 이해하고, Numpy와 파이토치로 벡터, 행렬, 텐서를 다루는 방법을 이해하자."
   ]
  },
  {
   "cell_type": "markdown",
   "metadata": {},
   "source": [
    "![](https://camo.githubusercontent.com/95a3ddd5b67e67e27d430f7f319465a3fc99d62f/68747470733a2f2f77696b69646f63732e6e65742f696d616765732f706167652f35323436302f74656e736f72312e504e47)"
   ]
  },
  {
   "cell_type": "markdown",
   "metadata": {},
   "source": [
    "차원이 없는 값을 스칼라 (위 그림에 없음)\n",
    "\n",
    "1차원으로 구성된 값을 벡터 (위 그림 중 1D)\n",
    "\n",
    "2차원으로 구성된 값을 행렬 (위 그림 중 2D)\n",
    "\n",
    "3차원으로 구성된 값을 텐서 (위 그림 중 3D)\n",
    "\n",
    "4차원 이상부터는 머리로 생각하기 어렵다. 나는 왜 영화 인터스텔라 주인공 아저씨가 생각날까\n",
    "\n",
    "4, 5, 6차원은 텐서를 쌓아 올린 것으로 보자.\n",
    "\n",
    "근데 벡터나 행렬도 각각 1차원 텐서, 2차원 텐서로 표현하기도 한다.\n",
    "\n",
    "이제 다 텐서라고 부르자"
   ]
  },
  {
   "cell_type": "markdown",
   "metadata": {},
   "source": [
    "# 1.2.1 2D Tensor"
   ]
  },
  {
   "cell_type": "markdown",
   "metadata": {},
   "source": [
    "딥러닝을 할 때 다루고 있는 데이터의 형태가 중요하다. 텐서의 크기를 고려해야 한다. \n",
    "\n",
    "다음은 봐도 봐도 잊어버리는 그림이다. 이번엔 꼭 기억하자"
   ]
  },
  {
   "cell_type": "markdown",
   "metadata": {},
   "source": [
    "|t| = (Batch size, dim)\n",
    "\n",
    "![](https://camo.githubusercontent.com/4478fc4f8dc0549d73718fe5b948c799a78e5bd9/68747470733a2f2f77696b69646f63732e6e65742f696d616765732f706167652f35323436302f74656e736f72332e504e47)"
   ]
  },
  {
   "cell_type": "markdown",
   "metadata": {},
   "source": [
    "2차원 텐서의 행의 크기를 batch size, 열의 크기를 dimension으로 표현했다.\n",
    "\n",
    "훈련 데이터 하나의 크기를 256이라고 해보자. [3, 1, 2, 5, ...] 이런 숫자들의 나열이 256의 길이로 있다.\n",
    "\n",
    "훈련 데이터 하나는 벡터의 차원이 256개 있는 것이다. 행렬 표현으로 1X256 이다.\n",
    "\n",
    "만약 이런 훈련 데이터의 개수가 3000개라고 한다면, 전체 현재 데이터의 크기는 3000 * 256 이다.\n",
    "\n",
    "컴퓨터는 훈련 데이터를 어떻게 처리할까? 컴퓨터는 보통 덩어리로 처리한다. 3000개에서 64개씩 꺼내서 처리한다고 하면\n",
    "\n",
    "컴퓨터가 한 번에 처리하는 2차원 텐서의 크기는 (batch size * dim) = 64 * 256 이다."
   ]
  },
  {
   "cell_type": "code",
   "execution_count": 7,
   "metadata": {
    "ExecuteTime": {
     "end_time": "2020-04-06T04:29:59.149978Z",
     "start_time": "2020-04-06T04:29:58.485743Z"
    },
    "scrolled": true
   },
   "outputs": [
    {
     "name": "stdout",
     "output_type": "stream",
     "text": [
      "(150, 4)\n"
     ]
    }
   ],
   "source": [
    "\"\"\"\n",
    "2D Tensor 예시\n",
    "iris dataset\n",
    "\"\"\"\n",
    "from sklearn.datasets import load_iris\n",
    "\n",
    "iris = load_iris()\n",
    "print(iris.data.shape)"
   ]
  },
  {
   "cell_type": "markdown",
   "metadata": {},
   "source": [
    "iris dataset에는 150 X 4짜리 데이터가 있다.\n",
    "\n",
    "10개만 가져와서 눈으로 봐보자"
   ]
  },
  {
   "cell_type": "code",
   "execution_count": 8,
   "metadata": {
    "ExecuteTime": {
     "end_time": "2020-04-06T04:29:59.298570Z",
     "start_time": "2020-04-06T04:29:59.287599Z"
    },
    "scrolled": true
   },
   "outputs": [
    {
     "data": {
      "text/plain": [
       "array([[5.1, 3.5, 1.4, 0.2],\n",
       "       [4.9, 3. , 1.4, 0.2],\n",
       "       [4.7, 3.2, 1.3, 0.2],\n",
       "       [4.6, 3.1, 1.5, 0.2],\n",
       "       [5. , 3.6, 1.4, 0.2],\n",
       "       [5.4, 3.9, 1.7, 0.4],\n",
       "       [4.6, 3.4, 1.4, 0.3],\n",
       "       [5. , 3.4, 1.5, 0.2],\n",
       "       [4.4, 2.9, 1.4, 0.2],\n",
       "       [4.9, 3.1, 1.5, 0.1]])"
      ]
     },
     "execution_count": 8,
     "metadata": {},
     "output_type": "execute_result"
    }
   ],
   "source": [
    "iris['data'][:10]"
   ]
  },
  {
   "cell_type": "markdown",
   "metadata": {},
   "source": [
    "iris dataset는 2차원 텐서이다.\n",
    "\n",
    "텐서의 크기는 (batch size * dim) = 10 * 4 이다."
   ]
  },
  {
   "cell_type": "markdown",
   "metadata": {},
   "source": [
    "# 1.2.2 3D Tensor - 이미지"
   ]
  },
  {
   "cell_type": "markdown",
   "metadata": {},
   "source": [
    "데이터의 형태가 이미지면 어떨까. 이미지는 가로와 세로가 있다. 그리고 여러 장이 있을 수도 있다.\n",
    "\n",
    "데이터의 형태를 그림으로 나타내면 아래와 같다.\n",
    "\n",
    "|t| = (batch size, width, height)\n",
    "\n",
    "![image.png](https://camo.githubusercontent.com/3291cb4c3c94c2894964a4cfdbdc0cde0a59811a/68747470733a2f2f77696b69646f63732e6e65742f696d616765732f706167652f35323436302f74656e736f72352e504e47)\n",
    "\n",
    "위 그림의 세로는 이미지의 장 수 batch size, 가로는 너비 width, 안쪽으로는 높이 height가 된다.\n",
    "\n",
    "이번에도 기억하긴 글렀다. 졸리다."
   ]
  },
  {
   "cell_type": "code",
   "execution_count": 9,
   "metadata": {
    "ExecuteTime": {
     "end_time": "2020-04-06T04:30:03.160246Z",
     "start_time": "2020-04-06T04:30:02.750366Z"
    }
   },
   "outputs": [
    {
     "name": "stdout",
     "output_type": "stream",
     "text": [
      "(1797, 8, 8)\n"
     ]
    }
   ],
   "source": [
    "\"\"\"\n",
    "3D Tensor 이미지 예시\n",
    "digits(mnist와 비슷한 데이터) dataset\n",
    "\"\"\"\n",
    "from sklearn.datasets import load_digits\n",
    "import matplotlib.pyplot as plt\n",
    "\n",
    "mnist = load_digits()\n",
    "print(mnist['images'].shape)"
   ]
  },
  {
   "cell_type": "markdown",
   "metadata": {},
   "source": [
    "disits dataset에는 1797 X 8 X 8 짜리 데이터가 있다.\n",
    "\n",
    "0을 나타내는 이미지를 가져와서 눈으로 봐보자"
   ]
  },
  {
   "cell_type": "code",
   "execution_count": 10,
   "metadata": {
    "ExecuteTime": {
     "end_time": "2020-04-06T04:30:03.759644Z",
     "start_time": "2020-04-06T04:30:03.615031Z"
    }
   },
   "outputs": [
    {
     "data": {
      "image/png": "[encoded data removed]",
      "text/plain": [
       "<Figure size 432x288 with 1 Axes>"
      ]
     },
     "metadata": {
      "needs_background": "light"
     },
     "output_type": "display_data"
    }
   ],
   "source": [
    "plt.imshow(mnist['images'][0])\n",
    "plt.show()"
   ]
  },
  {
   "cell_type": "markdown",
   "metadata": {
    "ExecuteTime": {
     "end_time": "2020-04-03T13:38:04.879180Z",
     "start_time": "2020-04-03T13:38:04.874194Z"
    }
   },
   "source": [
    "digits dataset는 3차원 텐서이다.\n",
    "\n",
    "텐서의 크기는 (batch size * width * height) = 1797 * 8 * 8 이다.\n",
    "\n",
    "위의 그림은 8 * 8 짜리 이미지고 이 이미지가 1797개 있는 dataset 이다.\n",
    "\n",
    "여기가 항상 헷갈렸다. 잊지말자"
   ]
  },
  {
   "cell_type": "markdown",
   "metadata": {},
   "source": [
    "# 1.2.3 3D Tensor - 텍스트"
   ]
  },
  {
   "cell_type": "markdown",
   "metadata": {},
   "source": [
    "데이터의 형태가 텍스트면 어떨까. \n",
    "\n",
    "그림으로 나타내면 아래와 같다.\n",
    "\n",
    "|t| = (batch size, length, dim)\n",
    "\n",
    "![image.png](https://wikidocs.net/images/page/52460/tensor6.PNG)\n",
    "\n",
    "위 그림의 세로는 batch size, 가로는 문장이 길이 length, 안쪽으로는 단어 벡터의 차원 dim이 된다.\n",
    "\n",
    "텍스트는 재미가 없다."
   ]
  },
  {
   "cell_type": "code",
   "execution_count": 11,
   "metadata": {
    "ExecuteTime": {
     "end_time": "2020-04-06T04:30:05.492015Z",
     "start_time": "2020-04-06T04:30:05.486064Z"
    },
    "scrolled": true
   },
   "outputs": [
    {
     "name": "stdout",
     "output_type": "stream",
     "text": [
      "[['나는', '사과를', '좋아해'], ['나는', '바나나를', '좋아해'], ['나는', '사과를', '싫어해'], ['나는', '바나나를', '싫어해']]\n"
     ]
    }
   ],
   "source": [
    "\"\"\"\n",
    "3D Tensor 텍스트 예시\n",
    "\"\"\"\n",
    "sentences = ['나는 사과를 좋아해', '나는 바나나를 좋아해', '나는 사과를 싫어해', '나는 바나나를 싫어해']\n",
    "word_sentences = [x.split(' ') for x in sentences]\n",
    "print(word_sentences)"
   ]
  },
  {
   "cell_type": "markdown",
   "metadata": {},
   "source": [
    "컴퓨터는 '나는 사과를 좋아해'가 몇 단어인지 모른다. 그래서 단어별로 나눈거다."
   ]
  },
  {
   "cell_type": "code",
   "execution_count": 59,
   "metadata": {
    "ExecuteTime": {
     "end_time": "2020-04-06T05:21:47.177505Z",
     "start_time": "2020-04-06T05:21:47.169519Z"
    }
   },
   "outputs": [
    {
     "name": "stdout",
     "output_type": "stream",
     "text": [
      "[[[0.1, 0.2, 0.9], [0.3, 0.5, 0.1], [0.3, 0.5, 0.2]], [[0.1, 0.2, 0.9], [0.7, 0.6, 0.5], [0.3, 0.5, 0.2]], [[0.1, 0.2, 0.9], [0.3, 0.5, 0.1], [0.5, 0.6, 0.7]], [[0.1, 0.2, 0.9], [0.7, 0.6, 0.5], [0.5, 0.6, 0.7]]]\n"
     ]
    },
    {
     "data": {
      "text/plain": [
       "(4, 3, 3)"
      ]
     },
     "execution_count": 59,
     "metadata": {},
     "output_type": "execute_result"
    }
   ],
   "source": [
    "my_bow = {'나는':[0.1, 0.2, 0.9],\n",
    "          '사과를':[0.3, 0.5, 0.1],\n",
    "          '좋아해':[0.3, 0.5, 0.2],\n",
    "          '바나나를':[0.7, 0.6, 0.5],\n",
    "          '싫어해':[0.5, 0.6, 0.7]}\n",
    "word2vec = [[my_bow[word] for word in sentence] for sentence in word_sentences]\n",
    "print(word2vec)\n",
    "import numpy as np\n",
    "np.array(word2vec).shape"
   ]
  },
  {
   "cell_type": "markdown",
   "metadata": {},
   "source": [
    "텐서의 크기는 (batch size * length * dim) = 4 * 3 * 3 이다.\n",
    "\n",
    "텍스트를 하니 이미지를 까먹었다."
   ]
  },
  {
   "cell_type": "markdown",
   "metadata": {},
   "source": [
    "# 1.2.4 넘파이로 텐서 만들기"
   ]
  },
  {
   "cell_type": "code",
   "execution_count": 18,
   "metadata": {
    "ExecuteTime": {
     "end_time": "2020-04-06T04:37:42.850415Z",
     "start_time": "2020-04-06T04:37:42.847398Z"
    }
   },
   "outputs": [],
   "source": [
    "import numpy as np"
   ]
  },
  {
   "cell_type": "markdown",
   "metadata": {},
   "source": [
    "Numpy로 1차원 벡터를 만들어보자."
   ]
  },
  {
   "cell_type": "code",
   "execution_count": 19,
   "metadata": {
    "ExecuteTime": {
     "end_time": "2020-04-06T04:38:46.901168Z",
     "start_time": "2020-04-06T04:38:46.896211Z"
    }
   },
   "outputs": [
    {
     "name": "stdout",
     "output_type": "stream",
     "text": [
      "[0. 1. 2. 3. 4. 5. 6.]\n"
     ]
    }
   ],
   "source": [
    "t=np.array([0., 1., 2., 3., 4., 5., 6.])\n",
    "print(t)"
   ]
  },
  {
   "cell_type": "markdown",
   "metadata": {},
   "source": [
    "1차원 벡터의 차원과 크기를 출력해보자."
   ]
  },
  {
   "cell_type": "code",
   "execution_count": 20,
   "metadata": {
    "ExecuteTime": {
     "end_time": "2020-04-06T04:39:43.500863Z",
     "start_time": "2020-04-06T04:39:43.495877Z"
    }
   },
   "outputs": [
    {
     "name": "stdout",
     "output_type": "stream",
     "text": [
      "Rank of t:  1\n",
      "Shape of t:  (7,)\n"
     ]
    }
   ],
   "source": [
    "print('Rank of t: ', t.ndim)\n",
    "print('Shape of t: ', t.shape)"
   ]
  },
  {
   "cell_type": "markdown",
   "metadata": {},
   "source": [
    "Numpy로 2차원 벡터를 만들어보자."
   ]
  },
  {
   "cell_type": "code",
   "execution_count": 21,
   "metadata": {
    "ExecuteTime": {
     "end_time": "2020-04-06T04:41:52.204816Z",
     "start_time": "2020-04-06T04:41:52.199860Z"
    }
   },
   "outputs": [
    {
     "name": "stdout",
     "output_type": "stream",
     "text": [
      "[[ 1.  2.  3.]\n",
      " [ 4.  5.  6.]\n",
      " [ 7.  8.  9.]\n",
      " [10. 11. 12.]]\n"
     ]
    }
   ],
   "source": [
    "t=np.array([[1., 2., 3.],\n",
    "            [4., 5., 6.,],\n",
    "            [7., 8., 9.,],\n",
    "            [10., 11., 12.,]])\n",
    "print(t)"
   ]
  },
  {
   "cell_type": "code",
   "execution_count": 22,
   "metadata": {
    "ExecuteTime": {
     "end_time": "2020-04-06T04:42:01.261598Z",
     "start_time": "2020-04-06T04:42:01.256611Z"
    }
   },
   "outputs": [
    {
     "name": "stdout",
     "output_type": "stream",
     "text": [
      "Rank of t:  2\n",
      "Shape of t:  (4, 3)\n"
     ]
    }
   ],
   "source": [
    "print('Rank of t: ', t.ndim)\n",
    "print('Shape of t: ', t.shape)"
   ]
  },
  {
   "cell_type": "markdown",
   "metadata": {},
   "source": [
    "# 1.2.5 파이토치로 텐서 만들기"
   ]
  },
  {
   "cell_type": "code",
   "execution_count": 24,
   "metadata": {
    "ExecuteTime": {
     "end_time": "2020-04-06T04:43:34.837476Z",
     "start_time": "2020-04-06T04:43:34.823515Z"
    }
   },
   "outputs": [
    {
     "name": "stdout",
     "output_type": "stream",
     "text": [
      "tensor([0., 1., 2., 3., 4., 5., 6.])\n"
     ]
    }
   ],
   "source": [
    "t = torch.tensor([0., 1., 2., 3., 4., 5., 6.])\n",
    "print(t)"
   ]
  },
  {
   "cell_type": "code",
   "execution_count": 26,
   "metadata": {
    "ExecuteTime": {
     "end_time": "2020-04-06T04:44:04.323658Z",
     "start_time": "2020-04-06T04:44:04.318646Z"
    }
   },
   "outputs": [
    {
     "name": "stdout",
     "output_type": "stream",
     "text": [
      "1\n",
      "torch.Size([7])\n"
     ]
    }
   ],
   "source": [
    "print(t.dim())\n",
    "print(t.shape)"
   ]
  },
  {
   "cell_type": "code",
   "execution_count": 27,
   "metadata": {
    "ExecuteTime": {
     "end_time": "2020-04-06T04:44:57.625137Z",
     "start_time": "2020-04-06T04:44:57.618156Z"
    }
   },
   "outputs": [
    {
     "name": "stdout",
     "output_type": "stream",
     "text": [
      "tensor([[ 1.,  2.,  3.],\n",
      "        [ 4.,  5.,  6.],\n",
      "        [ 7.,  8.,  9.],\n",
      "        [10., 11., 12.]])\n"
     ]
    }
   ],
   "source": [
    "t = torch.tensor([[1., 2., 3.],\n",
    "                 [4., 5., 6.],\n",
    "                 [7., 8., 9.,],\n",
    "                 [10., 11., 12.]\n",
    "                 ])\n",
    "print(t)"
   ]
  },
  {
   "cell_type": "code",
   "execution_count": 30,
   "metadata": {
    "ExecuteTime": {
     "end_time": "2020-04-06T04:47:57.803492Z",
     "start_time": "2020-04-06T04:47:57.799519Z"
    }
   },
   "outputs": [
    {
     "name": "stdout",
     "output_type": "stream",
     "text": [
      "2\n",
      "torch.Size([4, 3])\n",
      "torch.Size([4, 3])\n"
     ]
    }
   ],
   "source": [
    "print(t.dim())\n",
    "print(t.shape)\n",
    "print(t.size())"
   ]
  },
  {
   "cell_type": "code",
   "execution_count": 31,
   "metadata": {
    "ExecuteTime": {
     "end_time": "2020-04-06T04:48:00.060462Z",
     "start_time": "2020-04-06T04:48:00.055488Z"
    }
   },
   "outputs": [
    {
     "name": "stdout",
     "output_type": "stream",
     "text": [
      "tensor([ 2.,  5.,  8., 11.])\n",
      "torch.Size([4])\n"
     ]
    }
   ],
   "source": [
    "print(t[:, 1]) # 첫번째 차원을 전체 선택한 상황에서 두번째 차원의 두번째 것만 가져온다.\n",
    "print(t[:, 1].size())"
   ]
  },
  {
   "cell_type": "code",
   "execution_count": 32,
   "metadata": {
    "ExecuteTime": {
     "end_time": "2020-04-06T04:49:18.797986Z",
     "start_time": "2020-04-06T04:49:18.792009Z"
    }
   },
   "outputs": [
    {
     "name": "stdout",
     "output_type": "stream",
     "text": [
      "tensor([[ 1.,  2.],\n",
      "        [ 4.,  5.],\n",
      "        [ 7.,  8.],\n",
      "        [10., 11.]])\n"
     ]
    }
   ],
   "source": [
    "print(t[:, :-1]) # 첫번째 차원을 전체 선택한 상황에서 두번째 차원의 마지막 것만 제외하고 가져온다."
   ]
  },
  {
   "cell_type": "markdown",
   "metadata": {},
   "source": [
    "# 1.2.6 브로드캐스팅"
   ]
  },
  {
   "cell_type": "markdown",
   "metadata": {},
   "source": [
    "브로드캐스팅(Broadcasting)\n",
    "\n",
    "크기가 다른 텐서에 대해서 연산을 가능하게 해준다."
   ]
  },
  {
   "cell_type": "code",
   "execution_count": 34,
   "metadata": {
    "ExecuteTime": {
     "end_time": "2020-04-06T04:51:15.657586Z",
     "start_time": "2020-04-06T04:51:15.651587Z"
    }
   },
   "outputs": [
    {
     "name": "stdout",
     "output_type": "stream",
     "text": [
      "tensor([[5., 5.]])\n"
     ]
    }
   ],
   "source": [
    "# 크기가 같은 텐서에 대한 연산\n",
    "m1 = torch.tensor([[3., 3.]])\n",
    "m2 = torch.tensor([[2., 2.]])\n",
    "print(m1+m2)"
   ]
  },
  {
   "cell_type": "code",
   "execution_count": 36,
   "metadata": {
    "ExecuteTime": {
     "end_time": "2020-04-06T04:52:23.304734Z",
     "start_time": "2020-04-06T04:52:23.298750Z"
    }
   },
   "outputs": [
    {
     "name": "stdout",
     "output_type": "stream",
     "text": [
      "tensor([[4., 5.]])\n"
     ]
    }
   ],
   "source": [
    "# 크기가 다른 텐서에 대한 연산\n",
    "m1 = torch.tensor([[1., 2.]])\n",
    "m2 = torch.tensor([3])\n",
    "print(m1+m2)\n",
    "# m2 가 [[3,3]] 이 되어 더해진다"
   ]
  },
  {
   "cell_type": "code",
   "execution_count": 46,
   "metadata": {
    "ExecuteTime": {
     "end_time": "2020-04-06T05:09:09.934805Z",
     "start_time": "2020-04-06T05:09:09.928822Z"
    }
   },
   "outputs": [
    {
     "name": "stdout",
     "output_type": "stream",
     "text": [
      "tensor([[4., 5.],\n",
      "        [5., 6.]])\n"
     ]
    }
   ],
   "source": [
    "# 2 x 1 Vector + 1 X 2 Vector\n",
    "m1 = torch.tensor([[1., 2.]])\n",
    "m2 = torch.tensor([[3.],\n",
    "                   [4.]])\n",
    "print(m1 + m2)\n",
    "\n",
    "\n",
    "# [1,2]\n",
    "# ==> [[1, 2].\n",
    "#      [1, 2]]\n",
    "    \n",
    "# [3]\n",
    "# [4]\n",
    "# ==> [[3, 3],\n",
    "#      [4, 4]]\n"
   ]
  },
  {
   "cell_type": "markdown",
   "metadata": {},
   "source": [
    "브로드캐스팅은 자동으로 실행되기 때문에 텐서를 다룰 때는 크기를 잘 파악해야한다!"
   ]
  },
  {
   "cell_type": "markdown",
   "metadata": {},
   "source": [
    "# 1.2.7 곱셈, 평균, 덧셈"
   ]
  },
  {
   "cell_type": "markdown",
   "metadata": {},
   "source": [
    "행렬 곱셈과 곱셈의 차이 (Matrix Mulitiplication Vs. Multiplitcation)\n",
    "\n",
    "행렬 곱셈(.matmul)과 원소별 곱셈(.mul)를 잘 구분하자. 외적과 내적 느낌이다."
   ]
  },
  {
   "cell_type": "code",
   "execution_count": 49,
   "metadata": {
    "ExecuteTime": {
     "end_time": "2020-04-06T05:13:55.208211Z",
     "start_time": "2020-04-06T05:13:55.200201Z"
    }
   },
   "outputs": [
    {
     "name": "stdout",
     "output_type": "stream",
     "text": [
      "Shape of Matrix 1:  torch.Size([2, 2])\n",
      "Shape of Matrix 2:  torch.Size([2, 1])\n",
      "tensor([[ 5.],\n",
      "        [11.]])\n"
     ]
    }
   ],
   "source": [
    "# 행렬 곱셈(.matmul)\n",
    "m1 = torch.tensor([[1., 2.],\n",
    "                  [3., 4.]])\n",
    "m2 = torch.tensor([[1.],\n",
    "                   [2.]])\n",
    "print('Shape of Matrix 1: ', m1.size()) # 2 x 2\n",
    "print('Shape of Matrix 2: ', m2.size()) # 2 x 1\n",
    "print(m1.matmul(m2)) # 2 x 1"
   ]
  },
  {
   "cell_type": "code",
   "execution_count": 51,
   "metadata": {
    "ExecuteTime": {
     "end_time": "2020-04-06T05:16:30.499081Z",
     "start_time": "2020-04-06T05:16:30.490077Z"
    },
    "scrolled": true
   },
   "outputs": [
    {
     "name": "stdout",
     "output_type": "stream",
     "text": [
      "Shape of Matrix 1:  torch.Size([2, 2])\n",
      "Shape of Matrix 2:  torch.Size([2, 1])\n",
      "tensor([[1., 2.],\n",
      "        [6., 8.]])\n",
      "tensor([[1., 2.],\n",
      "        [6., 8.]])\n"
     ]
    }
   ],
   "source": [
    "# 원소별 곱셈(.mul)\n",
    "# element-wise 곱셉을 하면 브로드캐스팅이 된 후에 수행된다.\n",
    "m1 = torch.tensor([[1., 2.],\n",
    "                  [3., 4.]])\n",
    "m2 = torch.tensor([[1.],\n",
    "                   [2.]])\n",
    "print('Shape of Matrix 1: ', m1.size()) # 2 x 2\n",
    "print('Shape of Matrix 2: ', m2.size()) # 2 x 1\n",
    "print(m1 * m2) # 2 x 2\n",
    "print(m1.mul(m2)) # 2 x 2"
   ]
  },
  {
   "cell_type": "markdown",
   "metadata": {},
   "source": [
    "평균을 구할 수도 있다."
   ]
  },
  {
   "cell_type": "code",
   "execution_count": 53,
   "metadata": {
    "ExecuteTime": {
     "end_time": "2020-04-06T05:17:37.070117Z",
     "start_time": "2020-04-06T05:17:37.064124Z"
    }
   },
   "outputs": [
    {
     "name": "stdout",
     "output_type": "stream",
     "text": [
      "tensor(1.5000)\n"
     ]
    }
   ],
   "source": [
    "t = torch.tensor([1., 2.])\n",
    "print(t.mean())"
   ]
  },
  {
   "cell_type": "code",
   "execution_count": 55,
   "metadata": {
    "ExecuteTime": {
     "end_time": "2020-04-06T05:18:27.989996Z",
     "start_time": "2020-04-06T05:18:27.984012Z"
    }
   },
   "outputs": [
    {
     "name": "stdout",
     "output_type": "stream",
     "text": [
      "tensor(2.5000)\n"
     ]
    }
   ],
   "source": [
    "t = torch.tensor([[1., 2.], \n",
    "                  [3., 4.]])\n",
    "print(t.mean())"
   ]
  },
  {
   "cell_type": "code",
   "execution_count": 64,
   "metadata": {
    "ExecuteTime": {
     "end_time": "2020-04-06T05:25:43.791974Z",
     "start_time": "2020-04-06T05:25:43.784992Z"
    }
   },
   "outputs": [
    {
     "name": "stdout",
     "output_type": "stream",
     "text": [
      "tensor([2., 3.])\n",
      "tensor([1.5000, 3.5000])\n"
     ]
    }
   ],
   "source": [
    "# 차원별로 보자\n",
    "print(t.mean(dim=0)) # 첫번째 차원을 없앤 후 평균이다. 여기서는 행을 없애고 평균이다.\n",
    "print(t.mean(dim=1)) # 두번째 차원을 없앤 후 평균이다. 여기서는 열을 없애고 평균이다."
   ]
  },
  {
   "cell_type": "markdown",
   "metadata": {},
   "source": [
    "덧셈도 있다."
   ]
  },
  {
   "cell_type": "code",
   "execution_count": 68,
   "metadata": {
    "ExecuteTime": {
     "end_time": "2020-04-06T05:27:44.385611Z",
     "start_time": "2020-04-06T05:27:44.378619Z"
    }
   },
   "outputs": [
    {
     "name": "stdout",
     "output_type": "stream",
     "text": [
      "tensor(10.)\n",
      "tensor([4., 6.])\n",
      "tensor([3., 7.])\n"
     ]
    }
   ],
   "source": [
    "print(t.sum())\n",
    "print(t.sum(dim=0)) # 첫번째 차원을 없앤 후 덧셈이다. 여기서는 행을 없애고 덧셈이다.\n",
    "print(t.sum(dim=1)) # 두번째 차원을 없앤 후 덧셈이다. 여기서는 열을 없애고 덧셈이다."
   ]
  },
  {
   "cell_type": "code",
   "execution_count": 71,
   "metadata": {
    "ExecuteTime": {
     "end_time": "2020-04-06T05:30:41.407379Z",
     "start_time": "2020-04-06T05:30:41.401396Z"
    },
    "scrolled": true
   },
   "outputs": [
    {
     "name": "stdout",
     "output_type": "stream",
     "text": [
      "tensor(4.)\n",
      "tensor(3)\n"
     ]
    }
   ],
   "source": [
    "print(t.max()) # 원소 중 최대값을 리턴\n",
    "print(t.argmax()) # 최대값의 인덱스를 리턴"
   ]
  },
  {
   "cell_type": "code",
   "execution_count": 72,
   "metadata": {
    "ExecuteTime": {
     "end_time": "2020-04-06T05:31:24.886150Z",
     "start_time": "2020-04-06T05:31:24.880167Z"
    },
    "scrolled": true
   },
   "outputs": [
    {
     "name": "stdout",
     "output_type": "stream",
     "text": [
      "torch.return_types.max(\n",
      "values=tensor([3., 4.]),\n",
      "indices=tensor([1, 1]))\n"
     ]
    }
   ],
   "source": [
    "print(t.max(dim=0)) # 행을 없애고 max값을 받으면 값과 인덱스가 나온다."
   ]
  },
  {
   "cell_type": "code",
   "execution_count": 75,
   "metadata": {
    "ExecuteTime": {
     "end_time": "2020-04-06T05:33:20.920963Z",
     "start_time": "2020-04-06T05:33:20.912998Z"
    }
   },
   "outputs": [
    {
     "name": "stdout",
     "output_type": "stream",
     "text": [
      "Max: tensor([3., 4.])\n",
      "Argmax: tensor([1, 1])\n"
     ]
    }
   ],
   "source": [
    "print('Max:', t.max(dim=0)[0])\n",
    "print('Argmax:', t.max(dim=0)[1])\n",
    "# 이렇게 하면 둘 다 받을 수 있다.\n",
    "# 근데 이게 의미가 있는가? 그건 잘 모르겠다."
   ]
  },
  {
   "cell_type": "markdown",
   "metadata": {},
   "source": [
    "# 1.2.8 뷰, 스퀴즈, 언스퀴즈"
   ]
  },
  {
   "cell_type": "markdown",
   "metadata": {},
   "source": [
    "뷰(View) - 원소의 수를 유지하면서 텐서의 크기를 변경한다. 매우 중요하다\n",
    "\n",
    "numpy의 Reshape와 같은 역할을 하는 것이 pytorch의 View이다.\n",
    "\n",
    "텐서의 크기(shape 또는 size())를 변경해준다."
   ]
  },
  {
   "cell_type": "code",
   "execution_count": 79,
   "metadata": {
    "ExecuteTime": {
     "end_time": "2020-04-06T05:40:05.958206Z",
     "start_time": "2020-04-06T05:40:05.953219Z"
    }
   },
   "outputs": [
    {
     "name": "stdout",
     "output_type": "stream",
     "text": [
      "torch.Size([2, 2, 3])\n"
     ]
    }
   ],
   "source": [
    "t = np.array([[[0., 1., 2.],\n",
    "              [3., 4., 5.]],\n",
    "              [[6., 7., 8.],\n",
    "              [9., 10., 11.]]])\n",
    "tf = torch.FloatTensor(t)\n",
    "print(tf.shape)"
   ]
  },
  {
   "cell_type": "markdown",
   "metadata": {},
   "source": [
    "![](https://camo.githubusercontent.com/4282b83258a22d03469b707a50604ed229cb771c/68747470733a2f2f77696b69646f63732e6e65742f696d616765732f706167652f35323834362f74656e736f72312e504e47)"
   ]
  },
  {
   "cell_type": "code",
   "execution_count": 81,
   "metadata": {
    "ExecuteTime": {
     "end_time": "2020-04-06T05:41:37.447635Z",
     "start_time": "2020-04-06T05:41:37.440676Z"
    },
    "scrolled": true
   },
   "outputs": [
    {
     "name": "stdout",
     "output_type": "stream",
     "text": [
      "tensor([[ 0.,  1.,  2.],\n",
      "        [ 3.,  4.,  5.],\n",
      "        [ 6.,  7.,  8.],\n",
      "        [ 9., 10., 11.]])\n",
      "torch.Size([4, 3])\n"
     ]
    }
   ],
   "source": [
    "print(tf.view([-1,3])) #ft라는 텐서를 (?, 3)의 크기로 변경\n",
    "print(tf.view([-1,3]).shape)"
   ]
  },
  {
   "cell_type": "markdown",
   "metadata": {},
   "source": [
    "![](https://camo.githubusercontent.com/15345f60df1e90ffa4ce46cf12fbc2ac1861e250/68747470733a2f2f77696b69646f63732e6e65742f696d616765732f706167652f35323834362f74656e736f72322e504e47)"
   ]
  },
  {
   "cell_type": "code",
   "execution_count": 84,
   "metadata": {
    "ExecuteTime": {
     "end_time": "2020-04-06T05:44:40.679820Z",
     "start_time": "2020-04-06T05:44:40.672845Z"
    },
    "scrolled": true
   },
   "outputs": [
    {
     "name": "stdout",
     "output_type": "stream",
     "text": [
      "tensor([[[ 0.,  1.,  2.]],\n",
      "\n",
      "        [[ 3.,  4.,  5.]],\n",
      "\n",
      "        [[ 6.,  7.,  8.]],\n",
      "\n",
      "        [[ 9., 10., 11.]]])\n",
      "torch.Size([4, 1, 3])\n"
     ]
    }
   ],
   "source": [
    "print(tf.view([-1, 1, 3]))\n",
    "print(tf.view([-1, 1, 3]).shape)"
   ]
  },
  {
   "cell_type": "markdown",
   "metadata": {},
   "source": [
    "이쯤에서 까먹었을테니 가져왔다.\n",
    "\n",
    "|t| = (batch size, width, height)\n",
    "\n",
    "![image.png](https://camo.githubusercontent.com/3291cb4c3c94c2894964a4cfdbdc0cde0a59811a/68747470733a2f2f77696b69646f63732e6e65742f696d616765732f706167652f35323436302f74656e736f72352e504e47)\n"
   ]
  },
  {
   "cell_type": "markdown",
   "metadata": {},
   "source": [
    "스퀴즈(Squeeze) - 1인 차원을 제거한다."
   ]
  },
  {
   "cell_type": "code",
   "execution_count": 89,
   "metadata": {
    "ExecuteTime": {
     "end_time": "2020-04-06T05:56:25.202493Z",
     "start_time": "2020-04-06T05:56:25.194483Z"
    },
    "scrolled": true
   },
   "outputs": [
    {
     "name": "stdout",
     "output_type": "stream",
     "text": [
      "tensor([[0.],\n",
      "        [1.],\n",
      "        [2.]])\n",
      "torch.Size([3, 1])\n",
      "tensor([0., 1., 2.])\n",
      "torch.Size([3])\n"
     ]
    }
   ],
   "source": [
    "ft = torch.FloatTensor([[0],\n",
    "                        [1],\n",
    "                        [2]])\n",
    "print(ft)\n",
    "print(ft.shape)\n",
    "print(ft.squeeze())\n",
    "print(ft.squeeze().shape)"
   ]
  },
  {
   "cell_type": "markdown",
   "metadata": {},
   "source": [
    "언스퀴즈(Unsqueeze) - 특정 위치에 1인 차원을 추가한다."
   ]
  },
  {
   "cell_type": "code",
   "execution_count": 95,
   "metadata": {
    "ExecuteTime": {
     "end_time": "2020-04-06T05:59:25.564313Z",
     "start_time": "2020-04-06T05:59:25.554354Z"
    },
    "scrolled": true
   },
   "outputs": [
    {
     "name": "stdout",
     "output_type": "stream",
     "text": [
      "tensor([0., 1., 2.])\n",
      "torch.Size([3])\n",
      "tensor([[0., 1., 2.]])\n",
      "torch.Size([1, 3])\n",
      "tensor([[0.],\n",
      "        [1.],\n",
      "        [2.]])\n",
      "torch.Size([3, 1])\n"
     ]
    }
   ],
   "source": [
    "ft = torch.FloatTensor([0, 1, 2])\n",
    "print(ft)\n",
    "print(ft.shape)\n",
    "print(ft.unsqueeze(0)) # ft.view(1,-1)와 같다.\n",
    "print(ft.unsqueeze(0).shape)\n",
    "print(ft.unsqueeze(1))\n",
    "print(ft.unsqueeze(1).shape)"
   ]
  },
  {
   "cell_type": "markdown",
   "metadata": {},
   "source": [
    "다시 정리하면 view(), squeeze(), unsqueeze()는 텐서의 원소 수는 그대로 유지하면서 모양과 차원을 조절한다."
   ]
  },
  {
   "cell_type": "markdown",
   "metadata": {},
   "source": [
    "# 1.2.9 타입 캐스팅(Type Casting) 중요하다는데 안한다."
   ]
  },
  {
   "cell_type": "markdown",
   "metadata": {},
   "source": [
    "# 1.2.10 연결하기(Concatenate Vs. Stacking)"
   ]
  },
  {
   "cell_type": "markdown",
   "metadata": {},
   "source": [
    "두 텐서를 연결할 수도 있다.\n",
    "\n",
    "방법으로는 Concatenate와 Stacking 두가지가 있다."
   ]
  },
  {
   "cell_type": "code",
   "execution_count": 107,
   "metadata": {
    "ExecuteTime": {
     "end_time": "2020-04-06T06:08:04.692592Z",
     "start_time": "2020-04-06T06:08:04.682592Z"
    }
   },
   "outputs": [
    {
     "name": "stdout",
     "output_type": "stream",
     "text": [
      "tensor([[1., 2.],\n",
      "        [3., 4.],\n",
      "        [5., 6.],\n",
      "        [7., 8.]])\n",
      "torch.Size([4, 2])\n",
      "tensor([[1., 2., 5., 6.],\n",
      "        [3., 4., 7., 8.]])\n",
      "torch.Size([2, 4])\n"
     ]
    }
   ],
   "source": [
    "x = torch.FloatTensor([[1, 2],\n",
    "                      [3, 4]])\n",
    "y = torch.FloatTensor([[5, 6],\n",
    "                      [7, 8]])\n",
    "\n",
    "print(torch.cat([x,y],dim=0))\n",
    "print(torch.cat([x,y],dim=0).shape)\n",
    "print(torch.cat([x,y],dim=1))\n",
    "print(torch.cat([x,y],dim=1).shape)"
   ]
  },
  {
   "cell_type": "markdown",
   "metadata": {},
   "source": [
    "딥러닝에서는 모델의 입력 또는 중간 연산에서 두 개의 텐서를 연결하는 경우가 많다.\n",
    "\n",
    "두 텐서를 연결해서 입력으로 사용하는 것은 두 가지의 정보를 모두 사용한다는 의미를 가지고 있다."
   ]
  },
  {
   "cell_type": "code",
   "execution_count": 110,
   "metadata": {
    "ExecuteTime": {
     "end_time": "2020-04-06T06:12:30.472100Z",
     "start_time": "2020-04-06T06:12:30.466114Z"
    }
   },
   "outputs": [
    {
     "name": "stdout",
     "output_type": "stream",
     "text": [
      "tensor([[1., 4.],\n",
      "        [2., 5.],\n",
      "        [3., 6.]])\n"
     ]
    }
   ],
   "source": [
    "x = torch.FloatTensor([1, 4])\n",
    "y = torch.FloatTensor([2, 5])\n",
    "z = torch.FloatTensor([3, 6])\n",
    "\n",
    "print(torch.stack([x, y, z], dim=0))"
   ]
  },
  {
   "cell_type": "markdown",
   "metadata": {},
   "source": [
    "![](https://camo.githubusercontent.com/f29dfa880a5e4e929fcee98614a19f00d7a815b0/68747470733a2f2f77696b69646f63732e6e65742f696d616765732f706167652f35323834362f74656e736f72315f307864593870582e504e47)"
   ]
  },
  {
   "cell_type": "code",
   "execution_count": 111,
   "metadata": {
    "ExecuteTime": {
     "end_time": "2020-04-06T06:12:38.831729Z",
     "start_time": "2020-04-06T06:12:38.825744Z"
    },
    "scrolled": true
   },
   "outputs": [
    {
     "name": "stdout",
     "output_type": "stream",
     "text": [
      "tensor([[1., 2., 3.],\n",
      "        [4., 5., 6.]])\n"
     ]
    }
   ],
   "source": [
    "print(torch.stack([x, y, z], dim=1))"
   ]
  },
  {
   "cell_type": "markdown",
   "metadata": {},
   "source": [
    "![](https://camo.githubusercontent.com/b349c3ce2a5bb732a1f4a2f746c70f0e3813436f/68747470733a2f2f77696b69646f63732e6e65742f696d616765732f706167652f35323834362f74656e736f72325f504f655062754d2e504e47)"
   ]
  },
  {
   "cell_type": "markdown",
   "metadata": {},
   "source": [
    "# 1.2.11 ones_like와 zeros_like"
   ]
  },
  {
   "cell_type": "code",
   "execution_count": 112,
   "metadata": {
    "ExecuteTime": {
     "end_time": "2020-04-06T06:14:55.482452Z",
     "start_time": "2020-04-06T06:14:55.476446Z"
    }
   },
   "outputs": [
    {
     "name": "stdout",
     "output_type": "stream",
     "text": [
      "tensor([[0., 1., 2.],\n",
      "        [2., 1., 0.]])\n"
     ]
    }
   ],
   "source": [
    "x = torch.FloatTensor([[0, 1, 2],\n",
    "                      [2, 1, 0]])\n",
    "print(x)"
   ]
  },
  {
   "cell_type": "code",
   "execution_count": 113,
   "metadata": {
    "ExecuteTime": {
     "end_time": "2020-04-06T06:15:33.078928Z",
     "start_time": "2020-04-06T06:15:33.072942Z"
    },
    "scrolled": true
   },
   "outputs": [
    {
     "name": "stdout",
     "output_type": "stream",
     "text": [
      "tensor([[1., 1., 1.],\n",
      "        [1., 1., 1.]])\n"
     ]
    }
   ],
   "source": [
    "print(torch.ones_like(x)) # x와 같은 형태의 1로 채워진 텐서"
   ]
  },
  {
   "cell_type": "code",
   "execution_count": 115,
   "metadata": {
    "ExecuteTime": {
     "end_time": "2020-04-06T06:17:06.988888Z",
     "start_time": "2020-04-06T06:17:06.982899Z"
    }
   },
   "outputs": [
    {
     "name": "stdout",
     "output_type": "stream",
     "text": [
      "tensor([[0., 0., 0.],\n",
      "        [0., 0., 0.]])\n"
     ]
    }
   ],
   "source": [
    "print(torch.zeros_like(x)) # x와 같은 형태의 0으로 채워진 텐서"
   ]
  },
  {
   "cell_type": "markdown",
   "metadata": {},
   "source": [
    "# 1.2.12 In-place Operation(덮어쓰기 연산)"
   ]
  },
  {
   "cell_type": "code",
   "execution_count": 122,
   "metadata": {
    "ExecuteTime": {
     "end_time": "2020-04-06T06:19:12.041611Z",
     "start_time": "2020-04-06T06:19:12.035627Z"
    },
    "scrolled": true
   },
   "outputs": [
    {
     "name": "stdout",
     "output_type": "stream",
     "text": [
      "tensor([[0., 3., 6.],\n",
      "        [6., 3., 0.]])\n",
      "tensor([[0., 1., 2.],\n",
      "        [2., 1., 0.]])\n"
     ]
    }
   ],
   "source": [
    "x = torch.FloatTensor([[0, 1, 2],\n",
    "                      [2, 1, 0]])\n",
    "print(x.mul(3.))\n",
    "print(x)"
   ]
  },
  {
   "cell_type": "code",
   "execution_count": 123,
   "metadata": {
    "ExecuteTime": {
     "end_time": "2020-04-06T06:19:12.242053Z",
     "start_time": "2020-04-06T06:19:12.235084Z"
    },
    "scrolled": true
   },
   "outputs": [
    {
     "name": "stdout",
     "output_type": "stream",
     "text": [
      "tensor([[0., 3., 6.],\n",
      "        [6., 3., 0.]])\n",
      "tensor([[0., 3., 6.],\n",
      "        [6., 3., 0.]])\n"
     ]
    }
   ],
   "source": [
    "print(x.mul_(3.)) # 연산 뒤에 _를 붙이면 기존의 값을 덮어쓰기 할 수 있다!\n",
    "print(x)"
   ]
  }
 ],
 "metadata": {
  "hide_input": false,
  "kernelspec": {
   "display_name": "Python 3",
   "language": "python",
   "name": "python3"
  },
  "language_info": {
   "codemirror_mode": {
    "name": "ipython",
    "version": 3
   },
   "file_extension": ".py",
   "mimetype": "text/x-python",
   "name": "python",
   "nbconvert_exporter": "python",
   "pygments_lexer": "ipython3",
   "version": "3.7.6"
  },
  "toc": {
   "base_numbering": 1,
   "nav_menu": {},
   "number_sections": false,
   "sideBar": true,
   "skip_h1_title": false,
   "title_cell": "",
   "title_sidebar": "Contents",
   "toc_cell": true,
   "toc_position": {
    "height": "calc(100% - 180px)",
    "left": "10px",
    "top": "150px",
    "width": "304px"
   },
   "toc_section_display": true,
   "toc_window_display": true
  },
  "varInspector": {
   "cols": {
    "lenName": 16,
    "lenType": 16,
    "lenVar": 40
   },
   "kernels_config": {
    "python": {
     "delete_cmd_postfix": "",
     "delete_cmd_prefix": "del ",
     "library": "var_list.py",
     "varRefreshCmd": "print(var_dic_list())"
    },
    "r": {
     "delete_cmd_postfix": ") ",
     "delete_cmd_prefix": "rm(",
     "library": "var_list.r",
     "varRefreshCmd": "cat(var_dic_list()) "
    }
   },
   "types_to_exclude": [
    "module",
    "function",
    "builtin_function_or_method",
    "instance",
    "_Feature"
   ],
   "window_display": false
  }
 },
 "nbformat": 4,
 "nbformat_minor": 2
}
