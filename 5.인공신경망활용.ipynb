{
  "nbformat": 4,
  "nbformat_minor": 0,
  "metadata": {
    "colab": {
      "name": "5.인공신경망활용.ipynb",
      "provenance": [],
      "collapsed_sections": [],
      "mount_file_id": "1XNqCSeq2NKQwoE64VDdCsdLyKSexDK8M",
      "authorship_tag": "ABX9TyPMA4lY9ZWYtOGKsaVHzwtV",
      "include_colab_link": true
    },
    "kernelspec": {
      "name": "python3",
      "display_name": "Python 3"
    },
    "accelerator": "GPU"
  },
  "cells": [
    {
      "cell_type": "markdown",
      "metadata": {
        "id": "view-in-github",
        "colab_type": "text"
      },
      "source": [
        "<a href=\"https://colab.research.google.com/github/Jung0Jin/Pytorch_study/blob/master/5.%EC%9D%B8%EA%B3%B5%EC%8B%A0%EA%B2%BD%EB%A7%9D%ED%99%9C%EC%9A%A9.ipynb\" target=\"_parent\"><img src=\"https://colab.research.google.com/assets/colab-badge.svg\" alt=\"Open In Colab\"/></a>"
      ]
    },
    {
      "cell_type": "markdown",
      "metadata": {
        "id": "yfwDFWomJGaT",
        "colab_type": "text"
      },
      "source": [
        "#5.인공신경망활용"
      ]
    },
    {
      "cell_type": "markdown",
      "metadata": {
        "id": "Pq1gSGCEJNfz",
        "colab_type": "text"
      },
      "source": [
        "##5.1 데이터 다운로드"
      ]
    },
    {
      "cell_type": "markdown",
      "metadata": {
        "id": "n-ahgnCoKNN3",
        "colab_type": "text"
      },
      "source": [
        "아래 링크를 클릭하면 구글 드라이브에 저장된 데이콘 천체 데이터가 있다. 눌러서 다운로드 받으면 된다.\n",
        "\n",
        "출처 : https://dacon.io/competitions/official/235573/data/\n",
        "\n",
        "https://drive.google.com/open?id=1orMiC9Ssy82jQKJUcaF1Nefy3h3ux5vG # train.csv\n",
        "\n",
        "https://drive.google.com/open?id=1-wdXDwCYvfeA0OUpPQxShvIgk7qGeHyy # test.csv\n",
        "\n",
        "https://drive.google.com/open?id=1lyTR6IZdnJ-lG3L3iM_S7_BxyQmtBW_U # submission.csv"
      ]
    },
    {
      "cell_type": "markdown",
      "metadata": {
        "id": "jCGokfRgK9A2",
        "colab_type": "text"
      },
      "source": [
        "##5.2 데이터 불러오기"
      ]
    },
    {
      "cell_type": "markdown",
      "metadata": {
        "id": "gxJRC2g2K_Jn",
        "colab_type": "text"
      },
      "source": [
        "+ 데이터 설명\n",
        "\n",
        "최근 인류에게 다가온 빅데이터라는 단어는 우주와 천문학에게 낯설지 않습니다. 찰나의 순간에도 우주는 천문학적인 양의 데이터를 생산해왔고, 오래 전부터 천문학자들은 우주를 관측했으며 그 방대함에 비례하는 데이터를 수집 및 분석했기 때문입니다.\n",
        "\n",
        "슬론 디지털 천체 관측(Sloan Digital Sky Survey: 이하 SDSS)는 세계적 천체 관측 프로젝트로, 우주에 대한 천문학적인 규모의 데이터를 수집하고 있습니다. 이곳에서 수집한 데이터는 약 6,000개 논문에 사용되었고, 25만 회 이상 인용되었을 정도로 천문학에 큰 기여를 했습니다. 점점 거대해지는 규모에 따라 데이터 처리에는 머신러닝과 딥러닝 기법이 활용되기 시작했습니다.\n",
        "\n",
        "여전히 우주에는 다양한 미지의 이야기가 남아있고, 오늘날 인간은 하늘에서 많은 데이터를 얻어낼 정도로 발전했습니다. 이 데이터를 분석하여 어쩌면 드러나지 않은 규칙이 여러분의 손끝에서 밝혀질 수 있습니다. 새로운 알고리즘을 통해 우주의 비밀을 찾아주세요!\n",
        "\n"
      ]
    },
    {
      "cell_type": "markdown",
      "metadata": {
        "id": "7Up43Z11LV1-",
        "colab_type": "text"
      },
      "source": [
        "+ 특징 데이터\n",
        "\n",
        "ID : UniqueID\n",
        "\n",
        "psfMag : Point spread function magnitudes : 먼 천체를 한 점으로 가정하여 측정한 빛의 밝기입니다. u,g,r,i,z 5개가 있다.\n",
        "\n",
        "fiberMag : Fiber magnitudes : 3인치 지름의 광섬유를 사용하여 광스펙트럼을 측정합니다. 광섬유를 통과하는 빛의 밝기입니다. u,g,r,i,z 5개가 있다.\n",
        "\n",
        "petroMag : Petrosian Magnitudes : 은하처럼 뚜렷한 표면이 없는 천체에서는 빛의 밝기를 측정하기 어렵습니다. 천체의 위치와 거리에 상관없이 빛의 밝기를 비교하기 위한 수치입니다. u,g,r,i,z 5개가 있다.\n",
        "\n",
        "modelMag : Model magnitudes : 천체 중심으로부터 특정 거리의 밝기입니다. u,g,r,i,z 5개가 있다.\n",
        "\n",
        "fiverID : 관측에 사용된 광섬유의 구분자"
      ]
    },
    {
      "cell_type": "markdown",
      "metadata": {
        "id": "1Ca-XqlGLeH2",
        "colab_type": "text"
      },
      "source": [
        "+ 타겟 데이터\n",
        "\n",
        "type : Source type : 천체의 분류"
      ]
    },
    {
      "cell_type": "code",
      "metadata": {
        "id": "FrybKhM6I6Sp",
        "colab_type": "code",
        "colab": {}
      },
      "source": [
        "import numpy as np \n",
        "import pandas as pd\n",
        "import matplotlib.pyplot as plt\n",
        "import warnings\n",
        "warnings.filterwarnings('ignore')"
      ],
      "execution_count": 0,
      "outputs": []
    },
    {
      "cell_type": "code",
      "metadata": {
        "id": "AEcUnaZKO3U2",
        "colab_type": "code",
        "outputId": "f0b0eeda-9dbf-4bfb-d23e-cedb096ac91b",
        "colab": {
          "base_uri": "https://localhost:8080/",
          "height": 255
        }
      },
      "source": [
        "train = pd.read_csv('/content/drive/My Drive/데이터/데이콘 천체 데이터/train.csv', index_col='id')\n",
        "train.head()"
      ],
      "execution_count": 40,
      "outputs": [
        {
          "output_type": "execute_result",
          "data": {
            "text/html": [
              "<div>\n",
              "<style scoped>\n",
              "    .dataframe tbody tr th:only-of-type {\n",
              "        vertical-align: middle;\n",
              "    }\n",
              "\n",
              "    .dataframe tbody tr th {\n",
              "        vertical-align: top;\n",
              "    }\n",
              "\n",
              "    .dataframe thead th {\n",
              "        text-align: right;\n",
              "    }\n",
              "</style>\n",
              "<table border=\"1\" class=\"dataframe\">\n",
              "  <thead>\n",
              "    <tr style=\"text-align: right;\">\n",
              "      <th></th>\n",
              "      <th>type</th>\n",
              "      <th>fiberID</th>\n",
              "      <th>psfMag_u</th>\n",
              "      <th>psfMag_g</th>\n",
              "      <th>psfMag_r</th>\n",
              "      <th>psfMag_i</th>\n",
              "      <th>psfMag_z</th>\n",
              "      <th>fiberMag_u</th>\n",
              "      <th>fiberMag_g</th>\n",
              "      <th>fiberMag_r</th>\n",
              "      <th>fiberMag_i</th>\n",
              "      <th>fiberMag_z</th>\n",
              "      <th>petroMag_u</th>\n",
              "      <th>petroMag_g</th>\n",
              "      <th>petroMag_r</th>\n",
              "      <th>petroMag_i</th>\n",
              "      <th>petroMag_z</th>\n",
              "      <th>modelMag_u</th>\n",
              "      <th>modelMag_g</th>\n",
              "      <th>modelMag_r</th>\n",
              "      <th>modelMag_i</th>\n",
              "      <th>modelMag_z</th>\n",
              "    </tr>\n",
              "    <tr>\n",
              "      <th>id</th>\n",
              "      <th></th>\n",
              "      <th></th>\n",
              "      <th></th>\n",
              "      <th></th>\n",
              "      <th></th>\n",
              "      <th></th>\n",
              "      <th></th>\n",
              "      <th></th>\n",
              "      <th></th>\n",
              "      <th></th>\n",
              "      <th></th>\n",
              "      <th></th>\n",
              "      <th></th>\n",
              "      <th></th>\n",
              "      <th></th>\n",
              "      <th></th>\n",
              "      <th></th>\n",
              "      <th></th>\n",
              "      <th></th>\n",
              "      <th></th>\n",
              "      <th></th>\n",
              "      <th></th>\n",
              "    </tr>\n",
              "  </thead>\n",
              "  <tbody>\n",
              "    <tr>\n",
              "      <th>0</th>\n",
              "      <td>QSO</td>\n",
              "      <td>601</td>\n",
              "      <td>23.198224</td>\n",
              "      <td>21.431953</td>\n",
              "      <td>21.314148</td>\n",
              "      <td>21.176553</td>\n",
              "      <td>21.171444</td>\n",
              "      <td>22.581309</td>\n",
              "      <td>21.644453</td>\n",
              "      <td>21.657571</td>\n",
              "      <td>21.387653</td>\n",
              "      <td>21.572827</td>\n",
              "      <td>22.504317</td>\n",
              "      <td>21.431636</td>\n",
              "      <td>21.478312</td>\n",
              "      <td>21.145409</td>\n",
              "      <td>20.422446</td>\n",
              "      <td>22.749241</td>\n",
              "      <td>21.465534</td>\n",
              "      <td>21.364187</td>\n",
              "      <td>21.020605</td>\n",
              "      <td>21.147340</td>\n",
              "    </tr>\n",
              "    <tr>\n",
              "      <th>1</th>\n",
              "      <td>QSO</td>\n",
              "      <td>788</td>\n",
              "      <td>21.431355</td>\n",
              "      <td>20.708104</td>\n",
              "      <td>20.678850</td>\n",
              "      <td>20.703420</td>\n",
              "      <td>20.473229</td>\n",
              "      <td>21.868797</td>\n",
              "      <td>21.029773</td>\n",
              "      <td>20.967054</td>\n",
              "      <td>20.937731</td>\n",
              "      <td>21.063646</td>\n",
              "      <td>21.360701</td>\n",
              "      <td>20.778968</td>\n",
              "      <td>20.889705</td>\n",
              "      <td>20.639812</td>\n",
              "      <td>20.646660</td>\n",
              "      <td>21.492955</td>\n",
              "      <td>20.758527</td>\n",
              "      <td>20.753925</td>\n",
              "      <td>20.693389</td>\n",
              "      <td>20.512314</td>\n",
              "    </tr>\n",
              "    <tr>\n",
              "      <th>2</th>\n",
              "      <td>QSO</td>\n",
              "      <td>427</td>\n",
              "      <td>17.851451</td>\n",
              "      <td>16.727898</td>\n",
              "      <td>16.679677</td>\n",
              "      <td>16.694640</td>\n",
              "      <td>16.641788</td>\n",
              "      <td>18.171890</td>\n",
              "      <td>17.033098</td>\n",
              "      <td>16.999682</td>\n",
              "      <td>17.095999</td>\n",
              "      <td>17.076449</td>\n",
              "      <td>17.867253</td>\n",
              "      <td>16.738784</td>\n",
              "      <td>16.688874</td>\n",
              "      <td>16.744210</td>\n",
              "      <td>16.808006</td>\n",
              "      <td>17.818063</td>\n",
              "      <td>16.697434</td>\n",
              "      <td>16.641249</td>\n",
              "      <td>16.660177</td>\n",
              "      <td>16.688928</td>\n",
              "    </tr>\n",
              "    <tr>\n",
              "      <th>3</th>\n",
              "      <td>QSO</td>\n",
              "      <td>864</td>\n",
              "      <td>20.789900</td>\n",
              "      <td>20.040371</td>\n",
              "      <td>19.926909</td>\n",
              "      <td>19.843840</td>\n",
              "      <td>19.463270</td>\n",
              "      <td>21.039030</td>\n",
              "      <td>20.317165</td>\n",
              "      <td>20.217898</td>\n",
              "      <td>20.073852</td>\n",
              "      <td>19.794505</td>\n",
              "      <td>20.433907</td>\n",
              "      <td>19.993727</td>\n",
              "      <td>19.985531</td>\n",
              "      <td>19.750917</td>\n",
              "      <td>19.455117</td>\n",
              "      <td>20.770711</td>\n",
              "      <td>20.001699</td>\n",
              "      <td>19.889798</td>\n",
              "      <td>19.758113</td>\n",
              "      <td>19.552855</td>\n",
              "    </tr>\n",
              "    <tr>\n",
              "      <th>4</th>\n",
              "      <td>STAR_RED_DWARF</td>\n",
              "      <td>612</td>\n",
              "      <td>26.454969</td>\n",
              "      <td>23.058767</td>\n",
              "      <td>21.471406</td>\n",
              "      <td>19.504961</td>\n",
              "      <td>18.389096</td>\n",
              "      <td>25.700632</td>\n",
              "      <td>23.629122</td>\n",
              "      <td>21.742750</td>\n",
              "      <td>19.861718</td>\n",
              "      <td>18.810375</td>\n",
              "      <td>25.859229</td>\n",
              "      <td>22.426929</td>\n",
              "      <td>21.673551</td>\n",
              "      <td>19.610012</td>\n",
              "      <td>18.376141</td>\n",
              "      <td>24.877052</td>\n",
              "      <td>23.147993</td>\n",
              "      <td>21.475342</td>\n",
              "      <td>19.487330</td>\n",
              "      <td>18.375655</td>\n",
              "    </tr>\n",
              "  </tbody>\n",
              "</table>\n",
              "</div>"
            ],
            "text/plain": [
              "              type  fiberID   psfMag_u  ...  modelMag_r  modelMag_i  modelMag_z\n",
              "id                                      ...                                    \n",
              "0              QSO      601  23.198224  ...   21.364187   21.020605   21.147340\n",
              "1              QSO      788  21.431355  ...   20.753925   20.693389   20.512314\n",
              "2              QSO      427  17.851451  ...   16.641249   16.660177   16.688928\n",
              "3              QSO      864  20.789900  ...   19.889798   19.758113   19.552855\n",
              "4   STAR_RED_DWARF      612  26.454969  ...   21.475342   19.487330   18.375655\n",
              "\n",
              "[5 rows x 22 columns]"
            ]
          },
          "metadata": {
            "tags": []
          },
          "execution_count": 40
        }
      ]
    },
    {
      "cell_type": "code",
      "metadata": {
        "id": "mPI5bNKRPVEF",
        "colab_type": "code",
        "outputId": "33e90b83-00d9-49a4-ea82-8256d181d183",
        "colab": {
          "base_uri": "https://localhost:8080/",
          "height": 35
        }
      },
      "source": [
        "print(train.shape) # id까지 하면 특성 23개"
      ],
      "execution_count": 41,
      "outputs": [
        {
          "output_type": "stream",
          "text": [
            "(199991, 22)\n"
          ],
          "name": "stdout"
        }
      ]
    },
    {
      "cell_type": "markdown",
      "metadata": {
        "id": "xp8DtbnkQ63n",
        "colab_type": "text"
      },
      "source": [
        "##5.3 데이터 전처리"
      ]
    },
    {
      "cell_type": "code",
      "metadata": {
        "id": "eDxlASBhRqSn",
        "colab_type": "code",
        "outputId": "59fb6b0e-e88c-4335-ccfd-26ffc296a204",
        "colab": {
          "base_uri": "https://localhost:8080/",
          "height": 539
        }
      },
      "source": [
        "train.info()"
      ],
      "execution_count": 42,
      "outputs": [
        {
          "output_type": "stream",
          "text": [
            "<class 'pandas.core.frame.DataFrame'>\n",
            "Int64Index: 199991 entries, 0 to 199990\n",
            "Data columns (total 22 columns):\n",
            " #   Column      Non-Null Count   Dtype  \n",
            "---  ------      --------------   -----  \n",
            " 0   type        199991 non-null  object \n",
            " 1   fiberID     199991 non-null  int64  \n",
            " 2   psfMag_u    199991 non-null  float64\n",
            " 3   psfMag_g    199991 non-null  float64\n",
            " 4   psfMag_r    199991 non-null  float64\n",
            " 5   psfMag_i    199991 non-null  float64\n",
            " 6   psfMag_z    199991 non-null  float64\n",
            " 7   fiberMag_u  199991 non-null  float64\n",
            " 8   fiberMag_g  199991 non-null  float64\n",
            " 9   fiberMag_r  199991 non-null  float64\n",
            " 10  fiberMag_i  199991 non-null  float64\n",
            " 11  fiberMag_z  199991 non-null  float64\n",
            " 12  petroMag_u  199991 non-null  float64\n",
            " 13  petroMag_g  199991 non-null  float64\n",
            " 14  petroMag_r  199991 non-null  float64\n",
            " 15  petroMag_i  199991 non-null  float64\n",
            " 16  petroMag_z  199991 non-null  float64\n",
            " 17  modelMag_u  199991 non-null  float64\n",
            " 18  modelMag_g  199991 non-null  float64\n",
            " 19  modelMag_r  199991 non-null  float64\n",
            " 20  modelMag_i  199991 non-null  float64\n",
            " 21  modelMag_z  199991 non-null  float64\n",
            "dtypes: float64(20), int64(1), object(1)\n",
            "memory usage: 35.1+ MB\n"
          ],
          "name": "stdout"
        }
      ]
    },
    {
      "cell_type": "code",
      "metadata": {
        "id": "J7ip3kYDQB-_",
        "colab_type": "code",
        "outputId": "8f8595b6-9e2e-4729-d573-f200a280d292",
        "colab": {
          "base_uri": "https://localhost:8080/",
          "height": 431
        }
      },
      "source": [
        "train.isnull().sum()"
      ],
      "execution_count": 43,
      "outputs": [
        {
          "output_type": "execute_result",
          "data": {
            "text/plain": [
              "type          0\n",
              "fiberID       0\n",
              "psfMag_u      0\n",
              "psfMag_g      0\n",
              "psfMag_r      0\n",
              "psfMag_i      0\n",
              "psfMag_z      0\n",
              "fiberMag_u    0\n",
              "fiberMag_g    0\n",
              "fiberMag_r    0\n",
              "fiberMag_i    0\n",
              "fiberMag_z    0\n",
              "petroMag_u    0\n",
              "petroMag_g    0\n",
              "petroMag_r    0\n",
              "petroMag_i    0\n",
              "petroMag_z    0\n",
              "modelMag_u    0\n",
              "modelMag_g    0\n",
              "modelMag_r    0\n",
              "modelMag_i    0\n",
              "modelMag_z    0\n",
              "dtype: int64"
            ]
          },
          "metadata": {
            "tags": []
          },
          "execution_count": 43
        }
      ]
    },
    {
      "cell_type": "markdown",
      "metadata": {
        "id": "sWM-kdraRzgh",
        "colab_type": "text"
      },
      "source": [
        "결측치가 하나도 없다."
      ]
    },
    {
      "cell_type": "code",
      "metadata": {
        "id": "WZasDC2fR1xN",
        "colab_type": "code",
        "outputId": "b0fb4f38-82da-4014-ce80-b27820198896",
        "colab": {
          "base_uri": "https://localhost:8080/",
          "height": 317
        }
      },
      "source": [
        "train.describe()"
      ],
      "execution_count": 44,
      "outputs": [
        {
          "output_type": "execute_result",
          "data": {
            "text/html": [
              "<div>\n",
              "<style scoped>\n",
              "    .dataframe tbody tr th:only-of-type {\n",
              "        vertical-align: middle;\n",
              "    }\n",
              "\n",
              "    .dataframe tbody tr th {\n",
              "        vertical-align: top;\n",
              "    }\n",
              "\n",
              "    .dataframe thead th {\n",
              "        text-align: right;\n",
              "    }\n",
              "</style>\n",
              "<table border=\"1\" class=\"dataframe\">\n",
              "  <thead>\n",
              "    <tr style=\"text-align: right;\">\n",
              "      <th></th>\n",
              "      <th>fiberID</th>\n",
              "      <th>psfMag_u</th>\n",
              "      <th>psfMag_g</th>\n",
              "      <th>psfMag_r</th>\n",
              "      <th>psfMag_i</th>\n",
              "      <th>psfMag_z</th>\n",
              "      <th>fiberMag_u</th>\n",
              "      <th>fiberMag_g</th>\n",
              "      <th>fiberMag_r</th>\n",
              "      <th>fiberMag_i</th>\n",
              "      <th>fiberMag_z</th>\n",
              "      <th>petroMag_u</th>\n",
              "      <th>petroMag_g</th>\n",
              "      <th>petroMag_r</th>\n",
              "      <th>petroMag_i</th>\n",
              "      <th>petroMag_z</th>\n",
              "      <th>modelMag_u</th>\n",
              "      <th>modelMag_g</th>\n",
              "      <th>modelMag_r</th>\n",
              "      <th>modelMag_i</th>\n",
              "      <th>modelMag_z</th>\n",
              "    </tr>\n",
              "  </thead>\n",
              "  <tbody>\n",
              "    <tr>\n",
              "      <th>count</th>\n",
              "      <td>199991.000000</td>\n",
              "      <td>1.999910e+05</td>\n",
              "      <td>199991.000000</td>\n",
              "      <td>199991.000000</td>\n",
              "      <td>199991.000000</td>\n",
              "      <td>199991.000000</td>\n",
              "      <td>1.999910e+05</td>\n",
              "      <td>199991.000000</td>\n",
              "      <td>199991.000000</td>\n",
              "      <td>199991.000000</td>\n",
              "      <td>199991.000000</td>\n",
              "      <td>199991.000000</td>\n",
              "      <td>199991.000000</td>\n",
              "      <td>199991.000000</td>\n",
              "      <td>199991.000000</td>\n",
              "      <td>199991.000000</td>\n",
              "      <td>199991.000000</td>\n",
              "      <td>199991.000000</td>\n",
              "      <td>199991.000000</td>\n",
              "      <td>199991.000000</td>\n",
              "      <td>199991.000000</td>\n",
              "    </tr>\n",
              "    <tr>\n",
              "      <th>mean</th>\n",
              "      <td>360.830152</td>\n",
              "      <td>-6.750146e+00</td>\n",
              "      <td>18.675373</td>\n",
              "      <td>18.401235</td>\n",
              "      <td>18.043495</td>\n",
              "      <td>17.663526</td>\n",
              "      <td>1.084986e+01</td>\n",
              "      <td>19.072693</td>\n",
              "      <td>19.134483</td>\n",
              "      <td>18.183331</td>\n",
              "      <td>18.000882</td>\n",
              "      <td>21.837903</td>\n",
              "      <td>18.454136</td>\n",
              "      <td>18.481525</td>\n",
              "      <td>17.686617</td>\n",
              "      <td>17.699207</td>\n",
              "      <td>20.110991</td>\n",
              "      <td>18.544375</td>\n",
              "      <td>18.181544</td>\n",
              "      <td>17.692395</td>\n",
              "      <td>17.189281</td>\n",
              "    </tr>\n",
              "    <tr>\n",
              "      <th>std</th>\n",
              "      <td>225.305890</td>\n",
              "      <td>1.187678e+04</td>\n",
              "      <td>155.423024</td>\n",
              "      <td>127.128078</td>\n",
              "      <td>116.622194</td>\n",
              "      <td>123.735298</td>\n",
              "      <td>4.172116e+03</td>\n",
              "      <td>749.256162</td>\n",
              "      <td>90.049058</td>\n",
              "      <td>122.378972</td>\n",
              "      <td>145.862346</td>\n",
              "      <td>789.472333</td>\n",
              "      <td>154.376277</td>\n",
              "      <td>97.240448</td>\n",
              "      <td>145.730872</td>\n",
              "      <td>142.691880</td>\n",
              "      <td>122.299062</td>\n",
              "      <td>161.728183</td>\n",
              "      <td>133.984475</td>\n",
              "      <td>131.183416</td>\n",
              "      <td>133.685138</td>\n",
              "    </tr>\n",
              "    <tr>\n",
              "      <th>min</th>\n",
              "      <td>1.000000</td>\n",
              "      <td>-5.310802e+06</td>\n",
              "      <td>-40022.466071</td>\n",
              "      <td>-27184.795793</td>\n",
              "      <td>-26566.310827</td>\n",
              "      <td>-24878.828280</td>\n",
              "      <td>-1.864766e+06</td>\n",
              "      <td>-215882.917191</td>\n",
              "      <td>-21802.656144</td>\n",
              "      <td>-20208.516262</td>\n",
              "      <td>-26505.602101</td>\n",
              "      <td>-24463.431833</td>\n",
              "      <td>-25958.752324</td>\n",
              "      <td>-23948.588523</td>\n",
              "      <td>-40438.184078</td>\n",
              "      <td>-30070.729379</td>\n",
              "      <td>-26236.578659</td>\n",
              "      <td>-36902.402336</td>\n",
              "      <td>-36439.638493</td>\n",
              "      <td>-38969.416822</td>\n",
              "      <td>-26050.710196</td>\n",
              "    </tr>\n",
              "    <tr>\n",
              "      <th>25%</th>\n",
              "      <td>174.000000</td>\n",
              "      <td>1.965259e+01</td>\n",
              "      <td>18.701180</td>\n",
              "      <td>18.048572</td>\n",
              "      <td>17.747663</td>\n",
              "      <td>17.425523</td>\n",
              "      <td>1.994040e+01</td>\n",
              "      <td>18.902851</td>\n",
              "      <td>18.259352</td>\n",
              "      <td>17.903615</td>\n",
              "      <td>17.606148</td>\n",
              "      <td>19.247795</td>\n",
              "      <td>18.113933</td>\n",
              "      <td>17.479794</td>\n",
              "      <td>17.050294</td>\n",
              "      <td>16.804705</td>\n",
              "      <td>19.266214</td>\n",
              "      <td>18.076120</td>\n",
              "      <td>17.423425</td>\n",
              "      <td>16.977671</td>\n",
              "      <td>16.705774</td>\n",
              "    </tr>\n",
              "    <tr>\n",
              "      <th>50%</th>\n",
              "      <td>349.000000</td>\n",
              "      <td>2.087136e+01</td>\n",
              "      <td>19.904235</td>\n",
              "      <td>19.454492</td>\n",
              "      <td>19.043895</td>\n",
              "      <td>18.611799</td>\n",
              "      <td>2.104910e+01</td>\n",
              "      <td>20.069038</td>\n",
              "      <td>19.631419</td>\n",
              "      <td>19.188763</td>\n",
              "      <td>18.710967</td>\n",
              "      <td>20.366848</td>\n",
              "      <td>19.586559</td>\n",
              "      <td>19.182789</td>\n",
              "      <td>18.693370</td>\n",
              "      <td>18.174592</td>\n",
              "      <td>20.406840</td>\n",
              "      <td>19.547674</td>\n",
              "      <td>19.143156</td>\n",
              "      <td>18.641756</td>\n",
              "      <td>18.100997</td>\n",
              "    </tr>\n",
              "    <tr>\n",
              "      <th>75%</th>\n",
              "      <td>526.000000</td>\n",
              "      <td>2.216043e+01</td>\n",
              "      <td>21.150297</td>\n",
              "      <td>20.515936</td>\n",
              "      <td>20.073528</td>\n",
              "      <td>19.883760</td>\n",
              "      <td>2.233754e+01</td>\n",
              "      <td>21.385830</td>\n",
              "      <td>20.773911</td>\n",
              "      <td>20.331419</td>\n",
              "      <td>20.133179</td>\n",
              "      <td>21.797480</td>\n",
              "      <td>21.004397</td>\n",
              "      <td>20.457491</td>\n",
              "      <td>20.019112</td>\n",
              "      <td>19.807652</td>\n",
              "      <td>21.992898</td>\n",
              "      <td>20.962386</td>\n",
              "      <td>20.408140</td>\n",
              "      <td>19.968846</td>\n",
              "      <td>19.819554</td>\n",
              "    </tr>\n",
              "    <tr>\n",
              "      <th>max</th>\n",
              "      <td>1000.000000</td>\n",
              "      <td>1.877392e+04</td>\n",
              "      <td>3538.984910</td>\n",
              "      <td>3048.110913</td>\n",
              "      <td>4835.218639</td>\n",
              "      <td>9823.740407</td>\n",
              "      <td>4.870154e+03</td>\n",
              "      <td>248077.513380</td>\n",
              "      <td>12084.735440</td>\n",
              "      <td>8059.638535</td>\n",
              "      <td>18358.921741</td>\n",
              "      <td>298771.019041</td>\n",
              "      <td>12139.815877</td>\n",
              "      <td>7003.136546</td>\n",
              "      <td>9772.190537</td>\n",
              "      <td>17403.789263</td>\n",
              "      <td>14488.251976</td>\n",
              "      <td>10582.058590</td>\n",
              "      <td>12237.951703</td>\n",
              "      <td>4062.499371</td>\n",
              "      <td>7420.534172</td>\n",
              "    </tr>\n",
              "  </tbody>\n",
              "</table>\n",
              "</div>"
            ],
            "text/plain": [
              "             fiberID      psfMag_u  ...     modelMag_i     modelMag_z\n",
              "count  199991.000000  1.999910e+05  ...  199991.000000  199991.000000\n",
              "mean      360.830152 -6.750146e+00  ...      17.692395      17.189281\n",
              "std       225.305890  1.187678e+04  ...     131.183416     133.685138\n",
              "min         1.000000 -5.310802e+06  ...  -38969.416822  -26050.710196\n",
              "25%       174.000000  1.965259e+01  ...      16.977671      16.705774\n",
              "50%       349.000000  2.087136e+01  ...      18.641756      18.100997\n",
              "75%       526.000000  2.216043e+01  ...      19.968846      19.819554\n",
              "max      1000.000000  1.877392e+04  ...    4062.499371    7420.534172\n",
              "\n",
              "[8 rows x 21 columns]"
            ]
          },
          "metadata": {
            "tags": []
          },
          "execution_count": 44
        }
      ]
    },
    {
      "cell_type": "markdown",
      "metadata": {
        "id": "RKGoums5ZBNL",
        "colab_type": "text"
      },
      "source": [
        "label 값이 범주형 데이터니까 정수로 인코딩 시켜주자."
      ]
    },
    {
      "cell_type": "code",
      "metadata": {
        "id": "qbIwXbKfYSMj",
        "colab_type": "code",
        "outputId": "d90899ef-9bdb-4dd1-cd5d-300dccfaac35",
        "colab": {
          "base_uri": "https://localhost:8080/",
          "height": 125
        }
      },
      "source": [
        "unique_labels = np.unique(train['type'])\n",
        "unique_labels"
      ],
      "execution_count": 45,
      "outputs": [
        {
          "output_type": "execute_result",
          "data": {
            "text/plain": [
              "array(['GALAXY', 'QSO', 'REDDEN_STD', 'ROSAT_D', 'SERENDIPITY_BLUE',\n",
              "       'SERENDIPITY_DISTANT', 'SERENDIPITY_FIRST', 'SERENDIPITY_MANUAL',\n",
              "       'SERENDIPITY_RED', 'SKY', 'SPECTROPHOTO_STD', 'STAR_BHB',\n",
              "       'STAR_BROWN_DWARF', 'STAR_CARBON', 'STAR_CATY_VAR', 'STAR_PN',\n",
              "       'STAR_RED_DWARF', 'STAR_SUB_DWARF', 'STAR_WHITE_DWARF'],\n",
              "      dtype=object)"
            ]
          },
          "metadata": {
            "tags": []
          },
          "execution_count": 45
        }
      ]
    },
    {
      "cell_type": "code",
      "metadata": {
        "id": "QzoxxJ8SYXSK",
        "colab_type": "code",
        "outputId": "1c83b5f7-5a9e-4a3a-a40b-9dfbdb46f736",
        "colab": {
          "base_uri": "https://localhost:8080/",
          "height": 359
        }
      },
      "source": [
        "class_mapping = {label : idx for idx, label in enumerate(np.unique(train['type']))}\n",
        "class_mapping"
      ],
      "execution_count": 46,
      "outputs": [
        {
          "output_type": "execute_result",
          "data": {
            "text/plain": [
              "{'GALAXY': 0,\n",
              " 'QSO': 1,\n",
              " 'REDDEN_STD': 2,\n",
              " 'ROSAT_D': 3,\n",
              " 'SERENDIPITY_BLUE': 4,\n",
              " 'SERENDIPITY_DISTANT': 5,\n",
              " 'SERENDIPITY_FIRST': 6,\n",
              " 'SERENDIPITY_MANUAL': 7,\n",
              " 'SERENDIPITY_RED': 8,\n",
              " 'SKY': 9,\n",
              " 'SPECTROPHOTO_STD': 10,\n",
              " 'STAR_BHB': 11,\n",
              " 'STAR_BROWN_DWARF': 12,\n",
              " 'STAR_CARBON': 13,\n",
              " 'STAR_CATY_VAR': 14,\n",
              " 'STAR_PN': 15,\n",
              " 'STAR_RED_DWARF': 16,\n",
              " 'STAR_SUB_DWARF': 17,\n",
              " 'STAR_WHITE_DWARF': 18}"
            ]
          },
          "metadata": {
            "tags": []
          },
          "execution_count": 46
        }
      ]
    },
    {
      "cell_type": "code",
      "metadata": {
        "id": "jBfdj9-SZ6vN",
        "colab_type": "code",
        "colab": {}
      },
      "source": [
        "train['type'] = train['type'].map(class_mapping)"
      ],
      "execution_count": 0,
      "outputs": []
    },
    {
      "cell_type": "code",
      "metadata": {
        "id": "GiNAVzQSbFDm",
        "colab_type": "code",
        "outputId": "b5261598-9b00-426e-ab28-78edc5233e73",
        "colab": {
          "base_uri": "https://localhost:8080/",
          "height": 53
        }
      },
      "source": [
        "np.unique(train['type'])"
      ],
      "execution_count": 48,
      "outputs": [
        {
          "output_type": "execute_result",
          "data": {
            "text/plain": [
              "array([ 0,  1,  2,  3,  4,  5,  6,  7,  8,  9, 10, 11, 12, 13, 14, 15, 16,\n",
              "       17, 18])"
            ]
          },
          "metadata": {
            "tags": []
          },
          "execution_count": 48
        }
      ]
    },
    {
      "cell_type": "code",
      "metadata": {
        "id": "t0BlemeMvxIR",
        "colab_type": "code",
        "colab": {
          "base_uri": "https://localhost:8080/",
          "height": 255
        },
        "outputId": "9b6b7645-63ea-4a04-cf9d-14ce169b7933"
      },
      "source": [
        "train.head()"
      ],
      "execution_count": 49,
      "outputs": [
        {
          "output_type": "execute_result",
          "data": {
            "text/html": [
              "<div>\n",
              "<style scoped>\n",
              "    .dataframe tbody tr th:only-of-type {\n",
              "        vertical-align: middle;\n",
              "    }\n",
              "\n",
              "    .dataframe tbody tr th {\n",
              "        vertical-align: top;\n",
              "    }\n",
              "\n",
              "    .dataframe thead th {\n",
              "        text-align: right;\n",
              "    }\n",
              "</style>\n",
              "<table border=\"1\" class=\"dataframe\">\n",
              "  <thead>\n",
              "    <tr style=\"text-align: right;\">\n",
              "      <th></th>\n",
              "      <th>type</th>\n",
              "      <th>fiberID</th>\n",
              "      <th>psfMag_u</th>\n",
              "      <th>psfMag_g</th>\n",
              "      <th>psfMag_r</th>\n",
              "      <th>psfMag_i</th>\n",
              "      <th>psfMag_z</th>\n",
              "      <th>fiberMag_u</th>\n",
              "      <th>fiberMag_g</th>\n",
              "      <th>fiberMag_r</th>\n",
              "      <th>fiberMag_i</th>\n",
              "      <th>fiberMag_z</th>\n",
              "      <th>petroMag_u</th>\n",
              "      <th>petroMag_g</th>\n",
              "      <th>petroMag_r</th>\n",
              "      <th>petroMag_i</th>\n",
              "      <th>petroMag_z</th>\n",
              "      <th>modelMag_u</th>\n",
              "      <th>modelMag_g</th>\n",
              "      <th>modelMag_r</th>\n",
              "      <th>modelMag_i</th>\n",
              "      <th>modelMag_z</th>\n",
              "    </tr>\n",
              "    <tr>\n",
              "      <th>id</th>\n",
              "      <th></th>\n",
              "      <th></th>\n",
              "      <th></th>\n",
              "      <th></th>\n",
              "      <th></th>\n",
              "      <th></th>\n",
              "      <th></th>\n",
              "      <th></th>\n",
              "      <th></th>\n",
              "      <th></th>\n",
              "      <th></th>\n",
              "      <th></th>\n",
              "      <th></th>\n",
              "      <th></th>\n",
              "      <th></th>\n",
              "      <th></th>\n",
              "      <th></th>\n",
              "      <th></th>\n",
              "      <th></th>\n",
              "      <th></th>\n",
              "      <th></th>\n",
              "      <th></th>\n",
              "    </tr>\n",
              "  </thead>\n",
              "  <tbody>\n",
              "    <tr>\n",
              "      <th>0</th>\n",
              "      <td>1</td>\n",
              "      <td>601</td>\n",
              "      <td>23.198224</td>\n",
              "      <td>21.431953</td>\n",
              "      <td>21.314148</td>\n",
              "      <td>21.176553</td>\n",
              "      <td>21.171444</td>\n",
              "      <td>22.581309</td>\n",
              "      <td>21.644453</td>\n",
              "      <td>21.657571</td>\n",
              "      <td>21.387653</td>\n",
              "      <td>21.572827</td>\n",
              "      <td>22.504317</td>\n",
              "      <td>21.431636</td>\n",
              "      <td>21.478312</td>\n",
              "      <td>21.145409</td>\n",
              "      <td>20.422446</td>\n",
              "      <td>22.749241</td>\n",
              "      <td>21.465534</td>\n",
              "      <td>21.364187</td>\n",
              "      <td>21.020605</td>\n",
              "      <td>21.147340</td>\n",
              "    </tr>\n",
              "    <tr>\n",
              "      <th>1</th>\n",
              "      <td>1</td>\n",
              "      <td>788</td>\n",
              "      <td>21.431355</td>\n",
              "      <td>20.708104</td>\n",
              "      <td>20.678850</td>\n",
              "      <td>20.703420</td>\n",
              "      <td>20.473229</td>\n",
              "      <td>21.868797</td>\n",
              "      <td>21.029773</td>\n",
              "      <td>20.967054</td>\n",
              "      <td>20.937731</td>\n",
              "      <td>21.063646</td>\n",
              "      <td>21.360701</td>\n",
              "      <td>20.778968</td>\n",
              "      <td>20.889705</td>\n",
              "      <td>20.639812</td>\n",
              "      <td>20.646660</td>\n",
              "      <td>21.492955</td>\n",
              "      <td>20.758527</td>\n",
              "      <td>20.753925</td>\n",
              "      <td>20.693389</td>\n",
              "      <td>20.512314</td>\n",
              "    </tr>\n",
              "    <tr>\n",
              "      <th>2</th>\n",
              "      <td>1</td>\n",
              "      <td>427</td>\n",
              "      <td>17.851451</td>\n",
              "      <td>16.727898</td>\n",
              "      <td>16.679677</td>\n",
              "      <td>16.694640</td>\n",
              "      <td>16.641788</td>\n",
              "      <td>18.171890</td>\n",
              "      <td>17.033098</td>\n",
              "      <td>16.999682</td>\n",
              "      <td>17.095999</td>\n",
              "      <td>17.076449</td>\n",
              "      <td>17.867253</td>\n",
              "      <td>16.738784</td>\n",
              "      <td>16.688874</td>\n",
              "      <td>16.744210</td>\n",
              "      <td>16.808006</td>\n",
              "      <td>17.818063</td>\n",
              "      <td>16.697434</td>\n",
              "      <td>16.641249</td>\n",
              "      <td>16.660177</td>\n",
              "      <td>16.688928</td>\n",
              "    </tr>\n",
              "    <tr>\n",
              "      <th>3</th>\n",
              "      <td>1</td>\n",
              "      <td>864</td>\n",
              "      <td>20.789900</td>\n",
              "      <td>20.040371</td>\n",
              "      <td>19.926909</td>\n",
              "      <td>19.843840</td>\n",
              "      <td>19.463270</td>\n",
              "      <td>21.039030</td>\n",
              "      <td>20.317165</td>\n",
              "      <td>20.217898</td>\n",
              "      <td>20.073852</td>\n",
              "      <td>19.794505</td>\n",
              "      <td>20.433907</td>\n",
              "      <td>19.993727</td>\n",
              "      <td>19.985531</td>\n",
              "      <td>19.750917</td>\n",
              "      <td>19.455117</td>\n",
              "      <td>20.770711</td>\n",
              "      <td>20.001699</td>\n",
              "      <td>19.889798</td>\n",
              "      <td>19.758113</td>\n",
              "      <td>19.552855</td>\n",
              "    </tr>\n",
              "    <tr>\n",
              "      <th>4</th>\n",
              "      <td>16</td>\n",
              "      <td>612</td>\n",
              "      <td>26.454969</td>\n",
              "      <td>23.058767</td>\n",
              "      <td>21.471406</td>\n",
              "      <td>19.504961</td>\n",
              "      <td>18.389096</td>\n",
              "      <td>25.700632</td>\n",
              "      <td>23.629122</td>\n",
              "      <td>21.742750</td>\n",
              "      <td>19.861718</td>\n",
              "      <td>18.810375</td>\n",
              "      <td>25.859229</td>\n",
              "      <td>22.426929</td>\n",
              "      <td>21.673551</td>\n",
              "      <td>19.610012</td>\n",
              "      <td>18.376141</td>\n",
              "      <td>24.877052</td>\n",
              "      <td>23.147993</td>\n",
              "      <td>21.475342</td>\n",
              "      <td>19.487330</td>\n",
              "      <td>18.375655</td>\n",
              "    </tr>\n",
              "  </tbody>\n",
              "</table>\n",
              "</div>"
            ],
            "text/plain": [
              "    type  fiberID   psfMag_u  ...  modelMag_r  modelMag_i  modelMag_z\n",
              "id                            ...                                    \n",
              "0      1      601  23.198224  ...   21.364187   21.020605   21.147340\n",
              "1      1      788  21.431355  ...   20.753925   20.693389   20.512314\n",
              "2      1      427  17.851451  ...   16.641249   16.660177   16.688928\n",
              "3      1      864  20.789900  ...   19.889798   19.758113   19.552855\n",
              "4     16      612  26.454969  ...   21.475342   19.487330   18.375655\n",
              "\n",
              "[5 rows x 22 columns]"
            ]
          },
          "metadata": {
            "tags": []
          },
          "execution_count": 49
        }
      ]
    },
    {
      "cell_type": "markdown",
      "metadata": {
        "id": "-8X5GNn6UUC-",
        "colab_type": "text"
      },
      "source": [
        "fiberID가 순서가 있는 범주형 특성인 것 같으니 버리자"
      ]
    },
    {
      "cell_type": "code",
      "metadata": {
        "id": "t0FMXOpoR8Nd",
        "colab_type": "code",
        "colab": {}
      },
      "source": [
        "y = train[['type']].values\n",
        "X = train.drop(columns=['fiberID', 'type'])"
      ],
      "execution_count": 0,
      "outputs": []
    },
    {
      "cell_type": "code",
      "metadata": {
        "id": "grNnKAHNVCml",
        "colab_type": "code",
        "colab": {}
      },
      "source": [
        "from sklearn.preprocessing import StandardScaler\n",
        "scaler = StandardScaler()"
      ],
      "execution_count": 0,
      "outputs": []
    },
    {
      "cell_type": "code",
      "metadata": {
        "id": "OY5mmq8xVLGU",
        "colab_type": "code",
        "colab": {}
      },
      "source": [
        "X_std = scaler.fit_transform(X)\n",
        "X_std = pd.DataFrame(X_std, columns=X.columns, index=train.index)\n",
        "X_std = X_std.values"
      ],
      "execution_count": 0,
      "outputs": []
    },
    {
      "cell_type": "code",
      "metadata": {
        "id": "LXAgORZkVjCM",
        "colab_type": "code",
        "outputId": "46f2dee6-25e4-4893-df33-564db052de53",
        "colab": {
          "base_uri": "https://localhost:8080/",
          "height": 35
        }
      },
      "source": [
        "print(X_std.shape, y.shape)"
      ],
      "execution_count": 53,
      "outputs": [
        {
          "output_type": "stream",
          "text": [
            "(199991, 20) (199991, 1)\n"
          ],
          "name": "stdout"
        }
      ]
    },
    {
      "cell_type": "markdown",
      "metadata": {
        "id": "RXVZ9VQAXfvc",
        "colab_type": "text"
      },
      "source": [
        "##5.4 커스텀 데이터셋 만들기"
      ]
    },
    {
      "cell_type": "code",
      "metadata": {
        "id": "I_Nti8mxXBhl",
        "colab_type": "code",
        "colab": {}
      },
      "source": [
        "import torch\n",
        "import torch.nn as nn\n",
        "import torch.nn.functional as F\n",
        "import torch.optim as optim\n",
        "\n",
        "from torch.utils.data import Dataset\n",
        "from torch.utils.data import DataLoader"
      ],
      "execution_count": 0,
      "outputs": []
    },
    {
      "cell_type": "code",
      "metadata": {
        "id": "zPTz4J-mX0md",
        "colab_type": "code",
        "colab": {}
      },
      "source": [
        "class MyDataset(Dataset):\n",
        "  #데이터셋의 전처리를 해주는 부분\n",
        "  def __init__(self):\n",
        "    self.x_data = torch.FloatTensor(X_std)\n",
        "    self.y_data = torch.LongTensor(y) \n",
        "\n",
        "  #데이터셋의 길이, 즉 총 샘플의 수를 적어주는 부분\n",
        "  def __len__(self):\n",
        "    return len(self.x_data)\n",
        "  \n",
        "  #데이터셋에서 특정 1개의 샘플을 가져오는 함수\n",
        "  def __getitem__(self, idx):\n",
        "    x = self.x_data[idx]\n",
        "    y = self.y_data[idx]\n",
        "    return x, y"
      ],
      "execution_count": 0,
      "outputs": []
    },
    {
      "cell_type": "code",
      "metadata": {
        "id": "8IVXa6QWYCzF",
        "colab_type": "code",
        "colab": {}
      },
      "source": [
        "dataset = MyDataset()"
      ],
      "execution_count": 0,
      "outputs": []
    },
    {
      "cell_type": "code",
      "metadata": {
        "id": "A8lp16U0YEmL",
        "colab_type": "code",
        "outputId": "53b67503-5856-4180-9655-097c5c65b6c0",
        "colab": {
          "base_uri": "https://localhost:8080/",
          "height": 53
        }
      },
      "source": [
        "# train set 와 validation set로 나누는 비율 정하기\n",
        "\n",
        "train_val_ratio = 0.8\n",
        "train_size = int(len(dataset) * train_val_ratio)\n",
        "val_size = len(dataset) - train_size\n",
        "print(train_size, val_size)\n",
        "\n",
        "# train set와 validation set로 나누자\n",
        "\n",
        "train_dataset, val_dataset = torch.utils.data.random_split(dataset, [train_size, val_size])\n",
        "print(len(train_dataset), len(val_dataset))"
      ],
      "execution_count": 57,
      "outputs": [
        {
          "output_type": "stream",
          "text": [
            "159992 39999\n",
            "159992 39999\n"
          ],
          "name": "stdout"
        }
      ]
    },
    {
      "cell_type": "code",
      "metadata": {
        "id": "qhvcB133bRA8",
        "colab_type": "code",
        "colab": {}
      },
      "source": [
        "train_loader = DataLoader(dataset=train_dataset, \n",
        "                          batch_size=512,\n",
        "                          shuffle=True,\n",
        "                          drop_last=True)\n",
        "val_loader = DataLoader(dataset=val_dataset,\n",
        "                        batch_size=len(val_dataset))"
      ],
      "execution_count": 0,
      "outputs": []
    },
    {
      "cell_type": "markdown",
      "metadata": {
        "id": "_nmJJQNbbfYE",
        "colab_type": "text"
      },
      "source": [
        "##5.5 모델 학습하기"
      ]
    },
    {
      "cell_type": "code",
      "metadata": {
        "id": "5NyKr9zJbUqq",
        "colab_type": "code",
        "colab": {}
      },
      "source": [
        "class MLPModel(nn.Module):\n",
        "  def __init__(self):\n",
        "    super().__init__()\n",
        "    self.model = nn.Sequential(\n",
        "        nn.Linear(20, 512), # input_layer = 20, hidden_layer1 = 512\n",
        "        nn.ELU(),\n",
        "        nn.Linear(512, 256), # hidden_layer1 = 512, hidden_layer2 = 256\n",
        "        nn.ELU(),\n",
        "        nn.Linear(256, 128), # hidden_layer2 = 256, hidden_layer3 = 128\n",
        "        nn.ELU(),\n",
        "        nn.Linear(128, 64), # hidden_layer3 = 128, hidden_layer4 = 64\n",
        "        nn.ELU(),\n",
        "        nn.Linear(64, 32), # hidden_layer4 = 64, hidden_layer5 = 32\n",
        "        nn.ELU(),\n",
        "        nn.Linear(32,19) # hidden_layer5 = 32, output_layer = 10\n",
        "        )\n",
        "  def forward(self, x):\n",
        "    return self.model(x)"
      ],
      "execution_count": 0,
      "outputs": []
    },
    {
      "cell_type": "code",
      "metadata": {
        "id": "cinvMD_glBAq",
        "colab_type": "code",
        "outputId": "152b4b4b-1c9b-4d39-e627-8e51a8fca251",
        "colab": {
          "base_uri": "https://localhost:8080/",
          "height": 35
        }
      },
      "source": [
        "device = torch.device('cuda:0' if torch.cuda.is_available() else 'cpu')\n",
        "device"
      ],
      "execution_count": 60,
      "outputs": [
        {
          "output_type": "execute_result",
          "data": {
            "text/plain": [
              "device(type='cuda', index=0)"
            ]
          },
          "metadata": {
            "tags": []
          },
          "execution_count": 60
        }
      ]
    },
    {
      "cell_type": "code",
      "metadata": {
        "id": "KZOV9dUAbvKi",
        "colab_type": "code",
        "colab": {}
      },
      "source": [
        "model = MLPModel().to(device)\n",
        "optimizer = optim.SGD(model.parameters(), lr=0.01)\n",
        "criterion = nn.CrossEntropyLoss() # 여기 소프트맥스 들어가 있다."
      ],
      "execution_count": 0,
      "outputs": []
    },
    {
      "cell_type": "code",
      "metadata": {
        "id": "BNte0vwtfAkT",
        "colab_type": "code",
        "outputId": "dd3c1eff-e126-433d-8b16-fde86c6f9ff2",
        "colab": {
          "base_uri": "https://localhost:8080/",
          "height": 827
        }
      },
      "source": [
        "plot_list = {'train' : [], 'val' : []}\n",
        "\n",
        "nb_epochs = 150\n",
        "for epoch in range(nb_epochs+1):\n",
        "  \n",
        "  model.train()\n",
        "  train_losses = []\n",
        "  for x_train, y_train in train_loader:\n",
        "    x_train = x_train.to(device)\n",
        "    y_train = y_train.squeeze(1) # 2차원을 1차원으로 바꾸자\n",
        "    y_train = y_train.to(device)\n",
        "\n",
        "    # H(x) 계산\n",
        "    hypothesis = model(x_train)\n",
        "\n",
        "    # train_loss 계산\n",
        "    train_loss = criterion(hypothesis, y_train)\n",
        "\n",
        "    # train_cost로 H(x) 개선\n",
        "    optimizer.zero_grad()\n",
        "    train_loss.backward()\n",
        "    optimizer.step()\n",
        "\n",
        "    train_losses.append(train_loss.item())\n",
        "  \n",
        "  model.eval()\n",
        "  val_losses = []\n",
        "  for x_val, y_val in val_loader:\n",
        "    x_val = x_val.to(device)\n",
        "    y_val = y_val.squeeze(1) # 2차원을 1차원으로 바꾸자\n",
        "    y_val = y_val.to(device)\n",
        "\n",
        "    # 학습한 model로 prediction을 해보자\n",
        "    prediction = model(x_val) \n",
        "    val_loss = criterion(prediction, y_val)\n",
        "    val_losses.append(val_loss.item())\n",
        "    \n",
        "  plot_list['train'].append(sum(train_losses)/len(train_losses))\n",
        "  plot_list['val'].append(sum(val_losses)/len(val_losses))\n",
        "  if epoch % (nb_epochs/10) == 0:\n",
        "    print(f'Epoch : {epoch}/{nb_epochs}')\n",
        "    print(f'Train Cost : {sum(train_losses)/len(train_losses)}')\n",
        "    print(f'Validation Cost : {sum(val_losses)/len(val_losses)}')\n",
        "    print('-'*50)\n",
        "\n",
        "correct_prediction = torch.argmax(prediction, dim=1) == y_val # 실제값과 일치하는 경우만 True로 간주\n",
        "accuracy = correct_prediction.sum().item() / len(correct_prediction) # 정확도를 계산\n",
        "print(f'Accuracy : {accuracy * 100}%')"
      ],
      "execution_count": 62,
      "outputs": [
        {
          "output_type": "stream",
          "text": [
            "Epoch : 0/150\n",
            "Train Cost : 2.778751199062054\n",
            "Validation Cost : 2.5577707290649414\n",
            "--------------------------------------------------\n",
            "Epoch : 15/150\n",
            "Train Cost : 2.2993308007717133\n",
            "Validation Cost : 2.3067128658294678\n",
            "--------------------------------------------------\n",
            "Epoch : 30/150\n",
            "Train Cost : 1.8079290989881907\n",
            "Validation Cost : 1.8182157278060913\n",
            "--------------------------------------------------\n",
            "Epoch : 45/150\n",
            "Train Cost : 1.6539384661576686\n",
            "Validation Cost : 1.6711105108261108\n",
            "--------------------------------------------------\n",
            "Epoch : 60/150\n",
            "Train Cost : 1.604395249715218\n",
            "Validation Cost : 1.6005587577819824\n",
            "--------------------------------------------------\n",
            "Epoch : 75/150\n",
            "Train Cost : 1.5769775609175365\n",
            "Validation Cost : 1.5780593156814575\n",
            "--------------------------------------------------\n",
            "Epoch : 90/150\n",
            "Train Cost : 1.549663272805703\n",
            "Validation Cost : 1.5499293804168701\n",
            "--------------------------------------------------\n",
            "Epoch : 105/150\n",
            "Train Cost : 1.1518842008633492\n",
            "Validation Cost : 1.0774825811386108\n",
            "--------------------------------------------------\n",
            "Epoch : 120/150\n",
            "Train Cost : 0.9409145298294532\n",
            "Validation Cost : 0.8889175057411194\n",
            "--------------------------------------------------\n",
            "Epoch : 135/150\n",
            "Train Cost : 0.8217857651985608\n",
            "Validation Cost : 0.801016628742218\n",
            "--------------------------------------------------\n",
            "Epoch : 150/150\n",
            "Train Cost : 0.7747588623792697\n",
            "Validation Cost : 0.7357127666473389\n",
            "--------------------------------------------------\n",
            "Accuracy : 74.95187379684492%\n"
          ],
          "name": "stdout"
        }
      ]
    },
    {
      "cell_type": "code",
      "metadata": {
        "id": "ZMMRYAfNm7XO",
        "colab_type": "code",
        "outputId": "193f9d27-fa1a-458b-baee-b397b679ffc1",
        "colab": {
          "base_uri": "https://localhost:8080/",
          "height": 265
        }
      },
      "source": [
        "plt.plot(plot_list['train'], label = 'train_loss')\n",
        "plt.plot(plot_list['val'], label = 'val_loss')\n",
        "plt.legend()\n",
        "plt.show()\n"
      ],
      "execution_count": 63,
      "outputs": [
        {
          "output_type": "display_data",
          "data": {
            "image/png": "[encoded data removed]",
            "text/plain": [
              "<Figure size 432x288 with 1 Axes>"
            ]
          },
          "metadata": {
            "tags": [],
            "needs_background": "light"
          }
        }
      ]
    },
    {
      "cell_type": "code",
      "metadata": {
        "id": "tlqUCjYwsaT4",
        "colab_type": "code",
        "colab": {}
      },
      "source": [
        "# 질문 : train_losses , val_lossses 에포크마다 새로 안만들면 메모리 많이 먹나?\n",
        "\n",
        "# nb_epochs = 100\n",
        "# train_losses = []\n",
        "# val_losses = []\n",
        "\n",
        "# for epoch in range(nb_epochs+1):\n",
        "#   train_loss_avg = 0\n",
        "#   \"\"\"\n",
        "#   나는 한 epoch 당 cost를 알고 싶다.(712개로 한 바퀴 돌렸을 때의 cost) \n",
        "#   근데 여기서 cost는 batch 마다 나온다. (한 배치인 64를 돌렸을 때의 cost) \n",
        "#   그래서 각 배치에서의 cost를 모두 더 한후 batch의 수 만큼 나눠 평균을 구할거다.\n",
        "#   \"\"\"\n",
        "#   num_batch = len(train_loader)\n",
        "\n",
        "#   for x_train, y_train in train_loader:\n",
        "#     x_train = x_train.to(device)\n",
        "#     y_train = y_train.squeeze(1) # 2차원을 1차원으로 바꾸자\n",
        "#     y_train = y_train.to(device)\n",
        "\n",
        "#     # H(x) 계산\n",
        "#     hypothesis = model(x_train)\n",
        "\n",
        "#     # train_loss 계산\n",
        "#     train_loss = criterion(hypothesis, y_train)\n",
        "\n",
        "#     # train_cost로 H(x) 개선\n",
        "#     optimizer.zero_grad()\n",
        "#     train_loss.backward()\n",
        "#     optimizer.step()\n",
        "\n",
        "#     train_loss_avg += train_loss / num_batch\n",
        "#   train_losses.append(train_loss_avg.item())\n",
        "      \n",
        "#   for x_val, y_val in val_loader:\n",
        "#     x_val = x_val.to(device)\n",
        "#     y_val = y_val.squeeze(1) # 2차원을 1차원으로 바꾸자\n",
        "#     y_val = y_val.to(device)\n",
        "\n",
        "#     # 학습한 model로 prediction을 해보자\n",
        "#     prediction = model(x_val) \n",
        "#     val_loss = criterion(prediction, y_val)\n",
        "#     val_losses.append(val_loss.item())\n",
        "    \n",
        "#   if epoch % (nb_epochs/10) == 0:\n",
        "#     print(f'Epoch : {epoch}/{nb_epochs}')\n",
        "#     print(f'Train Cost : {train_loss_avg.item()}')\n",
        "#     print(f'Validation Cost : {val_loss.item()}')\n",
        "#     print('-'*50)\n",
        "\n",
        "# correct_prediction = torch.argmax(prediction, dim=1) == y_val # 실제값과 일치하는 경우만 True로 간주\n",
        "# accuracy = correct_prediction.sum().item() / len(correct_prediction) # 정확도를 계산\n",
        "# print(f'Accuracy : {accuracy * 100}%')"
      ],
      "execution_count": 0,
      "outputs": []
    },
    {
      "cell_type": "markdown",
      "metadata": {
        "id": "3t7XQxddx-Lc",
        "colab_type": "text"
      },
      "source": [
        "##5.6 배치 정규화 사용하기"
      ]
    },
    {
      "cell_type": "code",
      "metadata": {
        "id": "6RnP5I5ttCpm",
        "colab_type": "code",
        "colab": {}
      },
      "source": [
        "class MLPModel(nn.Module):\n",
        "  def __init__(self):\n",
        "    super().__init__()\n",
        "    self.model = nn.Sequential(\n",
        "        nn.Linear(20, 512), # input_layer = 20, hidden_layer1 = 512\n",
        "        nn.BatchNorm1d(512),        \n",
        "        nn.ELU(),\n",
        "        nn.Linear(512, 256), # hidden_layer1 = 512, hidden_layer2 = 256\n",
        "        nn.BatchNorm1d(256),\n",
        "        nn.ELU(),\n",
        "        nn.Linear(256, 128), # hidden_layer2 = 256, hidden_layer3 = 128\n",
        "        nn.BatchNorm1d(128),\n",
        "        nn.ELU(),\n",
        "        nn.Linear(128, 64), # hidden_layer3 = 128, hidden_layer4 = 64\n",
        "        nn.BatchNorm1d(64),\n",
        "        nn.ELU(),\n",
        "        nn.Linear(64, 32), # hidden_layer4 = 64, hidden_layer5 = 32\n",
        "        nn.BatchNorm1d(32),\n",
        "        nn.ELU(),\n",
        "        nn.Linear(32,19) # hidden_layer5 = 32, output_layer = 10\n",
        "        )\n",
        "  def forward(self, x):\n",
        "    return self.model(x)"
      ],
      "execution_count": 0,
      "outputs": []
    },
    {
      "cell_type": "code",
      "metadata": {
        "id": "KAnq3Vx6ydmH",
        "colab_type": "code",
        "colab": {}
      },
      "source": [
        "model = MLPModel().to(device)\n",
        "optimizer = optim.SGD(model.parameters(), lr=0.01)\n",
        "criterion = nn.CrossEntropyLoss() # 여기 소프트맥스 들어가 있다."
      ],
      "execution_count": 0,
      "outputs": []
    },
    {
      "cell_type": "code",
      "metadata": {
        "id": "ki2Ix-KeygEB",
        "colab_type": "code",
        "colab": {
          "base_uri": "https://localhost:8080/",
          "height": 827
        },
        "outputId": "55491c3a-827d-4745-cc40-c1c9e5767f7a"
      },
      "source": [
        "plot_list = {'train' : [], 'val' : []}\n",
        "\n",
        "nb_epochs = 150\n",
        "for epoch in range(nb_epochs+1):\n",
        "  \n",
        "  model.train()\n",
        "  train_losses = []\n",
        "  for x_train, y_train in train_loader:\n",
        "    x_train = x_train.to(device)\n",
        "    y_train = y_train.squeeze(1) # 2차원을 1차원으로 바꾸자\n",
        "    y_train = y_train.to(device)\n",
        "\n",
        "    # H(x) 계산\n",
        "    hypothesis = model(x_train)\n",
        "\n",
        "    # train_loss 계산\n",
        "    train_loss = criterion(hypothesis, y_train)\n",
        "\n",
        "    # train_cost로 H(x) 개선\n",
        "    optimizer.zero_grad()\n",
        "    train_loss.backward()\n",
        "    optimizer.step()\n",
        "\n",
        "    train_losses.append(train_loss.item())\n",
        "  \n",
        "  model.eval()\n",
        "  val_losses = []\n",
        "  for x_val, y_val in val_loader:\n",
        "    x_val = x_val.to(device)\n",
        "    y_val = y_val.squeeze(1) # 2차원을 1차원으로 바꾸자\n",
        "    y_val = y_val.to(device)\n",
        "\n",
        "    # 학습한 model로 prediction을 해보자\n",
        "    prediction = model(x_val) \n",
        "    val_loss = criterion(prediction, y_val)\n",
        "    val_losses.append(val_loss.item())\n",
        "    \n",
        "  plot_list['train'].append(sum(train_losses)/len(train_losses))\n",
        "  plot_list['val'].append(sum(val_losses)/len(val_losses))\n",
        "  if epoch % (nb_epochs/10) == 0:\n",
        "    print(f'Epoch : {epoch}/{nb_epochs}')\n",
        "    print(f'Train Cost : {sum(train_losses)/len(train_losses)}')\n",
        "    print(f'Validation Cost : {sum(val_losses)/len(val_losses)}')\n",
        "    print('-'*50)\n",
        "\n",
        "correct_prediction = torch.argmax(prediction, dim=1) == y_val # 실제값과 일치하는 경우만 True로 간주\n",
        "accuracy = correct_prediction.sum().item() / len(correct_prediction) # 정확도를 계산\n",
        "print(f'Accuracy : {accuracy * 100}%')"
      ],
      "execution_count": 67,
      "outputs": [
        {
          "output_type": "stream",
          "text": [
            "Epoch : 0/150\n",
            "Train Cost : 1.2993610138312364\n",
            "Validation Cost : 2.416501760482788\n",
            "--------------------------------------------------\n",
            "Epoch : 15/150\n",
            "Train Cost : 0.6178062935479176\n",
            "Validation Cost : 3.3338463306427\n",
            "--------------------------------------------------\n",
            "Epoch : 30/150\n",
            "Train Cost : 0.5932080738055401\n",
            "Validation Cost : 3.3167877197265625\n",
            "--------------------------------------------------\n",
            "Epoch : 45/150\n",
            "Train Cost : 0.5702807642519474\n",
            "Validation Cost : 3.5066094398498535\n",
            "--------------------------------------------------\n",
            "Epoch : 60/150\n",
            "Train Cost : 0.5558714581032594\n",
            "Validation Cost : 4.112764358520508\n",
            "--------------------------------------------------\n",
            "Epoch : 75/150\n",
            "Train Cost : 0.5424324360031348\n",
            "Validation Cost : 3.7464897632598877\n",
            "--------------------------------------------------\n",
            "Epoch : 90/150\n",
            "Train Cost : 0.5402402402116702\n",
            "Validation Cost : 4.165923118591309\n",
            "--------------------------------------------------\n",
            "Epoch : 105/150\n",
            "Train Cost : 0.5575045531567855\n",
            "Validation Cost : 4.5417890548706055\n",
            "--------------------------------------------------\n",
            "Epoch : 120/150\n",
            "Train Cost : 0.5280066578625104\n",
            "Validation Cost : 4.783697605133057\n",
            "--------------------------------------------------\n",
            "Epoch : 135/150\n",
            "Train Cost : 0.5143585483997296\n",
            "Validation Cost : 4.683159351348877\n",
            "--------------------------------------------------\n",
            "Epoch : 150/150\n",
            "Train Cost : 0.5082779496144025\n",
            "Validation Cost : 5.128439426422119\n",
            "--------------------------------------------------\n",
            "Accuracy : 23.960599014975376%\n"
          ],
          "name": "stdout"
        }
      ]
    },
    {
      "cell_type": "code",
      "metadata": {
        "id": "qgTYA2MLyiKA",
        "colab_type": "code",
        "colab": {
          "base_uri": "https://localhost:8080/",
          "height": 265
        },
        "outputId": "fd6d80f0-baf8-4996-9d06-176798fb5faa"
      },
      "source": [
        "plt.plot(plot_list['train'], label = 'train_loss')\n",
        "plt.plot(plot_list['val'], label = 'val_loss')\n",
        "plt.legend()\n",
        "plt.show()\n"
      ],
      "execution_count": 68,
      "outputs": [
        {
          "output_type": "display_data",
          "data": {
            "image/png": "[encoded data removed]",
            "text/plain": [
              "<Figure size 432x288 with 1 Axes>"
            ]
          },
          "metadata": {
            "tags": [],
            "needs_background": "light"
          }
        }
      ]
    },
    {
      "cell_type": "code",
      "metadata": {
        "id": "TPZzGbQjyjeY",
        "colab_type": "code",
        "colab": {}
      },
      "source": [
        ""
      ],
      "execution_count": 0,
      "outputs": []
    }
  ]
}