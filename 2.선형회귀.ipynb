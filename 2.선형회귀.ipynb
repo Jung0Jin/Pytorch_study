{
  "nbformat": 4,
  "nbformat_minor": 0,
  "metadata": {
    "hide_input": false,
    "kernelspec": {
      "display_name": "Python 3",
      "language": "python",
      "name": "python3"
    },
    "language_info": {
      "codemirror_mode": {
        "name": "ipython",
        "version": 3
      },
      "file_extension": ".py",
      "mimetype": "text/x-python",
      "name": "python",
      "nbconvert_exporter": "python",
      "pygments_lexer": "ipython3",
      "version": "3.7.6"
    },
    "toc": {
      "base_numbering": 1,
      "nav_menu": {},
      "number_sections": false,
      "sideBar": true,
      "skip_h1_title": false,
      "title_cell": "",
      "title_sidebar": "Contents",
      "toc_cell": true,
      "toc_position": {
        "height": "calc(100% - 180px)",
        "left": "10px",
        "top": "150px",
        "width": "304px"
      },
      "toc_section_display": true,
      "toc_window_display": true
    },
    "varInspector": {
      "cols": {
        "lenName": 16,
        "lenType": 16,
        "lenVar": 40
      },
      "kernels_config": {
        "python": {
          "delete_cmd_postfix": "",
          "delete_cmd_prefix": "del ",
          "library": "var_list.py",
          "varRefreshCmd": "print(var_dic_list())"
        },
        "r": {
          "delete_cmd_postfix": ") ",
          "delete_cmd_prefix": "rm(",
          "library": "var_list.r",
          "varRefreshCmd": "cat(var_dic_list()) "
        }
      },
      "types_to_exclude": [
        "module",
        "function",
        "builtin_function_or_method",
        "instance",
        "_Feature"
      ],
      "window_display": false
    },
    "colab": {
      "name": "2.선형회귀.ipynb",
      "provenance": [],
      "toc_visible": true,
      "include_colab_link": true
    }
  },
  "cells": [
    {
      "cell_type": "markdown",
      "metadata": {
        "id": "view-in-github",
        "colab_type": "text"
      },
      "source": [
        "<a href=\"https://colab.research.google.com/github/Jung0Jin/Pytorch_study/blob/master/2.%EC%84%A0%ED%98%95%ED%9A%8C%EA%B7%80.ipynb\" target=\"_parent\"><img src=\"https://colab.research.google.com/assets/colab-badge.svg\" alt=\"Open In Colab\"/></a>"
      ]
    },
    {
      "cell_type": "markdown",
      "metadata": {
        "id": "7xbBzO-Nd0vt",
        "colab_type": "text"
      },
      "source": [
        "출처 : https://github.com/Namsik-Yoon/pytorch_basic/blob/master/2.%20%EC%84%A0%ED%98%95%ED%9A%8C%EA%B7%80(Linear_Regression).ipynb \n",
        "\n",
        "이번에도 몰래 가져왔다. 이번에도 필사를 필사적으로 해보자."
      ]
    },
    {
      "cell_type": "markdown",
      "metadata": {
        "id": "uW2B5vLld0vt",
        "colab_type": "text"
      },
      "source": [
        "#2. 선형회귀(Linear Regression)"
      ]
    },
    {
      "cell_type": "markdown",
      "metadata": {
        "id": "fHc68L1yd0vu",
        "colab_type": "text"
      },
      "source": [
        "## 2.1 선형회귀(Linear Regression)"
      ]
    },
    {
      "cell_type": "markdown",
      "metadata": {
        "id": "w4Zk5G0bd0vv",
        "colab_type": "text"
      },
      "source": [
        "학습목표 : 아래 개념들을 잘 이해하자\n",
        "\n",
        "데이터에 대한 이해(Data Definition)\n",
        "\n",
        "가설(Hypothesis) 수립\n",
        "\n",
        "손실 계산하기(Compute loss)\n",
        "\n",
        "경사 하강법(Gradient Descent)\n",
        "\n",
        "이번 장에 아주 좋은 말이 많은데, 나는 이미 이해해서 또 쓰기 귀찮다.\n",
        "\n",
        "https://wikidocs.net/53560\n",
        "\n",
        "링크를 참고하면 정말 좋은 이야기가 많다.\n",
        "\n",
        "2.1.1 데이터에 대한 이해(Data Definition)\n",
        "\n",
        "2.1.2 가설(Hypothesis) 수립\n",
        "\n",
        "2.1.3 비용 함수(Cost function)에 대한 이해\n",
        "\n",
        "2.1.4 옵티마이저 - 경사 하강법(Gradient Descent)"
      ]
    },
    {
      "cell_type": "markdown",
      "metadata": {
        "id": "YQx5Xn29d0vw",
        "colab_type": "text"
      },
      "source": [
        "### 2.1.5 파이토치로 선형 회귀 구현하기"
      ]
    },
    {
      "cell_type": "code",
      "metadata": {
        "ExecuteTime": {
          "end_time": "2020-04-06T10:20:23.208265Z",
          "start_time": "2020-04-06T10:20:22.556977Z"
        },
        "id": "jP84GlYgd0vx",
        "colab_type": "code",
        "colab": {
          "base_uri": "https://localhost:8080/",
          "height": 35
        },
        "outputId": "cdd9b304-e2eb-4743-f2f3-bf3724d0665e"
      },
      "source": [
        "import torch\n",
        "import torch.nn as nn\n",
        "import torch.nn.functional as F\n",
        "import torch.optim as optim\n",
        "\n",
        "torch.manual_seed(1) # 파이썬 코드를 재실행해도 같은 결과가 나오도록 랜덤 시드(random seed)를 준다."
      ],
      "execution_count": 1,
      "outputs": [
        {
          "output_type": "execute_result",
          "data": {
            "text/plain": [
              "<torch._C.Generator at 0x7f869d5d3230>"
            ]
          },
          "metadata": {
            "tags": []
          },
          "execution_count": 1
        }
      ]
    },
    {
      "cell_type": "code",
      "metadata": {
        "ExecuteTime": {
          "end_time": "2020-04-06T10:20:23.784695Z",
          "start_time": "2020-04-06T10:20:23.779709Z"
        },
        "id": "hOLXgukjd0v2",
        "colab_type": "code",
        "colab": {}
      },
      "source": [
        "x_train = torch.FloatTensor([[1],\n",
        "                            [2],\n",
        "                            [3]])\n",
        "y_train = torch.FloatTensor([[2],\n",
        "                            [4],\n",
        "                            [6]])"
      ],
      "execution_count": 0,
      "outputs": []
    },
    {
      "cell_type": "markdown",
      "metadata": {
        "id": "CeaaZWl0d0v5",
        "colab_type": "text"
      },
      "source": [
        "선형 회귀란 학습 데이터와 가장 잘 맞는 하나의 직선을 찾는 일이다.\n",
        "\n",
        "$y = W*x + b$\n",
        "\n",
        "가장 잘 맞는 직선은 W와 b로 정의한다. W는 가중치, b는 편향이다.\n",
        "\n",
        "즉, 선형 회귀의 목표는 W와 b를 찾는 것이다."
      ]
    },
    {
      "cell_type": "code",
      "metadata": {
        "ExecuteTime": {
          "end_time": "2020-04-06T10:20:25.008452Z",
          "start_time": "2020-04-06T10:20:24.995473Z"
        },
        "scrolled": true,
        "id": "bzZX6w88d0v5",
        "colab_type": "code",
        "colab": {
          "base_uri": "https://localhost:8080/",
          "height": 53
        },
        "outputId": "abe5cace-b48e-451b-d96f-e0e65d896932"
      },
      "source": [
        "W = torch.zeros(1, requires_grad=True) \n",
        "# requres_grad=True는 텐서에 행해지는 모든 연산에 대해 미분값을 계산한다.\n",
        "# 학습을 통해 계속 값이 변경되는 변수임을 의미한다.\n",
        "print(W)\n",
        "\n",
        "b = torch.zeros(1, requires_grad=True)\n",
        "print(b)"
      ],
      "execution_count": 3,
      "outputs": [
        {
          "output_type": "stream",
          "text": [
            "tensor([0.], requires_grad=True)\n",
            "tensor([0.], requires_grad=True)\n"
          ],
          "name": "stdout"
        }
      ]
    },
    {
      "cell_type": "markdown",
      "metadata": {
        "id": "69Nk33f_d0v8",
        "colab_type": "text"
      },
      "source": [
        "현재 상태는 \n",
        "\n",
        "$y = 0*x + 0$"
      ]
    },
    {
      "cell_type": "code",
      "metadata": {
        "ExecuteTime": {
          "end_time": "2020-04-06T10:20:26.288999Z",
          "start_time": "2020-04-06T10:20:26.284013Z"
        },
        "id": "hO067OWUd0v9",
        "colab_type": "code",
        "colab": {
          "base_uri": "https://localhost:8080/",
          "height": 89
        },
        "outputId": "0dad1787-c0db-4c79-ce97-fe44cbc7a1ae"
      },
      "source": [
        "hypothesis = W * x_train + b\n",
        "print(hypothesis)\n",
        "print(hypothesis.size())"
      ],
      "execution_count": 4,
      "outputs": [
        {
          "output_type": "stream",
          "text": [
            "tensor([[0.],\n",
            "        [0.],\n",
            "        [0.]], grad_fn=<AddBackward0>)\n",
            "torch.Size([3, 1])\n"
          ],
          "name": "stdout"
        }
      ]
    },
    {
      "cell_type": "markdown",
      "metadata": {
        "id": "5apscPz6d0wB",
        "colab_type": "text"
      },
      "source": [
        "비용 함수를 선언하자. 난 아직까지 식을 눈으로 봐야 편하다."
      ]
    },
    {
      "cell_type": "markdown",
      "metadata": {
        "id": "bRNvS7lBd0wC",
        "colab_type": "text"
      },
      "source": [
        "$cost(W,b) = \\frac{1}{n}\\sum_{i=1}^{n}[H(x^{(i)}) - y^{(i)}]^{2}$"
      ]
    },
    {
      "cell_type": "code",
      "metadata": {
        "ExecuteTime": {
          "end_time": "2020-04-06T10:20:27.991477Z",
          "start_time": "2020-04-06T10:20:27.987460Z"
        },
        "id": "azXjDLWLd0wC",
        "colab_type": "code",
        "colab": {}
      },
      "source": [
        "cost = torch.mean((hypothesis-y_train)**2)"
      ],
      "execution_count": 0,
      "outputs": []
    },
    {
      "cell_type": "code",
      "metadata": {
        "ExecuteTime": {
          "end_time": "2020-04-06T10:20:28.518041Z",
          "start_time": "2020-04-06T10:20:28.514076Z"
        },
        "id": "wTvJRn2Ad0wF",
        "colab_type": "code",
        "colab": {}
      },
      "source": [
        "optimizer = optim.SGD([W, b], lr=0.01) \n",
        "#학습 대상인 W와 b가 SGD에 입력된다. lr은 학습률(learnign rate)을 의미한다."
      ],
      "execution_count": 0,
      "outputs": []
    },
    {
      "cell_type": "code",
      "metadata": {
        "ExecuteTime": {
          "end_time": "2020-04-06T10:20:29.123440Z",
          "start_time": "2020-04-06T10:20:29.114457Z"
        },
        "id": "LGAuHQePd0wI",
        "colab_type": "code",
        "colab": {}
      },
      "source": [
        "optimizer.zero_grad() # 미분을 통해 얻은 기울기를 0으로 초기화한다. \n",
        "cost.backward() # 가중치 W와 편향 b에 대한 기울기가 계산된다.\n",
        "optimizer.step() # 인수로 들어갔던 W와 b에 리턴되는 변수들의 기울기에 학습률을 곱하여 빼줌으로써 업데이트한다."
      ],
      "execution_count": 0,
      "outputs": []
    },
    {
      "cell_type": "markdown",
      "metadata": {
        "id": "-1HFCn_Rd0wL",
        "colab_type": "text"
      },
      "source": [
        "여기까지를 다시 한번에 보자"
      ]
    },
    {
      "cell_type": "code",
      "metadata": {
        "ExecuteTime": {
          "end_time": "2020-04-06T10:20:30.721158Z",
          "start_time": "2020-04-06T10:20:30.170649Z"
        },
        "id": "MRCt3e-Sd0wL",
        "colab_type": "code",
        "colab": {
          "base_uri": "https://localhost:8080/",
          "height": 395
        },
        "outputId": "70a53275-62ac-4a6d-e399-6ff96d3ad009"
      },
      "source": [
        "import torch\n",
        "import torch.nn as nn\n",
        "import torch.nn.functional as F\n",
        "import torch.optim as optim\n",
        "\n",
        "torch.manual_seed(1) # 파이썬 코드를 재실행해도 같은 결과가 나오도록 랜덤 시드(random seed)를 준다.\n",
        "\n",
        "# 데이터\n",
        "x_train = torch.FloatTensor([[1],\n",
        "                             [2],\n",
        "                             [3]])\n",
        "y_train = torch.FloatTensor([[2],\n",
        "                             [4],\n",
        "                             [6]])\n",
        "\n",
        "# 모델 초기화\n",
        "W = torch.zeros(1, requires_grad=True)\n",
        "b = torch.zeros(1, requires_grad=True)\n",
        "\n",
        "# optimizer 설정\n",
        "optimizer = optim.SGD([W, b], lr=0.01)\n",
        "\n",
        "nb_epochs = 2000 # 원하는만큼 경사 하강법을 반복\n",
        "for epoch in range(nb_epochs + 1):\n",
        "    \n",
        "    # H(x) 계산\n",
        "    hypothesis = x_train * W + b\n",
        "\n",
        "    # cost 계산\n",
        "    cost = torch.mean((hypothesis - y_train) ** 2)\n",
        "\n",
        "    # cost로 H(x) 개선\n",
        "    optimizer.zero_grad()\n",
        "    cost.backward()\n",
        "    optimizer.step()\n",
        "\n",
        "    # 100번마다 로그 출력\n",
        "    if epoch % 100 == 0:\n",
        "        print(f'Epoch {epoch}/{nb_epochs} W: {round(W.item(),3)} b: {round(b.item(),3)} Cost: {round(cost.item(),3)}')"
      ],
      "execution_count": 8,
      "outputs": [
        {
          "output_type": "stream",
          "text": [
            "Epoch 0/2000 W: 0.187 b: 0.08 Cost: 18.667\n",
            "Epoch 100/2000 W: 1.746 b: 0.578 Cost: 0.048\n",
            "Epoch 200/2000 W: 1.8 b: 0.454 Cost: 0.03\n",
            "Epoch 300/2000 W: 1.843 b: 0.357 Cost: 0.018\n",
            "Epoch 400/2000 W: 1.876 b: 0.281 Cost: 0.011\n",
            "Epoch 500/2000 W: 1.903 b: 0.221 Cost: 0.007\n",
            "Epoch 600/2000 W: 1.924 b: 0.174 Cost: 0.004\n",
            "Epoch 700/2000 W: 1.94 b: 0.136 Cost: 0.003\n",
            "Epoch 800/2000 W: 1.953 b: 0.107 Cost: 0.002\n",
            "Epoch 900/2000 W: 1.963 b: 0.084 Cost: 0.001\n",
            "Epoch 1000/2000 W: 1.971 b: 0.066 Cost: 0.001\n",
            "Epoch 1100/2000 W: 1.977 b: 0.052 Cost: 0.0\n",
            "Epoch 1200/2000 W: 1.982 b: 0.041 Cost: 0.0\n",
            "Epoch 1300/2000 W: 1.986 b: 0.032 Cost: 0.0\n",
            "Epoch 1400/2000 W: 1.989 b: 0.025 Cost: 0.0\n",
            "Epoch 1500/2000 W: 1.991 b: 0.02 Cost: 0.0\n",
            "Epoch 1600/2000 W: 1.993 b: 0.016 Cost: 0.0\n",
            "Epoch 1700/2000 W: 1.995 b: 0.012 Cost: 0.0\n",
            "Epoch 1800/2000 W: 1.996 b: 0.01 Cost: 0.0\n",
            "Epoch 1900/2000 W: 1.997 b: 0.008 Cost: 0.0\n",
            "Epoch 2000/2000 W: 1.997 b: 0.006 Cost: 0.0\n"
          ],
          "name": "stdout"
        }
      ]
    },
    {
      "cell_type": "markdown",
      "metadata": {
        "id": "_Dc85mBfd0wO",
        "colab_type": "text"
      },
      "source": [
        "### 2.1.6 optimizer.zero_grad()가 필요한 이유"
      ]
    },
    {
      "cell_type": "markdown",
      "metadata": {
        "id": "uSKdSTP7d0wO",
        "colab_type": "text"
      },
      "source": [
        "파이토치는 미분을 통해 얻은 기울기를 누적시키는 특징이 있다."
      ]
    },
    {
      "cell_type": "code",
      "metadata": {
        "ExecuteTime": {
          "end_time": "2020-04-06T10:20:35.297916Z",
          "start_time": "2020-04-06T10:20:35.280986Z"
        },
        "scrolled": false,
        "id": "xN4uZcKXd0wP",
        "colab_type": "code",
        "colab": {
          "base_uri": "https://localhost:8080/",
          "height": 395
        },
        "outputId": "fcf530fe-5436-4e75-e039-798e82276d25"
      },
      "source": [
        "w = torch.tensor(2.0, requires_grad=True)\n",
        "\n",
        "nb_epochs = 20\n",
        "for epoch in range(nb_epochs+1):\n",
        "    z=2*w\n",
        "    z.backward()\n",
        "    print(f'수식을 w로 미분한 값:{w.grad}')"
      ],
      "execution_count": 9,
      "outputs": [
        {
          "output_type": "stream",
          "text": [
            "수식을 w로 미분한 값:2.0\n",
            "수식을 w로 미분한 값:4.0\n",
            "수식을 w로 미분한 값:6.0\n",
            "수식을 w로 미분한 값:8.0\n",
            "수식을 w로 미분한 값:10.0\n",
            "수식을 w로 미분한 값:12.0\n",
            "수식을 w로 미분한 값:14.0\n",
            "수식을 w로 미분한 값:16.0\n",
            "수식을 w로 미분한 값:18.0\n",
            "수식을 w로 미분한 값:20.0\n",
            "수식을 w로 미분한 값:22.0\n",
            "수식을 w로 미분한 값:24.0\n",
            "수식을 w로 미분한 값:26.0\n",
            "수식을 w로 미분한 값:28.0\n",
            "수식을 w로 미분한 값:30.0\n",
            "수식을 w로 미분한 값:32.0\n",
            "수식을 w로 미분한 값:34.0\n",
            "수식을 w로 미분한 값:36.0\n",
            "수식을 w로 미분한 값:38.0\n",
            "수식을 w로 미분한 값:40.0\n",
            "수식을 w로 미분한 값:42.0\n"
          ],
          "name": "stdout"
        }
      ]
    },
    {
      "cell_type": "markdown",
      "metadata": {
        "id": "WHZB3BlMd0wV",
        "colab_type": "text"
      },
      "source": [
        "계속해서 미분한 값이 2씩 누적된다. 그래서 optimizer.zero_grad()로 초기화 시킨다."
      ]
    },
    {
      "cell_type": "markdown",
      "metadata": {
        "id": "W3bnRXved0wW",
        "colab_type": "text"
      },
      "source": [
        "## 2.2 자동미분"
      ]
    },
    {
      "cell_type": "markdown",
      "metadata": {
        "id": "1YhfI033d0wW",
        "colab_type": "text"
      },
      "source": [
        "좋은 내용인데 건너 뛴다.\n",
        "\n",
        "https://wikidocs.net/60754"
      ]
    },
    {
      "cell_type": "markdown",
      "metadata": {
        "id": "HAwWd1J0d0wX",
        "colab_type": "text"
      },
      "source": [
        "## 2.3 다중 선형 회귀"
      ]
    },
    {
      "cell_type": "markdown",
      "metadata": {
        "id": "0D0AlzBqd0wX",
        "colab_type": "text"
      },
      "source": [
        "난 전체 코드만 쓰겠다.\n",
        "\n",
        "설명은 아래 참고\n",
        "\n",
        "https://wikidocs.net/54841"
      ]
    },
    {
      "cell_type": "code",
      "metadata": {
        "ExecuteTime": {
          "end_time": "2020-04-06T10:20:39.515642Z",
          "start_time": "2020-04-06T10:20:38.995034Z"
        },
        "id": "Bb_GbL9vd0wY",
        "colab_type": "code",
        "colab": {
          "base_uri": "https://localhost:8080/",
          "height": 395
        },
        "outputId": "c278fe97-2692-4090-8e0f-58fefbc7e276"
      },
      "source": [
        "x_train = torch.FloatTensor([[73, 80, 75],\n",
        "                            [93, 88, 93],\n",
        "                            [89, 91, 90],\n",
        "                            [96, 98, 100],\n",
        "                            [73, 66, 70]])\n",
        "y_train = torch.FloatTensor([[152],\n",
        "                            [185],\n",
        "                            [180],\n",
        "                            [196],\n",
        "                            [142]])\n",
        "\n",
        "#모델 초기화\n",
        "W = torch.zeros((3, 1), requires_grad=True)\n",
        "b = torch.zeros(1, requires_grad=True)\n",
        "\n",
        "# optimizer 설정\n",
        "optimizer = optim.SGD([W, b], lr=1e-5)\n",
        "\n",
        "nb_epochs = 2000\n",
        "for epoch in range(nb_epochs+1):\n",
        "    \n",
        "    # H(x) 계산\n",
        "    # 편향 b는 브로드캐스팅되어 각 샘플에 더해진다.\n",
        "    hypothesis = x_train.matmul(W) + b\n",
        "    \n",
        "    # cost 계산\n",
        "    cost = torch.mean((hypothesis - y_train) ** 2)\n",
        "    \n",
        "    # cost로 H(x) 개선\n",
        "    optimizer.zero_grad()\n",
        "    cost.backward()\n",
        "    optimizer.step()\n",
        "    \n",
        "    # 100번마다 출력\n",
        "    if epoch % 100 == 0:\n",
        "        print(f'Epoch: {epoch}/{nb_epochs}  Cost: {cost.item()}')"
      ],
      "execution_count": 10,
      "outputs": [
        {
          "output_type": "stream",
          "text": [
            "Epoch: 0/2000  Cost: 29661.80078125\n",
            "Epoch: 100/2000  Cost: 1.5636277198791504\n",
            "Epoch: 200/2000  Cost: 1.4975947141647339\n",
            "Epoch: 300/2000  Cost: 1.435044288635254\n",
            "Epoch: 400/2000  Cost: 1.3757257461547852\n",
            "Epoch: 500/2000  Cost: 1.319507360458374\n",
            "Epoch: 600/2000  Cost: 1.2662220001220703\n",
            "Epoch: 700/2000  Cost: 1.2157032489776611\n",
            "Epoch: 800/2000  Cost: 1.1678097248077393\n",
            "Epoch: 900/2000  Cost: 1.1224288940429688\n",
            "Epoch: 1000/2000  Cost: 1.0793898105621338\n",
            "Epoch: 1100/2000  Cost: 1.0385738611221313\n",
            "Epoch: 1200/2000  Cost: 0.9998835325241089\n",
            "Epoch: 1300/2000  Cost: 0.9632169604301453\n",
            "Epoch: 1400/2000  Cost: 0.9284265637397766\n",
            "Epoch: 1500/2000  Cost: 0.8954483866691589\n",
            "Epoch: 1600/2000  Cost: 0.8641694784164429\n",
            "Epoch: 1700/2000  Cost: 0.8345088958740234\n",
            "Epoch: 1800/2000  Cost: 0.8063803911209106\n",
            "Epoch: 1900/2000  Cost: 0.7796962857246399\n",
            "Epoch: 2000/2000  Cost: 0.754379153251648\n"
          ],
          "name": "stdout"
        }
      ]
    },
    {
      "cell_type": "markdown",
      "metadata": {
        "id": "xfP39ey8d0wa",
        "colab_type": "text"
      },
      "source": [
        "## 2.4 nn.Module로 구현하는 선형 회귀"
      ]
    },
    {
      "cell_type": "markdown",
      "metadata": {
        "id": "NPz1l8Igd0wb",
        "colab_type": "text"
      },
      "source": [
        "사실 직접 정의할 필요없이 다 구현되어있다."
      ]
    },
    {
      "cell_type": "code",
      "metadata": {
        "ExecuteTime": {
          "end_time": "2020-04-06T10:20:42.368018Z",
          "start_time": "2020-04-06T10:20:41.859377Z"
        },
        "scrolled": false,
        "id": "dzpXyp7Md0wb",
        "colab_type": "code",
        "colab": {
          "base_uri": "https://localhost:8080/",
          "height": 395
        },
        "outputId": "a0dece7c-cb6a-4eaa-9e5b-9a4d2cf34157"
      },
      "source": [
        "x_train = torch.FloatTensor([[73, 80, 75],\n",
        "                            [93, 88, 93],\n",
        "                            [89, 91, 90],\n",
        "                            [96, 98, 100],\n",
        "                            [73, 66, 70]])\n",
        "y_train = torch.FloatTensor([[152],\n",
        "                            [185],\n",
        "                            [180],\n",
        "                            [196],\n",
        "                            [142]])\n",
        "\n",
        "model = nn.Linear(3,1) # 단순 선형 회귀는 (1,1)\n",
        "optimizer = torch.optim.SGD(model.parameters(), lr=1e-5)\n",
        "\n",
        "nb_epochs = 2000\n",
        "for epoch in range(nb_epochs+1):\n",
        "    \n",
        "    # H(x) 계산\n",
        "    prediction = model(x_train)\n",
        "    \n",
        "    # cost 계산\n",
        "    cost = F.mse_loss(prediction, y_train)\n",
        "    \n",
        "    # cost로 H(x) 개선\n",
        "    optimizer.zero_grad()\n",
        "    cost.backward()\n",
        "    optimizer.step()\n",
        "    \n",
        "    # 100번마다 출력\n",
        "    if epoch % 100 == 0:\n",
        "        print(f'Epoch: {epoch}/{nb_epochs}  Cost: {cost.item()}')"
      ],
      "execution_count": 11,
      "outputs": [
        {
          "output_type": "stream",
          "text": [
            "Epoch: 0/2000  Cost: 31667.59765625\n",
            "Epoch: 100/2000  Cost: 0.2259877622127533\n",
            "Epoch: 200/2000  Cost: 0.22390982508659363\n",
            "Epoch: 300/2000  Cost: 0.22192999720573425\n",
            "Epoch: 400/2000  Cost: 0.2200585901737213\n",
            "Epoch: 500/2000  Cost: 0.21827054023742676\n",
            "Epoch: 600/2000  Cost: 0.21657225489616394\n",
            "Epoch: 700/2000  Cost: 0.21495532989501953\n",
            "Epoch: 800/2000  Cost: 0.21341471374034882\n",
            "Epoch: 900/2000  Cost: 0.21195237338542938\n",
            "Epoch: 1000/2000  Cost: 0.21055443584918976\n",
            "Epoch: 1100/2000  Cost: 0.20923011004924774\n",
            "Epoch: 1200/2000  Cost: 0.2079659253358841\n",
            "Epoch: 1300/2000  Cost: 0.2067682445049286\n",
            "Epoch: 1400/2000  Cost: 0.20561793446540833\n",
            "Epoch: 1500/2000  Cost: 0.2045261561870575\n",
            "Epoch: 1600/2000  Cost: 0.20347893238067627\n",
            "Epoch: 1700/2000  Cost: 0.2024863064289093\n",
            "Epoch: 1800/2000  Cost: 0.20153871178627014\n",
            "Epoch: 1900/2000  Cost: 0.2006368339061737\n",
            "Epoch: 2000/2000  Cost: 0.19976893067359924\n"
          ],
          "name": "stdout"
        }
      ]
    },
    {
      "cell_type": "code",
      "metadata": {
        "ExecuteTime": {
          "end_time": "2020-04-06T10:20:45.008956Z",
          "start_time": "2020-04-06T10:20:45.002005Z"
        },
        "id": "MTIA29DJd0wd",
        "colab_type": "code",
        "colab": {
          "base_uri": "https://localhost:8080/",
          "height": 53
        },
        "outputId": "01c7ad46-12d7-46da-a2aa-66eba5a80416"
      },
      "source": [
        "new_var = torch.FloatTensor([[73, 80, 75]])\n",
        "pred_y = model(new_var)\n",
        "print(f'훈련 후 입력이 73, 80, 75일 때의 예측값: \\n{pred_y}')"
      ],
      "execution_count": 12,
      "outputs": [
        {
          "output_type": "stream",
          "text": [
            "훈련 후 입력이 73, 80, 75일 때의 예측값: \n",
            "tensor([[151.2305]], grad_fn=<AddmmBackward>)\n"
          ],
          "name": "stdout"
        }
      ]
    },
    {
      "cell_type": "markdown",
      "metadata": {
        "id": "2OkJicoVd0wi",
        "colab_type": "text"
      },
      "source": [
        "## 2.5 클래스로 파이토치 모델 구현하기"
      ]
    },
    {
      "cell_type": "markdown",
      "metadata": {
        "id": "-KOSPd0Yd0wj",
        "colab_type": "text"
      },
      "source": [
        "안한다.\n",
        "\n",
        "https://wikidocs.net/60036"
      ]
    },
    {
      "cell_type": "markdown",
      "metadata": {
        "id": "V02YDOdxd0wj",
        "colab_type": "text"
      },
      "source": [
        "## 2.6 미니 배치와 데이터 로드(Mini Batch and Data Load)"
      ]
    },
    {
      "cell_type": "markdown",
      "metadata": {
        "id": "0NVPbY6qd0wk",
        "colab_type": "text"
      },
      "source": [
        "### 2.6.1 미니 배치와 배치 크기(Mini Batch and Batch Size)"
      ]
    },
    {
      "cell_type": "markdown",
      "metadata": {
        "id": "GD8Ijd1vd0wl",
        "colab_type": "text"
      },
      "source": [
        "이거는 맨날 헷갈린다. 볼수록 좋은 내용인 것 같다.\n",
        "\n",
        "![](https://camo.githubusercontent.com/2d645ca96027a2b35f7e29bc00144044fc8301fd/68747470733a2f2f77696b69646f63732e6e65742f696d616765732f706167652f35353538302f2545422541462542382545422538422538382545422542302542302545432542392539382e504e47)\n",
        "\n",
        "미니 배치 학습을 하게되면 미니 배치만큼만 가져가서 cost를 계산하고 경사 하강법을 수행한다.\n",
        "\n",
        "그리고 다음 미니 배치를 가져가서 cost를 계산하고 경사 하강법을 수행한다.\n",
        "\n",
        "그림 기준으로 5번까지 하면 1epoch가 끝나는 거다.\n",
        "\n",
        "정리 1: \n",
        "\n",
        "전체 데이터에 대해 경사 하강법 수행하면 '배치 경사 하강법' \n",
        "\n",
        "미니 배치 단위로 경사 하강법 수행하면 '미니 배치 경사 하강법'\n",
        "\n",
        "정리 2:\n",
        "\n",
        "배치 경사 하강법은 전체 데이터를 사용하므로 가중치 값이 최적값에 수렴하는 과정이 매우 안정적이지만, 계산량이 너무 많이 든다.\n",
        "\n",
        "미니 배치 경사 하강법은 일부 데이터를 사용하므로 최적값으로 수렴하는 과정에서 헤매기도 하지만 훈련 속도가 빠르다.\n",
        "\n",
        "정리 3:\n",
        "\n",
        "배치 크기는 2의 제곱수를 사용한다. CPU,GPU의 메모리가 2의 배수이기 때문에 데이터 송수신의 효율을 높일 수 있다."
      ]
    },
    {
      "cell_type": "markdown",
      "metadata": {
        "id": "uXtcBVqed0wl",
        "colab_type": "text"
      },
      "source": [
        "### 2.6.2 이터레이션(Iteration)"
      ]
    },
    {
      "cell_type": "markdown",
      "metadata": {
        "id": "1MJsLF-9d0wm",
        "colab_type": "text"
      },
      "source": [
        "![](https://camo.githubusercontent.com/8fc6da3c8d343d521e7ae31d352e1ebaf2e4ca0e/68747470733a2f2f77696b69646f63732e6e65742f696d616765732f706167652f33363033332f6261746368616e6465706f6368697465726174696f6e2e504e47)"
      ]
    },
    {
      "cell_type": "markdown",
      "metadata": {
        "id": "luL1V4SNd0wm",
        "colab_type": "text"
      },
      "source": [
        "이터레이션 : 1 epoch 내에서 매개변수(W, b)의 업데이트 횟수\n",
        "\n",
        "전체 데이터가 2000이고 배치 크기가 200일 때 이터레이션의 수는 총 10개이다."
      ]
    },
    {
      "cell_type": "markdown",
      "metadata": {
        "id": "3ngs_XnAd0wn",
        "colab_type": "text"
      },
      "source": [
        "### 2.6.3 데이터 로드하기(Data Load)"
      ]
    },
    {
      "cell_type": "markdown",
      "metadata": {
        "id": "tDb5TUaMd0wn",
        "colab_type": "text"
      },
      "source": [
        "데이터셋(Dataset)과 데이터로더(DataLoader)를 사용하면 미니 배치 학습, 데이터 셔플(shuffle), 병렬 처리까지 간단히 수행할 수 있다.\n",
        "\n",
        "Dataset를 정의하고 이를 DataLoader에 전달하자."
      ]
    },
    {
      "cell_type": "code",
      "metadata": {
        "ExecuteTime": {
          "end_time": "2020-04-06T10:20:49.519898Z",
          "start_time": "2020-04-06T10:20:49.515909Z"
        },
        "id": "MlEBNG87d0wo",
        "colab_type": "code",
        "colab": {}
      },
      "source": [
        "from torch.utils.data import TensorDataset\n",
        "from torch.utils.data import DataLoader"
      ],
      "execution_count": 0,
      "outputs": []
    },
    {
      "cell_type": "code",
      "metadata": {
        "ExecuteTime": {
          "end_time": "2020-04-06T10:20:49.984656Z",
          "start_time": "2020-04-06T10:20:49.978672Z"
        },
        "id": "Cjsg78dld0wr",
        "colab_type": "code",
        "colab": {}
      },
      "source": [
        "x_train  =  torch.FloatTensor([[73,  80,  75], \n",
        "                               [93,  88,  93], \n",
        "                               [89,  91,  90], \n",
        "                               [96,  98,  100],   \n",
        "                               [73,  66,  70]])  \n",
        "y_train  =  torch.FloatTensor([[152],\n",
        "                               [185],\n",
        "                               [180],\n",
        "                               [196],\n",
        "                               [142]])\n",
        "                              \n",
        "dataset = TensorDataset(x_train, y_train) # 데이터셋 만들기\n",
        "dataloader = DataLoader(dataset, batch_size=2, shuffle=True) # 데이터로더 사용하기"
      ],
      "execution_count": 0,
      "outputs": []
    },
    {
      "cell_type": "markdown",
      "metadata": {
        "id": "nekQL3l_d0wv",
        "colab_type": "text"
      },
      "source": [
        "dataloader는 기본적으로 2개의 인자를 입력받는다. 하나는 데이터셋, 미니 배치의 크기이다.\n",
        "\n",
        "이때 미니 배치의 크기는 통상적으로 2의 배수를 사용한다.\n",
        "\n",
        "shuffle=True를 선택하면 Epoch마다 데이터셋을 섞어서 데이터가 학습되는 순서를 바꾼다.\n",
        "\n",
        "[사람도 같은 문제지를 계속 풀면 어느 순간 문제의 순서에 익숙해질 수 있습니다. 예를 들어 어떤 문제지의 12번 문제를 풀면서, '13번 문제가 뭔지는 기억은 안 나지만 어제 풀었던 기억으로 정답은 5번이었던 것 같은데' 하면서 문제 자체보단 순서에 익숙해질 수 있다는 것입니다. 그럴 때 문제지를 풀 때마다 문제 순서를 랜덤으로 바꾸면 도움이 될 겁니다. 마찬가지로 모델이 데이터셋의 순서에 익숙해지는 것을 방지하여 학습할 때는 이 옵션을 True를 주는 것을 권장합니다.]\n",
        "\n",
        "뭔가 이상하긴 한데 그런 느낌인가 보다"
      ]
    },
    {
      "cell_type": "code",
      "metadata": {
        "ExecuteTime": {
          "end_time": "2020-04-06T10:20:53.581066Z",
          "start_time": "2020-04-06T10:20:53.546135Z"
        },
        "scrolled": false,
        "id": "tb2kGjghd0wv",
        "colab_type": "code",
        "colab": {
          "base_uri": "https://localhost:8080/",
          "height": 989
        },
        "outputId": "83014325-37d3-44ea-b9aa-eea437aeaf75"
      },
      "source": [
        "model = nn.Linear(3,1)\n",
        "optimizer = torch.optim.SGD(model.parameters(), lr=1e-5)\n",
        "nb_epochs = 2\n",
        "for epoch in range(nb_epochs + 1):\n",
        "    print(f'Epoch {epoch}/{nb_epochs}')\n",
        "    print('-'*50)\n",
        "\n",
        "    for batch_idx, samples in enumerate(dataloader):\n",
        "        print('batch_idx:', batch_idx)\n",
        "        print('samples:', samples)\n",
        "        x_train, y_train = samples\n",
        "    \n",
        "        # H(x) 계산\n",
        "        prediction = model(x_train)\n",
        "\n",
        "        # cost 계산\n",
        "        cost = F.mse_loss(prediction, y_train)\n",
        "\n",
        "        # cost로 H(x) 계산\n",
        "        optimizer.zero_grad()\n",
        "        cost.backward()\n",
        "        optimizer.step()\n",
        "\n",
        "        print(f'Batch {batch_idx+1}/{len(dataloader)}')\n",
        "\n",
        "    print('-'*50)\n",
        "    print(f'Cost: {cost.item()}')\n",
        "    print('-'*50)\n"
      ],
      "execution_count": 15,
      "outputs": [
        {
          "output_type": "stream",
          "text": [
            "Epoch 0/2\n",
            "--------------------------------------------------\n",
            "batch_idx: 0\n",
            "samples: [tensor([[ 96.,  98., 100.],\n",
            "        [ 89.,  91.,  90.]]), tensor([[196.],\n",
            "        [180.]])]\n",
            "Batch 1/3\n",
            "batch_idx: 1\n",
            "samples: [tensor([[73., 80., 75.],\n",
            "        [73., 66., 70.]]), tensor([[152.],\n",
            "        [142.]])]\n",
            "Batch 2/3\n",
            "batch_idx: 2\n",
            "samples: [tensor([[93., 88., 93.]]), tensor([[185.]])]\n",
            "Batch 3/3\n",
            "--------------------------------------------------\n",
            "Cost: 5174.39599609375\n",
            "--------------------------------------------------\n",
            "Epoch 1/2\n",
            "--------------------------------------------------\n",
            "batch_idx: 0\n",
            "samples: [tensor([[89., 91., 90.],\n",
            "        [73., 80., 75.]]), tensor([[180.],\n",
            "        [152.]])]\n",
            "Batch 1/3\n",
            "batch_idx: 1\n",
            "samples: [tensor([[ 73.,  66.,  70.],\n",
            "        [ 96.,  98., 100.]]), tensor([[142.],\n",
            "        [196.]])]\n",
            "Batch 2/3\n",
            "batch_idx: 2\n",
            "samples: [tensor([[93., 88., 93.]]), tensor([[185.]])]\n",
            "Batch 3/3\n",
            "--------------------------------------------------\n",
            "Cost: 212.29489135742188\n",
            "--------------------------------------------------\n",
            "Epoch 2/2\n",
            "--------------------------------------------------\n",
            "batch_idx: 0\n",
            "samples: [tensor([[93., 88., 93.],\n",
            "        [73., 80., 75.]]), tensor([[185.],\n",
            "        [152.]])]\n",
            "Batch 1/3\n",
            "batch_idx: 1\n",
            "samples: [tensor([[ 89.,  91.,  90.],\n",
            "        [ 96.,  98., 100.]]), tensor([[180.],\n",
            "        [196.]])]\n",
            "Batch 2/3\n",
            "batch_idx: 2\n",
            "samples: [tensor([[73., 66., 70.]]), tensor([[142.]])]\n",
            "Batch 3/3\n",
            "--------------------------------------------------\n",
            "Cost: 41.47127151489258\n",
            "--------------------------------------------------\n"
          ],
          "name": "stdout"
        }
      ]
    },
    {
      "cell_type": "markdown",
      "metadata": {
        "id": "tFO1dw7kd0wz",
        "colab_type": "text"
      },
      "source": [
        "## 2.7 커스텀 데이터셋(Custom Dataset)"
      ]
    },
    {
      "cell_type": "code",
      "metadata": {
        "ExecuteTime": {
          "end_time": "2020-04-06T10:20:57.639194Z",
          "start_time": "2020-04-06T10:20:57.634218Z"
        },
        "id": "kY10zMAwd0wz",
        "colab_type": "code",
        "colab": {}
      },
      "source": [
        "class CustomDataset(torch.utils.data.Dataset):\n",
        "    # 데이터셋의 전처리를 해주는 부분\n",
        "    def __init__(self):\n",
        "        return\n",
        "    \n",
        "    # 데이터셋의 길이, 즉 총 샘플의 수를 적어주는 부분\n",
        "    def __len__(self):\n",
        "        return\n",
        "    \n",
        "    # 데이터셋에서 특정 1개의 샘플을 가져오는 함수\n",
        "    def __getitem__(self, idx):\n",
        "        return"
      ],
      "execution_count": 0,
      "outputs": []
    },
    {
      "cell_type": "code",
      "metadata": {
        "ExecuteTime": {
          "end_time": "2020-04-06T10:21:00.434745Z",
          "start_time": "2020-04-06T10:21:00.426742Z"
        },
        "id": "pK-SlKtfd0w1",
        "colab_type": "code",
        "colab": {}
      },
      "source": [
        "from torch.utils.data import Dataset\n",
        "from torch.utils.data import DataLoader\n",
        "\n",
        "class CustomDataset(Dataset): \n",
        "    # 데이터셋의 전처리를 해주는 부분\n",
        "    def __init__(self):\n",
        "        self.x_data = [[73, 80, 75],\n",
        "                       [93, 88, 93],\n",
        "                       [89, 91, 90],\n",
        "                       [96, 98, 100],\n",
        "                       [73, 66, 70]]\n",
        "        self.y_data = [[152], \n",
        "                       [185],\n",
        "                       [180],\n",
        "                       [196],\n",
        "                       [142]]\n",
        "\n",
        "    # 데이터셋의 길이, 즉 총 샘플의 수를 적어주는 부분\n",
        "    def __len__(self): \n",
        "        return len(self.x_data)\n",
        "\n",
        "    # 데이터셋에서 특정 1개의 샘플을 가져오는 함수\n",
        "    def __getitem__(self, idx): \n",
        "        x = torch.FloatTensor(self.x_data[idx])\n",
        "        y = torch.FloatTensor(self.y_data[idx])\n",
        "        return x, y\n"
      ],
      "execution_count": 0,
      "outputs": []
    },
    {
      "cell_type": "code",
      "metadata": {
        "ExecuteTime": {
          "end_time": "2020-04-06T10:21:03.296071Z",
          "start_time": "2020-04-06T10:21:03.291086Z"
        },
        "id": "jRao5gdVd0w3",
        "colab_type": "code",
        "colab": {}
      },
      "source": [
        "dataset = CustomDataset()\n",
        "dataloader = DataLoader(dataset, batch_size=2, shuffle=True)\n",
        "\n",
        "model = torch.nn.Linear(3,1)\n",
        "optimizer = torch.optim.SGD(model.parameters(), lr=1e-5)"
      ],
      "execution_count": 0,
      "outputs": []
    },
    {
      "cell_type": "code",
      "metadata": {
        "ExecuteTime": {
          "end_time": "2020-04-06T10:21:04.714281Z",
          "start_time": "2020-04-06T10:21:04.658453Z"
        },
        "scrolled": false,
        "id": "VcPvd2Otd0w7",
        "colab_type": "code",
        "colab": {
          "base_uri": "https://localhost:8080/",
          "height": 1000
        },
        "outputId": "b08c4daf-28c8-4d2e-f8ac-05ccc629fa18"
      },
      "source": [
        "nb_epochs = 20\n",
        "for epoch in range(nb_epochs + 1):\n",
        "    for batch_idx, samples in enumerate(dataloader):\n",
        "        # print(batch_idx)\n",
        "        # print(samples)\n",
        "        x_train, y_train = samples\n",
        "        # H(x) 계산\n",
        "        prediction = model(x_train)\n",
        "\n",
        "        # cost 계산\n",
        "        cost = F.mse_loss(prediction, y_train)\n",
        "\n",
        "        # cost로 H(x) 계산\n",
        "        optimizer.zero_grad()\n",
        "        cost.backward()\n",
        "        optimizer.step()\n",
        "\n",
        "        print(f'Epoch {epoch}/{nb_epochs} Batch {batch_idx+1}/{len(dataloader)} Cost: {cost.item()}')\n"
      ],
      "execution_count": 19,
      "outputs": [
        {
          "output_type": "stream",
          "text": [
            "Epoch 0/20 Batch 1/3 Cost: 23817.884765625\n",
            "Epoch 0/20 Batch 2/3 Cost: 12629.80859375\n",
            "Epoch 0/20 Batch 3/3 Cost: 1490.0264892578125\n",
            "Epoch 1/20 Batch 1/3 Cost: 1102.735595703125\n",
            "Epoch 1/20 Batch 2/3 Cost: 152.0546875\n",
            "Epoch 1/20 Batch 3/3 Cost: 169.6377410888672\n",
            "Epoch 2/20 Batch 1/3 Cost: 15.403888702392578\n",
            "Epoch 2/20 Batch 2/3 Cost: 15.917740821838379\n",
            "Epoch 2/20 Batch 3/3 Cost: 2.6757023334503174\n",
            "Epoch 3/20 Batch 1/3 Cost: 3.2349371910095215\n",
            "Epoch 3/20 Batch 2/3 Cost: 5.103827476501465\n",
            "Epoch 3/20 Batch 3/3 Cost: 5.206399440765381\n",
            "Epoch 4/20 Batch 1/3 Cost: 4.732839107513428\n",
            "Epoch 4/20 Batch 2/3 Cost: 4.18689489364624\n",
            "Epoch 4/20 Batch 3/3 Cost: 4.310299396514893\n",
            "Epoch 5/20 Batch 1/3 Cost: 1.0817984342575073\n",
            "Epoch 5/20 Batch 2/3 Cost: 4.83293342590332\n",
            "Epoch 5/20 Batch 3/3 Cost: 7.471467018127441\n",
            "Epoch 6/20 Batch 1/3 Cost: 3.5455799102783203\n",
            "Epoch 6/20 Batch 2/3 Cost: 0.7308382391929626\n",
            "Epoch 6/20 Batch 3/3 Cost: 7.113091468811035\n",
            "Epoch 7/20 Batch 1/3 Cost: 3.9544317722320557\n",
            "Epoch 7/20 Batch 2/3 Cost: 3.409435272216797\n",
            "Epoch 7/20 Batch 3/3 Cost: 0.12771767377853394\n",
            "Epoch 8/20 Batch 1/3 Cost: 4.548311233520508\n",
            "Epoch 8/20 Batch 2/3 Cost: 2.3762197494506836\n",
            "Epoch 8/20 Batch 3/3 Cost: 0.029777521267533302\n",
            "Epoch 9/20 Batch 1/3 Cost: 3.4834351539611816\n",
            "Epoch 9/20 Batch 2/3 Cost: 2.5416111946105957\n",
            "Epoch 9/20 Batch 3/3 Cost: 4.151369094848633\n",
            "Epoch 10/20 Batch 1/3 Cost: 2.3607373237609863\n",
            "Epoch 10/20 Batch 2/3 Cost: 1.7879865169525146\n",
            "Epoch 10/20 Batch 3/3 Cost: 7.507295608520508\n",
            "Epoch 11/20 Batch 1/3 Cost: 3.0393075942993164\n",
            "Epoch 11/20 Batch 2/3 Cost: 4.50801944732666\n",
            "Epoch 11/20 Batch 3/3 Cost: 0.0378732830286026\n",
            "Epoch 12/20 Batch 1/3 Cost: 4.480140686035156\n",
            "Epoch 12/20 Batch 2/3 Cost: 1.4995269775390625\n",
            "Epoch 12/20 Batch 3/3 Cost: 2.935249090194702\n",
            "Epoch 13/20 Batch 1/3 Cost: 0.7826959490776062\n",
            "Epoch 13/20 Batch 2/3 Cost: 3.3810760974884033\n",
            "Epoch 13/20 Batch 3/3 Cost: 6.1926069259643555\n",
            "Epoch 14/20 Batch 1/3 Cost: 1.6219040155410767\n",
            "Epoch 14/20 Batch 2/3 Cost: 6.218507766723633\n",
            "Epoch 14/20 Batch 3/3 Cost: 3.6191439628601074\n",
            "Epoch 15/20 Batch 1/3 Cost: 2.3731491565704346\n",
            "Epoch 15/20 Batch 2/3 Cost: 4.798120498657227\n",
            "Epoch 15/20 Batch 3/3 Cost: 0.0922774076461792\n",
            "Epoch 16/20 Batch 1/3 Cost: 3.4306957721710205\n",
            "Epoch 16/20 Batch 2/3 Cost: 4.806702613830566\n",
            "Epoch 16/20 Batch 3/3 Cost: 1.8887791633605957\n",
            "Epoch 17/20 Batch 1/3 Cost: 3.8795220851898193\n",
            "Epoch 17/20 Batch 2/3 Cost: 2.309389114379883\n",
            "Epoch 17/20 Batch 3/3 Cost: 4.901613235473633\n",
            "Epoch 18/20 Batch 1/3 Cost: 3.786149024963379\n",
            "Epoch 18/20 Batch 2/3 Cost: 4.070049285888672\n",
            "Epoch 18/20 Batch 3/3 Cost: 0.035356808453798294\n",
            "Epoch 19/20 Batch 1/3 Cost: 2.605781078338623\n",
            "Epoch 19/20 Batch 2/3 Cost: 2.2750394344329834\n",
            "Epoch 19/20 Batch 3/3 Cost: 5.667038440704346\n",
            "Epoch 20/20 Batch 1/3 Cost: 7.114394187927246\n",
            "Epoch 20/20 Batch 2/3 Cost: 2.944798707962036\n",
            "Epoch 20/20 Batch 3/3 Cost: 1.3891077041625977\n"
          ],
          "name": "stdout"
        }
      ]
    },
    {
      "cell_type": "code",
      "metadata": {
        "ExecuteTime": {
          "end_time": "2020-04-06T10:21:06.476569Z",
          "start_time": "2020-04-06T10:21:06.469588Z"
        },
        "id": "7ANX1eK0d0w9",
        "colab_type": "code",
        "colab": {
          "base_uri": "https://localhost:8080/",
          "height": 35
        },
        "outputId": "9ab93214-4628-433d-f605-06c4646ad5e8"
      },
      "source": [
        "# 임의의 입력 [73, 80, 75]를 선언\n",
        "new_var =  torch.FloatTensor([[73, 80, 75]]) \n",
        "# 입력한 값 [73, 80, 75]에 대해서 예측값 y를 리턴받아서 pred_y에 저장\n",
        "pred_y = model(new_var) \n",
        "print(\"훈련 후 입력이 73, 80, 75일 때의 예측값 :\", pred_y)"
      ],
      "execution_count": 20,
      "outputs": [
        {
          "output_type": "stream",
          "text": [
            "훈련 후 입력이 73, 80, 75일 때의 예측값 : tensor([[154.8488]], grad_fn=<AddmmBackward>)\n"
          ],
          "name": "stdout"
        }
      ]
    },
    {
      "cell_type": "markdown",
      "metadata": {
        "id": "aIWAoxmZd0xA",
        "colab_type": "text"
      },
      "source": [
        "## 2.8 활용"
      ]
    },
    {
      "cell_type": "markdown",
      "metadata": {
        "id": "3fPnQrKSd0xA",
        "colab_type": "text"
      },
      "source": [
        "출처 : https://github.com/Namsik-Yoon/pytorch_basic/blob/master/2_1_%EC%84%A0%ED%98%95%ED%9A%8C%EA%B7%80_with_My_data.ipynb\n",
        "\n",
        "boston 데이터셋을 바탕으로 활용해보자"
      ]
    },
    {
      "cell_type": "code",
      "metadata": {
        "ExecuteTime": {
          "end_time": "2020-04-06T10:21:10.232567Z",
          "start_time": "2020-04-06T10:21:09.242194Z"
        },
        "id": "k0VtNVipd0xA",
        "colab_type": "code",
        "colab": {}
      },
      "source": [
        "import pandas as pd\n",
        "from sklearn.datasets import load_boston"
      ],
      "execution_count": 0,
      "outputs": []
    },
    {
      "cell_type": "code",
      "metadata": {
        "ExecuteTime": {
          "end_time": "2020-04-06T10:21:10.998496Z",
          "start_time": "2020-04-06T10:21:10.986531Z"
        },
        "id": "TzdWsloXd0xE",
        "colab_type": "code",
        "colab": {}
      },
      "source": [
        "boston = load_boston()"
      ],
      "execution_count": 0,
      "outputs": []
    },
    {
      "cell_type": "code",
      "metadata": {
        "ExecuteTime": {
          "end_time": "2020-04-06T10:21:11.735525Z",
          "start_time": "2020-04-06T10:21:11.714597Z"
        },
        "id": "ZaUkP8qJd0xG",
        "colab_type": "code",
        "colab": {
          "base_uri": "https://localhost:8080/",
          "height": 204
        },
        "outputId": "a6480645-2e66-453d-bfc2-c7d80188f112"
      },
      "source": [
        "boston_df = pd.DataFrame(data=boston['data'], columns=boston['feature_names'])\n",
        "boston_df.head()"
      ],
      "execution_count": 23,
      "outputs": [
        {
          "output_type": "execute_result",
          "data": {
            "text/html": [
              "<div>\n",
              "<style scoped>\n",
              "    .dataframe tbody tr th:only-of-type {\n",
              "        vertical-align: middle;\n",
              "    }\n",
              "\n",
              "    .dataframe tbody tr th {\n",
              "        vertical-align: top;\n",
              "    }\n",
              "\n",
              "    .dataframe thead th {\n",
              "        text-align: right;\n",
              "    }\n",
              "</style>\n",
              "<table border=\"1\" class=\"dataframe\">\n",
              "  <thead>\n",
              "    <tr style=\"text-align: right;\">\n",
              "      <th></th>\n",
              "      <th>CRIM</th>\n",
              "      <th>ZN</th>\n",
              "      <th>INDUS</th>\n",
              "      <th>CHAS</th>\n",
              "      <th>NOX</th>\n",
              "      <th>RM</th>\n",
              "      <th>AGE</th>\n",
              "      <th>DIS</th>\n",
              "      <th>RAD</th>\n",
              "      <th>TAX</th>\n",
              "      <th>PTRATIO</th>\n",
              "      <th>B</th>\n",
              "      <th>LSTAT</th>\n",
              "    </tr>\n",
              "  </thead>\n",
              "  <tbody>\n",
              "    <tr>\n",
              "      <th>0</th>\n",
              "      <td>0.00632</td>\n",
              "      <td>18.0</td>\n",
              "      <td>2.31</td>\n",
              "      <td>0.0</td>\n",
              "      <td>0.538</td>\n",
              "      <td>6.575</td>\n",
              "      <td>65.2</td>\n",
              "      <td>4.0900</td>\n",
              "      <td>1.0</td>\n",
              "      <td>296.0</td>\n",
              "      <td>15.3</td>\n",
              "      <td>396.90</td>\n",
              "      <td>4.98</td>\n",
              "    </tr>\n",
              "    <tr>\n",
              "      <th>1</th>\n",
              "      <td>0.02731</td>\n",
              "      <td>0.0</td>\n",
              "      <td>7.07</td>\n",
              "      <td>0.0</td>\n",
              "      <td>0.469</td>\n",
              "      <td>6.421</td>\n",
              "      <td>78.9</td>\n",
              "      <td>4.9671</td>\n",
              "      <td>2.0</td>\n",
              "      <td>242.0</td>\n",
              "      <td>17.8</td>\n",
              "      <td>396.90</td>\n",
              "      <td>9.14</td>\n",
              "    </tr>\n",
              "    <tr>\n",
              "      <th>2</th>\n",
              "      <td>0.02729</td>\n",
              "      <td>0.0</td>\n",
              "      <td>7.07</td>\n",
              "      <td>0.0</td>\n",
              "      <td>0.469</td>\n",
              "      <td>7.185</td>\n",
              "      <td>61.1</td>\n",
              "      <td>4.9671</td>\n",
              "      <td>2.0</td>\n",
              "      <td>242.0</td>\n",
              "      <td>17.8</td>\n",
              "      <td>392.83</td>\n",
              "      <td>4.03</td>\n",
              "    </tr>\n",
              "    <tr>\n",
              "      <th>3</th>\n",
              "      <td>0.03237</td>\n",
              "      <td>0.0</td>\n",
              "      <td>2.18</td>\n",
              "      <td>0.0</td>\n",
              "      <td>0.458</td>\n",
              "      <td>6.998</td>\n",
              "      <td>45.8</td>\n",
              "      <td>6.0622</td>\n",
              "      <td>3.0</td>\n",
              "      <td>222.0</td>\n",
              "      <td>18.7</td>\n",
              "      <td>394.63</td>\n",
              "      <td>2.94</td>\n",
              "    </tr>\n",
              "    <tr>\n",
              "      <th>4</th>\n",
              "      <td>0.06905</td>\n",
              "      <td>0.0</td>\n",
              "      <td>2.18</td>\n",
              "      <td>0.0</td>\n",
              "      <td>0.458</td>\n",
              "      <td>7.147</td>\n",
              "      <td>54.2</td>\n",
              "      <td>6.0622</td>\n",
              "      <td>3.0</td>\n",
              "      <td>222.0</td>\n",
              "      <td>18.7</td>\n",
              "      <td>396.90</td>\n",
              "      <td>5.33</td>\n",
              "    </tr>\n",
              "  </tbody>\n",
              "</table>\n",
              "</div>"
            ],
            "text/plain": [
              "      CRIM    ZN  INDUS  CHAS    NOX  ...  RAD    TAX  PTRATIO       B  LSTAT\n",
              "0  0.00632  18.0   2.31   0.0  0.538  ...  1.0  296.0     15.3  396.90   4.98\n",
              "1  0.02731   0.0   7.07   0.0  0.469  ...  2.0  242.0     17.8  396.90   9.14\n",
              "2  0.02729   0.0   7.07   0.0  0.469  ...  2.0  242.0     17.8  392.83   4.03\n",
              "3  0.03237   0.0   2.18   0.0  0.458  ...  3.0  222.0     18.7  394.63   2.94\n",
              "4  0.06905   0.0   2.18   0.0  0.458  ...  3.0  222.0     18.7  396.90   5.33\n",
              "\n",
              "[5 rows x 13 columns]"
            ]
          },
          "metadata": {
            "tags": []
          },
          "execution_count": 23
        }
      ]
    },
    {
      "cell_type": "markdown",
      "metadata": {
        "id": "OmZCAErvd0xJ",
        "colab_type": "text"
      },
      "source": [
        "보스턴 주택 가격 데이터는 다음과 같이 구성되어 있다.\n",
        "\n",
        "1. 타겟 데이터\n",
        "\n",
        "1978 보스턴 주택 가격\n",
        "\n",
        "506개 타운의 주택 가격 중앙값 (단위 1,000 달러)"
      ]
    },
    {
      "cell_type": "markdown",
      "metadata": {
        "id": "6d-GQVrJd0xJ",
        "colab_type": "text"
      },
      "source": [
        "2. 특징 데이터\n",
        "\n",
        "CRIM: 범죄율\n",
        "\n",
        "ZN: 25,000 평방피트를 초과 거주지역 비율\n",
        "\n",
        "INDUS: 비소매상업지역 면적 비율\n",
        "\n",
        "CHAS: 찰스강의 경계에 위치한 경우는 1, 아니면 0\n",
        "\n",
        "NOX: 일산화질소 농도\n",
        "\n",
        "RM: 주택당 방 수\n",
        "\n",
        "AGE: 1940년 이전에 건축된 주택의 비율\n",
        "\n",
        "DIS: 직업센터의 거리\n",
        "\n",
        "RAD: 방사형 고속도로까지의 거리\n",
        "\n",
        "TAX: 재산세율\n",
        "\n",
        "B: 인구 중 흑인 비율\n",
        "\n",
        "PTRATIO: 학생/교사 비율\n",
        "\n",
        "LSTAT: 인구 중 하위 계층 비율\n"
      ]
    },
    {
      "cell_type": "code",
      "metadata": {
        "ExecuteTime": {
          "end_time": "2020-04-06T10:21:13.699272Z",
          "start_time": "2020-04-06T10:21:13.659368Z"
        },
        "scrolled": true,
        "id": "_ugstuCed0xK",
        "colab_type": "code",
        "colab": {
          "base_uri": "https://localhost:8080/",
          "height": 224
        },
        "outputId": "219fb83c-82b0-4fc4-df2e-203b56d061d4"
      },
      "source": [
        "data = boston_df.apply(lambda x: (x - x.mean()) / x.std())\n",
        "data['Price'] = boston['target']\n",
        "data.head()"
      ],
      "execution_count": 24,
      "outputs": [
        {
          "output_type": "execute_result",
          "data": {
            "text/html": [
              "<div>\n",
              "<style scoped>\n",
              "    .dataframe tbody tr th:only-of-type {\n",
              "        vertical-align: middle;\n",
              "    }\n",
              "\n",
              "    .dataframe tbody tr th {\n",
              "        vertical-align: top;\n",
              "    }\n",
              "\n",
              "    .dataframe thead th {\n",
              "        text-align: right;\n",
              "    }\n",
              "</style>\n",
              "<table border=\"1\" class=\"dataframe\">\n",
              "  <thead>\n",
              "    <tr style=\"text-align: right;\">\n",
              "      <th></th>\n",
              "      <th>CRIM</th>\n",
              "      <th>ZN</th>\n",
              "      <th>INDUS</th>\n",
              "      <th>CHAS</th>\n",
              "      <th>NOX</th>\n",
              "      <th>RM</th>\n",
              "      <th>AGE</th>\n",
              "      <th>DIS</th>\n",
              "      <th>RAD</th>\n",
              "      <th>TAX</th>\n",
              "      <th>PTRATIO</th>\n",
              "      <th>B</th>\n",
              "      <th>LSTAT</th>\n",
              "      <th>Price</th>\n",
              "    </tr>\n",
              "  </thead>\n",
              "  <tbody>\n",
              "    <tr>\n",
              "      <th>0</th>\n",
              "      <td>-0.419367</td>\n",
              "      <td>0.284548</td>\n",
              "      <td>-1.286636</td>\n",
              "      <td>-0.272329</td>\n",
              "      <td>-0.144075</td>\n",
              "      <td>0.413263</td>\n",
              "      <td>-0.119895</td>\n",
              "      <td>0.140075</td>\n",
              "      <td>-0.981871</td>\n",
              "      <td>-0.665949</td>\n",
              "      <td>-1.457558</td>\n",
              "      <td>0.440616</td>\n",
              "      <td>-1.074499</td>\n",
              "      <td>24.0</td>\n",
              "    </tr>\n",
              "    <tr>\n",
              "      <th>1</th>\n",
              "      <td>-0.416927</td>\n",
              "      <td>-0.487240</td>\n",
              "      <td>-0.592794</td>\n",
              "      <td>-0.272329</td>\n",
              "      <td>-0.739530</td>\n",
              "      <td>0.194082</td>\n",
              "      <td>0.366803</td>\n",
              "      <td>0.556609</td>\n",
              "      <td>-0.867024</td>\n",
              "      <td>-0.986353</td>\n",
              "      <td>-0.302794</td>\n",
              "      <td>0.440616</td>\n",
              "      <td>-0.491953</td>\n",
              "      <td>21.6</td>\n",
              "    </tr>\n",
              "    <tr>\n",
              "      <th>2</th>\n",
              "      <td>-0.416929</td>\n",
              "      <td>-0.487240</td>\n",
              "      <td>-0.592794</td>\n",
              "      <td>-0.272329</td>\n",
              "      <td>-0.739530</td>\n",
              "      <td>1.281446</td>\n",
              "      <td>-0.265549</td>\n",
              "      <td>0.556609</td>\n",
              "      <td>-0.867024</td>\n",
              "      <td>-0.986353</td>\n",
              "      <td>-0.302794</td>\n",
              "      <td>0.396035</td>\n",
              "      <td>-1.207532</td>\n",
              "      <td>34.7</td>\n",
              "    </tr>\n",
              "    <tr>\n",
              "      <th>3</th>\n",
              "      <td>-0.416338</td>\n",
              "      <td>-0.487240</td>\n",
              "      <td>-1.305586</td>\n",
              "      <td>-0.272329</td>\n",
              "      <td>-0.834458</td>\n",
              "      <td>1.015298</td>\n",
              "      <td>-0.809088</td>\n",
              "      <td>1.076671</td>\n",
              "      <td>-0.752178</td>\n",
              "      <td>-1.105022</td>\n",
              "      <td>0.112920</td>\n",
              "      <td>0.415751</td>\n",
              "      <td>-1.360171</td>\n",
              "      <td>33.4</td>\n",
              "    </tr>\n",
              "    <tr>\n",
              "      <th>4</th>\n",
              "      <td>-0.412074</td>\n",
              "      <td>-0.487240</td>\n",
              "      <td>-1.305586</td>\n",
              "      <td>-0.272329</td>\n",
              "      <td>-0.834458</td>\n",
              "      <td>1.227362</td>\n",
              "      <td>-0.510674</td>\n",
              "      <td>1.076671</td>\n",
              "      <td>-0.752178</td>\n",
              "      <td>-1.105022</td>\n",
              "      <td>0.112920</td>\n",
              "      <td>0.440616</td>\n",
              "      <td>-1.025487</td>\n",
              "      <td>36.2</td>\n",
              "    </tr>\n",
              "  </tbody>\n",
              "</table>\n",
              "</div>"
            ],
            "text/plain": [
              "       CRIM        ZN     INDUS      CHAS  ...   PTRATIO         B     LSTAT  Price\n",
              "0 -0.419367  0.284548 -1.286636 -0.272329  ... -1.457558  0.440616 -1.074499   24.0\n",
              "1 -0.416927 -0.487240 -0.592794 -0.272329  ... -0.302794  0.440616 -0.491953   21.6\n",
              "2 -0.416929 -0.487240 -0.592794 -0.272329  ... -0.302794  0.396035 -1.207532   34.7\n",
              "3 -0.416338 -0.487240 -1.305586 -0.272329  ...  0.112920  0.415751 -1.360171   33.4\n",
              "4 -0.412074 -0.487240 -1.305586 -0.272329  ...  0.112920  0.440616 -1.025487   36.2\n",
              "\n",
              "[5 rows x 14 columns]"
            ]
          },
          "metadata": {
            "tags": []
          },
          "execution_count": 24
        }
      ]
    },
    {
      "cell_type": "code",
      "metadata": {
        "ExecuteTime": {
          "end_time": "2020-04-06T10:21:15.665006Z",
          "start_time": "2020-04-06T10:21:15.659023Z"
        },
        "id": "EtIAj6wed0xM",
        "colab_type": "code",
        "colab": {
          "base_uri": "https://localhost:8080/",
          "height": 53
        },
        "outputId": "bc127aac-bfa2-498d-ea45-67e6174db4cb"
      },
      "source": [
        "X = data.values[:,:-1] # 모두 가져오는데 마지막만 제외하고\n",
        "y = data.values[:,-1:] # 모두 가져오는데 마지막만 가져온다.\n",
        "print(X.shape)\n",
        "print(y.shape)"
      ],
      "execution_count": 25,
      "outputs": [
        {
          "output_type": "stream",
          "text": [
            "(506, 13)\n",
            "(506, 1)\n"
          ],
          "name": "stdout"
        }
      ]
    },
    {
      "cell_type": "code",
      "metadata": {
        "ExecuteTime": {
          "end_time": "2020-04-06T10:21:16.985477Z",
          "start_time": "2020-04-06T10:21:16.980497Z"
        },
        "id": "EjTASmXzd0xO",
        "colab_type": "code",
        "colab": {}
      },
      "source": [
        "import torch\n",
        "import torch.nn as nn\n",
        "import torch.nn.functional as F\n",
        "import torch.optim as optim\n",
        "\n",
        "from torch.utils.data import Dataset\n",
        "from torch.utils.data import DataLoader"
      ],
      "execution_count": 0,
      "outputs": []
    },
    {
      "cell_type": "code",
      "metadata": {
        "ExecuteTime": {
          "end_time": "2020-04-06T10:21:17.912998Z",
          "start_time": "2020-04-06T10:21:17.907014Z"
        },
        "id": "NGq8tKTsd0xS",
        "colab_type": "code",
        "colab": {}
      },
      "source": [
        "class MyDataset(Dataset): \n",
        "    # 데이터셋의 전처리를 해주는 부분\n",
        "    def __init__(self):\n",
        "        self.x_data = torch.tensor(X,dtype=torch.float)\n",
        "        self.y_data = torch.tensor(y,dtype=torch.float)\n",
        "        \n",
        "    # 데이터셋의 길이, 즉 총 샘플의 수를 적어주는 부분\n",
        "    def __len__(self): \n",
        "        return len(self.x_data)\n",
        "\n",
        "    # 데이터셋에서 특정 1개의 샘플을 가져오는 함수\n",
        "    def __getitem__(self, idx): \n",
        "        x = self.x_data[idx]\n",
        "        y = self.y_data[idx]\n",
        "        return x, y\n"
      ],
      "execution_count": 0,
      "outputs": []
    },
    {
      "cell_type": "code",
      "metadata": {
        "ExecuteTime": {
          "end_time": "2020-04-06T10:21:19.406030Z",
          "start_time": "2020-04-06T10:21:19.402048Z"
        },
        "id": "E5DSfjFLd0xX",
        "colab_type": "code",
        "colab": {}
      },
      "source": [
        "dataset = MyDataset()"
      ],
      "execution_count": 0,
      "outputs": []
    },
    {
      "cell_type": "code",
      "metadata": {
        "ExecuteTime": {
          "end_time": "2020-04-06T10:21:20.199884Z",
          "start_time": "2020-04-06T10:21:20.193924Z"
        },
        "id": "VfwjRql0d0xa",
        "colab_type": "code",
        "colab": {
          "base_uri": "https://localhost:8080/",
          "height": 53
        },
        "outputId": "190724be-4f66-452e-8206-e8d89a888282"
      },
      "source": [
        "# train, validation set 나누기\n",
        "\n",
        "train_val_ratio = 0.8\n",
        "train_size = int(len(dataset) * train_val_ratio)\n",
        "val_size = len(dataset) - train_size\n",
        "print(train_size, val_size)\n",
        "\n",
        "#datset를 train_size와 val_size의 길이로 나눈다\n",
        "train_dataset,val_dataset = torch.utils.data.random_split(dataset,[train_size, val_size])\n",
        "print(len(train_dataset), len(val_dataset))\n"
      ],
      "execution_count": 29,
      "outputs": [
        {
          "output_type": "stream",
          "text": [
            "404 102\n",
            "404 102\n"
          ],
          "name": "stdout"
        }
      ]
    },
    {
      "cell_type": "code",
      "metadata": {
        "ExecuteTime": {
          "end_time": "2020-04-06T10:21:20.895055Z",
          "start_time": "2020-04-06T10:21:20.891035Z"
        },
        "id": "abbskadHd0xc",
        "colab_type": "code",
        "colab": {}
      },
      "source": [
        "train_loader = DataLoader(dataset=train_dataset, batch_size=len(train_dataset), shuffle=True)\n",
        "val_loader = DataLoader(dataset=val_dataset, batch_size=len(val_dataset), shuffle=True)"
      ],
      "execution_count": 0,
      "outputs": []
    },
    {
      "cell_type": "code",
      "metadata": {
        "ExecuteTime": {
          "end_time": "2020-04-06T10:21:22.252436Z",
          "start_time": "2020-04-06T10:21:21.746749Z"
        },
        "id": "GZaorTBId0xe",
        "colab_type": "code",
        "colab": {}
      },
      "source": [
        "model = nn.Linear(13,1)\n",
        "optimizer = optim.SGD(model.parameters(), lr=0.05)\n",
        "\n",
        "nb_epochs = 100\n",
        "train_losses = []\n",
        "val_losses = []\n",
        "for epoch in range(nb_epochs + 1):\n",
        "    for samples in train_loader:\n",
        "        x_train, y_train = samples\n",
        "        \n",
        "        # H(x) 계산\n",
        "        prediction = model(x_train)\n",
        "\n",
        "        # cost 계산\n",
        "        cost = F.mse_loss(prediction, y_train)\n",
        "\n",
        "        # cost로 H(x) 계산\n",
        "        optimizer.zero_grad()\n",
        "        cost.backward()\n",
        "        optimizer.step()\n",
        "        train_losses.append(cost.item())\n",
        "\n",
        "        #print(f'Epoch {epoch}/{nb_epochs} Cost: {cost.item()}')\n",
        "        \n",
        "    for samples in val_loader:\n",
        "        x_test, y_test = samples\n",
        "        prediction = model(x_test)\n",
        "        cost = F.mse_loss(prediction, y_test)\n",
        "        val_losses.append(cost.item())\n",
        "        #print(f'Validation Cost : {cost.item()}')\n",
        "    #print('-'*50)"
      ],
      "execution_count": 0,
      "outputs": []
    },
    {
      "cell_type": "code",
      "metadata": {
        "ExecuteTime": {
          "end_time": "2020-04-06T10:21:23.624728Z",
          "start_time": "2020-04-06T10:21:23.210835Z"
        },
        "id": "VUfz5vlUd0xi",
        "colab_type": "code",
        "colab": {
          "base_uri": "https://localhost:8080/",
          "height": 266
        },
        "outputId": "16861c7c-4aee-4a4c-b546-5f0202406952"
      },
      "source": [
        "import matplotlib.pyplot as plt\n",
        "plt.plot(train_losses,label='train')\n",
        "plt.plot(val_losses,label='val')\n",
        "plt.legend()\n",
        "plt.show()"
      ],
      "execution_count": 32,
      "outputs": [
        {
          "output_type": "display_data",
          "data": {
            "image/png": "[encoded data removed]",
            "text/plain": [
              "<Figure size 432x288 with 1 Axes>"
            ]
          },
          "metadata": {
            "tags": []
          }
        }
      ]
    },
    {
      "cell_type": "code",
      "metadata": {
        "id": "E5It-a5yd0xn",
        "colab_type": "code",
        "colab": {}
      },
      "source": [
        ""
      ],
      "execution_count": 0,
      "outputs": []
    }
  ]
}
